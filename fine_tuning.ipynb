{
 "cells": [
  {
   "cell_type": "markdown",
   "metadata": {},
   "source": [
    "# single text(sentence) classification\n",
    "\n",
    "- 과학 기술 태그(9) + 기술 문서 태그(4) = (11)\n",
    "- 전처리 유무 : O\n",
    "- Data Sampling : X"
   ]
  },
  {
   "cell_type": "markdown",
   "metadata": {},
   "source": [
    "## module import"
   ]
  },
  {
   "cell_type": "code",
   "execution_count": 1,
   "metadata": {},
   "outputs": [],
   "source": [
    "import torch\n",
    "import pandas as pd\n",
    "import numpy as np; import random\n",
    "import os\n",
    "\n",
    "from sklearn.model_selection import train_test_split\n",
    "from datasets import Dataset, DatasetDict\n",
    "\n",
    "from transformers import BertForSequenceClassification, BertTokenizerFast"
   ]
  },
  {
   "cell_type": "code",
   "execution_count": 2,
   "metadata": {},
   "outputs": [],
   "source": [
    "import matplotlib.pyplot as plt\n",
    "import seaborn as sns\n",
    "%matplotlib inline\n",
    "\n",
    "plt.rc('font', family='Malgun Gothic')\n",
    "plt.rc('axes', unicode_minus=False) # 마이너스 폰트 설정\n",
    "\n",
    "# 글씨 선명하게 출력하는 설정\n",
    "%config InlineBackend.figure_format = 'retina'"
   ]
  },
  {
   "cell_type": "code",
   "execution_count": 3,
   "metadata": {},
   "outputs": [
    {
     "data": {
      "text/plain": [
       "['.ipynb_checkpoints', 'fine_tuning.ipynb', 'logs', 'output', 'wandb']"
      ]
     },
     "execution_count": 3,
     "metadata": {},
     "output_type": "execute_result"
    }
   ],
   "source": [
    "os.listdir()"
   ]
  },
  {
   "cell_type": "code",
   "execution_count": 4,
   "metadata": {},
   "outputs": [],
   "source": [
    "# vocab_path: str = './vocab'\n",
    "# model_path: str = './40ep_train9/'\n",
    "# data_path: str = './total_v2.1.csv'\n",
    "# output_path: str = './output/'\n",
    "vocab_path: str = 'F:/Dropbox/BERT/bert_code/pre_training/vocab/'\n",
    "model_path: str = 'F:/Dropbox/BERT/bert_code/pre_training/model_checkpoint_dir_40000/40ep_train9/'\n",
    "data_path: str = 'F:/Dropbox/Kisti2022공유/데이터구축/final/total_v2.1.csv'\n",
    "output_path: str = './output/'\n",
    "\n",
    "# fine tuning models\n",
    "final_model : str = './output/checkpoint-12700/'\n",
    "acc_model : str = './output/checkpoint-254/'\n",
    "f1_model : str = './output/checkpoint-1524/'"
   ]
  },
  {
   "cell_type": "code",
   "execution_count": 5,
   "metadata": {},
   "outputs": [],
   "source": [
    "# randomness 제어\n",
    "def set_seed(random_seed):\n",
    "    torch.manual_seed(random_seed)\n",
    "    torch.cuda.manual_seed(random_seed)\n",
    "    torch.cuda.manual_seed_all(random_seed) # if use multi-GPU\n",
    "    torch.backends.cudnn.deterministic = True\n",
    "    torch.backends.cudnn.benchmark = False\n",
    "    np.random.seed(random_seed)\n",
    "    random.seed(random_seed)\n",
    "set_seed(12345)"
   ]
  },
  {
   "cell_type": "code",
   "execution_count": 6,
   "metadata": {},
   "outputs": [
    {
     "name": "stderr",
     "output_type": "stream",
     "text": [
      "wandb: Currently logged in as: hyez. Use `wandb login --relogin` to force relogin\n"
     ]
    }
   ],
   "source": [
    "import wandb\n",
    "!wandb login "
   ]
  },
  {
   "cell_type": "markdown",
   "metadata": {},
   "source": [
    "## Load Dataset"
   ]
  },
  {
   "cell_type": "code",
   "execution_count": 7,
   "metadata": {},
   "outputs": [
    {
     "name": "stdout",
     "output_type": "stream",
     "text": [
      "(185478, 3)\n",
      "text      0\n",
      "tag       0\n",
      "source    0\n",
      "dtype: int64\n"
     ]
    },
    {
     "data": {
      "text/html": [
       "<div>\n",
       "<style scoped>\n",
       "    .dataframe tbody tr th:only-of-type {\n",
       "        vertical-align: middle;\n",
       "    }\n",
       "\n",
       "    .dataframe tbody tr th {\n",
       "        vertical-align: top;\n",
       "    }\n",
       "\n",
       "    .dataframe thead th {\n",
       "        text-align: right;\n",
       "    }\n",
       "</style>\n",
       "<table border=\"1\" class=\"dataframe\">\n",
       "  <thead>\n",
       "    <tr style=\"text-align: right;\">\n",
       "      <th></th>\n",
       "      <th>text</th>\n",
       "      <th>tag</th>\n",
       "      <th>source</th>\n",
       "    </tr>\n",
       "  </thead>\n",
       "  <tbody>\n",
       "    <tr>\n",
       "      <th>0</th>\n",
       "      <td>비접촉식 상황인지 센서: 움직이는 대상물 탐지센서</td>\n",
       "      <td>기술의 파급효과</td>\n",
       "      <td>etri</td>\n",
       "    </tr>\n",
       "    <tr>\n",
       "      <th>1</th>\n",
       "      <td>비접촉 생체신호 모니터링 의료용기기, 헬스케어모니터링 기기</td>\n",
       "      <td>기술의 파급효과</td>\n",
       "      <td>etri</td>\n",
       "    </tr>\n",
       "    <tr>\n",
       "      <th>2</th>\n",
       "      <td>차량내 운전자 상태 모니터링 센서</td>\n",
       "      <td>기술의 파급효과</td>\n",
       "      <td>etri</td>\n",
       "    </tr>\n",
       "    <tr>\n",
       "      <th>3</th>\n",
       "      <td>강설량 측정, 비파괴 벽투과 센서</td>\n",
       "      <td>기술의 파급효과</td>\n",
       "      <td>etri</td>\n",
       "    </tr>\n",
       "    <tr>\n",
       "      <th>4</th>\n",
       "      <td>재난 안전 모니터링용 센서 및 안전 사고후 비가시 영역 탐지 센서</td>\n",
       "      <td>기술의 파급효과</td>\n",
       "      <td>etri</td>\n",
       "    </tr>\n",
       "  </tbody>\n",
       "</table>\n",
       "</div>"
      ],
      "text/plain": [
       "                                   text       tag source\n",
       "0           비접촉식 상황인지 센서: 움직이는 대상물 탐지센서  기술의 파급효과   etri\n",
       "1      비접촉 생체신호 모니터링 의료용기기, 헬스케어모니터링 기기  기술의 파급효과   etri\n",
       "2                    차량내 운전자 상태 모니터링 센서  기술의 파급효과   etri\n",
       "3                    강설량 측정, 비파괴 벽투과 센서  기술의 파급효과   etri\n",
       "4  재난 안전 모니터링용 센서 및 안전 사고후 비가시 영역 탐지 센서  기술의 파급효과   etri"
      ]
     },
     "execution_count": 7,
     "metadata": {},
     "output_type": "execute_result"
    }
   ],
   "source": [
    "df = pd.read_csv(data_path)\n",
    "print(df.shape)\n",
    "print(df.isna().sum())\n",
    "df.head()"
   ]
  },
  {
   "cell_type": "code",
   "execution_count": 8,
   "metadata": {},
   "outputs": [],
   "source": [
    "# 결측치 제거\n",
    "df = df.dropna()"
   ]
  },
  {
   "cell_type": "markdown",
   "metadata": {},
   "source": [
    "- input : text\n",
    "- label : tag"
   ]
  },
  {
   "cell_type": "code",
   "execution_count": 9,
   "metadata": {},
   "outputs": [],
   "source": [
    "# y dict 생성\n",
    "possible_labels = df.tag.unique()\n",
    "\n",
    "label_dict = {}\n",
    "for index, possible_label in enumerate(possible_labels):\n",
    "    label_dict[possible_label] = index\n",
    "\n",
    "# label encoding\n",
    "df['labels'] = df.tag.replace(label_dict)"
   ]
  },
  {
   "cell_type": "code",
   "execution_count": 10,
   "metadata": {},
   "outputs": [],
   "source": [
    "set_seed(12345)\n",
    "# train : val : test = 70 : 10 : 20\n",
    "X_train, X_val, y_train, y_val = train_test_split(df.index.values, df.labels.values, \n",
    "                                                  test_size=0.30, random_state=12345, stratify=df.labels.values)\n",
    "X_val, X_test, y_val, y_test = train_test_split(df.loc[X_val].index.values, df.loc[X_val].labels.values, \n",
    "                                                  test_size=0.66, random_state=12345, stratify=df.loc[X_val].labels.values)\n",
    "\n",
    "train, val, test = df.loc[X_train, ['text', 'labels']].reset_index(drop=True), df.loc[X_val, ['text', 'labels']].reset_index(drop=True), df.loc[X_test, ['text', 'labels']].reset_index(drop=True)"
   ]
  },
  {
   "cell_type": "code",
   "execution_count": 11,
   "metadata": {},
   "outputs": [],
   "source": [
    "# make Dataset\n",
    "train_dataset = Dataset.from_pandas(train)\n",
    "val_dataset = Dataset.from_pandas(val)\n",
    "test_dataset = Dataset.from_pandas(test)\n",
    "dataset = DatasetDict({\"train\": train_dataset, \"val\": val_dataset, \"test\": test_dataset})"
   ]
  },
  {
   "cell_type": "code",
   "execution_count": 12,
   "metadata": {},
   "outputs": [
    {
     "name": "stdout",
     "output_type": "stream",
     "text": [
      "{'text': '컴퓨터에게 시각 지능을 부여하여 위험 상황이나 지속적인 모니터링이 필요한 분야에서 사람을 대신할 수 있고, 사람이 상황을 판단하는데 보조적인 역할 수행 가능', 'labels': 1}\n"
     ]
    }
   ],
   "source": [
    "example = train_dataset[0]\n",
    "print(example)"
   ]
  },
  {
   "cell_type": "code",
   "execution_count": null,
   "metadata": {},
   "outputs": [],
   "source": []
  },
  {
   "cell_type": "code",
   "execution_count": null,
   "metadata": {},
   "outputs": [],
   "source": []
  },
  {
   "cell_type": "markdown",
   "metadata": {},
   "source": [
    "## tokenizer load \n",
    "- __call__ : https://github.com/huggingface/transformers/blob/v4.20.1/src/transformers/tokenization_utils_base.py#L2409"
   ]
  },
  {
   "cell_type": "code",
   "execution_count": 13,
   "metadata": {
    "scrolled": true
   },
   "outputs": [
    {
     "name": "stdout",
     "output_type": "stream",
     "text": [
      "<class 'transformers.models.bert.tokenization_bert_fast.BertTokenizerFast'>\n"
     ]
    },
    {
     "data": {
      "text/plain": [
       "[('[PAD]', 0),\n",
       " ('[UNK]', 1),\n",
       " ('[CLS]', 2),\n",
       " ('[SEP]', 3),\n",
       " ('[MASK]', 4),\n",
       " ('!', 5),\n",
       " ('\"', 6),\n",
       " ('#', 7),\n",
       " ('$', 8),\n",
       " ('%', 9)]"
      ]
     },
     "execution_count": 13,
     "metadata": {},
     "output_type": "execute_result"
    }
   ],
   "source": [
    "tokenizer = BertTokenizerFast.from_pretrained(vocab_path, do_lower_case=False, model_max_length=128)\n",
    "print(tokenizer.__class__)\n",
    "## vocab 확인\n",
    "sorted(tokenizer.vocab.items(), key = lambda item: item[1])[:10]"
   ]
  },
  {
   "cell_type": "code",
   "execution_count": 14,
   "metadata": {},
   "outputs": [
    {
     "name": "stderr",
     "output_type": "stream",
     "text": [
      "C:\\Users\\HYEJI\\anaconda3\\lib\\site-packages\\seaborn\\_decorators.py:43: FutureWarning: Pass the following variable as a keyword arg: x. From version 0.12, the only valid positional argument will be `data`, and passing other arguments without an explicit keyword will result in an error or misinterpretation.\n",
      "  FutureWarning\n"
     ]
    },
    {
     "data": {
      "text/plain": [
       "<matplotlib.axes._subplots.AxesSubplot at 0x1519f6037c8>"
      ]
     },
     "execution_count": 14,
     "metadata": {},
     "output_type": "execute_result"
    },
    {
     "data": {
      "image/png": "[encoded data removed]",
      "text/plain": [
       "<Figure size 432x288 with 1 Axes>"
      ]
     },
     "metadata": {
      "image/png": {
       "height": 249,
       "width": 362
      },
      "needs_background": "light"
     },
     "output_type": "display_data"
    }
   ],
   "source": [
    "sns.boxplot(df.text.apply(lambda x: len(x)).tolist())"
   ]
  },
  {
   "cell_type": "code",
   "execution_count": 15,
   "metadata": {},
   "outputs": [
    {
     "data": {
      "text/plain": [
       "시장동향        1718\n",
       "제안 방법        620\n",
       "대상 데이터       609\n",
       "성능/효과        535\n",
       "기술 정의        270\n",
       "문제 정의        267\n",
       "이론/모형        229\n",
       "데이터처리        162\n",
       "후속연구         145\n",
       "기술의 필요성       65\n",
       "기술동향          26\n",
       "기술의 파급효과      22\n",
       "가설 설정          5\n",
       "Name: tag, dtype: int64"
      ]
     },
     "execution_count": 15,
     "metadata": {},
     "output_type": "execute_result"
    }
   ],
   "source": [
    "df[df.text.apply(lambda x: len(x) > 1000)] # 시장동향\t과학기술일자리진흥원\n",
    "df[df.text.apply(lambda x: len(x) > 250)].tag.value_counts()"
   ]
  },
  {
   "cell_type": "code",
   "execution_count": 16,
   "metadata": {},
   "outputs": [
    {
     "name": "stderr",
     "output_type": "stream",
     "text": [
      "Token indices sequence length is longer than the specified maximum sequence length for this model (151 > 128). Running this sequence through the model will result in indexing errors\n",
      "C:\\Users\\HYEJI\\anaconda3\\lib\\site-packages\\seaborn\\_decorators.py:43: FutureWarning: Pass the following variable as a keyword arg: x. From version 0.12, the only valid positional argument will be `data`, and passing other arguments without an explicit keyword will result in an error or misinterpretation.\n",
      "  FutureWarning\n"
     ]
    },
    {
     "data": {
      "text/plain": [
       "<matplotlib.axes._subplots.AxesSubplot at 0x1519ef79608>"
      ]
     },
     "execution_count": 16,
     "metadata": {},
     "output_type": "execute_result"
    },
    {
     "data": {
      "image/png": "[encoded data removed]",
      "text/plain": [
       "<Figure size 432x288 with 1 Axes>"
      ]
     },
     "metadata": {
      "image/png": {
       "height": 249,
       "width": 352
      },
      "needs_background": "light"
     },
     "output_type": "display_data"
    }
   ],
   "source": [
    "sns.boxplot(df.text.apply(lambda x: len(tokenizer(x)['input_ids'])).tolist())"
   ]
  },
  {
   "cell_type": "code",
   "execution_count": 141,
   "metadata": {},
   "outputs": [],
   "source": [
    "aa  = df.text.apply(lambda x: len(tokenizer(x)['input_ids']))"
   ]
  },
  {
   "cell_type": "code",
   "execution_count": 169,
   "metadata": {},
   "outputs": [
    {
     "data": {
      "text/plain": [
       "kisti         699\n",
       "과학기술일자리진흥원    667\n",
       "중소기업기술로드맵       4\n",
       "etri            3\n",
       "Name: source, dtype: int64"
      ]
     },
     "execution_count": 169,
     "metadata": {},
     "output_type": "execute_result"
    }
   ],
   "source": [
    "df[aa > 150].source.value_counts()"
   ]
  },
  {
   "cell_type": "code",
   "execution_count": 170,
   "metadata": {},
   "outputs": [
    {
     "name": "stdout",
     "output_type": "stream",
     "text": [
      "시장동향 과학기술일자리진흥원\n",
      "국내 및 전망LPG 차량 등록 대수는 집계가 이뤄진 1999년 이후 해마다 증가했 2000년 121만4천83대로 처음으로 100만대에 진입하였고 2006년에는 등록 대수 200만대 시대를 열었 이후에도 꾸준한 증가세를 보여 2010년에는 245만5천696대로 최고치를 보였 저공해 LPG엔진개조 사업의 시장규모는 수도권 대기환경관리 기본계획과 2007년 국고보조사업 신청지침에 따라 아래 표와 같이 2005년부터 2014년까지 총 230,429대로 9,412억원  의 예산이 계획되어 있 해외 및 전망세계 70여개국에서 운행 중인 LPG자동차 보급대수가 큰 폭으로 늘어나 1,800만대를 돌파한 것으로 발표됐 세계LPG협회가 발간한 'Statistical Review of Global LP Gas'에 따르면, 2010년말 기준 전세계 LPG자동차 보유대수는 1,813만대로 전년 대비 9.7% 증가하여 가파른 성장세를 보여주고 있 2000년 이후 LPG자동차 보급대수는 매년 평균 9% 성장했으며, 충전소 운영개소 및 수송용 LPG 사용량도 각각 7%, 5%씩 증가했 2000년 750만대 수준이던 LPG자동차는 2010년 1,813만대로 두 배 이상 늘어났 세계 LPG협회는 LPG가 기후변화 대응 에너지로 부각되면서 터키, 폴란드, 독일 등 유럽지역에서 LPG차량이 증가 추세이며, 인도 등에서도 삼륜차 개조 정책 및 가격경쟁력에 힘입어 LPG차가 급증하고 있다고 설명했또한, 시장조사 기관인 프로스트 앤 설리번은 세계 LPG/CNG 차량 시장 분석보고서'를 통해 이탈리아, 한국을 LPG 차량의 최대 시장으로 평가했으며 앞으로 터키와 폴란드 시장이 크게 성장할 것이라고 예상했 또 경쟁연료 대비 뛰어난 경제성이 LPG차 시장의 확대를 견인할 것이며, LPG차 매출 부문에서 현재 인도가 선두를 달리고 있으나 2016년에는 이탈리아 시장이 LPG/CNG 차량의 최대 시장이 될 것이라고 덧붙였특히, 유럽의 LPG제작차 판매는 자동차 제작사의 OEM모델 확대와 저렴한 개조비에 힘입어 유럽시장에서 LPG 차량 판매가 2018년에는 87만대에 이를 것으로 전망됐 글로벌 시장조사기관인 프로스트 앤 설리반은 최근 발표한 유럽 및 북미의 LPG 및 CNG차 OEM 시장 분석 보고서에서 이같이 밝혔 자동차분과 연구위원 Aggarwal의 분석에 따르면 2010년 유럽시장에서 OEM LPG차량 판매대수는 28만대 수준으로, 아직은 개조차량이 대다수를 차지하고 있 그러나 제작사의 OEM 모델 확대 및 대체연료 차량에 대한 정부지원에 힘입어 2018년에는 87만대에 이를 것으로 전망됐 이는 경쟁연료인 CNG 대비 개조비용이 저렴하고, 충전인프라 구축이 용이하며 이미 유럽 각국에 보급 기반이 구축되어 있기 때문이라고 설명했 또 유럽 중 핵심시장은 프랑스 이탈리아 터키 등이며, 폴란드와 독일에서도 LPG차 시장이 확대될 것으로 예상했 세계 LPG 공급량 전망싱가포르의 에너지 컨설턴트사 퍼빈&거츠는 최근 카타르 도하에서 개최된 세계LPG포럼 천연가스전의 개발 속도가 빨라짐에 따라 LPG 생산량도 2030년까지 큰 폭으로 증가할 것이라고 발표했발표자료에 따르면, 2011년 2억5천만톤 수준인 세계 LPG 생산량은 단기 및 장기 전망치 모두 큰폭으로 증가해, 2030년경 3억7천만톤에 이를 것으로 예상됐 이는 천연가스에 대한 수요량이 증가하여 가스전 개발이 확대됨에 따른 것이 세계 LPG 생산량 중 천연가스전 및 원유전의 가스처리 과정에서 60%, 원유의 정제 과정에서 40%가 나온 천연가스전을 통한 생산량은 현재 36% 수준으로, 천연가스 수요 증가율이 석유 수요 증가율보다 높아짐에 따라 이를 통한 LPG 생산량이 늘어날 것으로 보인퍼빈&거츠는 LPG 가격은 국제시장의 상황에 따라 가변적이나, 2015년까지 안정세를 보일 것으로 내다봤\n",
      "\n",
      "시장동향 과학기술일자리진흥원\n",
      "국내 및 전망천연가스자동차는 1992년부터 1997년까지 G-7사업으로 천연가스자동차를 개발하여 이후 CNG버스 시범운행을 통해 CNG버스의 우수성이 확인된 후, 정부는 국내 대기오염 저감을 위해 2000년 6월부터 월드컵 개최 도시를 중심으로 천연가스버스를 보급하기 시작하였 해외 및 전망작년 전 세계 CNG 차량 보급 대수는 1,450만대로, 전 세계 등록차의 2%에 불과했 그러나 2020년까지 5,000만대로 예상되는 등 보급이 빠르게 늘고 있파이크 리서치의 한 보고서에 따르면, 전세계 CNG 자동차 판매량이 2019년에 320만 대에 이를 전망이 이 보고서는 전세계 천연가스 차량 판매가 2012~2019년 중 연평균 6.2% 증가할 것으로 예측했 세계 최대 CNG 차량 시장은 아시아/ 태평양 지역이 될 전망이 북미에서는 CNG 차량 판매가 개인 판매보다는 플릿 판매 형태로 늘어날 것이며, 남미는 그 반대가 될 것으로 예측하고 있 유럽은 역내 CNG 차량 선두 업체인 피아트로 인해 이탈리아가 세계 최대 CNG 차량 시장 자리를 계속 유지할 것으로 전망이 중동지역은 CNG 차량 판매가 택시 플릿 판매 형태로 늘어날 것이며, 2012~2019년 연평균 증가율이 2%가 될 것으로 예상했 특히, 지금까지 미국에서는 GM, 포드 등이 대형 트럭 위주로만 CNG차를 생산해 왔 CNG 승용차는 충전소가 부족한 데다 연료탱크 제작비가 많이 들어 생산이 거의 이뤄지지 않았 현재 미국의 CNG 차량 보급 대수는 약 11만대로 대부분 상용차 보급대수가 가장 많은 이란, 파키스탄 등에 비해 턱없이 적 최근 미국의 CNG 차량에 대한 법률 개정안은 CNG 구매시 갤런당 50센트의 세금 공제 혜택을 2016년까지 연장하고, CNG차 구매자에게 추가비용에 대해 80%까지 세금 공제, 대당 7,500~6만4,000달러를 지원해주는 등의 내용을 담고 있 또 CNG차를 생산할 경우 추가 비용의 10%를, 충전소 설치비의 50%를 세금 공제 해준 이 같은 정책으로 미국에서 CNG 차량 보급이 급속히 확대될 것으로 전망되고 있 현재 미국에서 천연가스 가격은 셰일가스 생산에 힘입어 2008년 중반 MMBtu당 10달러 중반대에서 현재는 2달러 초반대로 크게 내려앉은 상황으로 어느 연료보다 경쟁력있는 가격대를 형성하고 있 이와 같은 정책의 발표가 있자마자 GM은 CNG와 휘발유를 겸용으로 하는 트럭 \"실버라도\"를 내놨 GM은 실버라도를 3년 운행하면 휘발유 사용 대비 1만달러를 절약할 수 있다고 홍보했 그동안 미국에서 유일하게 CNG 승용차를 판매해 왔던 혼다는 CNG차 연간 판매목표를 기존 2,000대에서 2배 이상 늘린다고 최근 발표했 GM과 크라이슬러도 CNG 픽업트럭을 곧 시판하겠다고 밝혔 도요타·닛산도 미국의 CNG차 보급 계획을 주시하고 있한편, 글로벌 컨설팅 및 시장조사 기관인 프로스트 앤 설리번은 세계 LPG/CNG 차량 시장 분석보고서를 통해 엄격한 이산화탄소 배출 표준과 정부 규제, 생태학적 기준이 EU와 선진국 내 LPG/CNG 차량 시장의 주요 성장 동인이 될 것으로 전망했 또한 유럽 내 LPG/CNG 차량 시장이 괄목할 만한 성장을 이룰 것으로 예상되나, 정유 회사들의 로비활동으로 촉발된 EU의 장려정책으로 LPG 차량 시장의 경쟁이 지속될 것으로 보여진 설리번 자동차 산업부 애널리스트 발라수브라마니안은 이탈리아가 2016년 LPG/CNG 자동차 매출 최대 시장의 위치를 고수할 것이라 전망하며, 그 뒤를 이란과 인도가 이을 것으로 예상된다고 밝혔 이에 따라 휘발유 및 디젤 차량과 비교시 평균 50%에 달하는 비용절감은 세계 LPG/CNG 시장의 성장을 촉진 시킬 것으로 보인 현재 LPG/CNG 차량 매출 부문은 인도가 독보적인 위치를 지키고 있으며, 이란은 세계 CNG차량의 최대 매출량을 차지하고 있 이 같은 높은 판매율은 강력한 정부 규제로 인해 촉발된 것으로 분석된\n",
      "\n",
      "시장동향 과학기술일자리진흥원\n",
      "국내 및 전망LPG 차량 등록 대수는 집계가 이뤄진 1999년 이후 해마다 증가했 2000년 121만4천83대로 처음으로 100만대에 진입하였고 2006년에는 등록 대수 200만대 시대를 열었 이후에도 꾸준한 증가세를 보여 2010년에는 245만5천696대로 최고치를 보였 저공해 LPG엔진개조 사업의 시장규모는 수도권 대기환경관리 기본계획과 2007년 국고보조사업 신청지침에 따라 아래 표와 같이 2005년부터 2014년까지 총 230,429대로 9,412억원  의 예산이 계획되어 있 해외 및 전망세계 70여개국에서 운행 중인 LPG자동차 보급대수가 큰 폭으로 늘어나 1,800만대를 돌파한 것으로 발표됐 세계LPG협회가 발간한 'Statistical Review of Global LP Gas'에 따르면, 2010년말 기준 전세계 LPG자동차 보유대수는 1,813만대로 전년 대비 9.7% 증가하여 가파른 성장세를 보여주고 있 2000년 이후 LPG자동차 보급대수는 매년 평균 9% 성장했으며, 충전소 운영개소 및 수송용 LPG 사용량도 각각 7%, 5%씩 증가했 2000년 750만대 수준이던 LPG자동차는 2010년 1,813만대로 두 배 이상 늘어났 세계 LPG협회는 LPG가 기후변화 대응 에너지로 부각되면서 터키, 폴란드, 독일 등 유럽지역에서 LPG차량이 증가 추세이며, 인도 등에서도 삼륜차 개조 정책 및 가격경쟁력에 힘입어 LPG차가 급증하고 있다고 설명했 또한, 시장조사 기관인 프로스트 앤 설리번은 세계 LPG/CNG 차량 시장 분석보고서'를 통해 이탈리아, 한국을 LPG 차량의 최대 시장으로 평가했으며 앞으로 터키와 폴란드 시장이 크게 성장할 것이라고 예상했 또 경쟁연료 대비 뛰어난 경제성이 LPG차 시장의 확대를 견인할 것이며, LPG차 매출 부문에서 현재 인도가 선두를 달리고 있으나 2016년에는 이탈리아 시장이 LPG/CNG 차량의 최대 시장이 될 것이라고 덧붙였 특히, 유럽의 LPG제작차 판매는 자동차 제작사의 EM모델 확대와 저렴한 개조비에 힘입어 유럽시장에서 LPG차량 판매가 2018년에는 87만대에 이를 것으로 전망됐 글로벌 시장조사기관인 프로스트 앤 설리반은 최근 발표한 유럽 및 북미의 LPG 및 CNG차 OEM 시장 분석 보고서에서 이같이 밝혔 자동차분과 연구위원 Aggarwal의 분석에 따르면 2010년 유럽시장에서 OEM LPG차량 판매대수는 28만대 수준으로, 아직은 개조차량이 대다수를 차지하고 있 그러나 제작사의 OEM 모델 확대 및 대체연료 차량에 대한 정부지원에 힘입어 2018년에는 87만대에 이를 것으로 전망됐이는 경쟁연료인 CNG 대비 개조비용이 저렴하고, 충전인프라 구축이 용이하며 이미 유럽 각국에 보급 기반이 구축되어 있기 때문이라고 설명했 또 유럽 중 핵심시장은 프랑스 이탈리아 터키 등이며, 폴란드와 독일에서도 LPG차 시장이 확대될 것으로 예상했 세계 LPG 공급량 전망싱가포르의 에너지 컨설턴트사 퍼빈&거츠는 최근 카타르 도하에서 개최된 세계LPG포럼 천연가스전의 개발 속도가 빨라짐에 따라 LPG 생산량도 2030년까지 큰 폭으로 증가할 것이라고 발표했발표자료에 따르면, 2011년 2억5천만톤 수준인 세계 LPG 생산량은 단기 및 장기 전망치 모두 큰폭으로 증가해, 2030년경 3억7천만톤에 이를 것으로 예상됐 이는 천연가스에 대한 수요량이 증가하여 가스전 개발이 확대됨에 따른 것이 세계 LPG 생산량 중 천연가스전 및 원유전의 가스처리 과정에서 60%, 원유의 정제 과정에서 40%가 나온 천연가스전을 통한 생산량은 현재 36% 수준으로, 천연가스 수요 증가율이 석유 수요 증가율보다 높아짐에 따라 이를 통한 LPG 생산량이 늘어날 것으로 보인퍼빈&거츠는 LPG 가격은 국제시장의 상황에 따라 가변적이나, 2015년까지 안정세를 보일 것으로 내다봤\n",
      "\n",
      "시장동향 과학기술일자리진흥원\n",
      "국내 및 전망LPG 차량 등록 대수는 집계가 이뤄진 1999년 이후 해마다 증가했 2000년 121만4천83대로 처음으로 100만대에 진입하였고 2006년에는 등록 대수 200만대 시대를 열었 이후에도 꾸준한 증가세를 보여 2010년에는 245만5천696대로 최고치를 보였 저공해 LPG엔진개조 사업의 시장규모는 수도권 대기환경관리 기본계획과 2007년 국고보조사업 신청지침에 따라 아래 표와 같이 2005년부터 2014년까지 총 230,429대로 9,412억원 의 예산이 계획되어 있 해외 및 전망세계 70여개국에서 운행 중인 LPG자동차 보급대수가 큰 폭으로 늘어나 1,800만대를 돌파한 것으로 발표됐 세계LPG협회가 발간한 'Statistical Review of Global LP Gas'에 따르면, 2010년말 기준 전세계 LPG자동차 보유대수는 1,813만대로 전년 대비 9.7% 증가하여 가파른 성장세를 보여주고 있 2000년 이후 LPG자동차 보급대수는 매년 평균 9% 성장했으며, 충전소 운영개소 및 수송용 LPG 사용량도 각각 7%, 5%씩 증가했 2000년 750만대 수준이던 LPG자동차는 2010년 1,813만대로 두 배 이상 늘어났 세계 LPG협회는 LPG가 기후변화 대응 에너지로 부각되면서 터키, 폴란드, 독일 등 유럽지역에서 LPG차량이 증가 추세이며, 인도 등에서도 삼륜차 개조 정책 및 가격경쟁력에 힘입어 LPG차가 급증하고 있다고 설명했또한, 시장조사 기관인 프로스트 앤 설리번은 세계 LPG/CNG 차량 시장 분석보고서'를 통해 이탈리아, 한국을 LPG 차량의 최대 시장으로 평가했으며 앞으로 터키와 폴란드 시장이 크게 성장할 것이라고 예상했 또 경쟁연료 대비 뛰어난 경제성이 LPG차 시장의 확대를 견인할 것이며, LPG차 매출 부문에서 현재 인도가 선두를 달리고 있으나 2016년에는 이탈리아 시장이 LPG/CNG 차량의 최대 시장이 될 것이라고 덧붙였특히, 유럽의 LPG제작차 판매는 자동차 제작사의 OEM모델 확대와 저렴한 개조비에 힘입어 유럽시장에서 LPG 차량 판매가 2018년에는 87만대에 이를 것으로 전망됐 글로벌 시장조사기관인 프로스트 앤 설리반은 최근 발표한 유럽 및 북미의 LPG 및 CNG차 OEM 시장 분석 보고서에서 이같이 밝혔 자동차분과 연구위원 Aggarwal의 분석에 따르면 2010년 유럽시장에서 OEM LPG차량 판매대수는 28만대 수준으로, 아직은 개조차량이 대다수를 차지하고 있 그러나 제작사의 OEM 모델 확대 및 대체연료 차량에 대한 정부지원에 힘입어 2018년에는 87만대에 이를 것으로 전망됐이는 경쟁연료인 CNG 대비 개조비용이 저렴하고, 충전인프라 구축이 용이하며 이미 유럽 각국에 보급 기반이 구축되어 있기 때문이라고 설명했 또 유럽 중 핵심시장은 프랑스 이탈리아 터키 등이며, 폴란드와 독일에서도 LPG차 시장이 확대될 것으로 예상했\n",
      "\n",
      "시장동향 과학기술일자리진흥원\n",
      "국내 시장동향 및 전망 OLED 분야에서 국내 시장동향은 삼성 SDI가 출하량이 가장 많으며, 이어서 LG 전자, Ness 디스플레이, 오리온전기, Neoview의 순이 주된 OLED 생산품은 소형 및 초소형 MULTI Color 소자에 집중되었으나, 응용분야 및 시장이 확대됨에 따라 소형 문자 표시기와 대형 그래픽 패널 부품 모두에 있어서 분포가 매우 다양화 될 것으로 예상됨 2008년을 기준으로 볼 때 ,문자 표시기가 13% 정도이고 나머지 87% 정도가 그래픽 표시기이며, 초소형-소형-중형-대형 순으로 소비, 특히 중형 OLED는 2004년, 대형 OLED은 2005년에 시장에 진입하여 2010년경에는 전체 OLED 시장의 약 45%를 차지하고 이 중 대부분이 TV 용으로 예측됨 해외 시장동향 및 전망 AM 및 PMOLED를 포함한 전체 OLED 분야의 시장은 2011년 세계 시장 규모는 29억 달러 수준으로 PMOLED 휴대폰이, 2007 ~ 2008년을 기점으로 점차적으로 줄어들고 full color AMOLED가 증가함 2004년도에는 3,130만 개의 생산품으로 4.08억 불 수준으로 2005년도에는 6,000만 개의 생산품으로 6.15억 불 수입이 예상되며, 2008년도에는 1억 7,300개의 생산품으로 18억 불, 2011년도에는 3.41억 개의 부품으로 29억 불 매출이 예상됨 부품 수는 매년 34%의 신장과 29 % 수출증가가 예상되고, 특히 Mobile phone은 향후 10년간 OLED의 응용의 중요위치를 차지할 것으로 예상되는데, 2004년도에서는 OLED 패널 시장의 89%, 2008년도에는 80%, 그리고 2011년도에는 73% 수준으로 예상됨\n",
      "\n",
      "시장동향 과학기술일자리진흥원\n",
      "해외 시장동향 세계 자가면역질환 치료제 시장은 2011년 약 390억달러의 규모였고, 향후 CAGR 6%의 성장률을 보이며 2016년 550억 달러에 도달할 것으로 예측됨 자가면역질환치료제 시장은 약물치료제, 보조 치료요법, 면역치료에 대한 진단 테스트의 세 부문으로 나눌 수 있으며, 약물치료제 시장은 타 분야에 비하여 규모가 30배 정도 되는 360억달러 수준이며 그 성장률도 7.1%로 가장 유망함 지역별로는 미국이 11년도에 43%의 시장을 차지하고 그 뒤를 이어 유럽이 28%를 차지하여 두 번째로 큰 시장을 형성할 것이며, 이러한 형태는 2016년에도 유사할 것으로 예상됨 연관 시장인 치료용 항체 치료제는 성장잠재력이 무한하여, 2011년에 각각446억달러를 형성하였으며 연간 5.3%의 성장률을 보이며 2015년에는 580억달러 규모로 성장할 것으로 전망됨 국내 시장동향 세계시장 확대 조짐에 따라 국내 회사들도 항암 면역 및 자가 면역 치료제에 관심을 기울이고 있어, JW 크레아센, 녹십자, 이노셀 등이 개발 성과를 가시화함 국내 자가면역질환 치료제 시장은 2011년 기준 약 500억원 이상으로 밝혀졌으며, 그 중 한국 얀센의 레미케이드는 2011년도 2분기 자가면역치료제 1 위에 오르며 선두 자리를 차지함10) 외국계 거대 제약회사인 셀트리온은 2012년 자가면역질환 치료에 사용되는 항체의약품 바이오시밀러인 램시마를 국내 시장에 출시하는 등 시장 확대의 초입 단계임 연관 시장인 항암면역치료 규모는 300억원 규모이며, 이노셀, 중외신약, 엔케이바이오, 스템싸이언스이 KFDA를 통과하며 상용화를 진행하고 있음\n",
      "\n",
      "시장동향 과학기술일자리진흥원\n",
      "해외 시장동향 의료영상 진단기기 시장은 2011년 303억 달러에서 2015년 419억 달러 규모로 성장할 것으로 전망됨 iFRET 기술이 적용될 수 있는 체외진단기기 세계시장은 연간 5%의 성장률을 보이며 2014년 경에는 504억 규모의 시장을 형성할 것으로 기대되고 있음체외분자진단 시장은 진행형 질환 진단으로부터 조기진단, 예후예측, 약물반응 진단, 치료경과 모니터링이 가능하며 바이오마커 개발회사, 새로운 진단기술 제공회사, 기술플랫폼 공급 회사, 소프트웨어 공급회사 및 체외 진단테스트 키트제조 회사를 포함하는 광범위한 산업군을 포괄하는 시장임 2011년 미래에셋증권은 브라질, 인도 등 이머징 시장의 경우 2012년 이후 체외진단 시장이 연간 20%이상 고성장할 것으로 예측하였음 국내 시장동향 국내 영상진단 기기 시장은 2011년 규모가 11,505억원으로 세계시장에 비하여 협소하지만, 연간 17.9%의 고성장하여 2015년에는 22,230억원까지 도달할 것으로 예상됨 영상진단기기를 포함하는 전체 의료기기 시장에서 우리나라의 시장규모는 2010년 34억 달러로 세계 14위 였음 iFRET 이미징화 및 탐침기술을 적용시킬 수 있는 의료용 현미경 분야의 국내 생산량은 2007년부터 2009년까지 증가하다가 2010년 다시 감소하는 형태를 보이고 있음 국내 체외 진단 시장은 2010년 4,875억원의 시장을 형성했고 삼성, 한화 등 은 바이오벤처기업 인수와 라이센스를 동원해 시장에 진출하고 있으며, ICT 기반 기술을 접목하여 스마트 헬스케어로도 사업 영역을 넓혔음 삼성은 2020년까지 바이오제약과 의료기기 분야에 각 2조 1,000억원과 1조 2,000억원을 투자하겠다고 밝혔으며 삼성테크윈은 2013년부터 의료장비 사업을 확대할 예정임\n",
      "\n",
      "시장동향 과학기술일자리진흥원\n",
      "해외 시장동향 천식과 COPD 처방약 세계시장은 2011년 349억 달러를 기록했으며, 2012년 380억 달러, 2017년 471억 달러 규모로 연 4.4%의 성장이 예상됨 항천식제 시장은 올해 153억 달러에서 2017년 202억 달러 규모로 연 5.7% 성장할 전망이고, COPD 약물은 올해 53억 달러에서 2017년 56억달러로 연 2%의 제자리 성장이 예상되며, 복합 약물 시장은 2012년 174억 달러에서 연 4.1% 성장해 2017년 213억 달러 규모에 이를 것임 2010~ 2017년 사이에 일부 주요 천식과 COPD 약물의 특허 만료로 가격인하가 예상되고, 몇몇 업체의 독과점을 이루고 있는 시장에 다수의 신제품이 출시되어 2017년 이후, 매출 증가를 이끌 것으로 전망됨 지역별로 현재 가장 큰 시장은 아메리카 대륙으로 세계 시장의 절반가량을 차지하고 있으나 5년 뒤인 2017년경에는 도시화와 서구화가 진행되고 있는 아시아 지역의 천식 발생률과 고급 제약에 대한 수요 증가로 아시아 시장이 7 포인트 확대될 것으로 기대됨 국내 시장동향 국내 천식치료제 시장은 2010년 기준 약 2,300억원대의 규모이며 연평균 13%의 성장률을 보이며 성장하고 있음 그중 복합 천식 치료제 시장은 550억대 규모로 알려져 있고, COPD 흡입제 시장은 약 600억 규모로 추정되고 있음 국내에 출시된 COPD 치료제는 베링거인겔하임의 스피리바, 대웅제약의 에 클리라, GSK의 세레타이드와 심비코트터부헬러, PDE4억제제 닥사스가 출시됨 국내 복합 천식 치료제 시장은 외국 기업인 GSK의 세레타이드, 한국 아스트라제네카의 '심비코트가 양분하고 있음1\n",
      "\n",
      "시장동향 과학기술일자리진흥원\n",
      "해외 시장동향 세계 자가면역질환 치료제 시장은 2011년 약 390억달러의 규모였고, 향후 CAGR 6%의 성장률을 보이며 2016년 550억 달러에 도달할 것으로 예측됨자가면역질환치료제 시장은 약물치료제, 보조 치료요법, 면역치료에 대한 진단 테스트의 세 부문으로 나눌 수 있으며, 약물치료제 시장은 타 분야에 비하여 규모가 30배 정도 되는 360억달러 수준이며 그 성장률도 7.1%로 가장 유망함 지역별로는 미국이 11년도에 43%의 시장을 차지하고 그 뒤를 이어 유럽이 28%를 차지하여 두 번째로 큰 시장을 형성할 것이며, 이러한 형태는 2016년도에도 유사할 것으로 예상됨 현재 항암 세포면역치료제의 세계시장 규모는 약 300억 달러 규모로 연평균 11%의 성장률을 보이고 있음줄기세포를 이용한 항암치료제 시장은 2010년 8.5억 달러 정도를 형성했고, 2015년에는 15억 달러 규모가 될 것으로 전망되고 있음 국내 시장동향 세계시장 확대 조짐에 따라 국내 회사들도 항암 면역 및 자가 면역 치료제에 관심을 기울이고 있어, JW 크레아센, 녹십자, 이노셀 등이 개발 성과를 가시화함 국내 자가면역질환 치료제 시장은 2011년 기준 약 500억원 이상으로 밝혀졌으며, 그 중 한국 얀센의 레미케이드는 2011년도 2분기 자가면역치료제 1위에 오르며 선두 주자를 차지함 외국계 거대 제약회사인 셀트리온은 2012년 자가면역질환 치료에 사용되는 항체의약품 바이오시밀러인 램시마를 국내 시장에 출시하는 등 시장 확대의 초입 단계임 항암면역치료 시장 규모는 300억원 규모이며, 이노셀, 중외신약, 엔케이바이오, 스템싸이언스이 KFDA를 통과하며 상용화를 진행하고 있음\n",
      "\n",
      "시장동향 과학기술일자리진흥원\n",
      "해외 시장동향 미국의 NanBusiness Alliance의 전망에 의하면 나노기술은 반도체를 제외한 분야에서 2001년 450억 달러, 2005년 2,250억 달러, 2008년 7,000억달러, 2010년 1조 달러, 2020년에는 20조 달러로 연평균 30%이상 증대될 것으로 전망함 글로벌 전문시장보고서에 따르면 화장품 화학재는 2011년 195억달러에서 2014년 226억 달러로 연평균5.0%의 성장이 예상되고 있음 화장품 화학재는 바이오, 나노기술 등의 첨단기술과 접목되면서 고부가가치 상품의 개발이 가능하며, 인구증가와 더불어 시장규모가 지속적으로 확대될 전망임 항노화 화장품 세계 시장규모는 463억 달러로 2007년 5.1%에 이르던 성장률은 속도가 둔화되는 추세였으나 2010년 성장 속도가 다소 상승하였음 국가별 항노화 화장품 시장은 2010년 일본이 110억 달러로 전체 항노화 시장의 23.7%를 차지하며 가장 큰 시장을 이루고 있으며, 2위는 미국으로 53억 달러이며 전체 항노화 시장의 15%를 차지하고 있음 2009년 대비 성장률은 러시아, 중국, 브라질등 신흥국가의 성장이 큰 것으로 나타났으며 우리나라의 항노화 화장품 시장규모는 14억 달러로 세계시장 9위임 국내 시장동향 한국과학기술평가원은 나노기술이 이미 국내 주요 산업에 활용되고 있다고 진단, 이를 경제적으로 환산 시 2005년 35조원에 달할 것으로 추정하며 2010년 104조원, 2020년에는 593조원에 이를 것으로 전망함 국내 나노 관련 기업수는 2001년 78개에서 2005년 214개로 확대되었으며, 미국 벤처캐피탈의 나노기술기업의 투자규모는 2004년의 1억 9,640만 달러 수준이었으나, 2005년에는 4억 3,430달러로 121% 이상 증가하는 등 나노기술 시장성에 대한 기대가 높아지고 있음 2010년 국내 기능성 화장품의 생산액은 1조 5,187억원으로 전년 대비 25% 증가하였으며 2007년에 비해 상대적으로 복합유형의 비중이 늘어남 기능성 화장품 유형에서 가장 큰 비중을 차지하고 있는 자외선 차단 제품은 4,721억원으로 전년대비 16.3% 성장하였고, 복합유형 4,178억원, 주름개선 3,423억원 미백 2,865억원 순이며, 그 중 생산규모 2위인 복합유형의 경우 연평균 77.3%의 빠른 성장률을 보이고 있음\n",
      "\n",
      "시장동향 과학기술일자리진흥원\n",
      "해외 시장동향 2008년 발간된 Kalorama Information의 세계 재생의료 시장규모는 2009년 약 27억 달러의 시장 규모에서 2019년 약 125억 달러로 약 4.6배 증가를 예상하고 있으며 최대 210억 달러에서 최소 45억 달러 규모로 유동성이 심할 것으로 전망됨 미국의 경우 살아있는 세포를 포함한 인공피부조직의 경우 1970~80년대에 기술적 기본이 확립되었으며 Organogenesis사는 이를 바이오 의료용구로서 제조 및 판매를 미국 FDA로부터 1998년 승인을 받아 1999년 1억5천만 달러의 시장이 형성되었으며 지속적으로 규모가 증가하고 있음 Organogenesis사의 자체 시장 조사에 의하면 미국에서 당뇨병성 궤양으로 인한 피부손상 환자수가 약 80만명이고, ATS사에 의하면 미국에서 2도화상 환자는 연간 3만~4만명, 3도 화상자는 1만 3천명으로 보고하고 있으며 미국의 인공피부조직 시장규모는 화상이 3천만 달러로 추정되고 있음 일본의 경우 피부조직 시장규모는 일본 내수만으로 4천억엔 이상으로 보고 되고 있으며, 화상과 당뇨병 등의 피부궤양에서 피부이식이 필요한 사람은 일본 내에서 연간 약 25만명으로 추정됨 BCC Reserch의 보고서에 따르면 세계 조직공학 및 조직재생 제품 시장은 2011년 약 600억 달러를 기록하였으며 이후 연평균 성장률 8.4%로 성장하여 2016년 897억 달러에 이를 전망임 국내 시장동향 RI Technologies 의 보고서에 의하면 재생의료 분야의 국내 시장 규모는 2005년 약 1억달러 규모에서 2012년 약 5억달러 규모로 5배의 높은 성장률을 예상하고 있음 최근 메디포스트, 에프씨비파미셀 등 국내 관련 기업들의 시장 가치가 매우 높아지고 있음 국내시장의 경우 성형용도 및 당뇨, 화상환자 등으로 인한 수요 증가는 국내 소득 향상과 의료보험 확대 및 국민 보건에 대한 관심증대로 미국에 비해 더 높을 것으로 추정됨 식품의약품안전청에 의하면 국내에서 유통된 인체조직이 뼈와 피부 조직을 중심으로 15% 이상 성장한 것으로 나타났으며, 유통 중인 인체조직 중 국내 가공 인체 조직은 2008년 8만9804개, 2009년 13만 8739개, 2010년 17만 3109개 등으로 해마다 25% 이상 증가한 것으로 나타남 화상이나 교통사고 등으로 인해 손상된 피부를 복원하고나 재건성형을 하는데 사용되는 피부 인체조직의 유통은 2008년 2만7486개에서 2009년3만1156개로 13.4% 증가하였으며 2010년에는 3만 7220개로 19.5% 급등하였음\n",
      "\n",
      "시장동향 과학기술일자리진흥원\n",
      "해외 시장동향 글로벌 전문시장보고서에 따르면 화장품 화학재는 2011년 195억달러에서 2014년 226억 달러로 연평균5.0%의 성장이 예상되고 있음 화장품 화학재는 바이오, 나노기술 등의 첨단기술과 접목되면서 고부가가치 상품의 개발이 가능하며, 인구증가와 더불어 시장규모가 지속적으로 확대될 전망임 2010년 세계시장의 지역별 시장규모는 유럽이 933억 달러로 가장 크며 세계시장의 38.5%를 차지하였으며, 다음으로 아시아 태평양 지역이 725억 달러로 29.9%, 북미지역이 687억 달러로 28.4%의 비중을 차지하였음 중동 및 아프리카 지역 시장규모는 77억 달러로 타지역에 비해 작으나 전년대비 6.7% 증가하였으며, 전반적으로 성장률이 증가하는 추세에 있음 2010년 화장품 산업의 세계 시장규모는 미국이 350억 달러로 전체시장의 14.5%를 차지하며 가장 큰 시장을 이루고 있으며, 일본 308억 달러, 중국 171억 달러, 브라질 153억 달러, 독일 144억달러 순으로 규모를 형성하고 있음 지역별 성장률은 인도, 브라질, 중국, 멕시코 , 러시아등의 국가들이 높게 나타남 국내 시장동향 우리나라의 화장품 시장규모는 44억 달러로 세계시장 14위에 올라 전체 시장 규모의 8%를 차지하였으며, 세계 화장품 시장의 전년대비 성장률보다 높은 성장률을 보이고 있어 현재 전체시장에서 차지하는 비중은 향후 점차 확대될 전망임 한국과학기술평가원은 나노기술이 이미 국내 주요 산업에 활용되고 있다고 진단, 이를 경제적으로 환산 시 2005년 35조원에 달할 것으로 추정하며 2010년 104조원, 2020년에는 593조원에 이를 것으로 전망함 국내 나노 관련 기업수는 2001년 78개에서 2005년 214개로 확대되었으며, 미국 벤처캐피탈의 나노기술기업의 투자규모는 2004년의 1억 9,640만 달러 수준이었으나, 2005년에는 4억 3,430달러로 121% 이상 증가하는 등 나노기술 시장성에 대한 기대가 높아지고 있음 2010년 국내 기능성 화장품의 생산액은 1조 5,187억원으로 전년 대비 25% 증가하였으며 2007년에 비해 상대적으로 복합유형의 비중이 늘어남 기능성 화장품 유형에서 가장 큰 비중을 차지하고 있는 자외선 차단 제품은 4,721억원으로 전년대비 16.3% 성장하였고, 복합유형 4,178억원, 주름개선 3,423억원 미백 2,865억원 순이며, 그 중 생산규모 2위인 복합유형의 경우 연평균 77.3%의 빠른 성장률을 보이고 있음\n",
      "\n",
      "시장동향 과학기술일자리진흥원\n",
      "해외 시장동향 2008년 발간된 Kalorama Information의 세계 재생의료 시장규모는 2009년 약 27억 달러의 시장 규모에서 2019년 약 125억 달러로 약 4.6배 증가를 예상하고 있으며 최대 210억 달러에서 최소 45억 달러 규모로 유동성이 심할 것으로 전망됨 BCC Reserch의 보고서에 따르면 세계 조직공학 및 조직재생 제품 시장은 2011년 약 600억 달러를 기록하였으며 이후 연평균 성장률 8.4%로 성장하여 2016년 897억 달러에 이를 전망임 조직공학 관련 미국 시장 현황은 2008년 약 7억 7,000만 달러로 2002년부터 2008년까지 연평균 약 9.2% 성장하였으며 뼈제품 시장의 점유율이 전체의 93.6%에 이를 정도로 큰 비중을 차지함 국내 시장동향 RI Technologies 의 보고서에 의하면 재생의료 분야의 국내 시장 규모는 2005년 약 1억달러 규모에서 2012년 약 5억달러 규모로 5배의 높은 성장률을 예상하고 있음 최근 메디포스트, 에프씨비파미셀 등 국내 관련 기업들의 시장 가치가 매우 높아지고 있음 국내 인공관절 시장은 2000년대 이후 급격히 성장하여 2010년 현재 세계시장의 약 4.2%의 규모를 형성하고 있으며, 최근 5년의 국내 인공관절 시장은 연평균 19%씩 성장하였음 식품의약품안전청에 의하면 국내에서 유통된 인체조직이 뼈와 피부 조직을 중심으로 15% 이상 성장한 것으로 나타났으며, 유통 중인 인체조직 중 국내가공 인체 조직은 2008년 8만9804개, 2009년 13만 8739개, 2010년 17만 3109개 등으로 해마다 25% 이상 증가한 것으로 나타남 2010년 국내에서 유통된 인체조직은 뼈가 20만516개로 77% 이상을 차지했으며, 피부·건·연골 순으로, 뼈는 고령화에 따른 퇴행성 질환으로 골관절 이식, 임플란트용 뼈이식 수술 등이 늘며 수요가 증가하고 있음\n",
      "\n",
      "시장동향 과학기술일자리진흥원\n",
      "해외 시장동향 BCC Research에 의하면 심혈관 치료제 시장은 일부 블록버스터 약물의 특허만료로 향후 5년간 성장이 제자리에 머물 전망으로, 2010년 1440억 달러에서 2015년 1400억 달러 규모로 연 0.7%씩 감소가 예상됨 항고혈압제의 경우 연 3.9% 감소하여 2010년 653억 달러에서 2015년 540억 달러로 줄어들 것으로 예측하였으며, 고지혈증 약물 시장은 -4.3%, 항혈전제 시장은 2%, 심부전 치료제 시장은 11% 성장할 전망임 가장 큰 약물 분야인 심혈관 치료제 시장의 제네릭 경쟁이 심화되고 있어 탈출 모색이 필요함 2011년 전세계 건강기능식품 894억 달러로 최근 5년간 연평균 5.5%의 성장률을 보이며 성장하였음 2009년 국가별 기능성식품 신제품 출시 숫자를 보면 미국이 1,300종으로 가장 많으며 중국, 일본, 영국 순으로 전년도 대비 40% 증가한 것으로, 제품 분야별로는 소화능력 관련 기능성식품 1,700종, 체중조절, 심혈관 건강, 면역증강, 뼈, 뇌, 정신, 기억력 증강 제품 순으로 나타남 국내 시장동향 국내 건강기능식품 시장의 2011년 생산액은 1조3682억원으로 전년보다 28.2% 성장한 것으로 나타났으며, 이는 2007년 생산액 7,235억원과 성장률 3.2%에 비하면 괄목한 만한 성장세임 국내 건강기능식품 생산액은 건강기능식품 제도가 시행된 2004년 2,500천억원에서 2011년 4조원으로 약 4.5배 증가하였음 2011년 품목별 생산액을 보면 국내 홍삼 7,191억원의 가장 큰 시장을 중심으로, 비타민·무기질 1,561억원을 형성했고, 개별인정형은 1,435억원의 시장을 형성함\n",
      "\n",
      "시장동향 과학기술일자리진흥원\n",
      "해외 시장동향 2020년 이후 노인 인구가 전체의 20% 이상이 되면 전 세계적으로 뇌질환이 심각한 사회문제로 부각될 전망이며, 치매 환자 수는 2010년 47만 명에서 2020년 75만 명이 될 것으로 추정됨고령화 인구 증가와 함께 신경성 장애 환자는 같은 기간 약 2배 이상 늘어날 것으로 예상됨 인구구조 변화로 인해 퇴행성 뇌질환 시장규모는 지속적으로 성장할 전망이며, 주요 7개국의 알츠하이머 질환의 시장규모는 2019년 120억 달러에 이르며, 파킨슨 질환의 경우 2019년 275억 달러에 이를 것으로 전망함 알츠하이머의 경우 2019년 까지 연평균 9.9%의 높은 성장률이 지속될 전망임 Nutrition Business Journal 의 보고에 의하면 2000년 1,435억 달러 규모였던 세계 건강기능식품 시장은 높은 성장률로 2008년 1,435억 달러의 시장 규모를 차지하였으며, 지속적 성장을 통해 2014년도에는 3,973억 달러의 시장을 형성할 것으로 전망됨 Nutrition Business Journal의 조사에 의하면 2010년 현재 전 세계 건강기능식품 시장은 약 3천억달러의 시장을 형성하는 것으로 추정되고 있으며 이중 미국이 약 40%, 유럽이 약 30%, 일본이 약 15%의 비중을 차지하는 것으로 나타나고 있음 국내 시장동향 국내 건강기능식품 시장은 2010년 기준으로 약 3조원 규모로 추산되며, 인구의 고령화 속도 등을 감안할 때 향후 전 세계 시장 성장을 상회하는 약 13.8%의 성장률로 시장 확대가 예상됨 국내 건강기능식품 판매액 상위 10개 업체 현황을 보면, 한국인삼공사가 38.2%로 가장 높으며, 총 판매액은 3,662억 원이나 대부분 내수 판매에 그치는 추세임 국내 건강기능식품의 생산 및 수입동향은 2006년 7,008억에서 2010년 국내 생산액 10,671억 원 으로 약 53%성장을 하였으며 2009년 9,598억원 대비 12%가 증가하였음\n",
      "\n",
      "시장동향 과학기술일자리진흥원\n",
      "해외 시장동향 글로벌 전문시장보고서에 따르면 화장품 화학재는 2011년 195억달러에서 2014년 226억 달러로 연평균5.0%의 성장이 예상되고 있음화장품 화학재는 바이오, 나노기술 등의 첨단기술과 접목되면서 고부가가치 상품의 개발이 가능하며, 인구증가와 더불어 시장규모가 지속적으로 확대될 전망임 2010년 세계시장의 지역별 시장규모는 유럽이 933억 달러로 가장 크며 세계시장의 38.5%를 차지하였으며, 다음으로 아시아 태평양 지역이 725억 달러로 29.9%, 북미지역이 687억 달러로 28.4%의 비중을 차지하였음 중동 및 아프리카 지역 시장규모는 77억 달러로 타지역에 비해 작으나 전년대비 6.7% 증가하였으며, 전반적으로 성장률이 증가하는 추세에 있음 2010년 화장품 산업의 세계 시장규모는 미국이 350억 달러로 전체시장의 14.5%를 차지하며 가장 큰 시장을 이루고 있으며, 일본 308억 달러, 중국 171억 달러, 브라질 153억 달러, 독일 144억달러 순으로 규모를 형성하고 있음 지역별 성장률은 인도, 브라질, 중국, 멕시코, 러시아등의 국가들이 높게 나타남 2010년 화장품 유형 중 Skincare 시장이 766억 달러로 전체 화장품 시장의 36%를 차지했으며 연평균 성장률 또한 4.4%로 타 유형에 비해 높게 나타났고, 다음으로 Haircare와 Personal hygiene이 전체 화장품 시장에서 각 각 20.1%, 16.3%의 비중을 차지하여 연평균 3%대의 성장률을 나타남 국내 시장동향 2010년 국내 화장품 생산실적 대비 성장률은 16.4%로 2009년 전년대비 성장률보다 6.9%p 증가했으며 국내총생산 성장률 보다 높은 것으로 나타남 2010년 국내 기능성 화장품의 생산액은 1조 5,187억원으로 전년 대비 25% 증가하였으며 2007년에 비해 상대적으로 복합유형의 비중이 늘어남 기능성 화장품 유형에서 가장 큰 비중을 차지하고 있는 자외선 차단 제품은 4,721억원으로 전년대비 16.3% 성장하였고, 복합유형 4,178억원, 주름개선 3,423억원 미백 2,865억원 순이며, 그 중 생산규모 2위인 복합유형의 경우 연평균 77.3%의 빠른 성장률을 보이고 있음\n",
      "\n",
      "시장동향 과학기술일자리진흥원\n",
      "해외 시장동향 바이오산업의 세계시장 규모는 2000년 540억 달러에서 2010년에는 1,540억 달러 2015년에는 3,090억 달러에 달할 전망임 이러한 바이오산업의 성장속도는 정보통신 반도체산업 등에 비해서는 월등히 높은, 고성장이라고 할 수 있음 또한, 질병퇴치와 생명연장이란 관점에서 앞으로의 성장가능성은 거의 무한대일 것으로 예상되고 있음 주요 국가의 바이오산업 정책을 살펴보면, 미국이 생명공학분야에서 세계 선두의 경쟁력을 지속적으로 유지하고 있으며, 미국의 바이오산업은 세계 최고의 기초과학적 인프라와 연구인력, 다양한 벤처캐피탈을 보유하고 있음 바이오인포매틱스의 경우, 해당 기술 연구에 대한 선진국의 정부 지원이 늘어 나고 있음 미국 국립보건원 미 중소기업지원제도는 중소기업들이 바이오인포매틱스 연구를 지원하는 프로그램을 마련하여, 총 두 단계로 나누어 100,000달러 지원 후, 성공적인 프로젝트는 2단계로써 750,000달러가 추가 지원됨 또한 NIH는 미국립의료박물관과 함께 바이오메디컬-인포매틱스 및 바이오인포매틱스 분야에 매년 250,000 달러 상당의 직접지 지원을 하고있음 국내 시장동향 우리나라의 정보통신기술은 세계 최고 수준이지만, 생명공학 분야는 선진국에 비해 상대적으로 뒤떨어져 있는 실정임 따라서 정보통신생명공학 융합기술 분야에서 국가경쟁력을 조기에 확보하기 위해서는 생명공학과 연관된 분야에 집중적이고 과감한 연구개발 투자의 필요성이 대두되고 있음 국내의 바이오인포매틱스에 대한 관심은 2008년 최초의 한국인 게놈 분석을 필두로 급격히 증가함 미래의 바이오인포매틱스 기술은 초대용량 개인유전체에 기반한 맞춤의학이 필요로 하는 첨단 융합학문이 될 것이며, 그 범위는 생물자원정보, 생물다양성정보, 생명정보 등을 포괄하는 넓은 분야가 될 것임 이에 우리는 국내의 IT기술을 적극적으로 활용하여 많은 분야들이 상호간에 정보통합이 이루어질 수 있도록 노력해야 할 것임\n",
      "\n",
      "시장동향 과학기술일자리진흥원\n",
      "해외 시장동향 ETSI와 ESA는 현재 미국이 주도하고 있는 위성 통신 시스템 시장의 주도권 탈환과 고품질의 위성 통신 서비스 제공을 위해 DVB-RCS 시스템 대비 30%의 성능 향상을 목표로 DVB-RCS NG의 표준화를 추진중에 있음 2008년 4월부터 기존의 DVB-RCS 기술을 대체 할 수 있는 새로운 기술 표준화에 대한 필요성이 제기되기 시작하였으며, 다음과 같이 여러 기관들이 이러한 움직임에 동의함으로써 새로운 기술 표준에 대한 논의가 본격화 됨 MMIC 및 SSPA가 직접적으로 활용되는 분야의 경우는 Ku대역 광대역 위성 통신용 VSAT 제품으로서, 2011년 전세계적으로 VSAT용 단말이 320만개 중에서 130만개 정도의 제품이 본 사업화 기술과 관련된 광대역 VSAT 제품인 것으로 나타남 또한 관련 Ku 대역 광대역 VSAT 시장은 연평균 15.4%의 성장률이 예상되어, 2020년도에는 590만개 정도의 단발 시장이 형성될 것으로 예측되고 있음 이러한 VSAT 단말기 시장의 확대는 광대역 위성서비스 및 사용자 장비에 의한 시장 수익을 창출하게 되는데, 이 규모는 2011년 현재 10억달러 정도 규모에서 2020년에는 56억달러 규모로 성장할 것으로 예측되고 있음 국내 시장동향 Ku 대역 위성통신 및 마이크로웨이브 중계기용 고출력 증폭기로서 TWT 기술이 많이 이용되었으나, 최근의 화합물 반도체 기술의 발전으로 효율과 신호의 선형특성이 우수한 GaAs HEMT 기술을 이용한 SSPA 기술로 대체가 진행되고 있으며, 특히 단말기의 소형화를 위해서는 GaAs MMIC 활용이 높아지고 있음 국내 Ku-대역 BUC 제품은 GaAs MMIC 기반으로 최대 4W 출력의 제품이 생산되고 있으며, BUC 모듈의 효율이 10% 내외로 매우 비효율적임 현재 국내 업체중 Ku 대역 위성통신용 VSAT과 관련된 BUC 제품을 생산하는 업체는 극소수임\n",
      "\n",
      "시장동향 과학기술일자리진흥원\n",
      "세계 자동차 판매량은 2007년 이후 계속적으로 하락하고 있으며, 2009년의 자동차 판매량은 2004년 수준과 비슷해진 추세이고 자동차 판매량에 따라 교통사고의 건수도 이와 비례하게 되며, 사고 관련한 사고들도 많아지는데 이를 예방하기 위하여 차량용 카메라 시스템의 사용량도 증가하게 됨 유럽은 2010년부터 모든 차량에, 미국은 2011년부터 4.5t 이하의 모든 차량에 차량용 카메라 시스템 장착을 의무화하는 것을 추진중에 있으며 미국 고속도로 안전청의 자료에 따르면 미국 내에서 운행되고 있는 2억대의 경승차 중 15%, 2004년 출시된 승용차의 80%가 블랙박스를 장착하고 있는 것으로 나타남 또한 미국 NHTSA의 장착 권고 법안을 발표하였고, IEEE/SAE 표준안 제정 등과 유럽의 eCALL도입을 추진하고 있음 국내 시장동향 국내 자동차 생산량은 2002년 300만 대를 시작으로 하여 2007년도까지 생산이 꾸준히 늘다가 점차 하락하기 시작했으나, 2009년 국내 완성차 내수는 경기침체에도 불구하고 1분기까지 하락하던 감소세에서 벗어나 노후차량 교체지원정책 및 신차효과 등에 힘입어 전년 대비 20.7%의 성장률을 기록 카메라 모듈산업 중 휴대폰 외 가장 시장규모가 큰 분야는 차량용 카메라 분야로 2010년에 0.8조로 연평균 32% 고성장이 예상되고, 그동안은 일본 업체들이 85% 이상을 점유하여 독식을 왔지만 고급차는 물론 중형 및 소형차까지 탑재되는 속도가 빠르게 증가하고 있기 때문에 운전자의 기대에 대응할만한 기술개발이 필요하며, 단순히 화상 인지용뿐만 아니라 차선 이탈 감지, 사각지대 경고 등 센서 이식용까지 확대가 예상되므로 이에 대한 기술개발과 제품 진입에 대한 지원을 강화해야함 또한 자동차용 부품 산업의 특성상 신규거래선 및 신기술 채용에 다소 시간이 걸리므로 향후 카메라모듈의 시장 확대에 대비하여 조기기술 확보와 저가격화 요구에 대한 준비가 필요하며, 자동차 회사의 고기능, 융합화제품 대응을 위한 차별화 제품 개발 로드맵 구축을 통하여 업체들에게 시장의 요구에 맞는 지원방안을 제시해야함\n",
      "\n",
      "시장동향 과학기술일자리진흥원\n",
      "국내외 시장동향 과거 ATM, POS, 키오스크 등 산업용 제품에 한정되었던 터치패널은 2000년대 들어 네비게이션과 PDA 등으로 적용이 확대되면서 본격적으로 성장하고 있으며, 터치패널이 적용된 휴대용 기기의 확산으로 산업이 급격히 성장하는 추세를 보임 그 동안 터치패널 산업 성장의 핵심 원동력은 스마트폰을 중심으로 한 소형 터치패널 시장의 성장이었으나, 2013년 이후 터치패널 산업 성장의 핵심 원동력은 중대형 터치패널 시장의 본격적인 성장일 것으로 판단됨 태블릿PC를 포함한 스마트패드 산업의 높은 성장이 예상되고, 윈도우8의 출시와 함께 중대형 터치패널을 채용한 노트북과 PC가 지속 출시될 전망이기 때문임 전체 터치패널 시장은 2012년 181억 6천만 달러를 기록, 연평균 26%의 고 성장으로 2016년에는 387억불 시장이 예상됨 대수 기준으로는 2012년 13억 5천만대 규모에서 2016년에는 약 2배 성장한 27억 5천만대 규모가 예상됨 또한, 어플리케이션별 터치패널 시장추이를 살펴보면 스마트폰 시장과 함께 태블릿PC와 노트북 시장의 터치패널 적용확대에 대한 전망을 확인할 수 있음 2013년 태블릿PC 시장은 전년대비 45% 증가한 17.4억대의 판매가 예상되면서 스마트기기 시장 성장을 이끌 것으로 전망됨 현재 태블릿PC 시장은 Apple의 iPad 를 중심으로 High-end 시장이 형성되어 있고, Amazon의 Kindle Fire와 Google의 Nexus 7을 중심으로 Low-end 시장이 성장 중에 있음 이러한 태블릿PC 시장의 성장에서 가장 수혜를 받는 산업중의 하나가 바로 터치패널 산업인데 이는 터치패널은 크기가 커질수록 ASP 상승률이 더 높아지기 때문임 10) 따라서, 태블릿PC의 성장을 기반으로 한 중대형 터치패널 시장의 성장은 터치패널 업체들에게 큰 호재로 작용할 전망임\n",
      "\n",
      "시장동향 과학기술일자리진흥원\n",
      "국내 기술동향저분자 약품의 경우 국내의 신약개발이 어느 정도 활성화되고 있으나 본격적인 단백질 의약품 특히 최근에 세계적으로 많은 투자가 이루어지고 있는 단클론 항체 의약품 분야의 연구개발은 아직까지 미국이나 유럽 등의 선진국에 비해 많이뒤떨어져 있는 실정임LG화학, 녹십자, 제일약품, 제일제당, 대웅제약, 동아제약, 태평양 등에서 일부 단백질 의약품을 생산 판매하고 있으나 대부분 특허가 만료된 제네릭 제품이거나 혹은외국의 다국적 제약회사와의 합작 형태로 판매되고 있음그러나 이 중 LG 생명과학은 실질적으로 바이오 의약품 생산을 통해 진정한 바이오텍 기업으로 성장할 가능성을 가지고 있는 것으로 평가되고 있음FDA 승인을 획득한 팩티브에 대한 임상시험을 GSK사와 공동으로 진행하는 과정에서 이와 관련된 노하우를 확보하였고, 효모에서 생산된 인간 성장호르몬인 유트로핀을 국내에 출시하는 과정에서 고순도의 제품 품질과 높은 생산성을 통하여 경쟁력을 확보함또한 지난 2001년에 Sr-hGH의 임상 1상 결과를 토대로 스위스 바이오파트너와 공동개발 계약을 체결하였고, 현재 미 FDA 허가를 위한 임상 2상 시험을 진행함최근에 Sr-hGH에 관한 조성물 및 제형기술에 대해 영국과 독일을 포함한 유럽 22개국으로부터 특허를 등록받음또한 LG 생명과학은 현재 관절염 등 자가면역질환 치료를 겨냥한 인간화 항체기반기술 연구에도 집중하고 있음이 밖에도 이수화학을 비롯해 녹십자, 생명공학연구원 창업 벤처인 에이프로젠 등에서 치료용 항체의 연구개발이 활발하게 진행되고 있음현재 개발 중인 치료용 항체로는 혈액 내에 있는 GPIIb/IIIa에 작용하여 혈액 응집을 막는 혈전생성 방지 항체인 ISU301과, 대장암, 폐암, 위암 등 난치성 암세포에서 많이 발견되는 EGF 수용체에 작용하여 암세포 사멸을 유도하는  ISU101 등 이 있음EGF 수용체를 타겟으로 하는 기존의 치료용 항체로는 임클론사에 의해 개발되어 2004년에 미 FDA의 승인을 획득한 어비턱스가 있으나 이는 생쥐 유래의 항체 서열이 포함되어 있는 키메릭 항체의 형태로 생산되므로 인체 내에서 면역반응을 일으킬 소지가 높은 것으로 평가되고 있음그러나 이수 앱시스에서 개발하고 있는 ISU101의 경우 탈면역화 기술을 이용하여 인체 면역반응을 유발할 소지가 있는 부위를 대부분 제거하였으며 어비턱스에 비해 향상된 친화도를 지니고 있다는 장점을 가짐녹십자는 B형 간염 치료용 인간화 항체를 개발하여 현재 전임상 실험을 수행중이며 혈우병 치료제로 개발되고 있는 재조합 Factor VIII의 경우 현재 임상 3상이 진행 중임\n",
      "\n",
      "시장동향 과학기술일자리진흥원\n",
      "Datamonitor에 의하면 2010년 세계 화장품시장 규모는 2,422억 달러로 3.9% 증가했으며, 항노화 스킨케어 시장규모는 463억 달러로 2009년 대비 4.4% 성장함 2010년 전체 화장품 시장 대비 항노화 스킨케어 시장 비중은 19.1%이며, 2001년에 비해 0.8% 증가했고, 전체 화장품 시장 대비 항노화 스킨케어 시장의 성장률로 미루어보아 향후 항노화 스킨케어 시장은 더욱 커질 것으로 전망 항노화 스킨케어 시장의 지역별 비중은 아시아-태평양이 43.5%로 가장 크며, 그다음이 유럽 34.6%인 것으로 나타남 항노화 스킨케어 시장의 비중은 일본이 23.7%로 가장 크며, 그 다음이 미국 15%, 중국 12%, 프랑스 6.3% 등의 순으로 나타남 우리나라 항노화 스킨케어 시장규모는 전체 항노화 스킨케어 시장규모의 3.0%로 9위를 차지하여, 전체 화장품 시장에서 우리나라 화장품 시장이 8% 비중을 차지하며 14위에 머무른 것과 비교하면 항노화 스킨케어 시장이 비교우위에 있음 식품의약품안전청은 2011년도 기능성화장품 심사현황을 분석한 결과, 8,263 품목이 심사되어 2010년 7,303건에 비해 13%증가한 것으로 나타났다고 밝혔으며, 전제 심사품목에 대한 효능별로는 복합기능성이 2,508건으로 30.3%를 차지했으며, 이를 이어 주름개선이 2,254건으로 27.3%인 것으로 조사되었음 전통적으로 뽀얀 피부를 아름다운 여성의 기준으로 삼아왔던 우리나라는 기능성 화장품 중 미백제품 개발이 가장 활발히 이루어져 왔으나, 2007년 이후 주름개선 제품이 미백제품 개발을 앞서기 시작했으며, 2011년에는 주름개선 제품이 미백제품에 비해 약 4배 많이 심사된 것으로 나타났음 2010년 주름 및 잔주름에 대한 관심도를 조사한 결과 54세 이하 응답자는 주름 및 잔주름에 대해 관심이 높은 것으로 나타났으며, 특히 25세~34세 응답자의 관심도가 높게 나타나 젊은 성인들 역시 피부 노화에 대해 관심을 가진다는 것을 확인할 수 있음 주름 및 잔주름에 대해 우리나라 소비자가 가장 관심이 많은 것으로 조사되었으며, 그 다음은 인도, 중국, 브라질 등의 순으로 조사되었음\n",
      "\n",
      "시장동향 과학기술일자리진흥원\n",
      "단백체 관련 바이오 마커는 바이오 제약회사 및 벤처 기업들이 가장 많은 이익을 얻는 분야로 전체 바이오 마커 분석 시장 매출의 54%를 차지하고 있고, 그 다음 순으로는 유전체 분야가 38%, 대사체 분야가 8%를 차지 현재 체외 진단 시장에서 기술 트렌드는 분자 진단 기술로 급격히 이동하고 있으며, 분자 진단에서 중요한 기술적 요소는 질환을 대표하는 분자 진단용 핵산 바이오 마커의 발굴 기술과 높은 민감도 및 특이도로 바이오 마커를 감지할 수 있는 바이오 마커 검출 기술로 대별될 수 있음 특정 질환을 높은 민감도와 특이도로 진단할 수 있는 분자 진단 바이오 마커에 대한 발굴은 다양한 검출 시스템에 적용할 수 있는 기반 기술이며, 짧은 시간 내에 실용화할 수 있는 지식 집약적 기술임  임상용 유전자 진단 시장은 Roche Diagnostics , Chron  등 약 20개 미만의 선진 기업에 의해 점유되고 있으며, 최근 포스트 인간 유전체 연구에 참여했던 유전자 분석 기업들이 사업 방향을 전환하여 임상 시장에 진출하고 있음 인간 유전체 연구사업의 대표 업체인 Celera Genomics가 Applied Biosystems와 50:50 합작으로 Celera Diagnostics를 설립하여 임상 시장에 진출하였으며, 이외에도 Affymetrix, Orchid Biosciences, Inc., Luminex Corp이 있음  환자의 암 조직을 이용한 치료의 방향성을 판단하는 분자 진단 방법은 MammaPrint, OncotypeDx 등 미국 FDA 승인을 받거나 CLIA 랩 수준에서 상용화된 제품이 있으나, 혈액/소변/객담 등 주요 체액 샘플을 이용한 분자 진단 기술이 상용화된 사례는 거의 없음 10) 바이오 마커를 분리하는 방법으로 유전자를 이용한 Genomics, 단백질을 이용한 Proteomics, 대사물질의 양을 이용한 Metabolomics, 분자 수준의 연구인 Bioinformatics, Imaging법이 있음 국내 시장동향 국내 바이오 마커 시장은 연평균 26%로 성장하여 2005년 1억 3,568만 달러에서 2011년 4억 3,759만 달러의 시장이 형성되었음\n",
      "\n",
      "시장동향 과학기술일자리진흥원\n",
      "시장조사 전문기업인 IDTechEx에 따르면 에너지 하베스팅 응용기기 시장규모가 38%의 CAGR을 보이며 2018년 1억4,500만 달러까지 확대될 것으로 전망하였으며, 특히 열전소자분야의 시장규모는 2억3,600만 달러로 예상하였음 BCC Research에 따르면 세계 에너지수확기술 시장은 2011년 3억 2,300만 달러, 2017년까지 43.2%의 연평균 복합 성장률로 성장해 31억 달러에 달할 것으로 전망함 환경문제에 대한 경각심과 더불어 저전력 설계기술의 발전과 스마트폰과 같은 이동식 전자기기의 급속한 보급으로 대규모 발전이 아닌 소규모 분산전력의 수요가 늘고 있는 추세임 국내 시장동향 국내 압전 에너지 하베스팅 시스템의 개발은 초기 단계 상태이며, 압전소자에 관한 연구가 활발히 이루어지는 반면에, 이를 적용할 수 있는 시스템에 대한 모색은 활발히 이루어지고 있지 못한 실정임 전원으로서의 에너지 하베스팅은 얼마 전에 유행한 유비쿼터스 사회, 그리고 최근에 주목받고 있는 Internet of Things를 실현하는 데 있어 필수적인 기술이며, 10년, 20년 후에는 생활의 모든 현장에서 사용될 것으로 예측되고 있음 작고 강력한 휴대용 전자기기의 출현으로 누구나 장소나 시간에 구애받지 않고 자유롭게 정보에 접속하고 무선 통신을 할 수 있게 됨에 따라 웨어러블 컴퓨팅 등의 가동을 위한 외부 전력 공급을 위해 저전력 에너지원 수확에 대한 니즈는 무한히 확대될 것으로 예상되고 있음 우리나라는 에너지 수입국으로서 에너지의 절약 및 합리적 사용이라는 실제적인 필요성 이외에 지구 환경보전을 위한 이산화탄소 배출제한 등 국제적인 환경규제에 적극 대응하기 위한 첨단 미개척 기술 분야로 향후 기술우위의 확보를 위하여 더욱 많은 관심을 가져야 함 압전을 이용한 에너지 하베스팅의 경우 소자의 사이즈에 따라서 크게 Macrscale의 압전 에너지 발전과, Micrscale의 압전 에너지 발전으로 나누어 볼 수 있으며, Macrscale 압전 발전의 경우 사람의 움직임이나 자동차의 진동 등과 같이 큰 움직임이나 진동으로부터 에너지를 발전하고 충전을 통해 보조 전원이나 대용량 발전에 적용하는 기술임 현재 위 기술은 주로 센서, 모바일폰 및 자동차TPMS 실장용 시작품으로 테스트 중이며, 세계적으로도 선진 일부 국가에서 실장 test 단계에 있음\n",
      "\n",
      "시장동향 과학기술일자리진흥원\n",
      "세계 에어로겔 생산규모는 2010년 3,750 톤에서 2017년 약 70,000 톤으로 연평균 59%의 성장률을 보일 것으로 전망되었으며, 에어로겔은 건물과 파이프 라인의 단열재로 주로 사용되면서 그 생산규모가 점점 확대되고 있고 단열재에 적용되는 에어로겔은 전체 에어로겔의 50% 이상의 높은 비중을 차지하고 있음 세계 에어로겔 생산은 북미와 유럽이 양분하여 주도하고 있는 구도이며, 2011년 기준으로 북미의 경우 전 세계 에어로겔 생산량의 57%를 점유하고 있고, 유럽이 42%를 점유하고 있으며, 아시아는 1%를 생산하는 것으로 나타남 전 세계 에어로겔 생산시장은 미국의 Aspen Aerogel사와 Cabot Corp. 및 Dow Chemicals사이 주도하고 있으며, 일부 중국 및 말레이시아 업체가 아시아 생산량을 담당하고 있음 국가 단위로 보면, 세계 에어로겔 생산은 미국과 독일이 세계 에어로겔 생산을 양분하고 있는 형태로 미국은 57%, 독일이 40%의 시장을 점유하고 있음 에어로겔은 초단열성/초경량성/초다공성 이외에 극 저유전성, 높은 비표면적 및 전기전도성 등과 같은 우수한 특성을 갖고 있어 에너지/환경/전기전자 분야 등 다양한 분야에 응용이 가능하고 저비용 제조공정 기술들이 개발되고 있어 에어로겔 시장은 점차 확대될 것으로 기대됨 국내 시장동향 에어로젤은 가벼운 무게, 뛰어난 단열성 등의 특징 때문에 선진국에서는 널리 시공되고 있으나 국내에서는 비싼 가격으로 대중화되지 못하고 있는 실정임 2006년에 처음으로 우리나라에 소개되어 열병합발전소, 석유화학공장 등지에서 산업용으로만 사용되어 왔으며 최근에는 아파트, 전원주택 등 건축물의 지붕, 바닥의 단열재 등으로 사용하기 위한 노력이 계속되고 있음 또한 국내에서는 미국 아스펜 에어로젤 사의 한국 지사인 에어로젤 코리아만이 제품을 공급하고 있으며, 산업용으로 쓰이는 에어로젤은 전량 수입에 의존하고 있고 비싼 가격으로 인해 국내 단열재 시장 내 사용이 어려움 국내의 에어로겔 연구는 10여 년 전부터 서강대, KIST, 연세대, 한서대 등에서 진행되고 있었으나, 거의 기초연구단계 수준으로 에어로겔의 상용화를 위한 연구가 많이 필요한 상황임 한국생산기술연구원에서는 에어로겔 모노리스, 입자 제조 및 개질, 투명·반투명 코팅제, 그리고 프렉시블 에어로겔시트, 에어로겔 유무기복합체 패널 등 다양한 형태의 에어로겔 단열재 제조 기술을 확보했으며, 한국에너지기술연구원은 일반 공업용 원료인 저렴한 물유리를 바로 투입하고 표면개질과 겔화반응을 동시에 처리할 수 있는 에어로겔 공정을 개발함\n",
      "\n",
      "시장동향 과학기술일자리진흥원\n",
      "전 세계적으로 매년 5천만 톤의 수소를 만들어 산업용으로 사용하고 있으며, 미국, 일본, EU 등 선진국을 중심으로 세계 각국이 정부 투자분 10억$ 이상/년, 민간포함 연간 총 50억 달러 이상을 투자하고 있음 수소연료전지 자동차 수요량은 2030년에는 400만대 이상일 것으로 예측되며, 2015년부터 2030년까지 연평균 25.9%의 성장이 예상됨 2003년부터 수소에너지 개발 연구에 착수한 일본은 2019년까지 세계 최대의 수소 에너지 실증센터 건설을 목표로 관련 프로젝트를 추진 중이며, 이른바 'H-LIFE'로 불리는 이 프로젝트는 후쿠오카 현 일대에 수소 타운과 수소 고속도로, 수소 에너지 검사·연구센터, 수소 에너지 인력교육센터 등을 건립한다는 계획이 핵심이고, 도요타 닛산 히타치 등 464개 기업과 109개 대학, 34개 연구소 및 후원기관이 공동으로 참여하고 있음 국내 시장동향 최근에는 건물용/발전용 수소 연료전지 분야 상용화 기술이 개발되고 있으며, GS와 포스코가 이미 실증 시험을 위한 보급을 진행 중이고, LG와 삼성, 두산 등 대기업 또한 소재부터 시스템, 설치에 이르기까지 대규모 투자를 통한 기술선점을 위한 경쟁이 가속화되고 있음 국내 건물용 연료전지로는 현재 고분자 전해질 연료전지와 고체산화물 연료전지가 가장 많이 보급되어 있음 국내 건물용 연료전지 대표 제조 기업으로는 퓨어셀파워, GS파워셀, 효성이 있으며, 특히 퓨어셀파워는 2005년 연료전지 부품 생산을 시작으로 사업 역량을 강화하면서, 2010년 매출액은 전년대비 약 50% 증가한 70억 원에 달함 국내에서는 2012년부터 주요 발전사업자를 대상으로 총발전량 중 일정 부분을 신재생에너지로 생산해야 하는 의무할당제가 본격적으로 시행되어 한전 발전회사 등 발전사들의 연료전지 도입이 증가할 것으로 예상됨 2013년 우리나라의 연료전지 시장은 약 1억 달러 규모로 예상되며, 응용분야 중 발전용 연료전지가 70% 정도를 차지할 전망이며, 현재 발전용 연료전지 시장 대부분을 점유하고 있는 MCFC가 당분간 시장 성장을 견인할 것으로 판단됨\n",
      "\n",
      "시장동향 과학기술일자리진흥원\n",
      "전 세계 해양 기름오염사고는 20년간 420건, 유출량은 704,000톤으로, 최근 선진국을 중심으로 해양사고 피해 최소화 및 확대 방지를 위한 다각적인 노력이 전개되고 있어 연간 기름오염사고 수치는 점차 감소하고 있는 추세임 본 기술 관련 해양 오염 방제를 위한 연관 시장의 경우 비상사태를 대비하여 일정량을 비축하나, 오염사고 발생 시 주문구매를 하는 수요가 일시적으로 존재한다는 점에서 특징적이며, 공급측면에서는 비축물량에 대한 계획 생산이 가능하나 일시적인 수요에 대해서는 확보를 통해 공급하는 구조이기 때문에, 방제 품목에 대하여 대량 기름 유출사고에 대비하여 물량 확보를 통한 대응책 마련이 중요함  국내 시장동향 해양사고는 사고해역 주변 주민의 인명 및 해양 환경에 막대한 피해를 야기시키며, 해양사고 특성상 신속한 대응이 어려워 추가적인 사고로 확대될 가능성이 잠재되어 있음 이러한 특성상 기름 유출 사고 시 환경피해로 연계되는 2차 사고로 확대될 가능성이 크기 때문에 본 기술을 적용한 방제기술을 필요로 함 보다 구체적으로 본 기술 제품이 적용 될 수 있는 목표시장은 수질정화제, 유회제 부직포, 농업용 상토로 해당 시장은 다음과 같음 수질정화제의 시장규모는 2010년 120억원으로 16%로 성장할 것으로 예상되며 2015년 200억원을 달성할 것으로 예상되며, 현재는 디엔텍, Bio-KAKEN 등 외국계 기업이 강세를 보이고 있음 유화제 부직포와 관련해서는 기름유출사고 시 또는 소량의 유류가 지속적으로 유출되는 배수구와 같은 곳에 흡착재를 설치하고 있으며 현재 유한킴벌리에서 독점하고 있는 상황임  농업용 상토시장은 16.2% 성장할 것으로 예상되어 2010년 2,500억원의 규모에서 2015년 5,300억원정도의 시장이 될 것으로 예측되며, 남해화학을 중심으로 중소기업이 분포하고 있음\n",
      "\n",
      "시장동향 과학기술일자리진흥원\n",
      "전 세계 산업시장 규모면에서 체외진단 시장 증가율은 안정적임. 연평균 복합증가율은 5~7%이며 시장연구회사 A&M Mindpower Solutions의 통계에 따르면, 전 세계 체외진단시장은 2014년 600억달러를 초과할 것으로 전망함  전 세계 제품을 세분화하면 신체진단은 체외진단의 제일 큰 조성 부분이며 분자진단은 체외진단시장의 제일 잠재력 있는 분야임. 2010년 신체진단은 116억달러로써 시장규모면에서 가장 크며 체외진단의 27%의 시장점유율을 차지하고 있음 분자진단은 체외진단영역의 핵심적 기술로서 2010년 시장점유율은 9%이나 증가속도가 빨라서 2014년 시장점유율은 18%에 도달할 것이며 혈당검사와 함께 체외진단시장의 주요 동력이 될 것으로 전망됨 2008년 중국, 브라질 및 인도의 전 세계 체외진단 중의 순위는 제6, 9, 10위였으나 예측에 따르면 2015년 각각 제 3위, 제 7위, 제9위로 상승하며 연간 증가율은 약 20%로 전망되고 그 중 중국은 발전 잠재력을 구비하고 있는 신흥시장으로서 BRICS 국가 중 59%의 시잠점유율을 차지하고 있음 국내 시장동향 국내 시장은 헬스케어 분야로 사업 영역을 확장하고 있는 그룹사들의 진단 시장 진출 양상이 눈에 띄는 가운데 향후 진단 분야에서 주목할 만한 기업으로 삼성테크윈, 씨젠, LG 생명과학, 바이오니아 등이 있음 국내 체외진단 시장은 2016년 2,711억 원 시장을 형상할 것으로 예상되며, 특히 IT 기술 발전에 따른 융·복합화 및 소형화/스마트화에 따른 가정용 체외 진단기기의 지속 성장이 전망됨\n",
      "\n",
      "시장동향 과학기술일자리진흥원\n",
      "의료기기 산업은 기술혁신, 헬스케어 부문의 R&D 투자 증가, 삶의 질 향상으로 인한 진료비 지출 증가 등의 요인으로 인하여 급격한 성장을 이루어 온 시장이며 이러한 요인들로 인해 향후 전망이 기대가 되는 시장임 의료기기 시장은 12년 약 3,428억 달러의 시장규모를 형성하여 12년 까지 약 5% 정도의 성장률을 보여 주고 있으며 17년에는 4,762억 달러의 시장규모와 약 7% 대의 성장률을 달성할 것으로 추정됨 12년 전체 의료기기 시장 중 미국이 차지하는 비중은 42%이며, 그 다음으로 일본이 9%, 독일이 8%의 비중을 차지하고 있음 미국, 서유럽, 일본과 같은 성숙된 시장은 성장률이 둔화되고 있으며, 중국, 인도, 브라질, 멕시코와 같은 신흥 시장의 성장은 2015년까지 성장률이 증가하며 2020년 까지 높은 성장률을 지속할 것으로 예상됨 국내 시장동향 국내의료기기 산업이 경기침체에도 불구하고 고령화에 힘입어 지속 성장세를 보이고 있으며 수출확대로 무역수지가 개선되고 신흥시장 개척도 활발한 것으로 분석됨  국내 의료기기 시장규모는 12년 기준 4조5천923억 원으로 11년의 4조 3천64억원 보다 6.6% 성장한 것으로 나타났으며, 이는 미국, 일본, 독일, 중국 등에 이어 13위를 기록함 12년 의료기기 생산실적은 내수의 지속적 확대와 중국 브라질 등 신흥국에 대한 수출증가에 힘입어 11년 3조3천665억 원보다 15.2% 증가한 3조8천774억 원으로 06년 이후 연평균 11% 성장을 기록함 생산액 기준으로는 삼성메디슨, 오스템임플란트, 한국지이초음파 등의 순이었으며, 상위 30개사가 전체 생산액의 45.4%를 차지하고 있음  생산규모 100억원 이상인 업체는 69개소로 국내 의료기기 총생산액의 60.0%를 차지하고 있으며, 생산액이 1억원 미만인 업체는 1천122개소로 국내 의료기기 생산액의 0.5%에 불과함 의료기기 수입의 가파른 증가로 인해 우리나라 의료기기산업의 수입의존도는 2006년 59.5%에서 2007년 64%로 다시 증가하였으며, 이에 따라 무역수지를 개선하기 위해 중저위 이상의 의료기기 제품을 개발하는데 많은 노력이 필요한 상태임\n",
      "\n",
      "시장동향 과학기술일자리진흥원\n",
      "2010년 BCC Research가 발행한 최근 보고서 Medical Lasers: Technologies and Global Markets에 의하면 치료용 레이저 의료기기 시장은 장기적 관점에서 낙관적으로 전망됨 세계의 의료용 레이저 시장은 2011년 약 30억 달러 규모를 형성했으며, 그 이후 연평균 성장률 17.3%를 기록해 2016년 약 68억 달러에 달할 전망임 2009년 세계 시장은 약 23억 달러의 시장규모를 기록했고, 향후 5년간 연평균 상승률이 16.1%로 확대되어 2014년에는 48억 달러에 근접할 것으로 예측됨 국내 시장동향 1980년대 후반부터 의료용 레이저 기기가 본격적으로 보급되었으며, 1990년 이후 현재까지 그 수요가 급속히 증가하고 있고, 의료용 레이저 기기는 시술이 간편하고 환자의 회복 속도가 빠르다는 장점과 전에는 치료하지 못했던 질환들을 치료할 수 있다는 점 때문에 앞으로도 그 수요가 계속 증가할 것으로 예상됨 체지방 제거용 의료기기는 성인뿐 아니라 소아에 이르기까지 광범위하게 퍼져 있는 비만문제를 해결하는 좋은 보조수단으로 인식되고 있고, 생활수준의 향상으로 미용에 대한 관심이 급증하는 추세에 따라 수요는 지속적으로 증가할 것임 국내의 수요 또한 매년 15~20% 정도 증가될 것으로 보이며, 보수적인 관점에서 보더라도 매년 12% 정도의 성장률이 예상되어 향후 성장성과 안정성이 매우 높은 산업분야라 할 수 있음 국내 의료기기 시장규모는 '11년 대비 6.6% 성장한 4조 5,923억원을 기록하였으며, 국내 경제의 소비위축, 경기침체 등으로 지난해 의료기기 시장 성장률은 '11년 보다 다소 하락 하였으나, 고령화와 예방 및 진단 중심의 의료수요 증대 등으로 그 시장규모는 '08년 이후 연평균 6.1%의 지속적 성장세를 유지하고 있음\n",
      "\n",
      "시장동향 과학기술일자리진흥원\n",
      "세계 태양광 산업 규모는 설치량 기준으로 2006~2011년 사이 연평균 60% 증가하며 폭발적인 성장세를 기록하였고, 향후 2015년에는 52GW, 2020년에는 83.3GW의 설치량이 예상됨 미국, 일본, 중국의 태양광 발전소 건립 확대로 태양광 수요는 양호한 성장세를 보이고 있으며, 수요 비중도 유럽에서 비유럽으로 이동할 전망 지난 2010년 이후 태양광 산업은 타 에너지원에 비해 경쟁력 부족, 공급과잉 등의 이유로 다소 침체적인 분위기였으나, 현대경제연구원의 2013년 태양광 산업의 기여효과에 대한 밸류체인별 성과분석 및 중장기 전망에 관한 기술개발 연구보고서에 따르면 공급과잉이 2014년쯤 해결되고 2016년 이후에는 시장성과 자원성을 바탕으로 지속 성장할 것으로 전망됨 국내 시장동향 솔라앤에너지에 따르면 2015년까지의 3가지 시나리오 별 분석을 통한 한국의 태양광발전 시장은 424.5MW로 전망됨 국내 태양전지 업체들의 대량 생산량에 힘입어 2011년에 2GW의 생산과 25억 6,000만 달러의 매출규모, 2015년에는 10.0GW의 태양전지 생산과 91억 8,000만 달러의 매출 규모가 이루어질 것으로 예상됨 한편 현대경제연구원은 국내 태양광산업이 장기적으로는 연평균 10%의 성장세를 보여 2025년 매출 24조6000억원 규모를 예상함 한편 국내 태양광 모듈산업은 국내 태양전지 모듈산업은 태양전지뿐만 아니라 EVA Sheet, Back Sheet, Ribbon, J-Box 등 모듈 구성 원부자재에 대한 수입의존도가 매우 높은 편이나, 최근 SKC, 화승인더스트리 등을 중심으로 EVA Sheet, Back Sheet의 생산능력을 확대하고 있어 향후에는 이들 제품의 수입의존도도 낮아질 전망임\n",
      "\n",
      "시장동향 과학기술일자리진흥원\n",
      "NSF의 CAVE : 신뢰성, 견고성 및 가격을 고려한 자동차 전장 제품 개발을 위한 새로운 기술 연구, Intel, Sun, NASA, Nissan 등 IT 업체, 자동차 완성차 업체, 정부출연기관, 대학 등 24개 기관이 멤버로 참여하고 있음MS는 Windows 환경을 인텔 등이 제공하는 멀티코어 칩을 위한 플랫폼으로 확장을 구상 중에 있음IBM ASF Solution  자동차 전장용 임베디드 SW 개발에 있어서 임베디드 시스템 및 SW 설계, 통합, 테스트, 적용 등의 단계에서 필요한 개발 프 로세스와 개발 도구들을 제공하는 통합 개발 환경 지원 Mentor Graphics사 제품군 :임베디드 시스템, 실시간 운영체제, 미들웨어, 통합 개발 도구, UML 도구, 설계/시뮬레이션 도구 등 시험/시뮬레이션/검증 솔루션 테스트 기반 설계 솔루션 전장 시스템 배선 설계/시뮬레이션 솔루션 차량 네트워크 설계/검증 도구 유럽BOSCH의 자회사인 Blupunkt에서는 듀얼 아키텍처 구조의 운전자 정보 시스템 단말에서 차량의 운행과 관계있는 응용과 그렇지 않은 응용을 각각 두 아키텍처 부분으로 나누어서 분산 시키는 프로젝트를 컴포넌트 기반의 개발 방법론으로 수행하여, 듀얼 아키텍처를 지원하는 차량용 운영체제를 개발하여 적용함 ITEA 2의 프로젝트 EAST-EEA, SW와 HW의 상호 작용을 위한 개방형 미들웨어 아키텍처를 정의함으로써 자동차 전장 시스템의 효과적인 통합을 지원함으로 써 유럽 자동차 업체의 경쟁력을 강화함AUTOSAR와 EU Framework 6 프로젝트인 EASIS의 토대가 되며, 자동차 완성차 업체, SW 공학 도구 및 미들웨어 개발 업체 등이 공동으로 참여하였음\n",
      "\n",
      "시장동향 과학기술일자리진흥원\n",
      "이러한 세부시장 전망은 소프트웨어 시장규모를 높은 순위에 두었던 IDC, Gartner 등의 전 세계 시장 전망과 차이가 있는데, 이러한 결과는 상대적으로 소프트웨어 부문이 취약한 우리나라 현실을 반영한 결과로 볼 수 있음 국외 및 전망 빅데이터 시장은 기관별로 분석대상 세부 시장에 차이가 있어 직접 비교는 어려우나, 향후 5~6년간 빅데이터 관련 시장이 급속히 성장할 것으로 전망한다는 점에서는 의견을 같이 하는데, 이러한 낙관적 전망은 이 기간 동안 데이터 사용량이 지속적으로 증가함에 따라 부수적으로 생성되는 데이터를 수집, 저장, 분석하는 빅데이터 관련 거래도 증가할 것이라는 예상에 근거함 기관별 전망치를 살펴보면, 우선, IDC(201는 빅데이터 관련 시장 규모가 2011년 47억 달러에서 2015년 169억 달러까지 성장할 것으로 전망하였는데, 특히 IDC는 100TB 이상 데이터 수집, 초고속 스트리밍을 통한 데이터 수신, 매년 60% 이상의 데이터 생산 증가 등 빅데이터 특징으로 인하여 기존 스토리지, 서버, 네트워크, 소프트웨어, 분석서비스 시장에 이전과 다른 성장 모멘텀이 등장할 것으로 전망함 세부 시장규모는 2015년 기준으로 서비스, 소프트웨어, 스토리지, 서버, 네트워크 순이며, 2011년에서 2015년까지 평균 성장률은 스토리지 64%, 네트워킹 44%, 서비스 39.5%, SW 34.2%, 서버 27.3%로 예측하였 스토리지, 네트워킹 등 하드웨어 기반이 뒷받침된 후 빅데이터 서비스가 단계적으로 활성화될 전망임 Gartner(201는 빅데이터 관련 IT 시장 지출규모를 통해 빅데이터 시장규모를 전망하였는데, Gartner의 IT서비스 지출 전망치에는 관련 기업용 SW 개발 지출, 소셜미디어 분석 지출, 내외부 빅데이터 전문인력 고용 등이 포함되었음\n",
      "\n",
      "시장동향 과학기술일자리진흥원\n",
      "Gartner는 전 세계 빅데이터 IT시장 지출 규모가 2011년 270억 달러에서 2016년 540억 달러로 5년간 약 2배 증가할 것으로 전망하였음 마지막으로 가장 최근 빅데이터 시장 전망을 발표한 Wikibon(2013. 은 2011년 72억 달러 시장이었던 빅데이터 시장이 2017년 478억 달러까지 성장 할 것이라고 전망하였음 앞선 바와 같이, 빅데이터 관련 세부 시장 중에서 매출 비중이나 성장률 측면에서 서비스 부문이 가장 중요한 비중을 차지하고 있음 시장경쟁상황 빅데이터 시장 선점을 위해 주요 SI 및 솔루션 업체의 기술 및 솔루션 개발 노력이 지속적으로 진행되어 왔으며, 2011년까지는 기술개발을 위한 관련 업체 인수.합병 및 제휴가 활발히 진행, 2012년부터는 관련 솔루션과 서비스가 본격적으로 출시되고 있음 시장진입가능성 국내 빅데이터 시장은 2012년 초부터 컴퓨팅 분야 다국적기업인 한국IBM, 한국HP 및 한국오라클 등을 중심으로 본격적으로 개화되었는데, 이들 3사는 공통적으로 국내 기업들의 빅데이터 이슈에 적극적인 대응을 강조하면서 수요를 촉발하고 있으며, 이에 분석능력, 컨설팅, 어플라이언스 및 검색 등 각 사의 강점에 따른 접근방법을 제시하고 있음 빅데이터 분석 솔루션 도입 시 이러한 마케팅 전략을 충분히 고려한 뒤 적합한 솔루션을 선택하는 것이 중요하며, 빅데이터 시장에 진입하고자 하는 업체의 경우에도 이러한 Market Player의 마케팅 전략에 대응할 수 있는 비즈니스 모델 발굴이 중요함 컴퓨팅 분야 글로벌 메이저 기업들이 모두 2012년 초부터 빅데이터 분석기술을 화두로 내세우고 시장 창출에 주력하고 있으며, 이에 따라 먼저 내세울만한 레퍼런스를 확보하고 효과를 제시하는 기업이 초기 빅데이터 시장 선점 기회를 확보할 수 있을 것으로 보임 이는 빅데이터가 차세대 ICT 산업을 견인할 핵심동력으로 주목받는 가장 주된 요인이 기존의 데이터 처리 기술과 차별화된 대용량 데이터의 새로운 분석과 추론을 통해 새로운 서비스를 개발할 수 있는 가능성을 제공하고 있기 때문인 것으로 판단됨\n",
      "\n",
      "시장동향 과학기술일자리진흥원\n",
      "약물전달시스템 중에서도 표적 지향적 약물전달이 가장 많은 비중을 차지하고 있으며 2014년에는 약 800억 달러의 시장을 형성할 것으로 전망됨 의료비용의 증가로 인해 대체 약물전달기술에 대한 필요성이 지속적으로 증가하고 있음  약물전달산업은 제약 산업의 그늘에서 새롭게 떠오르고 있는 시장으로 메디컬 시장의 성장 및 바이오 제약 업계에 영향력 있는 요인으로 작용하고 있음 또한 바이오와 제약 업계의 인식 전환으로 약물 전달 기술은 제네릭 의약품에 의한 시장 잠식으로부터 기존의 제품을 보호하기 위한 방법으로 적극 활용되고 있음 지난 10여 년 간 약물 전달 산업은 제약 제품 부가가치의 개발에서 발전되어 왔으며, 제약사들은 약물 전달 기술을 약물 효율성 촉진, 제품 라이프사이클 확장, 매출 증대로 점차 전환했음 매우 복잡한 시장에서 많은 기술들이 더 우수한 전달 시스템을 생산하기 위해 결합돼 전문화된 적용을 하는 틈새 시장이 창출됐으며 서방형 방출에서 리포좀, 폴리머 등의 사용은 경구/주사 약물 전달 시장에서 좋은 사례임 프로드럭, 페기레이션, 분자, 리포좀은 중요한 새로운 시장이 되고 있음10) 모든 약물 전달 제품 중에서 모노클로널 항체는 가장 큰 시장으로 2008년 359억달러를 기록했으며 서방형, 경구 제품은 2번째 시장으로 작년 351억달러 규모에 달했음1 선진 제약기업의 R&D 예산에서 DDS관련 연구에 투자되는 약 15%의 연구비 중에서 경구투여 제품 47%, 폐흡입식 제형 16%, 경피흡수 제형 11%, 피하 또는 근육을 통한 흡수 제형이 11%로 나타나 DDS관련 연구가 전반적으로 큰 비중을 차지하고 있는 것으로 나타남1 미국 및 유럽 등 선진국에서 난용성 약물의 가용화 기술을 개발하는 대표적인 제제개발 전문회사로 Alza사, Euland사, Knoll사, Gatteposse사, R.P. Scherer사, Ethypharm사, Emisphere사 등이 있으며 이들 회사들은 주로 특화된 가용화기술제품을 개발하고 있음\n",
      "\n",
      "시장동향 과학기술일자리진흥원\n",
      "골다공증 주요 국가의 2010년 시장 규모는 66억 달러에 달하며, 2020년까지 CAGR 3.3%로 성장하여 92억 달러의 시장을 형성할 것으로 예측됨 2010년 기준 전체 시장의 51%는 미국이 점유하며 그 뒤를 이어 일본 22%, 스페인 8%를 점유하고 있음 골다공증 치료제는 다음과 같이 bisphosph osteoporosis, calcium, vitamin D, bone calcium regulator, serms, parathyroid horm and analogs, oestrog ex g3a,g3e,g3f, oestrogen and progestogen, calcitonins 등으로 분류될 수 있음 전체 치료제 분류 중 bisphosph osteoporosis가 전체의 58%를 점유하고, 그 뒤를 이어 serms, parathyroid horm and analogs가 각각 12%, 11%를 점유하고 있음 골다공증 치료제 중 58%를 점유하고 있는 bisphosph osteoporosis는 alendronic acid, risedronic acid, ibandronic acid, zoledronic acid, etidronic acid, calcium, colecalciferol, minodronic acid 등을 포함하나 연평균 조금씩 감소하는 추세임 Vitamin D와 bone calcium regulator는 2010년 전체 시장의 5%, 4%를 차지하나, 2020년까지 vitamin D는 연평균 3.2% 성장하여 전체 시장의 7%를 점유하고, bone calcium regulator는 16%로 성장하여 전체 시장의 12%를 점유할 것으로 예측됨\n",
      "\n",
      "시장동향 과학기술일자리진흥원\n",
      "본 기술은 박테리아 DNA 유래 신규 면역조절물질의 면역증강제 효능 평가에 관한 것으로서 약물전달시스템 시장에 활용 가능함 세계의 첨단 약물전달시스템 시장은 CAGR 5%로 성장하여 2011년과 2016년 각각 1,379억 달러, 1,756억 달러를 기록할 것으로 예측됨 세계 시장은 크게 미국, 유럽과 기타 지역으로 나뉘며 아래 표를 통해 각 시장 규모 및 예측 데이터를 확인할 수 있음 미국 시장은 2011년 816억 달러에서 2016년 1,026억 달러 규모로 연 4.7%성장이 예상되며, 2011년 375억 달러를 형성한 유럽 시장은 연 5.6% 성장하여 2016년 491억 달러 규모로 예측됨 나머지 국가들은 2011년 188억 달러에서 2016년 238억 달러로 연 4,8% 증가를 예상하고 있음 약물전달시스템 중에서도 표적 지향적 약물전달이 가장 많은 비중을 차지하고 있으며 2014년에는 약 800억 달러의 시장을 형성할 것으로 전망됨 의료비용의 증가로 인해 대체 약물전달기술에 대한 필요성이 지속적으로 증가하고 있음 약물전달산업은 제약 산업의 그늘에서 새롭게 떠오르고 있는 시장으로 메디컬 시장의 성장 및 바이오 제약 업계에 영향력 있는 요인으로 작용하고 있음 또한 바이오와 제약 업계의 인식 전환으로 약물 전달 기술은 제네릭 의약품에 의한 시장 잠식으로부터 기존의 제품을 보호하기 위한 방법으로 적극 활용되고 있음10) 지난 10여 년 간 약물 전달 산업은 제약 제품 부가가치의 개발에서 발전되어 왔으며, 제약사들은 약물 전달 기술을 약물 효율성 촉진, 제품 라이프사이클 확장, 매출 증대로 점차 전환했음1 매우 복잡한 시장에서 많은 기술들이 더 우수한 전달 시스템을 생산하기 위해 결합돼 전문화된 적용을 하는 틈새 시장이 창출됐으며 서방형 방출에서 리포좀, 폴리머 등의 사용은 경구/주사 약물 전달 시장에서 좋은 사례임1 프로그럭, 페기레이션, 분자, 리포좀은 중요한 새로운 시장이 되고 있음1 모든 약물 전달 제품 중에서 모노클로널 항체는 가장 큰 시장으로 2008년 359억달러를 기록했으며 서방형, 경구 제품은 2번째 시장으로 작년 351억달러 규모에 달했음1 선진 제약기업의 R&D 예산에서 DDS관련 연구에 투자되는 약 15%의 연구비 중에서 경구투여 제품 47%, 폐흡입식 제형 16%, 경피흡수 제형 11%, 피하 또는 근육을 통한 흡수 제형이 11%로 나타나 DDS관련 연구가 전반적으로 큰 비중을 차지하고 있는 것으로 나타남1 미국 및 유럽 등 선진국에서 난용성 약물의 가용화 기술을 개발하는 대표적인 제제개발 전문회사로 Alza사, Euland사, Knoll사, Gatteposse사, R.P. Scherer사, Ethypharm사, Emisphere사 등이 있으며 이들 회사들은 주로 특화된 가용화기술제품을 개발하고 있음\n",
      "\n",
      "시장동향 과학기술일자리진흥원\n",
      "해외 시장동향 ICH에서는 일반약리 평가에 필요한 총체적 기술에 대한 국제적 통합규정인 ICH S7A, 유럽, 일본에서는 최근 ICH 규정에 충실한 GLP 시험자료를 요구하고 있어 이들 시험을 국제적 가이드라인에 맞추어 시험할 준비가 되어있는 해외 다국적 CR회사들의 역할이 부각되고 있음 이러한 세계적인 추세에 따라 2003년 미국 독성학회에는 약 4050여개의 해외 CR기관들이 대거 참여하여 최근 issue가 되고 있는 심장독성, 즉 QT-prolongation 평가분야에서 본격적인 영업을 하고 있었고 전세계적인 높은 관심사를 확인할 수 있었음 국내 시장동향 국내에서는 미국, 유럽, 일본등 선진국에서와 마찬가지로 그동안 일반약리 시험을 산발적으로 수행하는 정도로써 주로 의대, 약대 및 제약산업체 연구소에서 자체 물질에 대한 약리평가를 하고 있으나 최근에 발표된 ICH 규정에 준하는 기술수준을 확보하고 있는 곳은 국내에는 전무한 실정임 최근 들어 국내에도 소규모의 민간운영의 독성시험 회사들이 설립되어 영업을 시작하였으나 아직 그 수준은 해외 다국적 CR회사들과 비교가 되지 못하고 있음 본 연구실은 1990년부터 그동안 G7과제를 통하여 국제수준의 GLP 일반약리 평가기술에 필요한 행동관찰, 자발운동량, 학습, 기억능력측정 등 중추신경계 작용과, 혈압, 심박동수, 심전도 측정에 의한 심장순환계 작용, 호흡량, 호흡수 측정에 의한 호흡기계 작용, 기타 뇨분석, 반사기관, 위장기능에 대한 시험기술, 시설, 장비를 갖추었음 시장전망 기술 수준을 선진국 수준으로 개발하고 본 연구실에서 지금까지 축적해온 기본 기술과 데이터를 활용하고 선진외국기관 교류를 통한 전문인력 교육과 공동연구에 투자할 경우 5년 후에는 선진국 수준에 도달할 것이 확실시 됨 이렇게 개발된 선진국 수준의 평가체계는 국내에서 생산된 일반약리 평가자료가 선진제약 허가관청인 미국, 유럽, 일본에서 인증을 받을 것이 예상됨\n",
      "\n",
      "시장동향 과학기술일자리진흥원\n",
      "3D 프린팅 기술에 대한 기대감은 각종 조사 기관의 전망에서도 확인. 조사기관인 가     트너는 3D 프린터 산업이 2012~2016년 연평균 16.8%씩 성장할 것이라고 전망. 맥     킨지의 2013 글로벌 보고서에 따르면 3D 프린터는 2025년 4조 달러의 시장을 형성할 것으로 예상   미국 등 선진국들은 자신들의 강점인 연구·개발 역량을 중심으로 3D 프린팅      기술을 발전시켜 자국의 제조업 부흥을 이끌어 나가는 동시에 기업들의 U턴을 촉진,     자국 내 일자리를 창출할 계획. 특히 노동력의 비중이 큰 산업보다 기술집약적인 산업에 주력할 전망. 일례로 미국의 비행기 제조업체인 보잉에선 복잡한 형상의 부품을 만드는 데 3D 프린터를 사용. 이런 경향이 지속되면 중국과 같은 세계의 공장뿐만 아니라 한국과 같은 중간재를 생산하는 국가들도 위험해질 것으로 전망.       R&D 능력과 원료만 확보할 수 있다면 부품의 제작 자체가 필요성이 없기 때문에     장기적인 관점에서 3D 프린팅 기술은 국가 간 무역수지에도 영향을 미침. 선진국에     서도 생산 공정이 점차 자동화·고도화되면서 자국에서 생산하는 비용이 아웃소싱하     는 것보다 저렴해질 수 있기 때문. 이에 따라 시장조사 기관 트랜스포트 인텔리전스     는 3D 프린팅과 같은 차세대 생산기술이 오늘날 생산과 소비가 분리됐던 글로벌화     를 역으로 돌려놓는 계기가 될 수 있다고 전망   소수의 산업, 연구기관에서 사용되었던 응용분야가 교육, 여가, 제조업 생산에 이르     기까지의 다양성으로 3D 프린팅으로 제작된 생산물들의 가치와 3D 디자인을 비롯해     제작 환경을 위한 부가 서비스 시장은 다양한 사업자의 등장으로 활성화 예상으로      3D 프린팅 관련 2차 서비스 시장으로 활성화 될 수 있고 대기업의 진출 및 개인용     3D 프린터 보급 확산으로 3D 프린터 제조 시장 성장률 지속 상승을 예상\n",
      "\n",
      "시장동향 과학기술일자리진흥원\n",
      "화학 제조 분야 시장규모는 가장 가파른 성장세를 보이는데, 2014년에 4천3백만 달러에서 연평균 성장률 13.2 %로 2019년에는 8천만 달러까지 성장할 것으로 예측됨 의료 분야와 제약분야는 5년 사이 각각 연평균 성장률 12 %, 16 %로 규모가 2배 성장할 것으로 예측됨 액체분주기를 통해 과거의 노동 집약적인 일의 방식에서 자동화 시스템으로 변모할 수 있기 때문에 액체 분주기의 시장은 계속 증가할 것이라 예측됨 지역별 대륙별 액체 분주기의 시장 규모를 살펴보면 2014년 기준 북아메리카에서 6.9억 달러 규모로 전체 시장의 35.3 %를 차지하며 가장 큰 시장 규모를 형성하고 있으며 이러한 경향성은 2019년까지 6.85 %의 연평균 성장률로, 10.9억 달러까지 성장할 것으로 예상됨 북아메리카의 시장 규모는 2012년에 6.9억 달러에서 2019년에 10.9억 달러로, 158 % 증가 할 것으로 예상되나, 전체 시장에서 차지하는 비율은 35.3 %에서 34 %로 감소할 것으로 보이는데 이는 다른 대륙에서 더욱 큰 폭으로 시장 규모가 증가했다는 것을 의미함 4개의 대륙에서 공통적으로 생명공학, 제약, 학문 분야의 규모가 가장 크며, 연도별 시장규모는 2012년에는 5억6천만 달러, 4억천만 달러, 3억2천만 달러, 2013년에는 6억 달러, 4억6천만 달러, 3억3천만 달러의 시장규모를, 2014년에는 6억5천만 달러, 4억9천만 달러, 3억3천만 달러의 규모를 기록함 학문분야는 2014년까지는 세 번째로 큰 시장규모를 가지고 있으나 성장세가 하락함에 따라 2019년에는 의료분야가 5억4천 달러에 해당하는 세 번째로 큰 시장규모가 될 것으로 예상됨 각 대륙별 연평균 성장률은 북아메리카에서 제조, 제약, 의료, 유럽에서 법의학, 제조, 의료, 아시아에서 환경화학, 제조, 제약, 라틴 아메리카에서 환경화학, 제약, 식품분야에서 가장 높은 값을 나타냄 대륙별 연도별 액체분주기 시장 규모의 증가 추이를 살펴보면 아시아가 가장 큰 폭으로 규모가 증가하고 있으므로, 2019년 까지도 연평균 성장률 10.58 %로 8.3억 규모까지 성장할 것으로 예상됨\n",
      "\n",
      "시장동향 과학기술일자리진흥원\n",
      "비천연 아미노산 및 그 유도체의 글로벌 시장은 2018년 약 150.0십억 달러, 2024년에는 약 316십억 달러로 연평균 성장률 14.48% 성장 할 것으로 예측됨 이 중 D-아미노산 시장의 경우 2018년 약 8.1십억 달러, 17.9십억 달러로 연평균성장률 15.78%로 성장할 것으로 예상되고 있음 비천연 아미노산은 바이오 산업의 핵심 소재이므로, 바이오 산업의 특성상 전 후방 산업에 대한 파급 효과가 매우 클 수 있음 연관 사업인 의약, 정밀화학 및 연구개발 시약업계는 경기변동에 민감하지 않은 시장으로, 국민 소득의 증가, 건강에 대한 관심 증가, 인구의 고령화 등을 기반으로 한 안정적인 수요 기반 활보로 고성장 중이며 향후에도 이러한 추세가 지속될 예정임 실제로 비천연 아미노산 시장수요의 많은 부분이 연구개발 및 제약 분야에 집중되어 있어 본 연구개발 성과가 가시화될 경우 새로운 산업영역의 창출 등을 통한 지속적 수요 증가가 기대됨 비천연 아미노산의 단백질 도입은 기존 20가지 아미노산만으로 단백질을 합성하는 것을 넘어서 새로운 아미노산을 도입함으로써 단백질의 기능 및 특성 영역을 획기적으로 넓힐 수 있어 단백질 구조분석 및 보완, 의료 및 농업 분야 등 다양한 분야에 응용되고 있음 원하는 위치에 적당한 비천연 아미노산을 도입한 탐침 단백질을 통해 단백질의 구조와, 나아가 그 단백질과 결합하는 다른 단백질의 구조 등을 분석할 수 있음 특정 효소의 아미노산을 치환하여 효율을 개선하거나 단백질 사슬 간 결합력을 강화해 온도나 pH에 강한 단백질을 합성하는 등 새로운 아미노산을 도입하여 기존 단백질의 기능을 강화하거나 새로운 단백질을 도입할 수 있음 면역 반응을 유발하지 않았던 단백질에 항원성을 부여하여 면역 반응을 유도하는 방법으로 항암치료법 등에 응용이 가능함10) 작물의 생존에 핵심적인 단백질 몇 종에 일반 아미노산 대신 비천연 아미노산이 들어가도록 유전자를 조작하고 경작지에서만 이 아미노산을 공급하여 유전자 조작 작물의 생태계 교란을 방지할 수 있음\n",
      "\n",
      "시장동향 과학기술일자리진흥원\n",
      "시장전망 세계 CCS 시장은 2011년 119억 달러에서 2021년 243억 달러에 달할 것으로 전망. 미국 CCS 기술 시장의 2011~2021 전 기간의 연평균성장률은 8%로, 유럽에 이어 높은 성장률을 보일 것으로 예측됨   국내 CCS 시장은 2011년 5억 달러에서 연평균 성장률 7.7%로 2021년 5.1억 달러로 성장할 것으로 전망함    현재 세계 이산화탄소 시장의 수요량은 연간 8천만 톤으로 추정되고 있으며, 이산화탄소 시장의 종류와 규모는 과반 이상인 5천만 톤이 원유회수증진에 사용되고 있으며, 대부분은 미국과 캐나다에서 사용됨 EOR, Urea 생산과 같은 CO활용 기술 개발 프로젝트가 이루어질 경우, 현재 형성 시장 기준으로 2020년에는 C연간 수요량이 약 1억4천만 톤에 이를 것으로 예상 업계동향 광물탄산화 사업의 생물학적 고정기술은 국내에서 최근에 연구가 시작된 분야로 이산화탄소 및 중금속 고정능력 향상을 위한 신기술 개발 포텐셜이 높으며, 이산화탄소 및 중금속 저장 원천 및 혁신기술에 대한 시장요구가 증가되고 있음 BT을 이용하여 탄산염광물의 형성에 따른 이산화탄소 및 중금속 고정능력 향상 연구는 국내 외적으로 매우 초기단계에 있다고 볼 수 있기 때문에 신기술 개발 포텐셜이 높으며, 기술 상용화 성공 시 막대한 경제적 이익 창출이 예상됨 현재까지 국내 광물탄산화기술은 주로 이산화탄소 포집기술에 주력해 왔으나, 향후엔 방사성 물질을 포함한 다양한 중금속 물질 고정기술 실용화를 위하여 미생물학적 특성에 근거한 저장능력 향상을 위한 기술의 개발이 필요 할 것으로 예상  국내 광물탄산화기술 기술은 주로 이산화탄소 포집기술에 주력해 왔으나, 향후엔 방사성 물질을 포함한 다양한 중금속 물질 고정시 이산화탄소-중금속-미생물 상호작용에 관한 기초연구를 위한 바이오 기술의 개발이 요구\n",
      "\n",
      "시장동향 과학기술일자리진흥원\n",
      "이물 제거 장치 및 방법이 적용가능한 반도체 장비 시장을 대상으로 시장규모를 예상함 현재 세계 반도체 시장은 시기별로 난항을 겪었지만 글로벌 경제의 규모 확대와 산업 고도화에 따라 꾸준히 성장해 왔으며 2000년대 휴대폰을 비롯한 모바일 기기가 성장을 이끌면서 시장규모는 2000년 2,206억 달러에서 2010년 3,114억 달러까지 확대되었음 글로벌 시장조사업체 IHS에 따르면 2016년 세계 반도체 시장규모는 2015년 보다 7% 성장한 3,586억 달러, 약 429조 4,235억 원으로 추산되며 주기적인 경기변동에 영향을 받는 사업 특성상 2016년에는 약간의 마이너스 성장이 예상되지만, 2017년에는 업체들의 공급이 안정화되면서 메모리 시장이 3.2% 성장하고 전체 반도체 시장 성장률도 9%로 높아질 것으로 예상됨 특히, 국제반도체 장비재료협회에서 발표한 반도체 장비시장 규모와 나라별 매출은 다음과 같으며, 2014년 기준 약 380억 달러의 장비시장 규모를 형성하고 있고, 2015년 기준 약 440억 달러의 장비시장을 형성하고 있으며, 2016년에도 2015년과 비슷한 수준을 유지할 것으로 예측됨 국내의 경우, 2013년 50억 달러의 장비시장을 형성하고 있고, 2014년 60억 달러 2015년 80억 달러로 예측되었으며 2016년에는 90억 달러의 시장을 형성할 것으로 기대됨 또한, 반도체 세정공정이 반도체 장비 시장의 5%를 차지하고 있고, 시장조사업체 가트너에 따르면 2012년도 반도체 세정장비 시장은 세정장비 25억 1200만 달러, 감광액 처리 장비 16억 1800만 달러, 이온주입 장비 10억 3330만 달러, 확산 장비 9억 700만 달러, CMP 장비가 7억 8300만 달러 수준의 시장 규모를 형성할 것으로 예상했으며 차세대 반도체 핵심인 미세기술 개발의 핵심공정에 적용될 장비임으로 향후 반도체 세정장비의 비중이 계속 높아질 것으로 예측됨\n",
      "\n",
      "시장동향 과학기술일자리진흥원\n",
      "대상기술은 롤-투-롤 CVD 기술을 통한 그래핀 대량 합성 그리고 그래핀 고품질화, 도핑기술 확보 등에 따른 전극소재로서의 그래핀 특성 확보 등 그래핀 기반 터치스크린패널 사업화를 위한 산업적 밸류체인 이 완성 단계에 있 그래핀 기반 터치스크린패널의 핵심 공정 중의 하나인 양산 개념의 패턴/전사 기술과 장비 개발이 완료된다면, 기존 ITO의 원료인 인듐의 가격 변동 및 자원 무기화로 인한 수급불안 가능성을 배제하며 가격경쟁력을 확보할 것으로 기대된 인듐 가격:   87   1,489   640   525   535  또한, IT혹은 실버 나노와이어 등 투명전극으로 적용하고 있거나 적용을 고려중인 소재들은 유연 디스플레이에 적용된 유연 터치스크린패널에서 신뢰성의 문제가 발생하고 있 IT전극은 산화물로 fracture strain이 0.58~15%에 불과하여 유연디스플레이 적용에 한계가 있으나, 그래핀은 15% 이상으로 유연 디스플레이 전극 적용이 유망하 이와 같이 그래핀은 우수한 기계적 특성을 가지고 있어서 유연 소자에서 우수한 신뢰성이 검증되어 있어서 유연 디스플레이 산업에서 투명전극으로 적용 가능성이 크  특히,  터치패널의 핵심 소재인 IT투명전극 필름은 일본에 의존하고 있어 국내 터치패널 산업 경쟁력 제고에 어려움, 특히, 정전용량형 터치패널에 적용되는 고사양 투명전극의 경우 일본의 니토덴코에 대부분  의존하고 있는 실정이  2012년 186억 달러에서 연평균 26%의 고 성장으로 2016년 387억 달러 시장이 예측되는 전체 터치패널 시장 중, 특히나 G1, G2 등 커버글래스 일체형 솔루션이 전체 터치스크린패널용 IT글래스 시장의 60% 이상을 차지할 것으로 기대되고 있 하지만, 터치패널 산업에서 국내 기업들의 경쟁력은 일본, 대만보다 열악하며, 2010년 시장 점유율은 매출 기준 6.7%에 불과하여, 디스플레이, 휴대폰 세계 점유율 대비 열악한 수준이   따라서, ITO에 비해 공정 단계를 줄일 수 있는 신규 소재인 그래핀을 적용하고 그래핀 패턴을 위한 신규 장비와 공정 개발에 대한 기술 선점을 통해 터치패널 산업의 시장 점유율을 높일 수 있을 것으로 기대된\n",
      "\n",
      "시장동향 과학기술일자리진흥원\n",
      "대상기술은 롤-투-롤 CVD 기술을 통한 그래핀 대량 합성 그리고 그래핀 고품질화, 도핑기술 확보 등에 따른 전극소재로서의 그래핀 특성 확보 등 그래핀 기반 터치스크린패널 사업화를 위한 산업적 밸류체인 이 완성 단계에 있 그래핀 기반 터치스크린패널의 핵심 공정 중의 하나인 양산 개념의 패턴/전사 기술과 장비 개발이 완료된다면, 기존 ITO의 원료인 인듐의 가격 변동 및 자원 무기화로 인한 수급불안 가능성을 배제하며 가격경쟁력을 확보할 것으로 기대된 인듐 가격:  87   1,489   640   525   535  또한, IT혹은 실버 나노와이어 등 투명전극으로 적용하고 있거나 적용을 고려중인 소재들은 유연 디스플레이에 적용된 유연 터치스크린패널에서 신뢰성의 문제가 발생하고 있 IT전극은 산화물로 fracture strain이 0.58~15%에 불과하여 유연디스플레이 적용에 한계가 있으나, 그래핀은 15% 이상으로 유연 디스플레이 전극 적용이 유망하 이와 같이 그래핀은 우수한 기계적 특성을 가지고 있어서 유연 소자에서 우수한 신뢰성이 검증되어 있어서 유연 디스플레이 산업에서 투명전극으로 적용 가능성이 크 특히,  터치패널의 핵심 소재인 IT투명전극 필름은 일본에 의존하고 있어 국내 터치패널 산업 경쟁력 제고에 어려움, 특히, 정전용량형 터치패널에 적용되는 고사양 투명전극의 경우 일본의 니토덴코에 대부분  의존하고 있는 실정이 2012년 186억 달러에서 연평균 26%의 고 성장으로 2016년 387억 달러 시장이 예측되는 전체 터치패널 시장 중, 특히나 G1, G2 등 커버글래스 일체형 솔루션이 전체 터치스크린패널용 IT글래스 시장의 60% 이상을 차지할 것으로 기대되고 있 하지만, 터치패널 산업에서 국내 기업들의 경쟁력은 일본, 대만보다 열악하며, 2010년 시장 점유율은 매출 기준 6.7%에 불과하여, 디스플레이, 휴대폰 세계 점유율 대비 열악한 수준이  따라서, ITO에 비해 공정 단계를 줄일 수 있는 신규 소재인 그래핀을 적용하고 그래핀 패턴을 위한 신규 장비와 공정 개발에 대한 기술 선점을 통해 터치패널 산업의 시장 점유율을 높일 수 있을 것으로 기대된\n",
      "\n",
      "시장동향 과학기술일자리진흥원\n",
      "비천연 아미노산 및 그 유도체의 글로벌 시장은 2018년 약 150.0십억 달러, 2024년에는 약 316십억 달러로 연평균 성장률 14.48% 성장 할 것으로 예측됨 이 중 D-아미노산 시장의 경우 2018년 약 8.1십억 달러, 17.9십억 달러로 연평균성장률 15.78%로 성장할 것으로 예상되고 있음 비천연 아미노산은 바이오 산업의 핵심 소재이므로, 바이오 산업의 특성상 전 후방 산업에 대한 파급 효과가 매우 클 수 있음 연관 사업인 의약, 정밀화학 및 연구개발 시약업계는 경기변동에 민감하지 않은 시장으로, 국민 소득의 증가, 건강에 대한 관심 증가, 인구의 고령화 등을 기반으로 한 안정적인 수요 기반 활보로 고성장 중이며 향후에도 이러한 추세가 지속될 예정임 실제로 비천연 아미노산 시장수요의 많은 부분이 연구개발 및 제약 분야에 집중되어 있어 본 연구개발 성과가 가시화될 경우 새로운 산업영역의 창출 등을 통한 지속적 수요 증가가 기대됨 비천연 아미노산의 단백질 도입은 기존 20가지 아미노산만으로 단백질을 합성하는 것을 넘어서 새로운 아미노산을 도입함으로써 단백질의 기능 및 특성 영역을 획기적으로 넓힐 수 있어 단백질 구조분석 및 보완, 의료 및 농업 분야 등 다양한 분야에 응용되고 있음 원하는 위치에 적당한 비천연 아미노산을 도입한 탐침 단백질을 통해 단백질의 구조와, 나아가 그 단백질과 결합하는 다른 단백질의 구조 등을 분석할 수 있음 특정 효소의 아미노산을 치환하여 효율을 개선하거나 단백질 사슬 간 결합력을 강화해 온도나 pH에 강한 단백질을 합성하는 등 새로운 아미노산을 도입하여 기존 단백질의 기능을 강화하거나 새로운 단백질을 도입할 수 있음 면역 반응을 유발하지 않았던 단백질에 항원성을 부여하여 면역 반응을 유도하는 방법으로 항암치료법 등에 응용이 가능함 작물의 생존에 핵심적인 단백질 몇 종에 일반 아미노산 대신 비천연 아미노산이 들어가도록 유전자를 조작하고 경작지에서만 이 아미노산을 공급하여 유전자 조작 작물의 생태계 교란을 방지할 수 있음\n",
      "\n",
      "시장동향 과학기술일자리진흥원\n",
      "관련기술의 시장현황 및 규모 전 세계 BSD 카메라 시장은 2016년 5억 6,620만 달러 규모에서 2020년 11억 3,920만 달러 규모로 성장할 전망 지역별 BSD 시장은 2015년 기준으로 북미 시장이 2억 4,050만 달러 규모로 가장 크고, 유럽시장, 아·태평양 시장, 기타 지역 시장 순으로 규모 형성 아·태평양 시장의 연평균 성장률은 16.0%로 북미 시장과 비슷한 수준의 빠른 성장률 전망 관련기술의 시장 경쟁 현황 차량지능화 기술 플레이어: Continental, Denso, Delphi Automotive, Robert Bosch, Valeo, Autoliv, WABCO, Mobileye, Magna, Infineon Technologies 차량용카메라 플레이어: Robert Bosch, Delphi, Valeo, Autoliv, Mobileye, Aei, OmniVision Technologies, Magna International, STONKAM 상용차 생산 플레이어: DongFeng Motor, Daimler Trucks, FAW, CNHTC, Volvo, Torch, Beijing Automotive Industry, Isuzu, MAN, Ashok Leyland, PACCAR, Toyota, Navistar, Ford, JAC motors, Iveco-Fiat, Scania-VolksWagen, 현대기아 자동차, TaTa-대우 자동차\n",
      "\n",
      "시장동향 과학기술일자리진흥원\n",
      "최근 우리나라 석유화학 산업이 많은 이윤을 창출하고 있고 아울러 정유 회사 및 석유화학 회사의 에틸렌 원료 물질 생산 설비 투자 가 활발하여 석유화학 르네상스 시대를 맞이하고 있고, 우리나라 석유화학 산업의 지속간응성을 위하여 석유화학 관련 연구 개발의 필요성이 급부상하고 있 폴리올레핀 업계의 경우 기존의 지글러 촉매를 균일계 메탈로센계 촉매로 대체하여 프리미엄 폴리올레핀 제품을 개발하는 것에 매진하고 있 LG 화학은 메탈로센 촉매로 30만톤 이상의 프리미엄 폴리올레핀 제품을 생산하여 시장을 선점하고 있 LG화학은 아주대와 컴소시엄을 구성하여 산업소재산업원천기술개발사업 제품을 생산 판매하고 있 2012년 POE 생산에 따른 Dow사와의 소송에서 승소함에 따라 20만톤/년 규모의 증설을 투자하여 2018년 완공을 앞두고 있 대학의 원천 연구 및 산업계의 긴밀한 협력이 성공의 원동력이었고분자의 수소화 반응 공정은 촉매 비용 및 공정운전 비용이 높아, SEBS 제조 단가가 기타 범용 수지 대비 4-5배로 상당히 높다. 높은 단가에도 불구하고 독특하고 우수한 물성으로 인하여 현재 약 30만톤/년 시장이 형성되어 있 높은 단가는 시장 확장에 한계로 작용하고 있고 따라서 단가가 기존 범용 수지 대비 낮아지면 그 시장은 폭발적으로 증가할 것으로 예측하고 있SBS나 SEBS를 포함한 스타이렌계 블록공중합체 시장에서 SEBS의 비중은 선진국에서 높은 경향을 보인 아래 그림을 보면, 지역별 SBC 시장에서 SEBS가 서유럽에서는 21%, 북미에 13%의 비중으로 사용되는 데 비해, 중국에서는 아직 6% 미만으로 사용되고 있 향후 중국에서도 선진국과 유사한 비중으로 성장할 것으로 예상하며, 현재 다른 나라보다 높은 10.1%의 CAGR을 유지하고 있 이와 같은 중국 시장의 성장은 SEOS 상업화를 준비하고 있는 LG화학에 좋은 기회가 될 것이\n",
      "\n",
      "시장동향 과학기술일자리진흥원\n",
      "또한 19명의 환자 중 7명은 권장량보다 더 자주 약물을 복용한 것으로 밝혀짐-그러나 미FDA는 나머지 환자 11명의 환자에 대해서 정확한 복용량을 복용하였고 Ocaliva 복용이 예상치 못한 간 손상과 관련이 있을 수 있다고 보고함-이 내용은 미국 간 질환 학회 에서 약물들에 대한 더 많은 데이터가 공개되었으며, Ocaliva 개발에 비추어 볼 때 안전성 수치가 가장 주목받을 것으로 예상됨-무엇보다도 Ocaliva 판매가 NASH 시장으로 진출 할 경우 최대 86 억 달러를 예측되고 있는 상황이어서 NASH 비 알코올성 지방 간염 치료제에 대한 승인거부로 인해 타 경쟁업체에 까지 영향을 미치는 것으로 알려짐-한 예로, Genfit은 elafibranor사가 2019년에 승인을 될 것으로 예상했지만 Ocaliva의 부작용이 발표된 후, FDA는 6 개월까지 3단계 임상 시험에 등록을 지연시킴-2 단계 임상 시험에서이 약물은 체중 감량의 1 차 평가 기준을 충족했지만 혈당 조절은 J & J의 기대에 실패했다고 Hanmi는 주장하고 1 월에 Eli Lilly와 BTK 억제제 거래를 잃고 2016 년에 Boehringer Ingelheim과 암 약물을 상실한 후 한미 약품은 지난주 Johnson & Johnson이 당뇨병 후보 HM12525A의 권리를 반환함-2019년 1 월에 2 개의 NASH 약물에 대해 길르앗 사이언스 와 $ 785 백만 계약을 체결 한 후 독일 제약 회사는 유한의 또다른 치료 후보소재 NASH를 위해 GLP-1과 FGF21의 이중 작용제를 선택하여 4 천만 달러를 선불로 지불하고 마일스톤 지불에서 최대 3 억 8 천만 달러로 계약함\n",
      "\n",
      "시장동향 과학기술일자리진흥원\n",
      "폴더블 스마트폰 기판,  OLED, 태양전지 유연기판근 한일간 갈등국면으로 일본이 수출금지 3대 품목 중의 하나로 지정하였듯이 투명폴리이미드 기술은 삼성, LG 등을 비롯한 한국은 물론이고 세계적인 스마트폰 제조사의 폴더블 스마트폰의 출시를 앞두고 가장 필수적인 소재의 하나로 주목받고 있 현재 미국 듀퐁사와 일본 스미토모 회사가 투명폴리이미드 핵심기술을 보유하고 있는 있는데 특히 최근에 일본의 대한 수출금지 3대 품목으로 지정된 스미토모화학의 불소화 투명폴리이미드는 삼성전자가 2018년 12월 국내기업과의 경쟁을 물리치고 삼성에 독점적으로 공급하기로 계약이 된 바 있어 삼성의 폴더블 폰 출시를 미뤄야할 정도로 어느정도 타격을 입히는 것으로 알려지고 있 우리나라에서는 코오롱인더스트리가 가장 앞선 기술을 보유하고 있는 것으로 알려져 있 부산대학교 하창식 교수팀은 코오롱인더스트리와 투명폴리이미드의 핵심 출발물질은 투명 다이안하아드라이드를 공동으로 개발하고 부산대 산학협력단과 공동으로 한국 및 미국 특허를 등록한 바 있 이러한 기술을 바탕으로  코오롱 인더스트리는 이미 투명폴리이미드필름이름을 고유 브랜드로 등록할 정도로 선두자이 2016년 CPI개발에 성공하여 보유특허가 가장 많은 것으로 알려져 있 2016년 투자를 시작한 경북 구미 생산공장에선 하반기부터 상업생산을 시작하였고  시장확대를 고려해 제2공장의 증설도 검토중인 것으로 보도되고 있 코오롱 인더스트리는 이미 폴더블 폰 제조사에 샘플을 제공해왔한편 SKC도 지난해 6월 19일 진천공장에서 SKC투명 PI 양산 및 가공 착공식을 갖고 CPI 투자를 본격화했지난해 12월 SKC하이테크앤마케팅과 함께 총 850억원을 CPI사업에 투자하기로 결정하고 장비를 발주하는 등 사업화를 준비중이 여기에 SK이노베이션도 CPI개발에 본격적으로 뛰어들고 있 특히 SKC이노베이션은 투명 PI필름과 함꼐 특수 하드코팅 기술도 함께 개발하여 코팅기술이 약한 코오롱인더스트리에 대응하여 더 완성도 높은 양산 체계를 구축할 예정이이로써 국내시장 경우, 코오롱인더스트리, SKC, 스미토모 화학, LG화학 5파전이 될 모양새이 LG화학도 폴더블폰용 투명 PI필음은 물론 관련 기술과 소재를 모두 확보하기 위해 투자를 단행할 예정이학문적인 입장에서도 일본 동경공대를 중심으로 투명폴리이미드 연구가 활발히 진행되고 있는데 우리나라에서는 한국화학연구원과 부산대학교 하창식 교수 연구팀이 가장 활발히 연구를 진행하여왔  현재 OLED 유연 기판 소재로 폴리이미드를 양산하고 제조하는 회사는 대표적으로 중국의 BOE, 한국의 SKC, KOLON industries, 일본의 스미토모가 있으며, 각각 유연 디스플레이기 기판으로 응용이 가능한 투명 폴리이미드 필름을 화웨이, 삼성, LG 등에 납품하고 있유연 디스플레이에 대한 고객의 요구와 다양한 형태로의 디스플레이 제작 등으로 OLED 유연 디스플레이 세계 시장은 현재 126,480만 달러에서 2020년에 248,335만 달러, 2021년에 333,498만 달러를 달성할 것으로 전망되고있 유연 디스플레이를 포함한 투명 폴리이미드는 다양한 산업 분야에 응용되고 있으며, 그림 8에 나타낸 것과 같이 2016년부터 폴더블 스마트폰, 디스플레이, 윈도우 등에 투명 폴리이미드가 적용되고 있으며, 2019년 현재까지 시장이 확대되고 있 이러한 성장 가능성을 고려했을 때 2022년에는 투명 폴리이미드의 세계 시장 규모는 1,457,704만 달러로 전망한\n",
      "\n",
      "시장동향 과학기술일자리진흥원\n",
      "본 기술은 다양한 광학기기에 활용 가능하므로 우선적으로 현재 시장 수요가 높은 카메라 및 현미경 시장을 중심으로 시장을 분석함 WinterGreen Research의  보고서(201에 따르면 렌즈 등 다양한 광학 부품을 포함하는 세계 광학 부품 시장은 2012년에 36억 달러에 달하고, 2019년까지 123억 달러에 달할 것으로 예측됨 최근 스마트기기의 보급 확산으로 렌즈의 수요 증가에 따라 휴대폰 및 차량용 카메라 렌즈를 생산하는 업체의 매출이 증가하고 있는 추세임 국내에서는 기술력 및 생산 능력을 갖춘 차바이오앤, 세코닉스, 코렌 등 소수의 업체 위주로 렌즈가 공급되고 있지만 세계 시장에서 휴대폰 카메라 렌즈 업체는 약 15~20개 정도로 추정되고 있음 세코닉스의 분석보고서(201에 따르면 2012년 기준 국내 휴대폰 카메라용 렌즈 시장에서 세코닉스는 점유율 14%를 차지한 국내 3위의 광학 렌즈 생산 업체임 세코닉스의 2012년 매출액은 1,473억 원으로 이 중 휴대폰 및 차량용 카메라를 위한 렌즈의 매출 비중이 높은 것으로 나타났음 SMIC reserch의 기업 분석 보고서(201에 따르면 세계 광학현미경 시장 규모는 약 20억 달러로 추정되고 있으며 매년 7~8% 정도의 증가율로 완만하게 성장할 것으로 예측되고 있음 세계 광학현미경 시장에서 한국 시장 규모는 1억 달러 이상으로 약 5% 정도를 차지하고 있는 것으로 분석됨 전 세계 GDP 중 한국이 차지하는 비율은 약 3% 정도로, 한국의 광학현미경 수요는 경제 규모에 비해 매우 큰 편이라 할 수 있음 광학현미경은 연구용뿐만 아니라 의료, 생명과학, IT 등 여러 산업의 전반에 이용되는데,  국내의 경우 IT산업에서 공정이 세밀해짐에 따라 그 이용이 점점 확대되고 있어 광학현미경 수요가 높은 것으로 예상됨\n",
      "\n",
      "시장동향 과학기술일자리진흥원\n",
      "해외  2 1 년 세계 반도체 제조장비의 시장규모는 2  9년에 비해 4.4% 증가한 485억 달러에 이른 것으로 나타나고 있으며, 지역별로는 일본이 1  억 달러로 가장 큰 것으로 나타남  국내  국내 장비/재료산업에서 검사 및 조립 등 후공정 장비는 국산화가 진행되고 있으며 시장 규모가 크고 첨단기술이 필요한 전공정 장비는 선진국의 기술이전 기피로 국산화가 미흡 한 실정 (SEMI, SEMI Announces Mid-Year Consensus Forcast, 2  7.  전체 반도체 설비투자 금액의 75%를 차지하고 있는 전 공정 장비시장에서 현재 상장되어 신소재 나노입자 합성장치 Device for nanparticle synthesis of new materials기술특징 고분자소재기술 _ 복합 기능재료 기술  본 발명은 levitation 기술과 플라즈마 증착기술을  응용한 것이 즉 기존의 leviation 기 술을 이용하여 증착소스를 공중부양후 vaporization하고 플라즈마내에서 신소재 나노입자 를 합성하는 기술을 개발하였 응용분야  본 발명은 신소재 합성하는 기술로 levitation 기술, vaporization 기술, 그리고 플라즈마 공정기술을 융합하여 신물질을 합성하는 기술이 metal 물질을 levitation으로 공중부양 하고 이를 induction으로 heating 하여 vaporization시키고 이를 플라즈마 내에서 다른 가 스와 혼합하여 합성하는 기술에 관한 것이 차세대 신소재개발기술이기 때문에 향후 사 업이나 시장성은 매우 높을 것으로 예상한 본 발명은 기존의 방법으로 합성하기 어려 운 신물질을 불순물 없이 합성할 수 있는 기술로 nitride계열 물질 또는 oxide 계열 물질 을 합성하여 solar cell, 넓은 파장의photodiode, quantum dots등에 응용할 수 있3. 키 워 드  levitation, deposition, coating, 부양, 증착, 코팅있는 국내 업체는 7개 정도이며, 이들 업체 중 삼성전자 매출 비중이 높은 엄체는 국제엘 렉트릭, 피에스케이, 아토 정도임\n",
      "\n",
      "시장동향 과학기술일자리진흥원\n",
      "관련기술의 시장현황 및 규모 첨단 카메라 기술: 세계의 첨단 카메라 기술 시장 규모는 2013년에 21억 8,692만 달러를 기록. 2014년부터 2019년까지 15.69%의 연평균 성장률로 성장하여 2020년에 60억 8,006만 달러의 시장규모를 형성할 것으로 예측 3D 이미지 기술: 3DTV, 3D영화, 3D게임 등에 활용 가능한 3D 이미지 기술의 시장 규모는 2013년 39.1억 달러에서 연평균 19.53%씩 성장하여 2018년 95억 달러, 2020년 134.1억 달러 규모를 달성할 전망 3D 카메라: 3D 카메라 시장은 2013년 1억 4,953만 달러에서 연평균 7.61%씩 성장하여 2020년 2억 4,733만 달러의 규모를 형성할 전망 관련기술의 시장 경쟁 현황 첨단 카메라 플레이어: Axis Communications, Bosch Security System, FLIR System, Infineon Technologies, Intel, Kla 3D, Leap Motion, Matter and Form, Microsoft, Nikon, Occipital, Panasonic, Primesense By Apple, Red Digital Cinema Camera Company, PELCBy Schneider Electric, Soft kinetic, Sony, Weeview 3D 이미지 플레이어: 3D Systems Corporation, Dolby Laboratories, LG Electronics, Barco, Samsung, Autodesk, Panasonic, Sony, DreamWorks Animation SKG 3D 스마트폰 플레이어: Motorola Mobility, Sharp Electronics , LG Electronics , Micromax , Samsung , HTC\n",
      "\n",
      "시장동향 과학기술일자리진흥원\n",
      "전 세계적으로 히트펌프와 직접적으로 관련된 제품의 2  7년 세계시장 규모는 약 615억 달러로 나타나고, 대부분 공기열원을 적용하는 공기-공기 방식으로 2  5년 대략 3,   만대의 시장규모를 형성함/ 유럽의 시장동향 유럽연합은 2 2 년까지 온실가스와 에너지소비를 2 %씩 저감하고 총 에너지대비 재생가능에너지 비율을 2 %로 증가하는 목표를 설정함에 회원국 정부의 지원 하에 히트펌프 보급이 활발함스웨덴의 경우 2   년 연 2만대에 머물던 히트펌프 판매량을 2  6년 12만대로 늘리고, 2 12년 가정용 히트펌프 보급량이 95%를 넘어섬독일의 경우 약 5 개 이상의 히트펌프 회사가 등장했으며, 시장규모가 늘어남에 따라 시장확보를 위한 경쟁이 더욱 치열해질 것으로 예상됨오스트리아의 경우 히트펌프와 관련해 Ochsner, Heliotherm, Neura, M-Tech 등 국제적으로 높은 지명도를 가진 업체들이 활동하고 있음 히트펌프는 유럽의 재정위기로 주춤하고 있지만 2  5년부터 2 12년까지 연 8.4% 성장하였고,유럽 24개국의 히트펌프 판매대수는 2  8년 약 79.9만대를 기준으로 큰 변동이 없지만 여전히유망 분야이고, 온실가스 감축을 위한 효과 측면에서도 중요하게 고려되고 있음/ 일본의 시장동향 일본은 세계 히트펌프 시장의 선두주자로서 자국 에어컨 시장의 95% 이상을 히트펌프가 차지하고있으며 유럽 및 중국 등 각 나라 업체와의 기술 협력을 주도하고 있음 일본냉동공조협회의 발표에 따르면 CO2 급탕용 ECCute 히트펌프는 2  1년부터 매해 판매가증가하여 2 1 년 연간 2  만에서 2 12년 52 만대 이상으로 판매량이 약 6배 증가하였음 도시바, 산요, 미쓰비시, 히다치 등 일본 업체들의 세계 시장 점유율은 6 %를 넘는 것으로 추산됨 또한 일본의 미쯔비시 중공업과 같은 회사는 기존 히트펌프의 문제로 지적된 저온에서 성능이떨어지는 문제를 해결하여 -25 혹한의 날씨에도 9 까지 온수를 공급할 수 있는3 kW~48 kW급, COP 4.3, ESA 시리즈를 통해 한국시장에 사업확장을 꾀하고 있음/ 미국 시장동향 미국 에너지부의 건물기술계획은 경제성에 초점을맞추어 건물 에너지를 줄이는 전략을 마련하고 있음\n",
      "\n",
      "시장동향 과학기술일자리진흥원\n",
      "해외  세계 대기감시 모니터링 장치 시장 규모는 2 1 년 2 억 달러 규모에서 연평균 13.7% 성 장하여, 2 14년 25억 달러로 확대될 것으로 예상됨  세계적으로 과도한 방목, 무분별한 벌채, 경작지의 과도한 개발로 인해서 중국, 인도, 몽 골, 파키스탄 등지의 사막지대, 시리아의 사구, 네팔과 라오스의 산악 지대 등의 사막화가 심화되고 있음  지속적으로 환경문제에 대한 환경의식이 높아지면서 세계 각 국에서는 대기 감시에 관한 장비의 기술 개발이 활성화 되고 있음대기중의 유해원소의  실시간 모니터링방법 개발 Real-time monitoring method of noxious elements in air기술개요 높은 감도 로 대부분의 원소를 분석할 수 있는 ICP-MS장비에 대기 기체를 직접 주입해서 원소를 분석할 수 있는 방법기술특징 ICP-MS로 측정가능한 모든 원소에 대해 실시간 측정이 가능하며, 시간변화에 대한 기기 감도의 변화를 보정할 수 있는 방법으로 기체성분가스의 제조가 가능한 Pb, Hg, Sb, Fe 성분의 일정농도 기준가스를 사용하는 방법을 고안  대기 중의 대부분의 유해원소를 실시간 모니터링할 수 있는 방법을 개발함 으로써 중국으로부터 날아오는 황사먼지의 오염관리를 보다 과학적으로 측정 관리할 수 있는 방법응용분야 기상관측소 장비  유해원소 실시간 측정기 키 워 드  대기, 유해원소, 모니터링, 실시간 국내  국내 대기감시 모니터링 장치 시장 규모는 2 1 년 4  억원 규모에서 연평균 13.7% 성장 하여, 2 14년 495억원 으로 확대될 것으로 예상됨  최근 중국의 중·북부 내륙지역의 사막화가 진행되어 국내 황사발생 횟수는 2   년대 들어 서 증가하는 추세이며, 이에 따라 초등학교 휴교, 호흡기 질환환자의 급증, 반도체 등의 정밀산업 업체의 일시적인 공장 휴업에 까지 이를 정도로 피해가 증대되어 황사관측 장 비에 대한 관심도가 급증하고 있음\n",
      "\n",
      "시장동향 과학기술일자리진흥원\n",
      "해외  세계 의료기기 시장규모는 2  5년 1,562억 달러에서 2 1 년 2, 16억 달러로 연평균 5.2% 이상 성장할 것으로 예상되며, 지역별로 보면 2  6년 현재 북·남미 대륙과 서유럽이 각각 53.9%와 24.8%를 차지하여 전체의 78%가 넘는 절대적 시장규모를 차지  세계 1 대 의료기기 전문생산업체의 매출액 대비 R&D의 비율은 7.9%를 차지하고 있는 반면 국내 1 대 업체의 매출액 대비 R&D의 비율은 3.3%에 불과한 실정으로 연구개발을 확대해야 함  한편 의료기기 수입시장의 규모를 살펴보면 2  5년 기준으로 서유럽이 46. %, 북남미가 27.3%, 아태지역이 18.9%를 차지하고 있음공간지 에어 셀을 이용한 자동 및 수동 높이 조절 베개 시스템 Automatic Height Adjustable Pillow and Manual Height Adjustable Pillow System Using Spacer Fabric Air-cell기술개요 각기 다른 고객의 목 높이를 자동으로 맞추어 주는 자동 높이 조절 베개와 수동으로 간편 히 조절할 수 있는 베개시스템기술특징 자동 높이 조절 장치는 수면 중 불편한 경추 형상을 베개가 알아서 자동으로 조절해줌으 로써 양질의 숙면을 취할 수 있게 해주어 삶의 질 향상에 큰 효과가 있음  저렴한 제작비로 개개인이 자신의 선호도에 따라 간단히 베개의 높이를 조절할 수 있도록 한 에어 셀을 이용한 베개의 수동 높이 장치도 제공 하고 있음응용분야  가정용 개인 베개  의료 환자용 베개타겟시장   베개, 높이조절, 자동, 수동 국내  최근 우리나라 의료산업의 총생산액은 2  5년 기준 약 48.6조원이며, 최근 1 % 이상의 높은 성장률을 나타내고 있음  의료기기의 국내생산량이 전체시장에서 차지하는 비중은 64.1%∼69.4%이며, 같은 기간 전 체시장의 성장률과 비슷한 1 .3%의 성장을 기록함  품목별로 수출현황을 살펴보면 생체현상 측정기기, 의학 진료용기기, 시력 보정용 렌즈, 시술기구 등 중·저급 기술을 이용한 제품이 2/3를 차지하고 있 음\n",
      "\n",
      "시장동향 과학기술일자리진흥원\n",
      "본 기술은 화학약품의 첨가 없이 전기투석 공정, 전기산화공정, 전해추출공정 및 NF 분리막 여과 공정을 통해 중금속 및 시안 등을 포함하는 폐수의 처리에 관한 것으로, 폐수 처리시스템으로 적용이 가능하므로 세계 물관리 및 국내 상·하수도 시장으로 분석함 세계 물관리 시장현황 2 16년 7,143억 달러 규모의 시장으로 전체의 약 81%를 상·하수 시장이 차지하고 있으며, 2 13∼2 2 년 연평균 3%로 성장하여 2 2 년에는 8,346억 달러의 규모를 형성할 것으로 전망됨 GWI에 따르면 상수, 하수, 산업용수 및 폐수 분야의 시장 규모는 각각 3, 51억 불, 2,734억 불 및 1,358억 불로 나타났으며 2 13∼2 2 년 연평균 증가율은 하수, 상수, 산업용수 및 폐수 등의 순으로 파악됨 산업용수 및 폐수 처리 시장의 경우 상수, 하수 분야와 마찬가지로 지속적으로 증가할 것으로 사료됨  국내 상·하수도 시장현황 국내 상·하수도 시장은 2 16년 1 7억 달러로 전 세계 시장의 8%를 차지하며, 연평균은 6%로 조사되었으며, 상수도 시장은 48억 달러, 하수도 시장은 59억 달러 규모로 상수도 보다 하수도 분야의 시장이 더 큰 규모를 가졌으며, 성장률 역시 하수도 시장이 상수도 시장의 성장률 보다 높은 것으로 전망됨 또한 국내 상·하수도 분야 자본적 지출시장은 관련 시장의 둔화로 2 18년 이후 일정 규모를 유지하며, 운영시장은 지속적인 성장이 전망됨 상수 분야는 상수관망/정수처리/수처리 등의 시장규모가 유사하며, 하수도 분야는 관거 및 처리 분야의 비중이 높음\n",
      "\n",
      "시장동향 과학기술일자리진흥원\n",
      "해외  해외 방사선 계측기 시장은 2 11년 119억 달러로 연평균 12% 성장하여, 2 14년 1581억 달러로 성장할 전망임  미국, 벨기에, 독일, 일본을 중심으로 사이클로트론및 관련 Health Care 시장을 독점하고 있으며, 선진국 시장은 성장률이 감소하고 있으나, 경제 규 모가 급상승하고 있는 동남아시아와 중앙 아시아를 중심으로 신규 시장이 급격히 성장하 고 있음  일본 후쿠시마 원전 사고로 인해 방사능에 대한 막연한 공포심과 특히 먹을거리에 대한 공포는 시간이 지날수록 확산되고 있는 분위기 이며, 최근 일본 원전 주변에서 생산된 우 유와 시금치에 이어 수돗물 등에서까지 방사성 물질이 검출되어 방사능에 대한 관심이 높아지고 있음휴대형 중성자 스펙트로메터 Portable Neutron Spectromete기술개요  액체 섬광 물질과 리튬 화합물 등 열중성자 포획 물질로 이루어진 중성자 스펙트로메터로 서, 액체 섬광 물질과 열중성자 포획 물질을 물리적으로 완전히 분리하여 액체섬광물질의 신호와 중성자 포획 신호를 독립적으로 수집할 수 있도록 한 중성자 스펙트로메터기술특징  액체섬광물질로 구성된 섬광검출기와 탄성산란을 통해 열화된 중성자를 포획하여 검출하 는 포획용 검출기를 분리하여 구성함으로써 섬광검출기의 신호와 열중성자 포획 신호를 독립적으로 증폭/분석하기 때문에 중성자 에너지 스펙트럼의 해상도를 높일 수 있는 효과  액체섬광물질과 열중성자 포획물질이 완전한 분리되어 있으므로 액체섬광물질의 특성이 변하는 것을 막을 수 있는 효과를 가지고 있음응용분야  원자력발전소, 입자가속기 사용기관, 동위원소 사용기관  동위원소키 워 드  중성자,  검출기, 섬광, 선량  일본정부의 방사선 측정 결과에 대한 불신으로 개인이 자신의 집과 어린이 놀이 공간 등 방사성 물질량을 측정하는 휴대용 측정기기를 구입해 직접 측정하고 있으며, 일본 원전 사고로 인해 세계적으로 방사능에 대한 관심이 높아지고, 이를 측정하기 위한 휴대용 측 정기의 판매가 증가할 것으로 보임 국내  국내 방사선 계측기 시장은 2 11년 4,872억 원으로 연평균 1 . % 성장하여, 2 14년 6,484억 원으로 성장할 전망임  국내 방사선 계측기 시장은 2  3년 까지 해외 의존도가 9 %이상 이었으나, 대체 기술 확 보 및 연구개발을 통해 국산화 제품을 선보이며, 국내 점유율을 높여가고 있음\n",
      "\n"
     ]
    }
   ],
   "source": [
    "for i, t, s in zip(df[aa > 300][50:].text, df[aa > 300][50:].tag, df[aa > 300][50:].source):\n",
    "    print(t, s)\n",
    "    print(i)\n",
    "    print()"
   ]
  },
  {
   "cell_type": "code",
   "execution_count": null,
   "metadata": {},
   "outputs": [],
   "source": []
  },
  {
   "cell_type": "code",
   "execution_count": 17,
   "metadata": {},
   "outputs": [],
   "source": [
    "from typing import Union, List, Dict\n",
    "\n",
    "def transform(sentences: Union[str, List[str]], tokenizer) -> Dict[str, List[List[int]]]:\n",
    "    if isinstance(sentences, str):\n",
    "        sentences = [sentences]\n",
    "    return tokenizer(text=sentences, add_special_tokens=True, padding=False, truncation=True, max_length = 128) ## Modify"
   ]
  },
  {
   "cell_type": "code",
   "execution_count": 18,
   "metadata": {},
   "outputs": [
    {
     "name": "stdout",
     "output_type": "stream",
     "text": [
      "{'text': ['컴퓨터에게 시각 지능을 부여하여 위험 상황이나 지속적인 모니터링이 필요한 분야에서 사람을 대신할 수 있고, 사람이 상황을 판단하는데 보조적인 역할 수행 가능', '본 연구의 결과 우울군이나 불안군 환자는 우울이나 불안증상이 없는 환자보다 경험하는 증상의 정도가 심했으며, 이로 인하여 삶을 즐기거나 일을 하거나 대인관계, 일상활동이나 기분, 걷기에서 방해를 받는 정도가 더 심했다.'], 'labels': [1, 2]}\n",
      "{'input_ids': [[27710, 2699, 6824, 9786, 2533, 6700, 4870, 5892, 7850, 2482, 10052, 8358, 2480, 5708, 8785, 7148, 5725, 2633, 1314, 5155, 16, 5630, 7648, 14884, 2487, 6608, 4878, 5461, 5228, 4933], [1067, 9494, 5040, 11373, 7489, 2482, 6924, 3072, 22266, 11373, 4953, 6924, 2838, 5653, 5055, 8066, 4966, 39524, 19657, 2490, 10968, 1363, 6529, 16, 7442, 9776, 8306, 16164, 4987, 6077, 11002, 18875, 6200, 16, 8697, 27477, 2482, 11179, 16, 23056, 4860, 9411, 2494, 6550, 10968, 561, 1363, 4866, 18]], 'token_type_ids': [[0, 0, 0, 0, 0, 0, 0, 0, 0, 0, 0, 0, 0, 0, 0, 0, 0, 0, 0, 0, 0, 0, 0, 0, 0, 0, 0, 0, 0, 0], [0, 0, 0, 0, 0, 0, 0, 0, 0, 0, 0, 0, 0, 0, 0, 0, 0, 0, 0, 0, 0, 0, 0, 0, 0, 0, 0, 0, 0, 0, 0, 0, 0, 0, 0, 0, 0, 0, 0, 0, 0, 0, 0, 0, 0, 0, 0, 0, 0]], 'attention_mask': [[1, 1, 1, 1, 1, 1, 1, 1, 1, 1, 1, 1, 1, 1, 1, 1, 1, 1, 1, 1, 1, 1, 1, 1, 1, 1, 1, 1, 1, 1], [1, 1, 1, 1, 1, 1, 1, 1, 1, 1, 1, 1, 1, 1, 1, 1, 1, 1, 1, 1, 1, 1, 1, 1, 1, 1, 1, 1, 1, 1, 1, 1, 1, 1, 1, 1, 1, 1, 1, 1, 1, 1, 1, 1, 1, 1, 1, 1, 1]]}\n"
     ]
    }
   ],
   "source": [
    "samples = train_dataset[:2]\n",
    "transformed_samples = transform(samples[\"text\"], tokenizer)\n",
    "\n",
    "print(samples)\n",
    "print(transformed_samples)"
   ]
  },
  {
   "cell_type": "code",
   "execution_count": 19,
   "metadata": {
    "scrolled": true
   },
   "outputs": [
    {
     "data": {
      "application/vnd.jupyter.widget-view+json": {
       "model_id": "8dc56ab6c4464e2f85fdd92188c0d938",
       "version_major": 2,
       "version_minor": 0
      },
      "text/plain": [
       "  0%|          | 0/130 [00:00<?, ?ba/s]"
      ]
     },
     "metadata": {},
     "output_type": "display_data"
    },
    {
     "data": {
      "application/vnd.jupyter.widget-view+json": {
       "model_id": "30cc6395fccd43bab2a1fbd6c8231dfd",
       "version_major": 2,
       "version_minor": 0
      },
      "text/plain": [
       "  0%|          | 0/19 [00:00<?, ?ba/s]"
      ]
     },
     "metadata": {},
     "output_type": "display_data"
    },
    {
     "data": {
      "application/vnd.jupyter.widget-view+json": {
       "model_id": "ed03c4159db14962801856a9a8feb0fe",
       "version_major": 2,
       "version_minor": 0
      },
      "text/plain": [
       "  0%|          | 0/37 [00:00<?, ?ba/s]"
      ]
     },
     "metadata": {},
     "output_type": "display_data"
    }
   ],
   "source": [
    "train_ds = train_dataset.map(lambda data: transform(data[\"text\"], tokenizer), remove_columns=[\"text\"], batched=True)\n",
    "valid_ds = val_dataset.map(lambda data: transform(data[\"text\"], tokenizer), remove_columns=[\"text\"], batched=True)\n",
    "test_ds = test_dataset.map(lambda data: transform(data[\"text\"], tokenizer), remove_columns=[\"text\"], batched=True)"
   ]
  },
  {
   "cell_type": "code",
   "execution_count": 26,
   "metadata": {},
   "outputs": [
    {
     "data": {
      "text/plain": [
       "<matplotlib.axes._subplots.AxesSubplot at 0x16f35d1ecc8>"
      ]
     },
     "execution_count": 26,
     "metadata": {},
     "output_type": "execute_result"
    },
    {
     "data": {
      "image/png": "[encoded data removed]",
      "text/plain": [
       "<Figure size 432x288 with 1 Axes>"
      ]
     },
     "metadata": {
      "image/png": {
       "height": 249,
       "width": 392
      },
      "needs_background": "light"
     },
     "output_type": "display_data"
    }
   ],
   "source": [
    "# truncation 확인\n",
    "sns.histplot([len(i) for i in train_ds['input_ids']])"
   ]
  },
  {
   "cell_type": "markdown",
   "metadata": {},
   "source": [
    "# Model Load"
   ]
  },
  {
   "cell_type": "code",
   "execution_count": 20,
   "metadata": {},
   "outputs": [
    {
     "data": {
      "text/plain": [
       "'./output/checkpoint-12700/'"
      ]
     },
     "execution_count": 20,
     "metadata": {},
     "output_type": "execute_result"
    }
   ],
   "source": [
    "final_model"
   ]
  },
  {
   "cell_type": "code",
   "execution_count": 21,
   "metadata": {},
   "outputs": [],
   "source": [
    "# BERT Pre-trained Model\n",
    "model = BertForSequenceClassification.from_pretrained(final_model, #model_path,\n",
    "                                                      num_labels=len(label_dict),\n",
    "                                                      output_attentions=False,\n",
    "                                                      output_hidden_states=False)"
   ]
  },
  {
   "cell_type": "code",
   "execution_count": 22,
   "metadata": {},
   "outputs": [],
   "source": [
    "from transformers.data.data_collator import DataCollatorWithPadding\n",
    "from sklearn.metrics import accuracy_score, f1_score, recall_score, precision_score\n",
    "\n",
    "def compute_metrics(p):    \n",
    "    pred, labels = p\n",
    "    pred = np.argmax(pred, axis=1)\n",
    "    accuracy = accuracy_score(y_true=labels, y_pred=pred)\n",
    "    f1_micro = f1_score(y_true=labels, y_pred=pred, average='micro')\n",
    "    f1_macro = f1_score(y_true=labels, y_pred=pred, average='macro')\n",
    "    recall = recall_score(y_true=labels, y_pred=pred, average='micro')\n",
    "    precision = precision_score(y_true=labels, y_pred=pred, average='micro')\n",
    "    \n",
    "    return {\"accuracy\": accuracy, \"f1_micro\": f1_micro, 'f1_macro': f1_macro, 'recall': recall, 'precision': precision}\n",
    "\n",
    "batchify = DataCollatorWithPadding(\n",
    "    tokenizer=tokenizer,\n",
    "    padding=\"longest\",\n",
    ")"
   ]
  },
  {
   "cell_type": "code",
   "execution_count": 23,
   "metadata": {},
   "outputs": [
    {
     "data": {
      "text/plain": [
       "{'labels': tensor([1, 2]), 'input_ids': tensor([[27710,  2699,  6824,  9786,  2533,  6700,  4870,  5892,  7850,  2482,\n",
       "         10052,  8358,  2480,  5708,  8785,  7148,  5725,  2633,  1314,  5155,\n",
       "            16,  5630,  7648, 14884,  2487,  6608,  4878,  5461,  5228,  4933,\n",
       "             0,     0,     0,     0,     0,     0,     0,     0,     0,     0,\n",
       "             0,     0,     0,     0,     0,     0,     0,     0,     0],\n",
       "        [ 1067,  9494,  5040, 11373,  7489,  2482,  6924,  3072, 22266, 11373,\n",
       "          4953,  6924,  2838,  5653,  5055,  8066,  4966, 39524, 19657,  2490,\n",
       "         10968,  1363,  6529,    16,  7442,  9776,  8306, 16164,  4987,  6077,\n",
       "         11002, 18875,  6200,    16,  8697, 27477,  2482, 11179,    16, 23056,\n",
       "          4860,  9411,  2494,  6550, 10968,   561,  1363,  4866,    18]]), 'token_type_ids': tensor([[0, 0, 0, 0, 0, 0, 0, 0, 0, 0, 0, 0, 0, 0, 0, 0, 0, 0, 0, 0, 0, 0, 0, 0,\n",
       "         0, 0, 0, 0, 0, 0, 0, 0, 0, 0, 0, 0, 0, 0, 0, 0, 0, 0, 0, 0, 0, 0, 0, 0,\n",
       "         0],\n",
       "        [0, 0, 0, 0, 0, 0, 0, 0, 0, 0, 0, 0, 0, 0, 0, 0, 0, 0, 0, 0, 0, 0, 0, 0,\n",
       "         0, 0, 0, 0, 0, 0, 0, 0, 0, 0, 0, 0, 0, 0, 0, 0, 0, 0, 0, 0, 0, 0, 0, 0,\n",
       "         0]]), 'attention_mask': tensor([[1, 1, 1, 1, 1, 1, 1, 1, 1, 1, 1, 1, 1, 1, 1, 1, 1, 1, 1, 1, 1, 1, 1, 1,\n",
       "         1, 1, 1, 1, 1, 1, 0, 0, 0, 0, 0, 0, 0, 0, 0, 0, 0, 0, 0, 0, 0, 0, 0, 0,\n",
       "         0],\n",
       "        [1, 1, 1, 1, 1, 1, 1, 1, 1, 1, 1, 1, 1, 1, 1, 1, 1, 1, 1, 1, 1, 1, 1, 1,\n",
       "         1, 1, 1, 1, 1, 1, 1, 1, 1, 1, 1, 1, 1, 1, 1, 1, 1, 1, 1, 1, 1, 1, 1, 1,\n",
       "         1]])}"
      ]
     },
     "execution_count": 23,
     "metadata": {},
     "output_type": "execute_result"
    }
   ],
   "source": [
    "# mini-batch 구성확인\n",
    "batchify(train_ds[:2])"
   ]
  },
  {
   "cell_type": "code",
   "execution_count": 24,
   "metadata": {},
   "outputs": [],
   "source": [
    "from transformers import Trainer, TrainingArguments\n",
    "\n",
    "training_args = TrainingArguments(\n",
    "    output_dir=output_path,          \n",
    "    evaluation_strategy=\"epoch\",\n",
    "    eval_steps=1000,\n",
    "    per_device_train_batch_size=128, \n",
    "    per_device_eval_batch_size=32,\n",
    "    learning_rate=1e-4,\n",
    "    weight_decay=0.01,\n",
    "    adam_beta1=.9,\n",
    "    adam_beta2=.95,\n",
    "    adam_epsilon=1e-8,\n",
    "    max_grad_norm=1.,\n",
    "    optim = 'adamw_hf',\n",
    "    num_train_epochs=50,    \n",
    "    lr_scheduler_type=\"linear\",\n",
    "    warmup_steps=100,\n",
    "    logging_dir='./logs',\n",
    "    logging_strategy=\"epoch\",\n",
    "    logging_first_step=True,\n",
    "    logging_steps=1000,\n",
    "    save_strategy=\"epoch\",\n",
    "    seed=12345,\n",
    "    dataloader_drop_last=False,\n",
    "    dataloader_num_workers=2,\n",
    "    report_to = 'wandb',\n",
    "    run_name=\"TechBERT\"  # name of the W&B run (optional)\n",
    ")\n",
    "\n",
    "trainer = Trainer(\n",
    "    args=training_args,\n",
    "    data_collator=batchify,\n",
    "    model=model,\n",
    "    train_dataset=train_ds,\n",
    "    eval_dataset=valid_ds,\n",
    "    compute_metrics=compute_metrics\n",
    ")"
   ]
  },
  {
   "cell_type": "code",
   "execution_count": 25,
   "metadata": {
    "collapsed": true
   },
   "outputs": [
    {
     "name": "stderr",
     "output_type": "stream",
     "text": [
      "/home1/hyez/.local/lib/python3.8/site-packages/transformers/optimization.py:306: FutureWarning: This implementation of AdamW is deprecated and will be removed in a future version. Use thePyTorch implementation torch.optim.AdamW instead, or set `no_deprecation_warning=True` to disable this warning\n",
      "  warnings.warn(\n",
      "***** Running training *****\n",
      "  Num examples = 129884\n",
      "  Num Epochs = 50\n",
      "  Instantaneous batch size per device = 128\n",
      "  Total train batch size (w. parallel, distributed & accumulation) = 512\n",
      "  Gradient Accumulation steps = 1\n",
      "  Total optimization steps = 12700\n",
      "Automatic Weights & Biases logging enabled, to disable set os.environ[\"WANDB_DISABLED\"] = \"true\"\n",
      "\u001b[34m\u001b[1mwandb\u001b[0m: Currently logged in as: \u001b[33mhyez\u001b[0m. Use \u001b[1m`wandb login --relogin`\u001b[0m to force relogin\n"
     ]
    },
    {
     "data": {
      "text/html": [
       "Tracking run with wandb version 0.12.19"
      ],
      "text/plain": [
       "<IPython.core.display.HTML object>"
      ]
     },
     "metadata": {},
     "output_type": "display_data"
    },
    {
     "data": {
      "text/html": [
       "Run data is saved locally in <code>/home1/hyez/hyez/Kisti/wandb/run-20220628_200914-2opxddws</code>"
      ],
      "text/plain": [
       "<IPython.core.display.HTML object>"
      ]
     },
     "metadata": {},
     "output_type": "display_data"
    },
    {
     "data": {
      "text/html": [
       "Syncing run <strong><a href=\"https://wandb.ai/hyez/huggingface/runs/2opxddws\" target=\"_blank\">TechBERT</a></strong> to <a href=\"https://wandb.ai/hyez/huggingface\" target=\"_blank\">Weights & Biases</a> (<a href=\"https://wandb.me/run\" target=\"_blank\">docs</a>)<br/>"
      ],
      "text/plain": [
       "<IPython.core.display.HTML object>"
      ]
     },
     "metadata": {},
     "output_type": "display_data"
    },
    {
     "name": "stderr",
     "output_type": "stream",
     "text": [
      "/TGM/Apps/ANACONDA/2021.05/lib/python3.8/site-packages/torch/nn/parallel/_functions.py:68: UserWarning: Was asked to gather along dimension 0, but all input tensors were scalars; will instead unsqueeze and return a vector.\n",
      "  warnings.warn('Was asked to gather along dimension 0, but all '\n"
     ]
    },
    {
     "data": {
      "text/html": [
       "\n",
       "    <div>\n",
       "      \n",
       "      <progress value='12700' max='12700' style='width:300px; height:20px; vertical-align: middle;'></progress>\n",
       "      [12700/12700 2:54:15, Epoch 50/50]\n",
       "    </div>\n",
       "    <table border=\"1\" class=\"dataframe\">\n",
       "  <thead>\n",
       " <tr style=\"text-align: left;\">\n",
       "      <th>Epoch</th>\n",
       "      <th>Training Loss</th>\n",
       "      <th>Validation Loss</th>\n",
       "      <th>Accuracy</th>\n",
       "      <th>F1 Micro</th>\n",
       "      <th>F1 Macro</th>\n",
       "      <th>Recall</th>\n",
       "      <th>Precision</th>\n",
       "    </tr>\n",
       "  </thead>\n",
       "  <tbody>\n",
       "    <tr>\n",
       "      <td>1</td>\n",
       "      <td>0.658500</td>\n",
       "      <td>0.372715</td>\n",
       "      <td>0.863204</td>\n",
       "      <td>0.863204</td>\n",
       "      <td>0.836403</td>\n",
       "      <td>0.863204</td>\n",
       "      <td>0.863204</td>\n",
       "    </tr>\n",
       "    <tr>\n",
       "      <td>2</td>\n",
       "      <td>0.309700</td>\n",
       "      <td>0.358675</td>\n",
       "      <td>0.871658</td>\n",
       "      <td>0.871658</td>\n",
       "      <td>0.853172</td>\n",
       "      <td>0.871658</td>\n",
       "      <td>0.871658</td>\n",
       "    </tr>\n",
       "    <tr>\n",
       "      <td>3</td>\n",
       "      <td>0.220500</td>\n",
       "      <td>0.379137</td>\n",
       "      <td>0.870126</td>\n",
       "      <td>0.870126</td>\n",
       "      <td>0.853052</td>\n",
       "      <td>0.870126</td>\n",
       "      <td>0.870126</td>\n",
       "    </tr>\n",
       "    <tr>\n",
       "      <td>4</td>\n",
       "      <td>0.153600</td>\n",
       "      <td>0.434099</td>\n",
       "      <td>0.870865</td>\n",
       "      <td>0.870865</td>\n",
       "      <td>0.854525</td>\n",
       "      <td>0.870865</td>\n",
       "      <td>0.870865</td>\n",
       "    </tr>\n",
       "    <tr>\n",
       "      <td>5</td>\n",
       "      <td>0.106100</td>\n",
       "      <td>0.504382</td>\n",
       "      <td>0.865476</td>\n",
       "      <td>0.865476</td>\n",
       "      <td>0.847881</td>\n",
       "      <td>0.865476</td>\n",
       "      <td>0.865476</td>\n",
       "    </tr>\n",
       "    <tr>\n",
       "      <td>6</td>\n",
       "      <td>0.077700</td>\n",
       "      <td>0.529814</td>\n",
       "      <td>0.869333</td>\n",
       "      <td>0.869333</td>\n",
       "      <td>0.856514</td>\n",
       "      <td>0.869333</td>\n",
       "      <td>0.869333</td>\n",
       "    </tr>\n",
       "    <tr>\n",
       "      <td>7</td>\n",
       "      <td>0.061500</td>\n",
       "      <td>0.610275</td>\n",
       "      <td>0.867801</td>\n",
       "      <td>0.867801</td>\n",
       "      <td>0.852024</td>\n",
       "      <td>0.867801</td>\n",
       "      <td>0.867801</td>\n",
       "    </tr>\n",
       "    <tr>\n",
       "      <td>8</td>\n",
       "      <td>0.051100</td>\n",
       "      <td>0.615289</td>\n",
       "      <td>0.865212</td>\n",
       "      <td>0.865212</td>\n",
       "      <td>0.850766</td>\n",
       "      <td>0.865212</td>\n",
       "      <td>0.865212</td>\n",
       "    </tr>\n",
       "    <tr>\n",
       "      <td>9</td>\n",
       "      <td>0.042500</td>\n",
       "      <td>0.673509</td>\n",
       "      <td>0.863997</td>\n",
       "      <td>0.863997</td>\n",
       "      <td>0.845417</td>\n",
       "      <td>0.863997</td>\n",
       "      <td>0.863997</td>\n",
       "    </tr>\n",
       "    <tr>\n",
       "      <td>10</td>\n",
       "      <td>0.037100</td>\n",
       "      <td>0.670515</td>\n",
       "      <td>0.864684</td>\n",
       "      <td>0.864684</td>\n",
       "      <td>0.849996</td>\n",
       "      <td>0.864684</td>\n",
       "      <td>0.864684</td>\n",
       "    </tr>\n",
       "    <tr>\n",
       "      <td>11</td>\n",
       "      <td>0.033500</td>\n",
       "      <td>0.724199</td>\n",
       "      <td>0.862094</td>\n",
       "      <td>0.862094</td>\n",
       "      <td>0.847776</td>\n",
       "      <td>0.862094</td>\n",
       "      <td>0.862094</td>\n",
       "    </tr>\n",
       "    <tr>\n",
       "      <td>12</td>\n",
       "      <td>0.028800</td>\n",
       "      <td>0.734167</td>\n",
       "      <td>0.866797</td>\n",
       "      <td>0.866797</td>\n",
       "      <td>0.852677</td>\n",
       "      <td>0.866797</td>\n",
       "      <td>0.866797</td>\n",
       "    </tr>\n",
       "    <tr>\n",
       "      <td>13</td>\n",
       "      <td>0.025700</td>\n",
       "      <td>0.702842</td>\n",
       "      <td>0.859770</td>\n",
       "      <td>0.859770</td>\n",
       "      <td>0.841314</td>\n",
       "      <td>0.859770</td>\n",
       "      <td>0.859770</td>\n",
       "    </tr>\n",
       "    <tr>\n",
       "      <td>14</td>\n",
       "      <td>0.023300</td>\n",
       "      <td>0.709949</td>\n",
       "      <td>0.864366</td>\n",
       "      <td>0.864366</td>\n",
       "      <td>0.850465</td>\n",
       "      <td>0.864366</td>\n",
       "      <td>0.864366</td>\n",
       "    </tr>\n",
       "    <tr>\n",
       "      <td>15</td>\n",
       "      <td>0.021700</td>\n",
       "      <td>0.780470</td>\n",
       "      <td>0.862570</td>\n",
       "      <td>0.862570</td>\n",
       "      <td>0.844838</td>\n",
       "      <td>0.862570</td>\n",
       "      <td>0.862570</td>\n",
       "    </tr>\n",
       "    <tr>\n",
       "      <td>16</td>\n",
       "      <td>0.019700</td>\n",
       "      <td>0.838745</td>\n",
       "      <td>0.862623</td>\n",
       "      <td>0.862623</td>\n",
       "      <td>0.846795</td>\n",
       "      <td>0.862623</td>\n",
       "      <td>0.862623</td>\n",
       "    </tr>\n",
       "    <tr>\n",
       "      <td>17</td>\n",
       "      <td>0.017600</td>\n",
       "      <td>0.763103</td>\n",
       "      <td>0.862940</td>\n",
       "      <td>0.862940</td>\n",
       "      <td>0.846695</td>\n",
       "      <td>0.862940</td>\n",
       "      <td>0.862940</td>\n",
       "    </tr>\n",
       "    <tr>\n",
       "      <td>18</td>\n",
       "      <td>0.016500</td>\n",
       "      <td>0.842033</td>\n",
       "      <td>0.864155</td>\n",
       "      <td>0.864155</td>\n",
       "      <td>0.850193</td>\n",
       "      <td>0.864155</td>\n",
       "      <td>0.864155</td>\n",
       "    </tr>\n",
       "    <tr>\n",
       "      <td>19</td>\n",
       "      <td>0.014700</td>\n",
       "      <td>0.848656</td>\n",
       "      <td>0.863627</td>\n",
       "      <td>0.863627</td>\n",
       "      <td>0.850387</td>\n",
       "      <td>0.863627</td>\n",
       "      <td>0.863627</td>\n",
       "    </tr>\n",
       "    <tr>\n",
       "      <td>20</td>\n",
       "      <td>0.013800</td>\n",
       "      <td>0.889433</td>\n",
       "      <td>0.861196</td>\n",
       "      <td>0.861196</td>\n",
       "      <td>0.845566</td>\n",
       "      <td>0.861196</td>\n",
       "      <td>0.861196</td>\n",
       "    </tr>\n",
       "    <tr>\n",
       "      <td>21</td>\n",
       "      <td>0.012100</td>\n",
       "      <td>0.878051</td>\n",
       "      <td>0.861460</td>\n",
       "      <td>0.861460</td>\n",
       "      <td>0.846544</td>\n",
       "      <td>0.861460</td>\n",
       "      <td>0.861460</td>\n",
       "    </tr>\n",
       "    <tr>\n",
       "      <td>22</td>\n",
       "      <td>0.011500</td>\n",
       "      <td>0.948881</td>\n",
       "      <td>0.858449</td>\n",
       "      <td>0.858449</td>\n",
       "      <td>0.845735</td>\n",
       "      <td>0.858449</td>\n",
       "      <td>0.858449</td>\n",
       "    </tr>\n",
       "    <tr>\n",
       "      <td>23</td>\n",
       "      <td>0.010600</td>\n",
       "      <td>0.978663</td>\n",
       "      <td>0.859505</td>\n",
       "      <td>0.859505</td>\n",
       "      <td>0.844375</td>\n",
       "      <td>0.859505</td>\n",
       "      <td>0.859505</td>\n",
       "    </tr>\n",
       "    <tr>\n",
       "      <td>24</td>\n",
       "      <td>0.010500</td>\n",
       "      <td>0.966261</td>\n",
       "      <td>0.858924</td>\n",
       "      <td>0.858924</td>\n",
       "      <td>0.844453</td>\n",
       "      <td>0.858924</td>\n",
       "      <td>0.858924</td>\n",
       "    </tr>\n",
       "    <tr>\n",
       "      <td>25</td>\n",
       "      <td>0.009300</td>\n",
       "      <td>0.958423</td>\n",
       "      <td>0.860298</td>\n",
       "      <td>0.860298</td>\n",
       "      <td>0.844643</td>\n",
       "      <td>0.860298</td>\n",
       "      <td>0.860298</td>\n",
       "    </tr>\n",
       "    <tr>\n",
       "      <td>26</td>\n",
       "      <td>0.008400</td>\n",
       "      <td>0.994152</td>\n",
       "      <td>0.864314</td>\n",
       "      <td>0.864314</td>\n",
       "      <td>0.851202</td>\n",
       "      <td>0.864314</td>\n",
       "      <td>0.864314</td>\n",
       "    </tr>\n",
       "    <tr>\n",
       "      <td>27</td>\n",
       "      <td>0.007300</td>\n",
       "      <td>0.979713</td>\n",
       "      <td>0.864525</td>\n",
       "      <td>0.864525</td>\n",
       "      <td>0.849608</td>\n",
       "      <td>0.864525</td>\n",
       "      <td>0.864525</td>\n",
       "    </tr>\n",
       "    <tr>\n",
       "      <td>28</td>\n",
       "      <td>0.007300</td>\n",
       "      <td>0.974533</td>\n",
       "      <td>0.864842</td>\n",
       "      <td>0.864842</td>\n",
       "      <td>0.851351</td>\n",
       "      <td>0.864842</td>\n",
       "      <td>0.864842</td>\n",
       "    </tr>\n",
       "    <tr>\n",
       "      <td>29</td>\n",
       "      <td>0.006200</td>\n",
       "      <td>1.073627</td>\n",
       "      <td>0.861619</td>\n",
       "      <td>0.861619</td>\n",
       "      <td>0.843084</td>\n",
       "      <td>0.861619</td>\n",
       "      <td>0.861619</td>\n",
       "    </tr>\n",
       "    <tr>\n",
       "      <td>30</td>\n",
       "      <td>0.006300</td>\n",
       "      <td>1.058109</td>\n",
       "      <td>0.861725</td>\n",
       "      <td>0.861725</td>\n",
       "      <td>0.843766</td>\n",
       "      <td>0.861725</td>\n",
       "      <td>0.861725</td>\n",
       "    </tr>\n",
       "    <tr>\n",
       "      <td>31</td>\n",
       "      <td>0.005600</td>\n",
       "      <td>0.996091</td>\n",
       "      <td>0.862306</td>\n",
       "      <td>0.862306</td>\n",
       "      <td>0.848694</td>\n",
       "      <td>0.862306</td>\n",
       "      <td>0.862306</td>\n",
       "    </tr>\n",
       "    <tr>\n",
       "      <td>32</td>\n",
       "      <td>0.005300</td>\n",
       "      <td>1.017264</td>\n",
       "      <td>0.863204</td>\n",
       "      <td>0.863204</td>\n",
       "      <td>0.843570</td>\n",
       "      <td>0.863204</td>\n",
       "      <td>0.863204</td>\n",
       "    </tr>\n",
       "    <tr>\n",
       "      <td>33</td>\n",
       "      <td>0.004200</td>\n",
       "      <td>1.063045</td>\n",
       "      <td>0.860139</td>\n",
       "      <td>0.860139</td>\n",
       "      <td>0.844785</td>\n",
       "      <td>0.860139</td>\n",
       "      <td>0.860139</td>\n",
       "    </tr>\n",
       "    <tr>\n",
       "      <td>34</td>\n",
       "      <td>0.004000</td>\n",
       "      <td>1.041944</td>\n",
       "      <td>0.863415</td>\n",
       "      <td>0.863415</td>\n",
       "      <td>0.847238</td>\n",
       "      <td>0.863415</td>\n",
       "      <td>0.863415</td>\n",
       "    </tr>\n",
       "    <tr>\n",
       "      <td>35</td>\n",
       "      <td>0.003200</td>\n",
       "      <td>1.104947</td>\n",
       "      <td>0.862834</td>\n",
       "      <td>0.862834</td>\n",
       "      <td>0.850553</td>\n",
       "      <td>0.862834</td>\n",
       "      <td>0.862834</td>\n",
       "    </tr>\n",
       "    <tr>\n",
       "      <td>36</td>\n",
       "      <td>0.003400</td>\n",
       "      <td>1.104697</td>\n",
       "      <td>0.861619</td>\n",
       "      <td>0.861619</td>\n",
       "      <td>0.847652</td>\n",
       "      <td>0.861619</td>\n",
       "      <td>0.861619</td>\n",
       "    </tr>\n",
       "    <tr>\n",
       "      <td>37</td>\n",
       "      <td>0.002800</td>\n",
       "      <td>1.131114</td>\n",
       "      <td>0.865529</td>\n",
       "      <td>0.865529</td>\n",
       "      <td>0.848971</td>\n",
       "      <td>0.865529</td>\n",
       "      <td>0.865529</td>\n",
       "    </tr>\n",
       "    <tr>\n",
       "      <td>38</td>\n",
       "      <td>0.002600</td>\n",
       "      <td>1.161004</td>\n",
       "      <td>0.861249</td>\n",
       "      <td>0.861249</td>\n",
       "      <td>0.847057</td>\n",
       "      <td>0.861249</td>\n",
       "      <td>0.861249</td>\n",
       "    </tr>\n",
       "    <tr>\n",
       "      <td>39</td>\n",
       "      <td>0.002700</td>\n",
       "      <td>1.165587</td>\n",
       "      <td>0.862993</td>\n",
       "      <td>0.862993</td>\n",
       "      <td>0.848666</td>\n",
       "      <td>0.862993</td>\n",
       "      <td>0.862993</td>\n",
       "    </tr>\n",
       "    <tr>\n",
       "      <td>40</td>\n",
       "      <td>0.002400</td>\n",
       "      <td>1.146682</td>\n",
       "      <td>0.864102</td>\n",
       "      <td>0.864102</td>\n",
       "      <td>0.850313</td>\n",
       "      <td>0.864102</td>\n",
       "      <td>0.864102</td>\n",
       "    </tr>\n",
       "    <tr>\n",
       "      <td>41</td>\n",
       "      <td>0.002000</td>\n",
       "      <td>1.196277</td>\n",
       "      <td>0.863151</td>\n",
       "      <td>0.863151</td>\n",
       "      <td>0.847132</td>\n",
       "      <td>0.863151</td>\n",
       "      <td>0.863151</td>\n",
       "    </tr>\n",
       "    <tr>\n",
       "      <td>42</td>\n",
       "      <td>0.001600</td>\n",
       "      <td>1.189186</td>\n",
       "      <td>0.865370</td>\n",
       "      <td>0.865370</td>\n",
       "      <td>0.852601</td>\n",
       "      <td>0.865370</td>\n",
       "      <td>0.865370</td>\n",
       "    </tr>\n",
       "    <tr>\n",
       "      <td>43</td>\n",
       "      <td>0.001500</td>\n",
       "      <td>1.211404</td>\n",
       "      <td>0.865952</td>\n",
       "      <td>0.865952</td>\n",
       "      <td>0.851662</td>\n",
       "      <td>0.865952</td>\n",
       "      <td>0.865952</td>\n",
       "    </tr>\n",
       "    <tr>\n",
       "      <td>44</td>\n",
       "      <td>0.001100</td>\n",
       "      <td>1.245866</td>\n",
       "      <td>0.867273</td>\n",
       "      <td>0.867273</td>\n",
       "      <td>0.855281</td>\n",
       "      <td>0.867273</td>\n",
       "      <td>0.867273</td>\n",
       "    </tr>\n",
       "    <tr>\n",
       "      <td>45</td>\n",
       "      <td>0.001200</td>\n",
       "      <td>1.234793</td>\n",
       "      <td>0.867167</td>\n",
       "      <td>0.867167</td>\n",
       "      <td>0.855382</td>\n",
       "      <td>0.867167</td>\n",
       "      <td>0.867167</td>\n",
       "    </tr>\n",
       "    <tr>\n",
       "      <td>46</td>\n",
       "      <td>0.001100</td>\n",
       "      <td>1.239212</td>\n",
       "      <td>0.867642</td>\n",
       "      <td>0.867642</td>\n",
       "      <td>0.851014</td>\n",
       "      <td>0.867642</td>\n",
       "      <td>0.867642</td>\n",
       "    </tr>\n",
       "    <tr>\n",
       "      <td>47</td>\n",
       "      <td>0.000900</td>\n",
       "      <td>1.229574</td>\n",
       "      <td>0.866427</td>\n",
       "      <td>0.866427</td>\n",
       "      <td>0.852871</td>\n",
       "      <td>0.866427</td>\n",
       "      <td>0.866427</td>\n",
       "    </tr>\n",
       "    <tr>\n",
       "      <td>48</td>\n",
       "      <td>0.000700</td>\n",
       "      <td>1.236559</td>\n",
       "      <td>0.866744</td>\n",
       "      <td>0.866744</td>\n",
       "      <td>0.852690</td>\n",
       "      <td>0.866744</td>\n",
       "      <td>0.866744</td>\n",
       "    </tr>\n",
       "    <tr>\n",
       "      <td>49</td>\n",
       "      <td>0.000700</td>\n",
       "      <td>1.240961</td>\n",
       "      <td>0.867748</td>\n",
       "      <td>0.867748</td>\n",
       "      <td>0.853163</td>\n",
       "      <td>0.867748</td>\n",
       "      <td>0.867748</td>\n",
       "    </tr>\n",
       "    <tr>\n",
       "      <td>50</td>\n",
       "      <td>0.000700</td>\n",
       "      <td>1.243273</td>\n",
       "      <td>0.866956</td>\n",
       "      <td>0.866956</td>\n",
       "      <td>0.853306</td>\n",
       "      <td>0.866956</td>\n",
       "      <td>0.866956</td>\n",
       "    </tr>\n",
       "  </tbody>\n",
       "</table><p>"
      ],
      "text/plain": [
       "<IPython.core.display.HTML object>"
      ]
     },
     "metadata": {},
     "output_type": "display_data"
    },
    {
     "name": "stderr",
     "output_type": "stream",
     "text": [
      "***** Running Evaluation *****\n",
      "  Num examples = 18926\n",
      "  Batch size = 512\n",
      "Saving model checkpoint to ./output/checkpoint-254\n",
      "Configuration saved in ./output/checkpoint-254/config.json\n",
      "Model weights saved in ./output/checkpoint-254/pytorch_model.bin\n",
      "/TGM/Apps/ANACONDA/2021.05/lib/python3.8/site-packages/torch/nn/parallel/_functions.py:68: UserWarning: Was asked to gather along dimension 0, but all input tensors were scalars; will instead unsqueeze and return a vector.\n",
      "  warnings.warn('Was asked to gather along dimension 0, but all '\n",
      "***** Running Evaluation *****\n",
      "  Num examples = 18926\n",
      "  Batch size = 512\n",
      "Saving model checkpoint to ./output/checkpoint-508\n",
      "Configuration saved in ./output/checkpoint-508/config.json\n",
      "Model weights saved in ./output/checkpoint-508/pytorch_model.bin\n",
      "/TGM/Apps/ANACONDA/2021.05/lib/python3.8/site-packages/torch/nn/parallel/_functions.py:68: UserWarning: Was asked to gather along dimension 0, but all input tensors were scalars; will instead unsqueeze and return a vector.\n",
      "  warnings.warn('Was asked to gather along dimension 0, but all '\n",
      "***** Running Evaluation *****\n",
      "  Num examples = 18926\n",
      "  Batch size = 512\n",
      "Saving model checkpoint to ./output/checkpoint-762\n",
      "Configuration saved in ./output/checkpoint-762/config.json\n",
      "Model weights saved in ./output/checkpoint-762/pytorch_model.bin\n",
      "/TGM/Apps/ANACONDA/2021.05/lib/python3.8/site-packages/torch/nn/parallel/_functions.py:68: UserWarning: Was asked to gather along dimension 0, but all input tensors were scalars; will instead unsqueeze and return a vector.\n",
      "  warnings.warn('Was asked to gather along dimension 0, but all '\n",
      "***** Running Evaluation *****\n",
      "  Num examples = 18926\n",
      "  Batch size = 512\n",
      "Saving model checkpoint to ./output/checkpoint-1016\n",
      "Configuration saved in ./output/checkpoint-1016/config.json\n",
      "Model weights saved in ./output/checkpoint-1016/pytorch_model.bin\n",
      "/TGM/Apps/ANACONDA/2021.05/lib/python3.8/site-packages/torch/nn/parallel/_functions.py:68: UserWarning: Was asked to gather along dimension 0, but all input tensors were scalars; will instead unsqueeze and return a vector.\n",
      "  warnings.warn('Was asked to gather along dimension 0, but all '\n",
      "***** Running Evaluation *****\n",
      "  Num examples = 18926\n",
      "  Batch size = 512\n",
      "Saving model checkpoint to ./output/checkpoint-1270\n",
      "Configuration saved in ./output/checkpoint-1270/config.json\n",
      "Model weights saved in ./output/checkpoint-1270/pytorch_model.bin\n",
      "/TGM/Apps/ANACONDA/2021.05/lib/python3.8/site-packages/torch/nn/parallel/_functions.py:68: UserWarning: Was asked to gather along dimension 0, but all input tensors were scalars; will instead unsqueeze and return a vector.\n",
      "  warnings.warn('Was asked to gather along dimension 0, but all '\n",
      "***** Running Evaluation *****\n",
      "  Num examples = 18926\n",
      "  Batch size = 512\n",
      "Saving model checkpoint to ./output/checkpoint-1524\n",
      "Configuration saved in ./output/checkpoint-1524/config.json\n",
      "Model weights saved in ./output/checkpoint-1524/pytorch_model.bin\n",
      "/TGM/Apps/ANACONDA/2021.05/lib/python3.8/site-packages/torch/nn/parallel/_functions.py:68: UserWarning: Was asked to gather along dimension 0, but all input tensors were scalars; will instead unsqueeze and return a vector.\n",
      "  warnings.warn('Was asked to gather along dimension 0, but all '\n",
      "***** Running Evaluation *****\n",
      "  Num examples = 18926\n",
      "  Batch size = 512\n",
      "Saving model checkpoint to ./output/checkpoint-1778\n",
      "Configuration saved in ./output/checkpoint-1778/config.json\n",
      "Model weights saved in ./output/checkpoint-1778/pytorch_model.bin\n",
      "/TGM/Apps/ANACONDA/2021.05/lib/python3.8/site-packages/torch/nn/parallel/_functions.py:68: UserWarning: Was asked to gather along dimension 0, but all input tensors were scalars; will instead unsqueeze and return a vector.\n",
      "  warnings.warn('Was asked to gather along dimension 0, but all '\n",
      "***** Running Evaluation *****\n",
      "  Num examples = 18926\n",
      "  Batch size = 512\n",
      "Saving model checkpoint to ./output/checkpoint-2032\n",
      "Configuration saved in ./output/checkpoint-2032/config.json\n",
      "Model weights saved in ./output/checkpoint-2032/pytorch_model.bin\n",
      "/TGM/Apps/ANACONDA/2021.05/lib/python3.8/site-packages/torch/nn/parallel/_functions.py:68: UserWarning: Was asked to gather along dimension 0, but all input tensors were scalars; will instead unsqueeze and return a vector.\n",
      "  warnings.warn('Was asked to gather along dimension 0, but all '\n",
      "***** Running Evaluation *****\n",
      "  Num examples = 18926\n",
      "  Batch size = 512\n",
      "Saving model checkpoint to ./output/checkpoint-2286\n",
      "Configuration saved in ./output/checkpoint-2286/config.json\n",
      "Model weights saved in ./output/checkpoint-2286/pytorch_model.bin\n",
      "/TGM/Apps/ANACONDA/2021.05/lib/python3.8/site-packages/torch/nn/parallel/_functions.py:68: UserWarning: Was asked to gather along dimension 0, but all input tensors were scalars; will instead unsqueeze and return a vector.\n",
      "  warnings.warn('Was asked to gather along dimension 0, but all '\n",
      "***** Running Evaluation *****\n",
      "  Num examples = 18926\n",
      "  Batch size = 512\n",
      "Saving model checkpoint to ./output/checkpoint-2540\n",
      "Configuration saved in ./output/checkpoint-2540/config.json\n",
      "Model weights saved in ./output/checkpoint-2540/pytorch_model.bin\n",
      "/TGM/Apps/ANACONDA/2021.05/lib/python3.8/site-packages/torch/nn/parallel/_functions.py:68: UserWarning: Was asked to gather along dimension 0, but all input tensors were scalars; will instead unsqueeze and return a vector.\n",
      "  warnings.warn('Was asked to gather along dimension 0, but all '\n",
      "***** Running Evaluation *****\n",
      "  Num examples = 18926\n",
      "  Batch size = 512\n",
      "Saving model checkpoint to ./output/checkpoint-2794\n",
      "Configuration saved in ./output/checkpoint-2794/config.json\n",
      "Model weights saved in ./output/checkpoint-2794/pytorch_model.bin\n",
      "/TGM/Apps/ANACONDA/2021.05/lib/python3.8/site-packages/torch/nn/parallel/_functions.py:68: UserWarning: Was asked to gather along dimension 0, but all input tensors were scalars; will instead unsqueeze and return a vector.\n",
      "  warnings.warn('Was asked to gather along dimension 0, but all '\n",
      "***** Running Evaluation *****\n",
      "  Num examples = 18926\n",
      "  Batch size = 512\n",
      "Saving model checkpoint to ./output/checkpoint-3048\n",
      "Configuration saved in ./output/checkpoint-3048/config.json\n",
      "Model weights saved in ./output/checkpoint-3048/pytorch_model.bin\n",
      "/TGM/Apps/ANACONDA/2021.05/lib/python3.8/site-packages/torch/nn/parallel/_functions.py:68: UserWarning: Was asked to gather along dimension 0, but all input tensors were scalars; will instead unsqueeze and return a vector.\n",
      "  warnings.warn('Was asked to gather along dimension 0, but all '\n",
      "***** Running Evaluation *****\n",
      "  Num examples = 18926\n",
      "  Batch size = 512\n",
      "Saving model checkpoint to ./output/checkpoint-3302\n",
      "Configuration saved in ./output/checkpoint-3302/config.json\n",
      "Model weights saved in ./output/checkpoint-3302/pytorch_model.bin\n",
      "/TGM/Apps/ANACONDA/2021.05/lib/python3.8/site-packages/torch/nn/parallel/_functions.py:68: UserWarning: Was asked to gather along dimension 0, but all input tensors were scalars; will instead unsqueeze and return a vector.\n",
      "  warnings.warn('Was asked to gather along dimension 0, but all '\n",
      "***** Running Evaluation *****\n",
      "  Num examples = 18926\n",
      "  Batch size = 512\n",
      "Saving model checkpoint to ./output/checkpoint-3556\n",
      "Configuration saved in ./output/checkpoint-3556/config.json\n",
      "Model weights saved in ./output/checkpoint-3556/pytorch_model.bin\n",
      "/TGM/Apps/ANACONDA/2021.05/lib/python3.8/site-packages/torch/nn/parallel/_functions.py:68: UserWarning: Was asked to gather along dimension 0, but all input tensors were scalars; will instead unsqueeze and return a vector.\n",
      "  warnings.warn('Was asked to gather along dimension 0, but all '\n",
      "***** Running Evaluation *****\n",
      "  Num examples = 18926\n",
      "  Batch size = 512\n",
      "Saving model checkpoint to ./output/checkpoint-3810\n",
      "Configuration saved in ./output/checkpoint-3810/config.json\n",
      "Model weights saved in ./output/checkpoint-3810/pytorch_model.bin\n",
      "/TGM/Apps/ANACONDA/2021.05/lib/python3.8/site-packages/torch/nn/parallel/_functions.py:68: UserWarning: Was asked to gather along dimension 0, but all input tensors were scalars; will instead unsqueeze and return a vector.\n",
      "  warnings.warn('Was asked to gather along dimension 0, but all '\n",
      "***** Running Evaluation *****\n",
      "  Num examples = 18926\n",
      "  Batch size = 512\n",
      "Saving model checkpoint to ./output/checkpoint-4064\n"
     ]
    },
    {
     "name": "stderr",
     "output_type": "stream",
     "text": [
      "Configuration saved in ./output/checkpoint-4064/config.json\n",
      "Model weights saved in ./output/checkpoint-4064/pytorch_model.bin\n",
      "/TGM/Apps/ANACONDA/2021.05/lib/python3.8/site-packages/torch/nn/parallel/_functions.py:68: UserWarning: Was asked to gather along dimension 0, but all input tensors were scalars; will instead unsqueeze and return a vector.\n",
      "  warnings.warn('Was asked to gather along dimension 0, but all '\n",
      "***** Running Evaluation *****\n",
      "  Num examples = 18926\n",
      "  Batch size = 512\n",
      "Saving model checkpoint to ./output/checkpoint-4318\n",
      "Configuration saved in ./output/checkpoint-4318/config.json\n",
      "Model weights saved in ./output/checkpoint-4318/pytorch_model.bin\n",
      "/TGM/Apps/ANACONDA/2021.05/lib/python3.8/site-packages/torch/nn/parallel/_functions.py:68: UserWarning: Was asked to gather along dimension 0, but all input tensors were scalars; will instead unsqueeze and return a vector.\n",
      "  warnings.warn('Was asked to gather along dimension 0, but all '\n",
      "***** Running Evaluation *****\n",
      "  Num examples = 18926\n",
      "  Batch size = 512\n",
      "Saving model checkpoint to ./output/checkpoint-4572\n",
      "Configuration saved in ./output/checkpoint-4572/config.json\n",
      "Model weights saved in ./output/checkpoint-4572/pytorch_model.bin\n",
      "/TGM/Apps/ANACONDA/2021.05/lib/python3.8/site-packages/torch/nn/parallel/_functions.py:68: UserWarning: Was asked to gather along dimension 0, but all input tensors were scalars; will instead unsqueeze and return a vector.\n",
      "  warnings.warn('Was asked to gather along dimension 0, but all '\n",
      "***** Running Evaluation *****\n",
      "  Num examples = 18926\n",
      "  Batch size = 512\n",
      "Saving model checkpoint to ./output/checkpoint-4826\n",
      "Configuration saved in ./output/checkpoint-4826/config.json\n",
      "Model weights saved in ./output/checkpoint-4826/pytorch_model.bin\n",
      "/TGM/Apps/ANACONDA/2021.05/lib/python3.8/site-packages/torch/nn/parallel/_functions.py:68: UserWarning: Was asked to gather along dimension 0, but all input tensors were scalars; will instead unsqueeze and return a vector.\n",
      "  warnings.warn('Was asked to gather along dimension 0, but all '\n",
      "***** Running Evaluation *****\n",
      "  Num examples = 18926\n",
      "  Batch size = 512\n",
      "Saving model checkpoint to ./output/checkpoint-5080\n",
      "Configuration saved in ./output/checkpoint-5080/config.json\n",
      "Model weights saved in ./output/checkpoint-5080/pytorch_model.bin\n",
      "/TGM/Apps/ANACONDA/2021.05/lib/python3.8/site-packages/torch/nn/parallel/_functions.py:68: UserWarning: Was asked to gather along dimension 0, but all input tensors were scalars; will instead unsqueeze and return a vector.\n",
      "  warnings.warn('Was asked to gather along dimension 0, but all '\n",
      "***** Running Evaluation *****\n",
      "  Num examples = 18926\n",
      "  Batch size = 512\n",
      "Saving model checkpoint to ./output/checkpoint-5334\n",
      "Configuration saved in ./output/checkpoint-5334/config.json\n",
      "Model weights saved in ./output/checkpoint-5334/pytorch_model.bin\n",
      "/TGM/Apps/ANACONDA/2021.05/lib/python3.8/site-packages/torch/nn/parallel/_functions.py:68: UserWarning: Was asked to gather along dimension 0, but all input tensors were scalars; will instead unsqueeze and return a vector.\n",
      "  warnings.warn('Was asked to gather along dimension 0, but all '\n",
      "***** Running Evaluation *****\n",
      "  Num examples = 18926\n",
      "  Batch size = 512\n",
      "Saving model checkpoint to ./output/checkpoint-5588\n",
      "Configuration saved in ./output/checkpoint-5588/config.json\n",
      "Model weights saved in ./output/checkpoint-5588/pytorch_model.bin\n",
      "/TGM/Apps/ANACONDA/2021.05/lib/python3.8/site-packages/torch/nn/parallel/_functions.py:68: UserWarning: Was asked to gather along dimension 0, but all input tensors were scalars; will instead unsqueeze and return a vector.\n",
      "  warnings.warn('Was asked to gather along dimension 0, but all '\n",
      "***** Running Evaluation *****\n",
      "  Num examples = 18926\n",
      "  Batch size = 512\n",
      "Saving model checkpoint to ./output/checkpoint-5842\n",
      "Configuration saved in ./output/checkpoint-5842/config.json\n",
      "Model weights saved in ./output/checkpoint-5842/pytorch_model.bin\n",
      "/TGM/Apps/ANACONDA/2021.05/lib/python3.8/site-packages/torch/nn/parallel/_functions.py:68: UserWarning: Was asked to gather along dimension 0, but all input tensors were scalars; will instead unsqueeze and return a vector.\n",
      "  warnings.warn('Was asked to gather along dimension 0, but all '\n",
      "***** Running Evaluation *****\n",
      "  Num examples = 18926\n",
      "  Batch size = 512\n",
      "Saving model checkpoint to ./output/checkpoint-6096\n",
      "Configuration saved in ./output/checkpoint-6096/config.json\n",
      "Model weights saved in ./output/checkpoint-6096/pytorch_model.bin\n",
      "/TGM/Apps/ANACONDA/2021.05/lib/python3.8/site-packages/torch/nn/parallel/_functions.py:68: UserWarning: Was asked to gather along dimension 0, but all input tensors were scalars; will instead unsqueeze and return a vector.\n",
      "  warnings.warn('Was asked to gather along dimension 0, but all '\n",
      "***** Running Evaluation *****\n",
      "  Num examples = 18926\n",
      "  Batch size = 512\n",
      "Saving model checkpoint to ./output/checkpoint-6350\n",
      "Configuration saved in ./output/checkpoint-6350/config.json\n",
      "Model weights saved in ./output/checkpoint-6350/pytorch_model.bin\n",
      "/TGM/Apps/ANACONDA/2021.05/lib/python3.8/site-packages/torch/nn/parallel/_functions.py:68: UserWarning: Was asked to gather along dimension 0, but all input tensors were scalars; will instead unsqueeze and return a vector.\n",
      "  warnings.warn('Was asked to gather along dimension 0, but all '\n",
      "***** Running Evaluation *****\n",
      "  Num examples = 18926\n",
      "  Batch size = 512\n",
      "Saving model checkpoint to ./output/checkpoint-6604\n",
      "Configuration saved in ./output/checkpoint-6604/config.json\n",
      "Model weights saved in ./output/checkpoint-6604/pytorch_model.bin\n",
      "/TGM/Apps/ANACONDA/2021.05/lib/python3.8/site-packages/torch/nn/parallel/_functions.py:68: UserWarning: Was asked to gather along dimension 0, but all input tensors were scalars; will instead unsqueeze and return a vector.\n",
      "  warnings.warn('Was asked to gather along dimension 0, but all '\n",
      "***** Running Evaluation *****\n",
      "  Num examples = 18926\n",
      "  Batch size = 512\n",
      "Saving model checkpoint to ./output/checkpoint-6858\n",
      "Configuration saved in ./output/checkpoint-6858/config.json\n",
      "Model weights saved in ./output/checkpoint-6858/pytorch_model.bin\n",
      "/TGM/Apps/ANACONDA/2021.05/lib/python3.8/site-packages/torch/nn/parallel/_functions.py:68: UserWarning: Was asked to gather along dimension 0, but all input tensors were scalars; will instead unsqueeze and return a vector.\n",
      "  warnings.warn('Was asked to gather along dimension 0, but all '\n",
      "***** Running Evaluation *****\n",
      "  Num examples = 18926\n",
      "  Batch size = 512\n",
      "Saving model checkpoint to ./output/checkpoint-7112\n",
      "Configuration saved in ./output/checkpoint-7112/config.json\n",
      "Model weights saved in ./output/checkpoint-7112/pytorch_model.bin\n",
      "/TGM/Apps/ANACONDA/2021.05/lib/python3.8/site-packages/torch/nn/parallel/_functions.py:68: UserWarning: Was asked to gather along dimension 0, but all input tensors were scalars; will instead unsqueeze and return a vector.\n",
      "  warnings.warn('Was asked to gather along dimension 0, but all '\n",
      "***** Running Evaluation *****\n",
      "  Num examples = 18926\n",
      "  Batch size = 512\n",
      "Saving model checkpoint to ./output/checkpoint-7366\n",
      "Configuration saved in ./output/checkpoint-7366/config.json\n",
      "Model weights saved in ./output/checkpoint-7366/pytorch_model.bin\n",
      "/TGM/Apps/ANACONDA/2021.05/lib/python3.8/site-packages/torch/nn/parallel/_functions.py:68: UserWarning: Was asked to gather along dimension 0, but all input tensors were scalars; will instead unsqueeze and return a vector.\n",
      "  warnings.warn('Was asked to gather along dimension 0, but all '\n",
      "***** Running Evaluation *****\n",
      "  Num examples = 18926\n",
      "  Batch size = 512\n",
      "Saving model checkpoint to ./output/checkpoint-7620\n",
      "Configuration saved in ./output/checkpoint-7620/config.json\n",
      "Model weights saved in ./output/checkpoint-7620/pytorch_model.bin\n",
      "/TGM/Apps/ANACONDA/2021.05/lib/python3.8/site-packages/torch/nn/parallel/_functions.py:68: UserWarning: Was asked to gather along dimension 0, but all input tensors were scalars; will instead unsqueeze and return a vector.\n",
      "  warnings.warn('Was asked to gather along dimension 0, but all '\n",
      "***** Running Evaluation *****\n",
      "  Num examples = 18926\n",
      "  Batch size = 512\n",
      "Saving model checkpoint to ./output/checkpoint-7874\n",
      "Configuration saved in ./output/checkpoint-7874/config.json\n",
      "Model weights saved in ./output/checkpoint-7874/pytorch_model.bin\n"
     ]
    },
    {
     "name": "stderr",
     "output_type": "stream",
     "text": [
      "/TGM/Apps/ANACONDA/2021.05/lib/python3.8/site-packages/torch/nn/parallel/_functions.py:68: UserWarning: Was asked to gather along dimension 0, but all input tensors were scalars; will instead unsqueeze and return a vector.\n",
      "  warnings.warn('Was asked to gather along dimension 0, but all '\n",
      "***** Running Evaluation *****\n",
      "  Num examples = 18926\n",
      "  Batch size = 512\n",
      "Saving model checkpoint to ./output/checkpoint-8128\n",
      "Configuration saved in ./output/checkpoint-8128/config.json\n",
      "Model weights saved in ./output/checkpoint-8128/pytorch_model.bin\n",
      "/TGM/Apps/ANACONDA/2021.05/lib/python3.8/site-packages/torch/nn/parallel/_functions.py:68: UserWarning: Was asked to gather along dimension 0, but all input tensors were scalars; will instead unsqueeze and return a vector.\n",
      "  warnings.warn('Was asked to gather along dimension 0, but all '\n",
      "***** Running Evaluation *****\n",
      "  Num examples = 18926\n",
      "  Batch size = 512\n",
      "Saving model checkpoint to ./output/checkpoint-8382\n",
      "Configuration saved in ./output/checkpoint-8382/config.json\n",
      "Model weights saved in ./output/checkpoint-8382/pytorch_model.bin\n",
      "/TGM/Apps/ANACONDA/2021.05/lib/python3.8/site-packages/torch/nn/parallel/_functions.py:68: UserWarning: Was asked to gather along dimension 0, but all input tensors were scalars; will instead unsqueeze and return a vector.\n",
      "  warnings.warn('Was asked to gather along dimension 0, but all '\n",
      "***** Running Evaluation *****\n",
      "  Num examples = 18926\n",
      "  Batch size = 512\n",
      "Saving model checkpoint to ./output/checkpoint-8636\n",
      "Configuration saved in ./output/checkpoint-8636/config.json\n",
      "Model weights saved in ./output/checkpoint-8636/pytorch_model.bin\n",
      "/TGM/Apps/ANACONDA/2021.05/lib/python3.8/site-packages/torch/nn/parallel/_functions.py:68: UserWarning: Was asked to gather along dimension 0, but all input tensors were scalars; will instead unsqueeze and return a vector.\n",
      "  warnings.warn('Was asked to gather along dimension 0, but all '\n",
      "***** Running Evaluation *****\n",
      "  Num examples = 18926\n",
      "  Batch size = 512\n",
      "Saving model checkpoint to ./output/checkpoint-8890\n",
      "Configuration saved in ./output/checkpoint-8890/config.json\n",
      "Model weights saved in ./output/checkpoint-8890/pytorch_model.bin\n",
      "/TGM/Apps/ANACONDA/2021.05/lib/python3.8/site-packages/torch/nn/parallel/_functions.py:68: UserWarning: Was asked to gather along dimension 0, but all input tensors were scalars; will instead unsqueeze and return a vector.\n",
      "  warnings.warn('Was asked to gather along dimension 0, but all '\n",
      "***** Running Evaluation *****\n",
      "  Num examples = 18926\n",
      "  Batch size = 512\n",
      "Saving model checkpoint to ./output/checkpoint-9144\n",
      "Configuration saved in ./output/checkpoint-9144/config.json\n",
      "Model weights saved in ./output/checkpoint-9144/pytorch_model.bin\n",
      "/TGM/Apps/ANACONDA/2021.05/lib/python3.8/site-packages/torch/nn/parallel/_functions.py:68: UserWarning: Was asked to gather along dimension 0, but all input tensors were scalars; will instead unsqueeze and return a vector.\n",
      "  warnings.warn('Was asked to gather along dimension 0, but all '\n",
      "***** Running Evaluation *****\n",
      "  Num examples = 18926\n",
      "  Batch size = 512\n",
      "Saving model checkpoint to ./output/checkpoint-9398\n",
      "Configuration saved in ./output/checkpoint-9398/config.json\n",
      "Model weights saved in ./output/checkpoint-9398/pytorch_model.bin\n",
      "/TGM/Apps/ANACONDA/2021.05/lib/python3.8/site-packages/torch/nn/parallel/_functions.py:68: UserWarning: Was asked to gather along dimension 0, but all input tensors were scalars; will instead unsqueeze and return a vector.\n",
      "  warnings.warn('Was asked to gather along dimension 0, but all '\n",
      "***** Running Evaluation *****\n",
      "  Num examples = 18926\n",
      "  Batch size = 512\n",
      "Saving model checkpoint to ./output/checkpoint-9652\n",
      "Configuration saved in ./output/checkpoint-9652/config.json\n",
      "Model weights saved in ./output/checkpoint-9652/pytorch_model.bin\n",
      "/TGM/Apps/ANACONDA/2021.05/lib/python3.8/site-packages/torch/nn/parallel/_functions.py:68: UserWarning: Was asked to gather along dimension 0, but all input tensors were scalars; will instead unsqueeze and return a vector.\n",
      "  warnings.warn('Was asked to gather along dimension 0, but all '\n",
      "***** Running Evaluation *****\n",
      "  Num examples = 18926\n",
      "  Batch size = 512\n",
      "Saving model checkpoint to ./output/checkpoint-9906\n",
      "Configuration saved in ./output/checkpoint-9906/config.json\n",
      "Model weights saved in ./output/checkpoint-9906/pytorch_model.bin\n",
      "/TGM/Apps/ANACONDA/2021.05/lib/python3.8/site-packages/torch/nn/parallel/_functions.py:68: UserWarning: Was asked to gather along dimension 0, but all input tensors were scalars; will instead unsqueeze and return a vector.\n",
      "  warnings.warn('Was asked to gather along dimension 0, but all '\n",
      "***** Running Evaluation *****\n",
      "  Num examples = 18926\n",
      "  Batch size = 512\n",
      "Saving model checkpoint to ./output/checkpoint-10160\n",
      "Configuration saved in ./output/checkpoint-10160/config.json\n",
      "Model weights saved in ./output/checkpoint-10160/pytorch_model.bin\n",
      "/TGM/Apps/ANACONDA/2021.05/lib/python3.8/site-packages/torch/nn/parallel/_functions.py:68: UserWarning: Was asked to gather along dimension 0, but all input tensors were scalars; will instead unsqueeze and return a vector.\n",
      "  warnings.warn('Was asked to gather along dimension 0, but all '\n",
      "***** Running Evaluation *****\n",
      "  Num examples = 18926\n",
      "  Batch size = 512\n",
      "Saving model checkpoint to ./output/checkpoint-10414\n",
      "Configuration saved in ./output/checkpoint-10414/config.json\n",
      "Model weights saved in ./output/checkpoint-10414/pytorch_model.bin\n",
      "/TGM/Apps/ANACONDA/2021.05/lib/python3.8/site-packages/torch/nn/parallel/_functions.py:68: UserWarning: Was asked to gather along dimension 0, but all input tensors were scalars; will instead unsqueeze and return a vector.\n",
      "  warnings.warn('Was asked to gather along dimension 0, but all '\n",
      "***** Running Evaluation *****\n",
      "  Num examples = 18926\n",
      "  Batch size = 512\n",
      "Saving model checkpoint to ./output/checkpoint-10668\n",
      "Configuration saved in ./output/checkpoint-10668/config.json\n",
      "Model weights saved in ./output/checkpoint-10668/pytorch_model.bin\n",
      "/TGM/Apps/ANACONDA/2021.05/lib/python3.8/site-packages/torch/nn/parallel/_functions.py:68: UserWarning: Was asked to gather along dimension 0, but all input tensors were scalars; will instead unsqueeze and return a vector.\n",
      "  warnings.warn('Was asked to gather along dimension 0, but all '\n",
      "***** Running Evaluation *****\n",
      "  Num examples = 18926\n",
      "  Batch size = 512\n",
      "Saving model checkpoint to ./output/checkpoint-10922\n",
      "Configuration saved in ./output/checkpoint-10922/config.json\n",
      "Model weights saved in ./output/checkpoint-10922/pytorch_model.bin\n",
      "/TGM/Apps/ANACONDA/2021.05/lib/python3.8/site-packages/torch/nn/parallel/_functions.py:68: UserWarning: Was asked to gather along dimension 0, but all input tensors were scalars; will instead unsqueeze and return a vector.\n",
      "  warnings.warn('Was asked to gather along dimension 0, but all '\n",
      "***** Running Evaluation *****\n",
      "  Num examples = 18926\n",
      "  Batch size = 512\n",
      "Saving model checkpoint to ./output/checkpoint-11176\n",
      "Configuration saved in ./output/checkpoint-11176/config.json\n",
      "Model weights saved in ./output/checkpoint-11176/pytorch_model.bin\n",
      "/TGM/Apps/ANACONDA/2021.05/lib/python3.8/site-packages/torch/nn/parallel/_functions.py:68: UserWarning: Was asked to gather along dimension 0, but all input tensors were scalars; will instead unsqueeze and return a vector.\n",
      "  warnings.warn('Was asked to gather along dimension 0, but all '\n",
      "***** Running Evaluation *****\n",
      "  Num examples = 18926\n",
      "  Batch size = 512\n",
      "Saving model checkpoint to ./output/checkpoint-11430\n",
      "Configuration saved in ./output/checkpoint-11430/config.json\n",
      "Model weights saved in ./output/checkpoint-11430/pytorch_model.bin\n",
      "/TGM/Apps/ANACONDA/2021.05/lib/python3.8/site-packages/torch/nn/parallel/_functions.py:68: UserWarning: Was asked to gather along dimension 0, but all input tensors were scalars; will instead unsqueeze and return a vector.\n",
      "  warnings.warn('Was asked to gather along dimension 0, but all '\n",
      "***** Running Evaluation *****\n",
      "  Num examples = 18926\n",
      "  Batch size = 512\n",
      "Saving model checkpoint to ./output/checkpoint-11684\n",
      "Configuration saved in ./output/checkpoint-11684/config.json\n",
      "Model weights saved in ./output/checkpoint-11684/pytorch_model.bin\n",
      "/TGM/Apps/ANACONDA/2021.05/lib/python3.8/site-packages/torch/nn/parallel/_functions.py:68: UserWarning: Was asked to gather along dimension 0, but all input tensors were scalars; will instead unsqueeze and return a vector.\n",
      "  warnings.warn('Was asked to gather along dimension 0, but all '\n"
     ]
    },
    {
     "name": "stderr",
     "output_type": "stream",
     "text": [
      "***** Running Evaluation *****\n",
      "  Num examples = 18926\n",
      "  Batch size = 512\n",
      "Saving model checkpoint to ./output/checkpoint-11938\n",
      "Configuration saved in ./output/checkpoint-11938/config.json\n",
      "Model weights saved in ./output/checkpoint-11938/pytorch_model.bin\n",
      "/TGM/Apps/ANACONDA/2021.05/lib/python3.8/site-packages/torch/nn/parallel/_functions.py:68: UserWarning: Was asked to gather along dimension 0, but all input tensors were scalars; will instead unsqueeze and return a vector.\n",
      "  warnings.warn('Was asked to gather along dimension 0, but all '\n",
      "***** Running Evaluation *****\n",
      "  Num examples = 18926\n",
      "  Batch size = 512\n",
      "Saving model checkpoint to ./output/checkpoint-12192\n",
      "Configuration saved in ./output/checkpoint-12192/config.json\n",
      "Model weights saved in ./output/checkpoint-12192/pytorch_model.bin\n",
      "/TGM/Apps/ANACONDA/2021.05/lib/python3.8/site-packages/torch/nn/parallel/_functions.py:68: UserWarning: Was asked to gather along dimension 0, but all input tensors were scalars; will instead unsqueeze and return a vector.\n",
      "  warnings.warn('Was asked to gather along dimension 0, but all '\n",
      "***** Running Evaluation *****\n",
      "  Num examples = 18926\n",
      "  Batch size = 512\n",
      "Saving model checkpoint to ./output/checkpoint-12446\n",
      "Configuration saved in ./output/checkpoint-12446/config.json\n",
      "Model weights saved in ./output/checkpoint-12446/pytorch_model.bin\n",
      "/TGM/Apps/ANACONDA/2021.05/lib/python3.8/site-packages/torch/nn/parallel/_functions.py:68: UserWarning: Was asked to gather along dimension 0, but all input tensors were scalars; will instead unsqueeze and return a vector.\n",
      "  warnings.warn('Was asked to gather along dimension 0, but all '\n",
      "***** Running Evaluation *****\n",
      "  Num examples = 18926\n",
      "  Batch size = 512\n",
      "Saving model checkpoint to ./output/checkpoint-12700\n",
      "Configuration saved in ./output/checkpoint-12700/config.json\n",
      "Model weights saved in ./output/checkpoint-12700/pytorch_model.bin\n",
      "\n",
      "\n",
      "Training completed. Do not forget to share your model on huggingface.co/models =)\n",
      "\n",
      "\n"
     ]
    },
    {
     "data": {
      "text/plain": [
       "TrainOutput(global_step=12700, training_loss=0.04156467532900375, metrics={'train_runtime': 10477.9196, 'train_samples_per_second': 619.799, 'train_steps_per_second': 1.212, 'total_flos': 4.271941058507405e+17, 'train_loss': 0.04156467532900375, 'epoch': 50.0})"
      ]
     },
     "execution_count": 25,
     "metadata": {},
     "output_type": "execute_result"
    }
   ],
   "source": [
    "trainer.train()"
   ]
  },
  {
   "cell_type": "code",
   "execution_count": null,
   "metadata": {},
   "outputs": [],
   "source": []
  },
  {
   "cell_type": "markdown",
   "metadata": {},
   "source": [
    "## Evaluate"
   ]
  },
  {
   "cell_type": "code",
   "execution_count": 30,
   "metadata": {},
   "outputs": [
    {
     "name": "stderr",
     "output_type": "stream",
     "text": [
      "***** Running Evaluation *****\n",
      "  Num examples = 36726\n",
      "  Batch size = 32\n",
      "Automatic Weights & Biases logging enabled, to disable set os.environ[\"WANDB_DISABLED\"] = \"true\"\n",
      "wandb: Currently logged in as: hyez. Use `wandb login --relogin` to force relogin\n"
     ]
    },
    {
     "data": {
      "text/html": [
       "wandb version 0.12.21 is available!  To upgrade, please run:\n",
       " $ pip install wandb --upgrade"
      ],
      "text/plain": [
       "<IPython.core.display.HTML object>"
      ]
     },
     "metadata": {},
     "output_type": "display_data"
    },
    {
     "data": {
      "text/html": [
       "Tracking run with wandb version 0.12.16"
      ],
      "text/plain": [
       "<IPython.core.display.HTML object>"
      ]
     },
     "metadata": {},
     "output_type": "display_data"
    },
    {
     "data": {
      "text/html": [
       "Run data is saved locally in <code>F:\\Dropbox\\Kisti2022공유\\CODE\\single_sentence_classification\\wandb\\run-20220711_192106-20cjlwkb</code>"
      ],
      "text/plain": [
       "<IPython.core.display.HTML object>"
      ]
     },
     "metadata": {},
     "output_type": "display_data"
    },
    {
     "data": {
      "text/html": [
       "Syncing run <strong><a href=\"https://wandb.ai/hyez/huggingface/runs/20cjlwkb\" target=\"_blank\">TechBERT</a></strong> to <a href=\"https://wandb.ai/hyez/huggingface\" target=\"_blank\">Weights & Biases</a> (<a href=\"https://wandb.me/run\" target=\"_blank\">docs</a>)<br/>"
      ],
      "text/plain": [
       "<IPython.core.display.HTML object>"
      ]
     },
     "metadata": {},
     "output_type": "display_data"
    },
    {
     "data": {
      "text/plain": [
       "{'eval_loss': 0.8843409419059753,\n",
       " 'eval_accuracy': 0.9078309644393617,\n",
       " 'eval_f1_micro': 0.9078309644393617,\n",
       " 'eval_f1_macro': 0.9108687014819773,\n",
       " 'eval_recall': 0.9078309644393617,\n",
       " 'eval_precision': 0.9078309644393617,\n",
       " 'eval_runtime': 103.3469,\n",
       " 'eval_samples_per_second': 355.366,\n",
       " 'eval_steps_per_second': 11.108}"
      ]
     },
     "execution_count": 30,
     "metadata": {},
     "output_type": "execute_result"
    }
   ],
   "source": [
    "trainer.evaluate(test_ds)"
   ]
  },
  {
   "cell_type": "markdown",
   "metadata": {},
   "source": [
    "# predict"
   ]
  },
  {
   "cell_type": "code",
   "execution_count": 25,
   "metadata": {},
   "outputs": [
    {
     "name": "stderr",
     "output_type": "stream",
     "text": [
      "***** Running Prediction *****\n",
      "  Num examples = 36726\n",
      "  Batch size = 32\n"
     ]
    },
    {
     "data": {
      "text/html": [
       "\n",
       "    <div>\n",
       "      \n",
       "      <progress value='2296' max='1148' style='width:300px; height:20px; vertical-align: middle;'></progress>\n",
       "      [1148/1148 03:53]\n",
       "    </div>\n",
       "    "
      ],
      "text/plain": [
       "<IPython.core.display.HTML object>"
      ]
     },
     "metadata": {},
     "output_type": "display_data"
    }
   ],
   "source": [
    "out = trainer.predict(test_ds)"
   ]
  },
  {
   "cell_type": "code",
   "execution_count": 26,
   "metadata": {},
   "outputs": [
    {
     "data": {
      "text/plain": [
       "PredictionOutput(predictions=array([[-2.862384  , -2.158849  , -1.4125412 , ..., -2.3627641 ,\n",
       "        -3.0155668 , -2.5931058 ],\n",
       "       [-1.6986306 , -2.0602121 , 13.641223  , ..., -1.273051  ,\n",
       "        -1.7525449 , -1.2666978 ],\n",
       "       [-0.28530732, -0.11483537, -1.6389393 , ..., -1.5987687 ,\n",
       "         0.42033026, 11.673394  ],\n",
       "       ...,\n",
       "       [-1.5987202 , -1.3299098 , -1.4661098 , ..., -2.3734047 ,\n",
       "        -1.376052  , -1.600936  ],\n",
       "       [-1.8573161 , -2.1491609 , -0.9303596 , ..., -3.830178  ,\n",
       "        -2.4681501 , -2.1512015 ],\n",
       "       [-1.88001   , -2.1349585 , -1.2901493 , ..., -3.6004655 ,\n",
       "        -2.626451  , -2.1330366 ]], dtype=float32), label_ids=array([ 5,  2, 12, ...,  4,  3,  3], dtype=int64), metrics={'test_loss': 0.8843409419059753, 'test_accuracy': 0.9078309644393617, 'test_f1_micro': 0.9078309644393617, 'test_f1_macro': 0.9108687014819773, 'test_recall': 0.9078309644393617, 'test_precision': 0.9078309644393617, 'test_runtime': 102.9005, 'test_samples_per_second': 356.908, 'test_steps_per_second': 11.156})"
      ]
     },
     "execution_count": 26,
     "metadata": {},
     "output_type": "execute_result"
    }
   ],
   "source": [
    "out"
   ]
  },
  {
   "cell_type": "code",
   "execution_count": 27,
   "metadata": {
    "scrolled": true
   },
   "outputs": [
    {
     "name": "stdout",
     "output_type": "stream",
     "text": [
      "---------- confusion matrix(row:true, column:prediction) ----------\n",
      "[[ 824   21    0    0    0    0    0    3    1    0    0    8    4]\n",
      " [  32 1357    3    3    4    2    0    8    3    0    1   49    9]\n",
      " [   3    6 6699   71   24   11    6  161    8   14    5    1    0]\n",
      " [   0    2   66 3697  240  427  181    6   13  142    9    0    0]\n",
      " [   0    1   17  182 3716   13   32    3   10   11    1    0    0]\n",
      " [   0    0   10  268   10 2630   10   14    2    3    1    0    0]\n",
      " [   0    0    8  185   49   12 1855    0   19   71    5    0    0]\n",
      " [   1    1  116    6    2   20    0 3348    0    1    4    0    0]\n",
      " [   0    0   12   18    8    3    9    1 2382    0    2    0    0]\n",
      " [   0    1   10  265   29    7   95    0    6 2263    4    0    0]\n",
      " [   0    0    9   15    6    5    1    0    3    1  569    0    0]\n",
      " [   8   46    1    0    1    0    0    0    1    0    0 3128   69]\n",
      " [  12   18    0    0    0    0    0    0    0    0    0   84  873]]\n",
      "\n",
      "\n",
      " ---------- classification report ----------\n",
      "              precision    recall  f1-score   support\n",
      "\n",
      "    기술의 파급효과       0.94      0.96      0.95       861\n",
      "     기술의 필요성       0.93      0.92      0.93      1471\n",
      "       성능/효과       0.96      0.96      0.96      7009\n",
      "       제안 방법       0.78      0.77      0.78      4783\n",
      "      대상 데이터       0.91      0.93      0.92      3986\n",
      "       문제 정의       0.84      0.89      0.87      2948\n",
      "       이론/모형       0.85      0.84      0.84      2204\n",
      "        후속연구       0.94      0.96      0.95      3499\n",
      "       기술 정의       0.97      0.98      0.98      2435\n",
      "       데이터처리       0.90      0.84      0.87      2680\n",
      "       가설 설정       0.95      0.93      0.94       609\n",
      "        시장동향       0.96      0.96      0.96      3254\n",
      "        기술동향       0.91      0.88      0.90       987\n",
      "\n",
      "    accuracy                           0.91     36726\n",
      "   macro avg       0.91      0.91      0.91     36726\n",
      "weighted avg       0.91      0.91      0.91     36726\n",
      "\n"
     ]
    }
   ],
   "source": [
    "from sklearn.metrics import confusion_matrix, classification_report, precision_recall_fscore_support\n",
    "y_true = out[1]\n",
    "y_pred = np.argmax(out[0], axis=1)\n",
    "\n",
    "print('-'*10, 'confusion matrix(row:true, column:prediction)', '-'*10)\n",
    "print(confusion_matrix(y_true, y_pred))\n",
    "print('\\n\\n', '-'*10, 'classification report', '-'*10)\n",
    "print(classification_report(y_true, y_pred, target_names=list(label_dict.keys())))"
   ]
  },
  {
   "cell_type": "code",
   "execution_count": 45,
   "metadata": {},
   "outputs": [],
   "source": [
    "label_dict_inv = {v: i for i, v in label_dict.items()}"
   ]
  },
  {
   "cell_type": "code",
   "execution_count": 136,
   "metadata": {},
   "outputs": [],
   "source": [
    "mydict = {'target' :[],\n",
    "            'prediction': [],\n",
    "          'text' :[]}\n",
    "for t in range(13):\n",
    "    for p in range(13):\n",
    "        true, pred = t, p\n",
    "        pred_df = pd.DataFrame({'prediction':y_pred.tolist(), 'target':y_true.tolist()})\n",
    "        if pred_df[(pred_df.prediction==pred)&(pred_df.target==true)].shape[0] != 0:\n",
    "            \n",
    "            for i in test.iloc[list(pred_df[(pred_df.prediction==pred)&(pred_df.target==true)].index)].text:\n",
    "                mydict['prediction'].append(label_dict_inv[p])\n",
    "                mydict['target'].append(label_dict_inv[t])\n",
    "                mydict['text'].append(i)"
   ]
  },
  {
   "cell_type": "code",
   "execution_count": 137,
   "metadata": {},
   "outputs": [],
   "source": [
    "pd.DataFrame(mydict).to_csv('./error_test.csv', encoding='utf-8-sig', index = False)"
   ]
  },
  {
   "cell_type": "code",
   "execution_count": null,
   "metadata": {},
   "outputs": [],
   "source": []
  },
  {
   "cell_type": "code",
   "execution_count": 86,
   "metadata": {},
   "outputs": [
    {
     "data": {
      "image/png": "[encoded data removed]",
      "text/plain": [
       "<Figure size 936x720 with 2 Axes>"
      ]
     },
     "metadata": {
      "image/png": {
       "height": 656,
       "width": 762
      },
      "needs_background": "light"
     },
     "output_type": "display_data"
    }
   ],
   "source": [
    "plt.figure(figsize=(13, 10))\n",
    "sns.heatmap(pd.DataFrame(confusion_matrix(y_true, y_pred) - np.diag(np.diag(confusion_matrix(y_true, y_pred))), columns =list(label_dict.keys()), index = list(label_dict.keys())), annot=True, fmt='d')\n",
    "plt.title('confusion matrix(row:true, column:prediction)', fontsize=15)\n",
    "plt.show()"
   ]
  },
  {
   "cell_type": "code",
   "execution_count": 87,
   "metadata": {},
   "outputs": [
    {
     "data": {
      "text/html": [
       "<div>\n",
       "<style scoped>\n",
       "    .dataframe tbody tr th:only-of-type {\n",
       "        vertical-align: middle;\n",
       "    }\n",
       "\n",
       "    .dataframe tbody tr th {\n",
       "        vertical-align: top;\n",
       "    }\n",
       "\n",
       "    .dataframe thead th {\n",
       "        text-align: right;\n",
       "    }\n",
       "</style>\n",
       "<table border=\"1\" class=\"dataframe\">\n",
       "  <thead>\n",
       "    <tr style=\"text-align: right;\">\n",
       "      <th></th>\n",
       "      <th>기술의 파급효과</th>\n",
       "      <th>기술의 필요성</th>\n",
       "      <th>성능/효과</th>\n",
       "      <th>제안 방법</th>\n",
       "      <th>대상 데이터</th>\n",
       "      <th>문제 정의</th>\n",
       "      <th>이론/모형</th>\n",
       "      <th>후속연구</th>\n",
       "      <th>기술 정의</th>\n",
       "      <th>데이터처리</th>\n",
       "      <th>가설 설정</th>\n",
       "      <th>시장동향</th>\n",
       "      <th>기술동향</th>\n",
       "    </tr>\n",
       "  </thead>\n",
       "  <tbody>\n",
       "    <tr>\n",
       "      <th>기술의 파급효과</th>\n",
       "      <td>0</td>\n",
       "      <td>21</td>\n",
       "      <td>0</td>\n",
       "      <td>0</td>\n",
       "      <td>0</td>\n",
       "      <td>0</td>\n",
       "      <td>0</td>\n",
       "      <td>3</td>\n",
       "      <td>1</td>\n",
       "      <td>0</td>\n",
       "      <td>0</td>\n",
       "      <td>8</td>\n",
       "      <td>4</td>\n",
       "    </tr>\n",
       "    <tr>\n",
       "      <th>기술의 필요성</th>\n",
       "      <td>32</td>\n",
       "      <td>0</td>\n",
       "      <td>3</td>\n",
       "      <td>3</td>\n",
       "      <td>4</td>\n",
       "      <td>2</td>\n",
       "      <td>0</td>\n",
       "      <td>8</td>\n",
       "      <td>3</td>\n",
       "      <td>0</td>\n",
       "      <td>1</td>\n",
       "      <td>49</td>\n",
       "      <td>9</td>\n",
       "    </tr>\n",
       "    <tr>\n",
       "      <th>성능/효과</th>\n",
       "      <td>3</td>\n",
       "      <td>6</td>\n",
       "      <td>0</td>\n",
       "      <td>71</td>\n",
       "      <td>24</td>\n",
       "      <td>11</td>\n",
       "      <td>6</td>\n",
       "      <td>161</td>\n",
       "      <td>8</td>\n",
       "      <td>14</td>\n",
       "      <td>5</td>\n",
       "      <td>1</td>\n",
       "      <td>0</td>\n",
       "    </tr>\n",
       "    <tr>\n",
       "      <th>제안 방법</th>\n",
       "      <td>0</td>\n",
       "      <td>2</td>\n",
       "      <td>66</td>\n",
       "      <td>0</td>\n",
       "      <td>240</td>\n",
       "      <td>427</td>\n",
       "      <td>181</td>\n",
       "      <td>6</td>\n",
       "      <td>13</td>\n",
       "      <td>142</td>\n",
       "      <td>9</td>\n",
       "      <td>0</td>\n",
       "      <td>0</td>\n",
       "    </tr>\n",
       "    <tr>\n",
       "      <th>대상 데이터</th>\n",
       "      <td>0</td>\n",
       "      <td>1</td>\n",
       "      <td>17</td>\n",
       "      <td>182</td>\n",
       "      <td>0</td>\n",
       "      <td>13</td>\n",
       "      <td>32</td>\n",
       "      <td>3</td>\n",
       "      <td>10</td>\n",
       "      <td>11</td>\n",
       "      <td>1</td>\n",
       "      <td>0</td>\n",
       "      <td>0</td>\n",
       "    </tr>\n",
       "    <tr>\n",
       "      <th>문제 정의</th>\n",
       "      <td>0</td>\n",
       "      <td>0</td>\n",
       "      <td>10</td>\n",
       "      <td>268</td>\n",
       "      <td>10</td>\n",
       "      <td>0</td>\n",
       "      <td>10</td>\n",
       "      <td>14</td>\n",
       "      <td>2</td>\n",
       "      <td>3</td>\n",
       "      <td>1</td>\n",
       "      <td>0</td>\n",
       "      <td>0</td>\n",
       "    </tr>\n",
       "    <tr>\n",
       "      <th>이론/모형</th>\n",
       "      <td>0</td>\n",
       "      <td>0</td>\n",
       "      <td>8</td>\n",
       "      <td>185</td>\n",
       "      <td>49</td>\n",
       "      <td>12</td>\n",
       "      <td>0</td>\n",
       "      <td>0</td>\n",
       "      <td>19</td>\n",
       "      <td>71</td>\n",
       "      <td>5</td>\n",
       "      <td>0</td>\n",
       "      <td>0</td>\n",
       "    </tr>\n",
       "    <tr>\n",
       "      <th>후속연구</th>\n",
       "      <td>1</td>\n",
       "      <td>1</td>\n",
       "      <td>116</td>\n",
       "      <td>6</td>\n",
       "      <td>2</td>\n",
       "      <td>20</td>\n",
       "      <td>0</td>\n",
       "      <td>0</td>\n",
       "      <td>0</td>\n",
       "      <td>1</td>\n",
       "      <td>4</td>\n",
       "      <td>0</td>\n",
       "      <td>0</td>\n",
       "    </tr>\n",
       "    <tr>\n",
       "      <th>기술 정의</th>\n",
       "      <td>0</td>\n",
       "      <td>0</td>\n",
       "      <td>12</td>\n",
       "      <td>18</td>\n",
       "      <td>8</td>\n",
       "      <td>3</td>\n",
       "      <td>9</td>\n",
       "      <td>1</td>\n",
       "      <td>0</td>\n",
       "      <td>0</td>\n",
       "      <td>2</td>\n",
       "      <td>0</td>\n",
       "      <td>0</td>\n",
       "    </tr>\n",
       "    <tr>\n",
       "      <th>데이터처리</th>\n",
       "      <td>0</td>\n",
       "      <td>1</td>\n",
       "      <td>10</td>\n",
       "      <td>265</td>\n",
       "      <td>29</td>\n",
       "      <td>7</td>\n",
       "      <td>95</td>\n",
       "      <td>0</td>\n",
       "      <td>6</td>\n",
       "      <td>0</td>\n",
       "      <td>4</td>\n",
       "      <td>0</td>\n",
       "      <td>0</td>\n",
       "    </tr>\n",
       "    <tr>\n",
       "      <th>가설 설정</th>\n",
       "      <td>0</td>\n",
       "      <td>0</td>\n",
       "      <td>9</td>\n",
       "      <td>15</td>\n",
       "      <td>6</td>\n",
       "      <td>5</td>\n",
       "      <td>1</td>\n",
       "      <td>0</td>\n",
       "      <td>3</td>\n",
       "      <td>1</td>\n",
       "      <td>0</td>\n",
       "      <td>0</td>\n",
       "      <td>0</td>\n",
       "    </tr>\n",
       "    <tr>\n",
       "      <th>시장동향</th>\n",
       "      <td>8</td>\n",
       "      <td>46</td>\n",
       "      <td>1</td>\n",
       "      <td>0</td>\n",
       "      <td>1</td>\n",
       "      <td>0</td>\n",
       "      <td>0</td>\n",
       "      <td>0</td>\n",
       "      <td>1</td>\n",
       "      <td>0</td>\n",
       "      <td>0</td>\n",
       "      <td>0</td>\n",
       "      <td>69</td>\n",
       "    </tr>\n",
       "    <tr>\n",
       "      <th>기술동향</th>\n",
       "      <td>12</td>\n",
       "      <td>18</td>\n",
       "      <td>0</td>\n",
       "      <td>0</td>\n",
       "      <td>0</td>\n",
       "      <td>0</td>\n",
       "      <td>0</td>\n",
       "      <td>0</td>\n",
       "      <td>0</td>\n",
       "      <td>0</td>\n",
       "      <td>0</td>\n",
       "      <td>84</td>\n",
       "      <td>0</td>\n",
       "    </tr>\n",
       "  </tbody>\n",
       "</table>\n",
       "</div>"
      ],
      "text/plain": [
       "          기술의 파급효과  기술의 필요성  성능/효과  제안 방법  대상 데이터  문제 정의  이론/모형  후속연구  기술 정의  \\\n",
       "기술의 파급효과         0       21      0      0       0      0      0     3      1   \n",
       "기술의 필요성         32        0      3      3       4      2      0     8      3   \n",
       "성능/효과            3        6      0     71      24     11      6   161      8   \n",
       "제안 방법            0        2     66      0     240    427    181     6     13   \n",
       "대상 데이터           0        1     17    182       0     13     32     3     10   \n",
       "문제 정의            0        0     10    268      10      0     10    14      2   \n",
       "이론/모형            0        0      8    185      49     12      0     0     19   \n",
       "후속연구             1        1    116      6       2     20      0     0      0   \n",
       "기술 정의            0        0     12     18       8      3      9     1      0   \n",
       "데이터처리            0        1     10    265      29      7     95     0      6   \n",
       "가설 설정            0        0      9     15       6      5      1     0      3   \n",
       "시장동향             8       46      1      0       1      0      0     0      1   \n",
       "기술동향            12       18      0      0       0      0      0     0      0   \n",
       "\n",
       "          데이터처리  가설 설정  시장동향  기술동향  \n",
       "기술의 파급효과      0      0     8     4  \n",
       "기술의 필요성       0      1    49     9  \n",
       "성능/효과        14      5     1     0  \n",
       "제안 방법       142      9     0     0  \n",
       "대상 데이터       11      1     0     0  \n",
       "문제 정의         3      1     0     0  \n",
       "이론/모형        71      5     0     0  \n",
       "후속연구          1      4     0     0  \n",
       "기술 정의         0      2     0     0  \n",
       "데이터처리         0      4     0     0  \n",
       "가설 설정         1      0     0     0  \n",
       "시장동향          0      0     0    69  \n",
       "기술동향          0      0    84     0  "
      ]
     },
     "execution_count": 87,
     "metadata": {},
     "output_type": "execute_result"
    }
   ],
   "source": [
    "pd.DataFrame(confusion_matrix(y_true, y_pred) - np.diag(np.diag(confusion_matrix(y_true, y_pred))), columns =list(label_dict.keys()), index = list(label_dict.keys()))"
   ]
  },
  {
   "cell_type": "code",
   "execution_count": 44,
   "metadata": {},
   "outputs": [
    {
     "data": {
      "text/plain": [
       "['기술의 파급효과',\n",
       " '기술의 필요성',\n",
       " '성능/효과',\n",
       " '제안 방법',\n",
       " '대상 데이터',\n",
       " '문제 정의',\n",
       " '이론/모형',\n",
       " '후속연구',\n",
       " '기술 정의',\n",
       " '데이터처리',\n",
       " '가설 설정',\n",
       " '시장동향',\n",
       " '기술동향']"
      ]
     },
     "execution_count": 44,
     "metadata": {},
     "output_type": "execute_result"
    }
   ],
   "source": [
    "list(label_dict.keys())"
   ]
  },
  {
   "cell_type": "code",
   "execution_count": null,
   "metadata": {},
   "outputs": [],
   "source": []
  },
  {
   "cell_type": "code",
   "execution_count": null,
   "metadata": {},
   "outputs": [],
   "source": []
  },
  {
   "cell_type": "code",
   "execution_count": null,
   "metadata": {},
   "outputs": [],
   "source": []
  },
  {
   "cell_type": "markdown",
   "metadata": {},
   "source": [
    "# Best Model Checkpoint"
   ]
  },
  {
   "cell_type": "code",
   "execution_count": 49,
   "metadata": {},
   "outputs": [],
   "source": [
    "len(os.listdir('./output'))\n",
    "best_acc_path = os.listdir('./output')[1]\n",
    "best_f1_path = os.listdir('./output')[5]"
   ]
  },
  {
   "cell_type": "code",
   "execution_count": 53,
   "metadata": {},
   "outputs": [
    {
     "name": "stderr",
     "output_type": "stream",
     "text": [
      "loading configuration file ./output/checkpoint-508/config.json\n",
      "Model config BertConfig {\n",
      "  \"_name_or_path\": \"./40ep_train9/\",\n",
      "  \"architectures\": [\n",
      "    \"BertForSequenceClassification\"\n",
      "  ],\n",
      "  \"attention_probs_dropout_prob\": 0.1,\n",
      "  \"classifier_dropout\": null,\n",
      "  \"gradient_checkpointing\": false,\n",
      "  \"hidden_act\": \"gelu\",\n",
      "  \"hidden_dropout_prob\": 0.1,\n",
      "  \"hidden_size\": 768,\n",
      "  \"id2label\": {\n",
      "    \"0\": \"LABEL_0\",\n",
      "    \"1\": \"LABEL_1\",\n",
      "    \"2\": \"LABEL_2\",\n",
      "    \"3\": \"LABEL_3\",\n",
      "    \"4\": \"LABEL_4\",\n",
      "    \"5\": \"LABEL_5\",\n",
      "    \"6\": \"LABEL_6\",\n",
      "    \"7\": \"LABEL_7\",\n",
      "    \"8\": \"LABEL_8\",\n",
      "    \"9\": \"LABEL_9\",\n",
      "    \"10\": \"LABEL_10\",\n",
      "    \"11\": \"LABEL_11\",\n",
      "    \"12\": \"LABEL_12\"\n",
      "  },\n",
      "  \"initializer_range\": 0.02,\n",
      "  \"intermediate_size\": 3072,\n",
      "  \"label2id\": {\n",
      "    \"LABEL_0\": 0,\n",
      "    \"LABEL_1\": 1,\n",
      "    \"LABEL_10\": 10,\n",
      "    \"LABEL_11\": 11,\n",
      "    \"LABEL_12\": 12,\n",
      "    \"LABEL_2\": 2,\n",
      "    \"LABEL_3\": 3,\n",
      "    \"LABEL_4\": 4,\n",
      "    \"LABEL_5\": 5,\n",
      "    \"LABEL_6\": 6,\n",
      "    \"LABEL_7\": 7,\n",
      "    \"LABEL_8\": 8,\n",
      "    \"LABEL_9\": 9\n",
      "  },\n",
      "  \"layer_norm_eps\": 1e-12,\n",
      "  \"max_position_embeddings\": 128,\n",
      "  \"model_type\": \"bert\",\n",
      "  \"num_attention_heads\": 12,\n",
      "  \"num_hidden_layers\": 12,\n",
      "  \"pad_token_id\": 0,\n",
      "  \"position_embedding_type\": \"absolute\",\n",
      "  \"problem_type\": \"single_label_classification\",\n",
      "  \"torch_dtype\": \"float32\",\n",
      "  \"transformers_version\": \"4.16.2\",\n",
      "  \"type_vocab_size\": 2,\n",
      "  \"use_cache\": true,\n",
      "  \"vocab_size\": 40000\n",
      "}\n",
      "\n",
      "loading weights file ./output/checkpoint-508/pytorch_model.bin\n",
      "All model checkpoint weights were used when initializing BertForSequenceClassification.\n",
      "\n",
      "All the weights of BertForSequenceClassification were initialized from the model checkpoint at ./output/checkpoint-508.\n",
      "If your task is similar to the task the model of the checkpoint was trained on, you can already use BertForSequenceClassification for predictions without further training.\n",
      "loading configuration file ./output/checkpoint-1524/config.json\n",
      "Model config BertConfig {\n",
      "  \"_name_or_path\": \"./40ep_train9/\",\n",
      "  \"architectures\": [\n",
      "    \"BertForSequenceClassification\"\n",
      "  ],\n",
      "  \"attention_probs_dropout_prob\": 0.1,\n",
      "  \"classifier_dropout\": null,\n",
      "  \"gradient_checkpointing\": false,\n",
      "  \"hidden_act\": \"gelu\",\n",
      "  \"hidden_dropout_prob\": 0.1,\n",
      "  \"hidden_size\": 768,\n",
      "  \"id2label\": {\n",
      "    \"0\": \"LABEL_0\",\n",
      "    \"1\": \"LABEL_1\",\n",
      "    \"2\": \"LABEL_2\",\n",
      "    \"3\": \"LABEL_3\",\n",
      "    \"4\": \"LABEL_4\",\n",
      "    \"5\": \"LABEL_5\",\n",
      "    \"6\": \"LABEL_6\",\n",
      "    \"7\": \"LABEL_7\",\n",
      "    \"8\": \"LABEL_8\",\n",
      "    \"9\": \"LABEL_9\",\n",
      "    \"10\": \"LABEL_10\",\n",
      "    \"11\": \"LABEL_11\",\n",
      "    \"12\": \"LABEL_12\"\n",
      "  },\n",
      "  \"initializer_range\": 0.02,\n",
      "  \"intermediate_size\": 3072,\n",
      "  \"label2id\": {\n",
      "    \"LABEL_0\": 0,\n",
      "    \"LABEL_1\": 1,\n",
      "    \"LABEL_10\": 10,\n",
      "    \"LABEL_11\": 11,\n",
      "    \"LABEL_12\": 12,\n",
      "    \"LABEL_2\": 2,\n",
      "    \"LABEL_3\": 3,\n",
      "    \"LABEL_4\": 4,\n",
      "    \"LABEL_5\": 5,\n",
      "    \"LABEL_6\": 6,\n",
      "    \"LABEL_7\": 7,\n",
      "    \"LABEL_8\": 8,\n",
      "    \"LABEL_9\": 9\n",
      "  },\n",
      "  \"layer_norm_eps\": 1e-12,\n",
      "  \"max_position_embeddings\": 128,\n",
      "  \"model_type\": \"bert\",\n",
      "  \"num_attention_heads\": 12,\n",
      "  \"num_hidden_layers\": 12,\n",
      "  \"pad_token_id\": 0,\n",
      "  \"position_embedding_type\": \"absolute\",\n",
      "  \"problem_type\": \"single_label_classification\",\n",
      "  \"torch_dtype\": \"float32\",\n",
      "  \"transformers_version\": \"4.16.2\",\n",
      "  \"type_vocab_size\": 2,\n",
      "  \"use_cache\": true,\n",
      "  \"vocab_size\": 40000\n",
      "}\n",
      "\n",
      "loading weights file ./output/checkpoint-1524/pytorch_model.bin\n",
      "All model checkpoint weights were used when initializing BertForSequenceClassification.\n",
      "\n",
      "All the weights of BertForSequenceClassification were initialized from the model checkpoint at ./output/checkpoint-1524.\n",
      "If your task is similar to the task the model of the checkpoint was trained on, you can already use BertForSequenceClassification for predictions without further training.\n"
     ]
    }
   ],
   "source": [
    "# BERT Pre-trained Model\n",
    "model_acc = BertForSequenceClassification.from_pretrained('./output/'+best_acc_path,\n",
    "                                                      num_labels=len(label_dict),\n",
    "                                                      output_attentions=False,\n",
    "                                                      output_hidden_states=False)\n",
    "\n",
    "model_f1 = BertForSequenceClassification.from_pretrained('./output/'+best_f1_path,\n",
    "                                                      num_labels=len(label_dict),\n",
    "                                                      output_attentions=False,\n",
    "                                                      output_hidden_states=False)"
   ]
  },
  {
   "cell_type": "code",
   "execution_count": 55,
   "metadata": {},
   "outputs": [],
   "source": [
    "trainer_acc = Trainer(\n",
    "    args=training_args,\n",
    "    data_collator=batchify,\n",
    "    model=model_acc,\n",
    "    train_dataset=train_ds,\n",
    "    eval_dataset=valid_ds,\n",
    "    compute_metrics=compute_metrics\n",
    ")\n",
    "\n",
    "trainer_f1 = Trainer(\n",
    "    args=training_args,\n",
    "    data_collator=batchify,\n",
    "    model=model_f1,\n",
    "    train_dataset=train_ds,\n",
    "    eval_dataset=valid_ds,\n",
    "    compute_metrics=compute_metrics\n",
    ")"
   ]
  },
  {
   "cell_type": "code",
   "execution_count": 57,
   "metadata": {},
   "outputs": [
    {
     "name": "stderr",
     "output_type": "stream",
     "text": [
      "***** Running Evaluation *****\n",
      "  Num examples = 36739\n",
      "  Batch size = 512\n",
      "/TGM/Apps/ANACONDA/2021.05/lib/python3.8/site-packages/torch/nn/parallel/_functions.py:68: UserWarning: Was asked to gather along dimension 0, but all input tensors were scalars; will instead unsqueeze and return a vector.\n",
      "  warnings.warn('Was asked to gather along dimension 0, but all '\n"
     ]
    },
    {
     "data": {
      "text/plain": [
       "{'eval_loss': 0.3586953580379486,\n",
       " 'eval_accuracy': 0.8698930292060209,\n",
       " 'eval_f1_micro': 0.8698930292060209,\n",
       " 'eval_f1_macro': 0.8482307699894137,\n",
       " 'eval_recall': 0.8698930292060209,\n",
       " 'eval_precision': 0.8698930292060209,\n",
       " 'eval_runtime': 27.9643,\n",
       " 'eval_samples_per_second': 1313.782,\n",
       " 'eval_steps_per_second': 2.575}"
      ]
     },
     "execution_count": 57,
     "metadata": {},
     "output_type": "execute_result"
    }
   ],
   "source": [
    "trainer_acc.evaluate(test_ds)"
   ]
  },
  {
   "cell_type": "code",
   "execution_count": 56,
   "metadata": {},
   "outputs": [
    {
     "name": "stderr",
     "output_type": "stream",
     "text": [
      "***** Running Evaluation *****\n",
      "  Num examples = 36739\n",
      "  Batch size = 512\n",
      "/TGM/Apps/ANACONDA/2021.05/lib/python3.8/site-packages/torch/nn/parallel/_functions.py:68: UserWarning: Was asked to gather along dimension 0, but all input tensors were scalars; will instead unsqueeze and return a vector.\n",
      "  warnings.warn('Was asked to gather along dimension 0, but all '\n"
     ]
    },
    {
     "data": {
      "text/html": [
       "\n",
       "    <div>\n",
       "      \n",
       "      <progress value='144' max='72' style='width:300px; height:20px; vertical-align: middle;'></progress>\n",
       "      [72/72 04:27]\n",
       "    </div>\n",
       "    "
      ],
      "text/plain": [
       "<IPython.core.display.HTML object>"
      ]
     },
     "metadata": {},
     "output_type": "display_data"
    },
    {
     "name": "stderr",
     "output_type": "stream",
     "text": [
      "Automatic Weights & Biases logging enabled, to disable set os.environ[\"WANDB_DISABLED\"] = \"true\"\n",
      "***** Running Evaluation *****\n",
      "  Num examples = 36739\n",
      "  Batch size = 512\n",
      "/TGM/Apps/ANACONDA/2021.05/lib/python3.8/site-packages/torch/nn/parallel/_functions.py:68: UserWarning: Was asked to gather along dimension 0, but all input tensors were scalars; will instead unsqueeze and return a vector.\n",
      "  warnings.warn('Was asked to gather along dimension 0, but all '\n"
     ]
    },
    {
     "data": {
      "text/html": [
       "\n",
       "    <div>\n",
       "      \n",
       "      <progress value='72' max='72' style='width:300px; height:20px; vertical-align: middle;'></progress>\n",
       "      [72/72 00:27]\n",
       "    </div>\n",
       "    "
      ],
      "text/plain": [
       "<IPython.core.display.HTML object>"
      ]
     },
     "metadata": {},
     "output_type": "display_data"
    },
    {
     "name": "stderr",
     "output_type": "stream",
     "text": [
      "Automatic Weights & Biases logging enabled, to disable set os.environ[\"WANDB_DISABLED\"] = \"true\"\n"
     ]
    },
    {
     "data": {
      "text/plain": [
       "{'eval_loss': 0.5165570378303528,\n",
       " 'eval_accuracy': 0.8717983614143009,\n",
       " 'eval_f1_micro': 0.8717983614143009,\n",
       " 'eval_f1_macro': 0.8583376749304781,\n",
       " 'eval_recall': 0.8717983614143009,\n",
       " 'eval_precision': 0.8717983614143009,\n",
       " 'eval_runtime': 28.0147,\n",
       " 'eval_samples_per_second': 1311.419,\n",
       " 'eval_steps_per_second': 2.57}"
      ]
     },
     "execution_count": 56,
     "metadata": {},
     "output_type": "execute_result"
    }
   ],
   "source": [
    "trainer_f1.evaluate(test_ds)"
   ]
  }
 ],
 "metadata": {
  "kernelspec": {
   "display_name": "Python 3",
   "language": "python",
   "name": "python3"
  },
  "language_info": {
   "codemirror_mode": {
    "name": "ipython",
    "version": 3
   },
   "file_extension": ".py",
   "mimetype": "text/x-python",
   "name": "python",
   "nbconvert_exporter": "python",
   "pygments_lexer": "ipython3",
   "version": "3.7.6"
  }
 },
 "nbformat": 4,
 "nbformat_minor": 4
}
