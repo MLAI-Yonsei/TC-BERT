{
 "cells": [
  {
   "cell_type": "markdown",
   "metadata": {},
   "source": [
    "# single text(sentence) classification\n",
    "\n",
    "- 과학 기술 태그(9) + 기술 문서 태그(4) = (11)\n",
    "- 전처리 유무 : O\n",
    "- Data Sampling : X"
   ]
  },
  {
   "cell_type": "markdown",
   "metadata": {},
   "source": [
    "## module import"
   ]
  },
  {
   "cell_type": "code",
   "execution_count": 1,
   "metadata": {},
   "outputs": [],
   "source": [
    "import torch\n",
    "import pandas as pd\n",
    "import numpy as np; import random\n",
    "import os\n",
    "os.environ[\"TOKENIZERS_PARALLELISM\"] = \"false\"\n",
    "\n",
    "from sklearn.model_selection import train_test_split\n",
    "from datasets import Dataset, DatasetDict\n",
    "\n",
    "from transformers import BertForSequenceClassification, BertTokenizerFast"
   ]
  },
  {
   "cell_type": "code",
   "execution_count": 2,
   "metadata": {},
   "outputs": [],
   "source": [
    "import matplotlib.pyplot as plt\n",
    "import seaborn as sns\n",
    "%matplotlib inline\n",
    "\n",
    "plt.rc('font', family='Malgun Gothic')\n",
    "plt.rc('axes', unicode_minus=False) # 마이너스 폰트 설정\n",
    "\n",
    "# 글씨 선명하게 출력하는 설정\n",
    "%config InlineBackend.figure_format = 'retina'"
   ]
  },
  {
   "cell_type": "code",
   "execution_count": 3,
   "metadata": {},
   "outputs": [],
   "source": [
    "## 경로 설정\n",
    "vocab_path: str = '/disk/changdae/TechBERT/vocab/'\n",
    "model_path: str = '/disk/changdae/TechBERT/pretrained/40ep_train9/'\n",
    "data_path: str = '/disk/changdae/TechBERT/data/total_v2.1.csv'\n",
    "test_path: str = '/disk/changdae/TechBERT/data/etri_changdae_AFTER.csv'\n",
    "output_path: str = './finetune_output/'"
   ]
  },
  {
   "cell_type": "code",
   "execution_count": 4,
   "metadata": {},
   "outputs": [],
   "source": [
    "# randomness 제어\n",
    "def set_seed(random_seed):\n",
    "    torch.manual_seed(random_seed)\n",
    "    torch.cuda.manual_seed(random_seed)\n",
    "    torch.cuda.manual_seed_all(random_seed) # if use multi-GPU\n",
    "    torch.backends.cudnn.deterministic = True\n",
    "    torch.backends.cudnn.benchmark = False\n",
    "    np.random.seed(random_seed)\n",
    "    random.seed(random_seed)\n",
    "set_seed(12345)"
   ]
  },
  {
   "cell_type": "code",
   "execution_count": 7,
   "metadata": {},
   "outputs": [],
   "source": [
    "# import wandb\n",
    "# !wandb login "
   ]
  },
  {
   "cell_type": "markdown",
   "metadata": {},
   "source": [
    "## Load Dataset"
   ]
  },
  {
   "cell_type": "code",
   "execution_count": 5,
   "metadata": {},
   "outputs": [
    {
     "name": "stdout",
     "output_type": "stream",
     "text": [
      "(185478, 3)\n",
      "text      0\n",
      "tag       0\n",
      "source    0\n",
      "dtype: int64\n"
     ]
    },
    {
     "data": {
      "text/html": [
       "<div>\n",
       "<style scoped>\n",
       "    .dataframe tbody tr th:only-of-type {\n",
       "        vertical-align: middle;\n",
       "    }\n",
       "\n",
       "    .dataframe tbody tr th {\n",
       "        vertical-align: top;\n",
       "    }\n",
       "\n",
       "    .dataframe thead th {\n",
       "        text-align: right;\n",
       "    }\n",
       "</style>\n",
       "<table border=\"1\" class=\"dataframe\">\n",
       "  <thead>\n",
       "    <tr style=\"text-align: right;\">\n",
       "      <th></th>\n",
       "      <th>text</th>\n",
       "      <th>tag</th>\n",
       "      <th>source</th>\n",
       "    </tr>\n",
       "  </thead>\n",
       "  <tbody>\n",
       "    <tr>\n",
       "      <th>0</th>\n",
       "      <td>비접촉식 상황인지 센서: 움직이는 대상물 탐지센서</td>\n",
       "      <td>기술의 파급효과</td>\n",
       "      <td>etri</td>\n",
       "    </tr>\n",
       "    <tr>\n",
       "      <th>1</th>\n",
       "      <td>비접촉 생체신호 모니터링 의료용기기, 헬스케어모니터링 기기</td>\n",
       "      <td>기술의 파급효과</td>\n",
       "      <td>etri</td>\n",
       "    </tr>\n",
       "    <tr>\n",
       "      <th>2</th>\n",
       "      <td>차량내 운전자 상태 모니터링 센서</td>\n",
       "      <td>기술의 파급효과</td>\n",
       "      <td>etri</td>\n",
       "    </tr>\n",
       "    <tr>\n",
       "      <th>3</th>\n",
       "      <td>강설량 측정, 비파괴 벽투과 센서</td>\n",
       "      <td>기술의 파급효과</td>\n",
       "      <td>etri</td>\n",
       "    </tr>\n",
       "    <tr>\n",
       "      <th>4</th>\n",
       "      <td>재난 안전 모니터링용 센서 및 안전 사고후 비가시 영역 탐지 센서</td>\n",
       "      <td>기술의 파급효과</td>\n",
       "      <td>etri</td>\n",
       "    </tr>\n",
       "  </tbody>\n",
       "</table>\n",
       "</div>"
      ],
      "text/plain": [
       "                                   text       tag source\n",
       "0           비접촉식 상황인지 센서: 움직이는 대상물 탐지센서  기술의 파급효과   etri\n",
       "1      비접촉 생체신호 모니터링 의료용기기, 헬스케어모니터링 기기  기술의 파급효과   etri\n",
       "2                    차량내 운전자 상태 모니터링 센서  기술의 파급효과   etri\n",
       "3                    강설량 측정, 비파괴 벽투과 센서  기술의 파급효과   etri\n",
       "4  재난 안전 모니터링용 센서 및 안전 사고후 비가시 영역 탐지 센서  기술의 파급효과   etri"
      ]
     },
     "execution_count": 5,
     "metadata": {},
     "output_type": "execute_result"
    }
   ],
   "source": [
    "df = pd.read_csv(data_path)\n",
    "print(df.shape)\n",
    "print(df.isna().sum())\n",
    "df.head()"
   ]
  },
  {
   "cell_type": "code",
   "execution_count": 6,
   "metadata": {},
   "outputs": [],
   "source": [
    "# 결측치 제거\n",
    "df = df.dropna()\n",
    "\n",
    "s = df.source=='etri' # etri train data에서 제거\n",
    "df = df[~s].reset_index(drop=True)"
   ]
  },
  {
   "cell_type": "code",
   "execution_count": 7,
   "metadata": {},
   "outputs": [
    {
     "name": "stdout",
     "output_type": "stream",
     "text": [
      "(33773, 4)\n",
      "text      0\n",
      "tag       0\n",
      "source    0\n",
      "doc_id    0\n",
      "dtype: int64\n"
     ]
    },
    {
     "data": {
      "text/html": [
       "<div>\n",
       "<style scoped>\n",
       "    .dataframe tbody tr th:only-of-type {\n",
       "        vertical-align: middle;\n",
       "    }\n",
       "\n",
       "    .dataframe tbody tr th {\n",
       "        vertical-align: top;\n",
       "    }\n",
       "\n",
       "    .dataframe thead th {\n",
       "        text-align: right;\n",
       "    }\n",
       "</style>\n",
       "<table border=\"1\" class=\"dataframe\">\n",
       "  <thead>\n",
       "    <tr style=\"text-align: right;\">\n",
       "      <th></th>\n",
       "      <th>text</th>\n",
       "      <th>tag</th>\n",
       "      <th>source</th>\n",
       "      <th>doc_id</th>\n",
       "    </tr>\n",
       "  </thead>\n",
       "  <tbody>\n",
       "    <tr>\n",
       "      <th>0</th>\n",
       "      <td>다매체 다중경로 적응적 네트워크 최적화 기술</td>\n",
       "      <td>기술명</td>\n",
       "      <td>etri</td>\n",
       "      <td>0</td>\n",
       "    </tr>\n",
       "    <tr>\n",
       "      <th>1</th>\n",
       "      <td>국방망과 같은 절대적 생존을 요구하는 주요 통신망은 다수개의 망을 설치하여 유사시 ...</td>\n",
       "      <td>기술개요</td>\n",
       "      <td>etri</td>\n",
       "      <td>0</td>\n",
       "    </tr>\n",
       "    <tr>\n",
       "      <th>2</th>\n",
       "      <td>또한, 데이터센터, 에지 클라우드에서는 전송해야 하는 데이터양이 급증하고 있으며, ...</td>\n",
       "      <td>기술개요</td>\n",
       "      <td>etri</td>\n",
       "      <td>0</td>\n",
       "    </tr>\n",
       "    <tr>\n",
       "      <th>3</th>\n",
       "      <td>따라서, 가용한 모든 통신 인프라를 동시에 사용하여 네트워크 자원의 낭비를 막고 통...</td>\n",
       "      <td>기술개요</td>\n",
       "      <td>etri</td>\n",
       "      <td>0</td>\n",
       "    </tr>\n",
       "    <tr>\n",
       "      <th>4</th>\n",
       "      <td>본 기술은 다매체 다중경로 네트워크에 대한 적응적 제어 기술을 이용해 트래픽을 여러...</td>\n",
       "      <td>기술개요</td>\n",
       "      <td>etri</td>\n",
       "      <td>0</td>\n",
       "    </tr>\n",
       "  </tbody>\n",
       "</table>\n",
       "</div>"
      ],
      "text/plain": [
       "                                                text   tag source  doc_id\n",
       "0                           다매체 다중경로 적응적 네트워크 최적화 기술   기술명   etri       0\n",
       "1  국방망과 같은 절대적 생존을 요구하는 주요 통신망은 다수개의 망을 설치하여 유사시 ...  기술개요   etri       0\n",
       "2  또한, 데이터센터, 에지 클라우드에서는 전송해야 하는 데이터양이 급증하고 있으며, ...  기술개요   etri       0\n",
       "3  따라서, 가용한 모든 통신 인프라를 동시에 사용하여 네트워크 자원의 낭비를 막고 통...  기술개요   etri       0\n",
       "4  본 기술은 다매체 다중경로 네트워크에 대한 적응적 제어 기술을 이용해 트래픽을 여러...  기술개요   etri       0"
      ]
     },
     "execution_count": 7,
     "metadata": {},
     "output_type": "execute_result"
    }
   ],
   "source": [
    "# etri load\n",
    "test_df = pd.read_csv(test_path, encoding='cp949')\n",
    "print(test_df.shape)\n",
    "print(test_df.isna().sum())\n",
    "test_df.tag = test_df.tag.replace({'기술의필요성':'기술의 필요성'})\n",
    "test_df.tag = test_df.tag.replace({'기술동향':'기술의 파급효과'})\n",
    "test_df.head()"
   ]
  },
  {
   "cell_type": "markdown",
   "metadata": {},
   "source": [
    "- input : text\n",
    "- label : tag"
   ]
  },
  {
   "cell_type": "code",
   "execution_count": 8,
   "metadata": {},
   "outputs": [],
   "source": [
    "# y dict 생성\n",
    "possible_labels = df.tag.unique()\n",
    "\n",
    "label_dict = {}\n",
    "for index, possible_label in enumerate(possible_labels):\n",
    "    label_dict[possible_label] = index\n",
    "\n",
    "# label encoding\n",
    "df['labels'] = df.tag.replace(label_dict)\n",
    "\n",
    "test_df = test_df[test_df.tag.apply(lambda x: x in label_dict.keys())]\n",
    "test_df['labels'] = test_df.tag.replace(label_dict)"
   ]
  },
  {
   "cell_type": "code",
   "execution_count": 9,
   "metadata": {},
   "outputs": [
    {
     "data": {
      "text/plain": [
       "{'성능/효과': 0,\n",
       " '제안 방법': 1,\n",
       " '대상 데이터': 2,\n",
       " '문제 정의': 3,\n",
       " '이론/모형': 4,\n",
       " '후속연구': 5,\n",
       " '기술 정의': 6,\n",
       " '데이터처리': 7,\n",
       " '가설 설정': 8,\n",
       " '시장동향': 9,\n",
       " '기술의 파급효과': 10,\n",
       " '기술동향': 11,\n",
       " '기술의 필요성': 12}"
      ]
     },
     "execution_count": 9,
     "metadata": {},
     "output_type": "execute_result"
    }
   ],
   "source": [
    "label_dict"
   ]
  },
  {
   "cell_type": "code",
   "execution_count": 10,
   "metadata": {},
   "outputs": [],
   "source": [
    "set_seed(12345)\n",
    "# train : valid = 70 : 30 /// test : etri dataset\n",
    "X_train, X_val, y_train, y_val = train_test_split(df.index.values, df.labels.values, \n",
    "                                                  test_size=0.30, random_state=12345, stratify=df.labels.values)\n",
    "X_val, X_test, y_val, y_test = train_test_split(df.loc[X_val].index.values, df.loc[X_val].labels.values, \n",
    "                                                  test_size=0.66, random_state=12345, stratify=df.loc[X_val].labels.values)"
   ]
  },
  {
   "cell_type": "code",
   "execution_count": 11,
   "metadata": {},
   "outputs": [],
   "source": [
    "train, val = df.loc[X_train, ['text', 'labels']].reset_index(drop=True), df.loc[X_val, ['text', 'labels']].reset_index(drop=True)\n",
    "test = pd.concat([df.loc[X_test, ['text', 'labels']].reset_index(drop=True),\n",
    "                    test_df.loc[:, ['text', 'labels']].reset_index(drop=True)], axis=0) ## 20% + etri"
   ]
  },
  {
   "cell_type": "code",
   "execution_count": 12,
   "metadata": {},
   "outputs": [],
   "source": [
    "# make Dataset\n",
    "train_dataset = Dataset.from_pandas(train)\n",
    "val_dataset = Dataset.from_pandas(val)\n",
    "test_dataset = Dataset.from_pandas(test)\n",
    "dataset = DatasetDict({\"train\": train_dataset, \"val\": val_dataset, \"test\": test_dataset})"
   ]
  },
  {
   "cell_type": "code",
   "execution_count": 13,
   "metadata": {},
   "outputs": [
    {
     "name": "stdout",
     "output_type": "stream",
     "text": [
      "{'text': '이상의 결과들로부터 HepG2/2E1 세포에서 알코올 처리에 의한 세포의 CAT, GST, SOD, GPx, GR, GSH 함량의 감소 및 지질과산화물의 증가는 알코올 처리에 의한 자유라디칼의 급격한 증가에 의한 것으로 생각되며 발효울금 냉수 추출물은 이러한 자유라디칼을 제거하는 항산화 효소들을 효과적으로 활성화하고 GSH 함량을 증가 및 지질과산화물의 증가를 감소시킴으로써 알코올성 산화스트레스로부터 간 보호 효과가 있는 것으로 확인되었다.', 'labels': 0}\n"
     ]
    }
   ],
   "source": [
    "example = train_dataset[0]\n",
    "print(example)"
   ]
  },
  {
   "cell_type": "code",
   "execution_count": 14,
   "metadata": {},
   "outputs": [
    {
     "data": {
      "text/plain": [
       "123352"
      ]
     },
     "execution_count": 14,
     "metadata": {},
     "output_type": "execute_result"
    }
   ],
   "source": [
    "dataset['train'].num_rows"
   ]
  },
  {
   "cell_type": "code",
   "execution_count": 15,
   "metadata": {},
   "outputs": [
    {
     "name": "stderr",
     "output_type": "stream",
     "text": [
      "findfont: Font family ['Malgun Gothic'] not found. Falling back to DejaVu Sans.\n"
     ]
    },
    {
     "data": {
      "image/png": "[encoded data removed]",
      "text/plain": [
       "<Figure size 640x480 with 1 Axes>"
      ]
     },
     "metadata": {
      "image/png": {
       "height": 389,
       "width": 515
      }
     },
     "output_type": "display_data"
    }
   ],
   "source": [
    "labels = ['train', 'test', 'val']\n",
    "sizes = [dataset['train'].num_rows, dataset['test'].num_rows, dataset['val'].num_rows]\n",
    "colors = ['lightskyblue', 'lightcoral', 'gold']#, yellowgreen\n",
    "explode = (0, 0.1, 0)\n",
    "plt.pie(sizes, explode=explode, labels=labels, colors=colors,\n",
    "        autopct='%1.1f%%', shadow=True, startangle=90)\n",
    "plt.axis('equal')\n",
    "plt.show()"
   ]
  },
  {
   "cell_type": "code",
   "execution_count": 16,
   "metadata": {},
   "outputs": [],
   "source": [
    "!TOKENIZERS_PARALLELISM=false\n",
    "!CUDA_VISIBLE_DEVICES=0"
   ]
  },
  {
   "cell_type": "markdown",
   "metadata": {},
   "source": [
    "## tokenizer load \n",
    "- __call__ : https://github.com/huggingface/transformers/blob/v4.20.1/src/transformers/tokenization_utils_base.py#L2409"
   ]
  },
  {
   "cell_type": "code",
   "execution_count": 17,
   "metadata": {
    "scrolled": true
   },
   "outputs": [
    {
     "name": "stdout",
     "output_type": "stream",
     "text": [
      "<class 'transformers.models.bert.tokenization_bert_fast.BertTokenizerFast'>\n"
     ]
    },
    {
     "data": {
      "text/plain": [
       "[('[PAD]', 0),\n",
       " ('[UNK]', 1),\n",
       " ('[CLS]', 2),\n",
       " ('[SEP]', 3),\n",
       " ('[MASK]', 4),\n",
       " ('!', 5),\n",
       " ('\"', 6),\n",
       " ('#', 7),\n",
       " ('$', 8),\n",
       " ('%', 9)]"
      ]
     },
     "execution_count": 17,
     "metadata": {},
     "output_type": "execute_result"
    }
   ],
   "source": [
    "tokenizer = BertTokenizerFast.from_pretrained(vocab_path, do_lower_case=False, model_max_length=128)\n",
    "print(tokenizer.__class__)\n",
    "## vocab 확인\n",
    "sorted(tokenizer.vocab.items(), key = lambda item: item[1])[:10]"
   ]
  },
  {
   "cell_type": "code",
   "execution_count": 18,
   "metadata": {},
   "outputs": [],
   "source": [
    "from typing import Union, List, Dict\n",
    "\n",
    "def transform(sentences: Union[str, List[str]], tokenizer) -> Dict[str, List[List[int]]]:\n",
    "    if isinstance(sentences, str):\n",
    "        sentences = [sentences]\n",
    "    return tokenizer(text=sentences, add_special_tokens=True, padding=False, truncation=True, max_length = 128) ## Modify"
   ]
  },
  {
   "cell_type": "code",
   "execution_count": 19,
   "metadata": {},
   "outputs": [
    {
     "name": "stdout",
     "output_type": "stream",
     "text": [
      "{'text': ['이상의 결과들로부터 HepG2/2E1 세포에서 알코올 처리에 의한 세포의 CAT, GST, SOD, GPx, GR, GSH 함량의 감소 및 지질과산화물의 증가는 알코올 처리에 의한 자유라디칼의 급격한 증가에 의한 것으로 생각되며 발효울금 냉수 추출물은 이러한 자유라디칼을 제거하는 항산화 효소들을 효과적으로 활성화하고 GSH 함량을 증가 및 지질과산화물의 증가를 감소시킴으로써 알코올성 산화스트레스로부터 간 보호 효과가 있는 것으로 확인되었다.', '본 연구에 사용한 대두(Glycine max L.)는 2014년 10월에 수확된 대원(Daewone), 대풍2(Daepung2), 우람(Uram), 진풍(Jinpoung) 및 새단백(Saedanbaek) 총 5종으로(Table 1) 국립식량과학원(Miryang, Korea)에서 제공받아 사용하였다.'], 'labels': [0, 2]}\n",
      "{'input_ids': [[5374, 5040, 10445, 19558, 2679, 2791, 2521, 19, 22, 2580, 2644, 36338, 11840, 19503, 5571, 15647, 19460, 2577, 16, 9994, 2577, 16, 23605, 2872, 16, 18584, 2629, 16, 43, 2822, 16, 9994, 2574, 19957, 2490, 5548, 1001, 17638, 2558, 17162, 2490, 30145, 11840, 19503, 5571, 5511, 2475, 2668, 2842, 2490, 19052, 21845, 5571, 4919, 4961, 5432, 9205, 2970, 2712, 417, 2501, 16578, 2646, 5109, 5511, 2475, 2668, 2842, 2533, 13999, 18836, 14842, 4922, 10525, 6507, 4865, 9994, 2574, 26175, 5153, 1001, 17638, 2558, 17162, 2490, 23467, 5548, 11415, 11840, 2508, 6149, 4977, 6211, 5070, 103, 5600, 6872, 4869, 4919, 22715, 18], [1067, 13871, 8229, 15690, 12, 16480, 14278, 7573, 81, 12437, 48, 18, 13, 510, 6980, 30890, 12825, 2845, 16238, 12, 40, 20767, 3096, 10437, 13, 16, 551, 2825, 2521, 12, 40, 20767, 2679, 16998, 2521, 13, 16, 1586, 2889, 12, 57, 12531, 13, 16, 1786, 2825, 12, 46, 4970, 2679, 15784, 2620, 13, 1001, 1219, 18005, 12, 55, 20767, 2540, 5059, 2830, 20767, 2537, 13, 1935, 25, 19066, 12, 32257, 24845, 21, 13, 8114, 2555, 14902, 16952, 12, 49, 6868, 2619, 11894, 16, 25056, 13, 5244, 5007, 7716, 17139, 18]], 'token_type_ids': [[0, 0, 0, 0, 0, 0, 0, 0, 0, 0, 0, 0, 0, 0, 0, 0, 0, 0, 0, 0, 0, 0, 0, 0, 0, 0, 0, 0, 0, 0, 0, 0, 0, 0, 0, 0, 0, 0, 0, 0, 0, 0, 0, 0, 0, 0, 0, 0, 0, 0, 0, 0, 0, 0, 0, 0, 0, 0, 0, 0, 0, 0, 0, 0, 0, 0, 0, 0, 0, 0, 0, 0, 0, 0, 0, 0, 0, 0, 0, 0, 0, 0, 0, 0, 0, 0, 0, 0, 0, 0, 0, 0, 0, 0, 0, 0, 0, 0, 0, 0, 0], [0, 0, 0, 0, 0, 0, 0, 0, 0, 0, 0, 0, 0, 0, 0, 0, 0, 0, 0, 0, 0, 0, 0, 0, 0, 0, 0, 0, 0, 0, 0, 0, 0, 0, 0, 0, 0, 0, 0, 0, 0, 0, 0, 0, 0, 0, 0, 0, 0, 0, 0, 0, 0, 0, 0, 0, 0, 0, 0, 0, 0, 0, 0, 0, 0, 0, 0, 0, 0, 0, 0, 0, 0, 0, 0, 0, 0, 0, 0, 0, 0, 0, 0, 0, 0, 0, 0, 0, 0, 0]], 'attention_mask': [[1, 1, 1, 1, 1, 1, 1, 1, 1, 1, 1, 1, 1, 1, 1, 1, 1, 1, 1, 1, 1, 1, 1, 1, 1, 1, 1, 1, 1, 1, 1, 1, 1, 1, 1, 1, 1, 1, 1, 1, 1, 1, 1, 1, 1, 1, 1, 1, 1, 1, 1, 1, 1, 1, 1, 1, 1, 1, 1, 1, 1, 1, 1, 1, 1, 1, 1, 1, 1, 1, 1, 1, 1, 1, 1, 1, 1, 1, 1, 1, 1, 1, 1, 1, 1, 1, 1, 1, 1, 1, 1, 1, 1, 1, 1, 1, 1, 1, 1, 1, 1], [1, 1, 1, 1, 1, 1, 1, 1, 1, 1, 1, 1, 1, 1, 1, 1, 1, 1, 1, 1, 1, 1, 1, 1, 1, 1, 1, 1, 1, 1, 1, 1, 1, 1, 1, 1, 1, 1, 1, 1, 1, 1, 1, 1, 1, 1, 1, 1, 1, 1, 1, 1, 1, 1, 1, 1, 1, 1, 1, 1, 1, 1, 1, 1, 1, 1, 1, 1, 1, 1, 1, 1, 1, 1, 1, 1, 1, 1, 1, 1, 1, 1, 1, 1, 1, 1, 1, 1, 1, 1]]}\n"
     ]
    }
   ],
   "source": [
    "samples = train_dataset[:2]\n",
    "transformed_samples = transform(samples[\"text\"], tokenizer)\n",
    "\n",
    "print(samples)\n",
    "print(transformed_samples)"
   ]
  },
  {
   "cell_type": "code",
   "execution_count": 20,
   "metadata": {
    "scrolled": true
   },
   "outputs": [
    {
     "data": {
      "application/json": {
       "ascii": false,
       "bar_format": null,
       "colour": null,
       "elapsed": 0.017480850219726562,
       "initial": 0,
       "n": 0,
       "ncols": null,
       "nrows": 20,
       "postfix": null,
       "prefix": "",
       "rate": null,
       "total": 124,
       "unit": "ba",
       "unit_divisor": 1000,
       "unit_scale": false
      },
      "application/vnd.jupyter.widget-view+json": {
       "model_id": "3451d6a88cee44ed9db609f9c6a7a147",
       "version_major": 2,
       "version_minor": 0
      },
      "text/plain": [
       "  0%|          | 0/124 [00:00<?, ?ba/s]"
      ]
     },
     "metadata": {},
     "output_type": "display_data"
    },
    {
     "data": {
      "application/json": {
       "ascii": false,
       "bar_format": null,
       "colour": null,
       "elapsed": 0.012107133865356445,
       "initial": 0,
       "n": 0,
       "ncols": null,
       "nrows": 20,
       "postfix": null,
       "prefix": "",
       "rate": null,
       "total": 18,
       "unit": "ba",
       "unit_divisor": 1000,
       "unit_scale": false
      },
      "application/vnd.jupyter.widget-view+json": {
       "model_id": "6545e44a7c784b808b125dd01b692230",
       "version_major": 2,
       "version_minor": 0
      },
      "text/plain": [
       "  0%|          | 0/18 [00:00<?, ?ba/s]"
      ]
     },
     "metadata": {},
     "output_type": "display_data"
    },
    {
     "data": {
      "application/json": {
       "ascii": false,
       "bar_format": null,
       "colour": null,
       "elapsed": 0.01104736328125,
       "initial": 0,
       "n": 0,
       "ncols": null,
       "nrows": 20,
       "postfix": null,
       "prefix": "",
       "rate": null,
       "total": 46,
       "unit": "ba",
       "unit_divisor": 1000,
       "unit_scale": false
      },
      "application/vnd.jupyter.widget-view+json": {
       "model_id": "fc99c02ca46245b8ad9935c2afefdf1a",
       "version_major": 2,
       "version_minor": 0
      },
      "text/plain": [
       "  0%|          | 0/46 [00:00<?, ?ba/s]"
      ]
     },
     "metadata": {},
     "output_type": "display_data"
    }
   ],
   "source": [
    "train_ds = train_dataset.map(lambda data: transform(data[\"text\"], tokenizer), remove_columns=[\"text\"], batched=True)\n",
    "valid_ds = val_dataset.map(lambda data: transform(data[\"text\"], tokenizer), remove_columns=[\"text\"], batched=True)\n",
    "test_ds = test_dataset.map(lambda data: transform(data[\"text\"], tokenizer), remove_columns=[\"text\"], batched=True)"
   ]
  },
  {
   "cell_type": "code",
   "execution_count": 21,
   "metadata": {},
   "outputs": [
    {
     "data": {
      "text/plain": [
       "<AxesSubplot:ylabel='Count'>"
      ]
     },
     "execution_count": 21,
     "metadata": {},
     "output_type": "execute_result"
    },
    {
     "data": {
      "image/png": "[encoded data removed]",
      "text/plain": [
       "<Figure size 640x480 with 1 Axes>"
      ]
     },
     "metadata": {
      "image/png": {
       "height": 416,
       "width": 580
      }
     },
     "output_type": "display_data"
    }
   ],
   "source": [
    "# truncation 확인\n",
    "sns.histplot([len(i) for i in train_ds['input_ids']])"
   ]
  },
  {
   "cell_type": "markdown",
   "metadata": {},
   "source": [
    "# Model Load"
   ]
  },
  {
   "cell_type": "code",
   "execution_count": 22,
   "metadata": {},
   "outputs": [
    {
     "name": "stderr",
     "output_type": "stream",
     "text": [
      "Some weights of the model checkpoint at /disk/changdae/TechBERT/pretrained/40ep_train9/ were not used when initializing BertForSequenceClassification: ['cls.predictions.transform.LayerNorm.weight', 'cls.predictions.decoder.weight', 'cls.seq_relationship.bias', 'cls.predictions.decoder.bias', 'cls.predictions.transform.dense.weight', 'cls.predictions.transform.dense.bias', 'cls.seq_relationship.weight', 'cls.predictions.transform.LayerNorm.bias', 'cls.predictions.bias']\n",
      "- This IS expected if you are initializing BertForSequenceClassification from the checkpoint of a model trained on another task or with another architecture (e.g. initializing a BertForSequenceClassification model from a BertForPreTraining model).\n",
      "- This IS NOT expected if you are initializing BertForSequenceClassification from the checkpoint of a model that you expect to be exactly identical (initializing a BertForSequenceClassification model from a BertForSequenceClassification model).\n",
      "Some weights of BertForSequenceClassification were not initialized from the model checkpoint at /disk/changdae/TechBERT/pretrained/40ep_train9/ and are newly initialized: ['classifier.bias', 'classifier.weight']\n",
      "You should probably TRAIN this model on a down-stream task to be able to use it for predictions and inference.\n"
     ]
    }
   ],
   "source": [
    "# BERT Pre-trained Model\n",
    "model = BertForSequenceClassification.from_pretrained(model_path,\n",
    "                                                      num_labels=len(label_dict),\n",
    "                                                      output_attentions=False,\n",
    "                                                      output_hidden_states=False)"
   ]
  },
  {
   "cell_type": "code",
   "execution_count": 23,
   "metadata": {},
   "outputs": [],
   "source": [
    "from transformers.data.data_collator import DataCollatorWithPadding\n",
    "from sklearn.metrics import accuracy_score, f1_score, recall_score, precision_score\n",
    "\n",
    "def compute_metrics(p):    \n",
    "    pred, labels = p\n",
    "    pred = np.argmax(pred, axis=1)\n",
    "    accuracy = accuracy_score(y_true=labels, y_pred=pred)\n",
    "    f1_micro = f1_score(y_true=labels, y_pred=pred, average='micro')\n",
    "    f1_macro = f1_score(y_true=labels, y_pred=pred, average='macro')\n",
    "    recall = recall_score(y_true=labels, y_pred=pred, average='micro')\n",
    "    precision = precision_score(y_true=labels, y_pred=pred, average='micro')\n",
    "    \n",
    "    return {\"accuracy\": accuracy, \"f1_micro\": f1_micro, 'f1_macro': f1_macro, 'recall': recall, 'precision': precision}\n",
    "\n",
    "batchify = DataCollatorWithPadding(\n",
    "    tokenizer=tokenizer,\n",
    "    padding=\"longest\",\n",
    ")"
   ]
  },
  {
   "cell_type": "code",
   "execution_count": 24,
   "metadata": {},
   "outputs": [
    {
     "data": {
      "text/plain": [
       "{'labels': tensor([0, 2]), 'input_ids': tensor([[ 5374,  5040, 10445, 19558,  2679,  2791,  2521,    19,    22,  2580,\n",
       "          2644, 36338, 11840, 19503,  5571, 15647, 19460,  2577,    16,  9994,\n",
       "          2577,    16, 23605,  2872,    16, 18584,  2629,    16,    43,  2822,\n",
       "            16,  9994,  2574, 19957,  2490,  5548,  1001, 17638,  2558, 17162,\n",
       "          2490, 30145, 11840, 19503,  5571,  5511,  2475,  2668,  2842,  2490,\n",
       "         19052, 21845,  5571,  4919,  4961,  5432,  9205,  2970,  2712,   417,\n",
       "          2501, 16578,  2646,  5109,  5511,  2475,  2668,  2842,  2533, 13999,\n",
       "         18836, 14842,  4922, 10525,  6507,  4865,  9994,  2574, 26175,  5153,\n",
       "          1001, 17638,  2558, 17162,  2490, 23467,  5548, 11415, 11840,  2508,\n",
       "          6149,  4977,  6211,  5070,   103,  5600,  6872,  4869,  4919, 22715,\n",
       "            18],\n",
       "        [ 1067, 13871,  8229, 15690,    12, 16480, 14278,  7573,    81, 12437,\n",
       "            48,    18,    13,   510,  6980, 30890, 12825,  2845, 16238,    12,\n",
       "            40, 20767,  3096, 10437,    13,    16,   551,  2825,  2521,    12,\n",
       "            40, 20767,  2679, 16998,  2521,    13,    16,  1586,  2889,    12,\n",
       "            57, 12531,    13,    16,  1786,  2825,    12,    46,  4970,  2679,\n",
       "         15784,  2620,    13,  1001,  1219, 18005,    12,    55, 20767,  2540,\n",
       "          5059,  2830, 20767,  2537,    13,  1935,    25, 19066,    12, 32257,\n",
       "         24845,    21,    13,  8114,  2555, 14902, 16952,    12,    49,  6868,\n",
       "          2619, 11894,    16, 25056,    13,  5244,  5007,  7716, 17139,    18,\n",
       "             0,     0,     0,     0,     0,     0,     0,     0,     0,     0,\n",
       "             0]]), 'token_type_ids': tensor([[0, 0, 0, 0, 0, 0, 0, 0, 0, 0, 0, 0, 0, 0, 0, 0, 0, 0, 0, 0, 0, 0, 0, 0,\n",
       "         0, 0, 0, 0, 0, 0, 0, 0, 0, 0, 0, 0, 0, 0, 0, 0, 0, 0, 0, 0, 0, 0, 0, 0,\n",
       "         0, 0, 0, 0, 0, 0, 0, 0, 0, 0, 0, 0, 0, 0, 0, 0, 0, 0, 0, 0, 0, 0, 0, 0,\n",
       "         0, 0, 0, 0, 0, 0, 0, 0, 0, 0, 0, 0, 0, 0, 0, 0, 0, 0, 0, 0, 0, 0, 0, 0,\n",
       "         0, 0, 0, 0, 0],\n",
       "        [0, 0, 0, 0, 0, 0, 0, 0, 0, 0, 0, 0, 0, 0, 0, 0, 0, 0, 0, 0, 0, 0, 0, 0,\n",
       "         0, 0, 0, 0, 0, 0, 0, 0, 0, 0, 0, 0, 0, 0, 0, 0, 0, 0, 0, 0, 0, 0, 0, 0,\n",
       "         0, 0, 0, 0, 0, 0, 0, 0, 0, 0, 0, 0, 0, 0, 0, 0, 0, 0, 0, 0, 0, 0, 0, 0,\n",
       "         0, 0, 0, 0, 0, 0, 0, 0, 0, 0, 0, 0, 0, 0, 0, 0, 0, 0, 0, 0, 0, 0, 0, 0,\n",
       "         0, 0, 0, 0, 0]]), 'attention_mask': tensor([[1, 1, 1, 1, 1, 1, 1, 1, 1, 1, 1, 1, 1, 1, 1, 1, 1, 1, 1, 1, 1, 1, 1, 1,\n",
       "         1, 1, 1, 1, 1, 1, 1, 1, 1, 1, 1, 1, 1, 1, 1, 1, 1, 1, 1, 1, 1, 1, 1, 1,\n",
       "         1, 1, 1, 1, 1, 1, 1, 1, 1, 1, 1, 1, 1, 1, 1, 1, 1, 1, 1, 1, 1, 1, 1, 1,\n",
       "         1, 1, 1, 1, 1, 1, 1, 1, 1, 1, 1, 1, 1, 1, 1, 1, 1, 1, 1, 1, 1, 1, 1, 1,\n",
       "         1, 1, 1, 1, 1],\n",
       "        [1, 1, 1, 1, 1, 1, 1, 1, 1, 1, 1, 1, 1, 1, 1, 1, 1, 1, 1, 1, 1, 1, 1, 1,\n",
       "         1, 1, 1, 1, 1, 1, 1, 1, 1, 1, 1, 1, 1, 1, 1, 1, 1, 1, 1, 1, 1, 1, 1, 1,\n",
       "         1, 1, 1, 1, 1, 1, 1, 1, 1, 1, 1, 1, 1, 1, 1, 1, 1, 1, 1, 1, 1, 1, 1, 1,\n",
       "         1, 1, 1, 1, 1, 1, 1, 1, 1, 1, 1, 1, 1, 1, 1, 1, 1, 1, 0, 0, 0, 0, 0, 0,\n",
       "         0, 0, 0, 0, 0]])}"
      ]
     },
     "execution_count": 24,
     "metadata": {},
     "output_type": "execute_result"
    }
   ],
   "source": [
    "# mini-batch 구성확인\n",
    "batchify(train_ds[:2])"
   ]
  },
  {
   "cell_type": "code",
   "execution_count": 26,
   "metadata": {
    "scrolled": true
   },
   "outputs": [
    {
     "name": "stderr",
     "output_type": "stream",
     "text": [
      "/home1/hyez/.local/lib/python3.8/site-packages/transformers/optimization.py:306: FutureWarning: This implementation of AdamW is deprecated and will be removed in a future version. Use the PyTorch implementation torch.optim.AdamW instead, or set `no_deprecation_warning=True` to disable this warning\n",
      "  warnings.warn(\n",
      "***** Running training *****\n",
      "  Num examples = 123381\n",
      "  Num Epochs = 50\n",
      "  Instantaneous batch size per device = 128\n",
      "  Total train batch size (w. parallel, distributed & accumulation) = 512\n",
      "  Gradient Accumulation steps = 1\n",
      "  Total optimization steps = 12050\n",
      "Automatic Weights & Biases logging enabled, to disable set os.environ[\"WANDB_DISABLED\"] = \"true\"\n",
      "\u001b[34m\u001b[1mwandb\u001b[0m: Currently logged in as: \u001b[33mhyez\u001b[0m. Use \u001b[1m`wandb login --relogin`\u001b[0m to force relogin\n"
     ]
    },
    {
     "data": {
      "text/html": [
       "wandb version 0.12.21 is available!  To upgrade, please run:\n",
       " $ pip install wandb --upgrade"
      ],
      "text/plain": [
       "<IPython.core.display.HTML object>"
      ]
     },
     "metadata": {},
     "output_type": "display_data"
    },
    {
     "data": {
      "text/html": [
       "Tracking run with wandb version 0.12.19"
      ],
      "text/plain": [
       "<IPython.core.display.HTML object>"
      ]
     },
     "metadata": {},
     "output_type": "display_data"
    },
    {
     "data": {
      "text/html": [
       "Run data is saved locally in <code>/home1/hyez/hyez/Kisti/wandb/run-20220718_130013-38tvusf7</code>"
      ],
      "text/plain": [
       "<IPython.core.display.HTML object>"
      ]
     },
     "metadata": {},
     "output_type": "display_data"
    },
    {
     "data": {
      "text/html": [
       "Syncing run <strong><a href=\"https://wandb.ai/hyez/huggingface/runs/38tvusf7\" target=\"_blank\">TechBERT</a></strong> to <a href=\"https://wandb.ai/hyez/huggingface\" target=\"_blank\">Weights & Biases</a> (<a href=\"https://wandb.me/run\" target=\"_blank\">docs</a>)<br/>"
      ],
      "text/plain": [
       "<IPython.core.display.HTML object>"
      ]
     },
     "metadata": {},
     "output_type": "display_data"
    },
    {
     "name": "stderr",
     "output_type": "stream",
     "text": [
      "/TGM/Apps/ANACONDA/2021.05/lib/python3.8/site-packages/torch/nn/parallel/_functions.py:68: UserWarning: Was asked to gather along dimension 0, but all input tensors were scalars; will instead unsqueeze and return a vector.\n",
      "  warnings.warn('Was asked to gather along dimension 0, but all '\n"
     ]
    },
    {
     "data": {
      "text/html": [
       "\n",
       "    <div>\n",
       "      \n",
       "      <progress value='12050' max='12050' style='width:300px; height:20px; vertical-align: middle;'></progress>\n",
       "      [12050/12050 3:10:06, Epoch 50/50]\n",
       "    </div>\n",
       "    <table border=\"1\" class=\"dataframe\">\n",
       "  <thead>\n",
       " <tr style=\"text-align: left;\">\n",
       "      <th>Epoch</th>\n",
       "      <th>Training Loss</th>\n",
       "      <th>Validation Loss</th>\n",
       "      <th>Accuracy</th>\n",
       "      <th>F1 Micro</th>\n",
       "      <th>F1 Macro</th>\n",
       "      <th>Recall</th>\n",
       "      <th>Precision</th>\n",
       "    </tr>\n",
       "  </thead>\n",
       "  <tbody>\n",
       "    <tr>\n",
       "      <td>1</td>\n",
       "      <td>0.629100</td>\n",
       "      <td>0.343773</td>\n",
       "      <td>0.873690</td>\n",
       "      <td>0.873690</td>\n",
       "      <td>0.816539</td>\n",
       "      <td>0.873690</td>\n",
       "      <td>0.873690</td>\n",
       "    </tr>\n",
       "    <tr>\n",
       "      <td>2</td>\n",
       "      <td>0.291600</td>\n",
       "      <td>0.339128</td>\n",
       "      <td>0.879023</td>\n",
       "      <td>0.879023</td>\n",
       "      <td>0.816638</td>\n",
       "      <td>0.879023</td>\n",
       "      <td>0.879023</td>\n",
       "    </tr>\n",
       "    <tr>\n",
       "      <td>3</td>\n",
       "      <td>0.208800</td>\n",
       "      <td>0.361984</td>\n",
       "      <td>0.880536</td>\n",
       "      <td>0.880536</td>\n",
       "      <td>0.832022</td>\n",
       "      <td>0.880536</td>\n",
       "      <td>0.880536</td>\n",
       "    </tr>\n",
       "    <tr>\n",
       "      <td>4</td>\n",
       "      <td>0.142600</td>\n",
       "      <td>0.402230</td>\n",
       "      <td>0.875884</td>\n",
       "      <td>0.875884</td>\n",
       "      <td>0.822837</td>\n",
       "      <td>0.875884</td>\n",
       "      <td>0.875884</td>\n",
       "    </tr>\n",
       "    <tr>\n",
       "      <td>5</td>\n",
       "      <td>0.101100</td>\n",
       "      <td>0.463059</td>\n",
       "      <td>0.872537</td>\n",
       "      <td>0.872537</td>\n",
       "      <td>0.821653</td>\n",
       "      <td>0.872537</td>\n",
       "      <td>0.872537</td>\n",
       "    </tr>\n",
       "    <tr>\n",
       "      <td>6</td>\n",
       "      <td>0.071800</td>\n",
       "      <td>0.518598</td>\n",
       "      <td>0.874504</td>\n",
       "      <td>0.874504</td>\n",
       "      <td>0.827921</td>\n",
       "      <td>0.874504</td>\n",
       "      <td>0.874504</td>\n",
       "    </tr>\n",
       "    <tr>\n",
       "      <td>7</td>\n",
       "      <td>0.058200</td>\n",
       "      <td>0.546950</td>\n",
       "      <td>0.873293</td>\n",
       "      <td>0.873293</td>\n",
       "      <td>0.818495</td>\n",
       "      <td>0.873293</td>\n",
       "      <td>0.873293</td>\n",
       "    </tr>\n",
       "    <tr>\n",
       "      <td>8</td>\n",
       "      <td>0.046600</td>\n",
       "      <td>0.564803</td>\n",
       "      <td>0.872140</td>\n",
       "      <td>0.872140</td>\n",
       "      <td>0.826152</td>\n",
       "      <td>0.872140</td>\n",
       "      <td>0.872140</td>\n",
       "    </tr>\n",
       "    <tr>\n",
       "      <td>9</td>\n",
       "      <td>0.039100</td>\n",
       "      <td>0.641171</td>\n",
       "      <td>0.871951</td>\n",
       "      <td>0.871951</td>\n",
       "      <td>0.815478</td>\n",
       "      <td>0.871951</td>\n",
       "      <td>0.871951</td>\n",
       "    </tr>\n",
       "    <tr>\n",
       "      <td>10</td>\n",
       "      <td>0.034300</td>\n",
       "      <td>0.679754</td>\n",
       "      <td>0.867847</td>\n",
       "      <td>0.867847</td>\n",
       "      <td>0.818950</td>\n",
       "      <td>0.867847</td>\n",
       "      <td>0.867847</td>\n",
       "    </tr>\n",
       "    <tr>\n",
       "      <td>11</td>\n",
       "      <td>0.029800</td>\n",
       "      <td>0.651379</td>\n",
       "      <td>0.870286</td>\n",
       "      <td>0.870286</td>\n",
       "      <td>0.816711</td>\n",
       "      <td>0.870286</td>\n",
       "      <td>0.870286</td>\n",
       "    </tr>\n",
       "    <tr>\n",
       "      <td>12</td>\n",
       "      <td>0.027100</td>\n",
       "      <td>0.664963</td>\n",
       "      <td>0.870154</td>\n",
       "      <td>0.870154</td>\n",
       "      <td>0.824193</td>\n",
       "      <td>0.870154</td>\n",
       "      <td>0.870154</td>\n",
       "    </tr>\n",
       "    <tr>\n",
       "      <td>13</td>\n",
       "      <td>0.023300</td>\n",
       "      <td>0.745224</td>\n",
       "      <td>0.870305</td>\n",
       "      <td>0.870305</td>\n",
       "      <td>0.808725</td>\n",
       "      <td>0.870305</td>\n",
       "      <td>0.870305</td>\n",
       "    </tr>\n",
       "    <tr>\n",
       "      <td>14</td>\n",
       "      <td>0.021200</td>\n",
       "      <td>0.706919</td>\n",
       "      <td>0.873501</td>\n",
       "      <td>0.873501</td>\n",
       "      <td>0.826641</td>\n",
       "      <td>0.873501</td>\n",
       "      <td>0.873501</td>\n",
       "    </tr>\n",
       "    <tr>\n",
       "      <td>15</td>\n",
       "      <td>0.019100</td>\n",
       "      <td>0.734223</td>\n",
       "      <td>0.871988</td>\n",
       "      <td>0.871988</td>\n",
       "      <td>0.826410</td>\n",
       "      <td>0.871988</td>\n",
       "      <td>0.871988</td>\n",
       "    </tr>\n",
       "    <tr>\n",
       "      <td>16</td>\n",
       "      <td>0.017900</td>\n",
       "      <td>0.794902</td>\n",
       "      <td>0.871326</td>\n",
       "      <td>0.871326</td>\n",
       "      <td>0.818392</td>\n",
       "      <td>0.871326</td>\n",
       "      <td>0.871326</td>\n",
       "    </tr>\n",
       "    <tr>\n",
       "      <td>17</td>\n",
       "      <td>0.016300</td>\n",
       "      <td>0.784183</td>\n",
       "      <td>0.870835</td>\n",
       "      <td>0.870835</td>\n",
       "      <td>0.816289</td>\n",
       "      <td>0.870835</td>\n",
       "      <td>0.870835</td>\n",
       "    </tr>\n",
       "    <tr>\n",
       "      <td>18</td>\n",
       "      <td>0.015000</td>\n",
       "      <td>0.818547</td>\n",
       "      <td>0.869870</td>\n",
       "      <td>0.869870</td>\n",
       "      <td>0.815109</td>\n",
       "      <td>0.869870</td>\n",
       "      <td>0.869870</td>\n",
       "    </tr>\n",
       "    <tr>\n",
       "      <td>19</td>\n",
       "      <td>0.014800</td>\n",
       "      <td>0.822968</td>\n",
       "      <td>0.872953</td>\n",
       "      <td>0.872953</td>\n",
       "      <td>0.823485</td>\n",
       "      <td>0.872953</td>\n",
       "      <td>0.872953</td>\n",
       "    </tr>\n",
       "    <tr>\n",
       "      <td>20</td>\n",
       "      <td>0.012000</td>\n",
       "      <td>0.824995</td>\n",
       "      <td>0.872253</td>\n",
       "      <td>0.872253</td>\n",
       "      <td>0.821038</td>\n",
       "      <td>0.872253</td>\n",
       "      <td>0.872253</td>\n",
       "    </tr>\n",
       "    <tr>\n",
       "      <td>21</td>\n",
       "      <td>0.011500</td>\n",
       "      <td>0.862212</td>\n",
       "      <td>0.872102</td>\n",
       "      <td>0.872102</td>\n",
       "      <td>0.822678</td>\n",
       "      <td>0.872102</td>\n",
       "      <td>0.872102</td>\n",
       "    </tr>\n",
       "    <tr>\n",
       "      <td>22</td>\n",
       "      <td>0.010600</td>\n",
       "      <td>0.874354</td>\n",
       "      <td>0.870532</td>\n",
       "      <td>0.870532</td>\n",
       "      <td>0.819115</td>\n",
       "      <td>0.870532</td>\n",
       "      <td>0.870532</td>\n",
       "    </tr>\n",
       "    <tr>\n",
       "      <td>23</td>\n",
       "      <td>0.011200</td>\n",
       "      <td>0.807920</td>\n",
       "      <td>0.871534</td>\n",
       "      <td>0.871534</td>\n",
       "      <td>0.825161</td>\n",
       "      <td>0.871534</td>\n",
       "      <td>0.871534</td>\n",
       "    </tr>\n",
       "    <tr>\n",
       "      <td>24</td>\n",
       "      <td>0.008100</td>\n",
       "      <td>0.867502</td>\n",
       "      <td>0.871345</td>\n",
       "      <td>0.871345</td>\n",
       "      <td>0.822626</td>\n",
       "      <td>0.871345</td>\n",
       "      <td>0.871345</td>\n",
       "    </tr>\n",
       "    <tr>\n",
       "      <td>25</td>\n",
       "      <td>0.008200</td>\n",
       "      <td>0.904407</td>\n",
       "      <td>0.870343</td>\n",
       "      <td>0.870343</td>\n",
       "      <td>0.821015</td>\n",
       "      <td>0.870343</td>\n",
       "      <td>0.870343</td>\n",
       "    </tr>\n",
       "    <tr>\n",
       "      <td>26</td>\n",
       "      <td>0.006800</td>\n",
       "      <td>0.953678</td>\n",
       "      <td>0.869114</td>\n",
       "      <td>0.869114</td>\n",
       "      <td>0.822536</td>\n",
       "      <td>0.869114</td>\n",
       "      <td>0.869114</td>\n",
       "    </tr>\n",
       "    <tr>\n",
       "      <td>27</td>\n",
       "      <td>0.006800</td>\n",
       "      <td>0.947618</td>\n",
       "      <td>0.870135</td>\n",
       "      <td>0.870135</td>\n",
       "      <td>0.817441</td>\n",
       "      <td>0.870135</td>\n",
       "      <td>0.870135</td>\n",
       "    </tr>\n",
       "    <tr>\n",
       "      <td>28</td>\n",
       "      <td>0.005900</td>\n",
       "      <td>0.978326</td>\n",
       "      <td>0.873369</td>\n",
       "      <td>0.873369</td>\n",
       "      <td>0.825852</td>\n",
       "      <td>0.873369</td>\n",
       "      <td>0.873369</td>\n",
       "    </tr>\n",
       "    <tr>\n",
       "      <td>29</td>\n",
       "      <td>0.005500</td>\n",
       "      <td>0.955337</td>\n",
       "      <td>0.867771</td>\n",
       "      <td>0.867771</td>\n",
       "      <td>0.813449</td>\n",
       "      <td>0.867771</td>\n",
       "      <td>0.867771</td>\n",
       "    </tr>\n",
       "    <tr>\n",
       "      <td>30</td>\n",
       "      <td>0.005200</td>\n",
       "      <td>0.996188</td>\n",
       "      <td>0.871516</td>\n",
       "      <td>0.871516</td>\n",
       "      <td>0.822452</td>\n",
       "      <td>0.871516</td>\n",
       "      <td>0.871516</td>\n",
       "    </tr>\n",
       "    <tr>\n",
       "      <td>31</td>\n",
       "      <td>0.005300</td>\n",
       "      <td>0.977392</td>\n",
       "      <td>0.872102</td>\n",
       "      <td>0.872102</td>\n",
       "      <td>0.818042</td>\n",
       "      <td>0.872102</td>\n",
       "      <td>0.872102</td>\n",
       "    </tr>\n",
       "    <tr>\n",
       "      <td>32</td>\n",
       "      <td>0.004200</td>\n",
       "      <td>0.990911</td>\n",
       "      <td>0.870078</td>\n",
       "      <td>0.870078</td>\n",
       "      <td>0.821791</td>\n",
       "      <td>0.870078</td>\n",
       "      <td>0.870078</td>\n",
       "    </tr>\n",
       "    <tr>\n",
       "      <td>33</td>\n",
       "      <td>0.003700</td>\n",
       "      <td>1.095493</td>\n",
       "      <td>0.870475</td>\n",
       "      <td>0.870475</td>\n",
       "      <td>0.817096</td>\n",
       "      <td>0.870475</td>\n",
       "      <td>0.870475</td>\n",
       "    </tr>\n",
       "    <tr>\n",
       "      <td>34</td>\n",
       "      <td>0.004100</td>\n",
       "      <td>0.990929</td>\n",
       "      <td>0.871478</td>\n",
       "      <td>0.871478</td>\n",
       "      <td>0.817938</td>\n",
       "      <td>0.871478</td>\n",
       "      <td>0.871478</td>\n",
       "    </tr>\n",
       "    <tr>\n",
       "      <td>35</td>\n",
       "      <td>0.003500</td>\n",
       "      <td>1.086245</td>\n",
       "      <td>0.868792</td>\n",
       "      <td>0.868792</td>\n",
       "      <td>0.820390</td>\n",
       "      <td>0.868792</td>\n",
       "      <td>0.868792</td>\n",
       "    </tr>\n",
       "    <tr>\n",
       "      <td>36</td>\n",
       "      <td>0.002800</td>\n",
       "      <td>1.143055</td>\n",
       "      <td>0.870003</td>\n",
       "      <td>0.870003</td>\n",
       "      <td>0.819297</td>\n",
       "      <td>0.870003</td>\n",
       "      <td>0.870003</td>\n",
       "    </tr>\n",
       "    <tr>\n",
       "      <td>37</td>\n",
       "      <td>0.002400</td>\n",
       "      <td>1.194638</td>\n",
       "      <td>0.868074</td>\n",
       "      <td>0.868074</td>\n",
       "      <td>0.807554</td>\n",
       "      <td>0.868074</td>\n",
       "      <td>0.868074</td>\n",
       "    </tr>\n",
       "    <tr>\n",
       "      <td>38</td>\n",
       "      <td>0.002500</td>\n",
       "      <td>1.183711</td>\n",
       "      <td>0.869662</td>\n",
       "      <td>0.869662</td>\n",
       "      <td>0.811863</td>\n",
       "      <td>0.869662</td>\n",
       "      <td>0.869662</td>\n",
       "    </tr>\n",
       "    <tr>\n",
       "      <td>39</td>\n",
       "      <td>0.002000</td>\n",
       "      <td>1.169895</td>\n",
       "      <td>0.871969</td>\n",
       "      <td>0.871969</td>\n",
       "      <td>0.822533</td>\n",
       "      <td>0.871969</td>\n",
       "      <td>0.871969</td>\n",
       "    </tr>\n",
       "    <tr>\n",
       "      <td>40</td>\n",
       "      <td>0.002200</td>\n",
       "      <td>1.147836</td>\n",
       "      <td>0.870665</td>\n",
       "      <td>0.870665</td>\n",
       "      <td>0.823250</td>\n",
       "      <td>0.870665</td>\n",
       "      <td>0.870665</td>\n",
       "    </tr>\n",
       "    <tr>\n",
       "      <td>41</td>\n",
       "      <td>0.001700</td>\n",
       "      <td>1.118210</td>\n",
       "      <td>0.872461</td>\n",
       "      <td>0.872461</td>\n",
       "      <td>0.822865</td>\n",
       "      <td>0.872461</td>\n",
       "      <td>0.872461</td>\n",
       "    </tr>\n",
       "    <tr>\n",
       "      <td>42</td>\n",
       "      <td>0.001000</td>\n",
       "      <td>1.247028</td>\n",
       "      <td>0.872556</td>\n",
       "      <td>0.872556</td>\n",
       "      <td>0.821856</td>\n",
       "      <td>0.872556</td>\n",
       "      <td>0.872556</td>\n",
       "    </tr>\n",
       "    <tr>\n",
       "      <td>43</td>\n",
       "      <td>0.001200</td>\n",
       "      <td>1.258469</td>\n",
       "      <td>0.871610</td>\n",
       "      <td>0.871610</td>\n",
       "      <td>0.818915</td>\n",
       "      <td>0.871610</td>\n",
       "      <td>0.871610</td>\n",
       "    </tr>\n",
       "    <tr>\n",
       "      <td>44</td>\n",
       "      <td>0.001100</td>\n",
       "      <td>1.252725</td>\n",
       "      <td>0.871308</td>\n",
       "      <td>0.871308</td>\n",
       "      <td>0.824393</td>\n",
       "      <td>0.871308</td>\n",
       "      <td>0.871308</td>\n",
       "    </tr>\n",
       "    <tr>\n",
       "      <td>45</td>\n",
       "      <td>0.000900</td>\n",
       "      <td>1.268917</td>\n",
       "      <td>0.870835</td>\n",
       "      <td>0.870835</td>\n",
       "      <td>0.822833</td>\n",
       "      <td>0.870835</td>\n",
       "      <td>0.870835</td>\n",
       "    </tr>\n",
       "    <tr>\n",
       "      <td>46</td>\n",
       "      <td>0.000700</td>\n",
       "      <td>1.278681</td>\n",
       "      <td>0.871572</td>\n",
       "      <td>0.871572</td>\n",
       "      <td>0.823093</td>\n",
       "      <td>0.871572</td>\n",
       "      <td>0.871572</td>\n",
       "    </tr>\n",
       "    <tr>\n",
       "      <td>47</td>\n",
       "      <td>0.000600</td>\n",
       "      <td>1.328269</td>\n",
       "      <td>0.870797</td>\n",
       "      <td>0.870797</td>\n",
       "      <td>0.821822</td>\n",
       "      <td>0.870797</td>\n",
       "      <td>0.870797</td>\n",
       "    </tr>\n",
       "    <tr>\n",
       "      <td>48</td>\n",
       "      <td>0.000300</td>\n",
       "      <td>1.326012</td>\n",
       "      <td>0.872367</td>\n",
       "      <td>0.872367</td>\n",
       "      <td>0.821315</td>\n",
       "      <td>0.872367</td>\n",
       "      <td>0.872367</td>\n",
       "    </tr>\n",
       "    <tr>\n",
       "      <td>49</td>\n",
       "      <td>0.000700</td>\n",
       "      <td>1.326607</td>\n",
       "      <td>0.872537</td>\n",
       "      <td>0.872537</td>\n",
       "      <td>0.822472</td>\n",
       "      <td>0.872537</td>\n",
       "      <td>0.872537</td>\n",
       "    </tr>\n",
       "    <tr>\n",
       "      <td>50</td>\n",
       "      <td>0.000400</td>\n",
       "      <td>1.319498</td>\n",
       "      <td>0.872783</td>\n",
       "      <td>0.872783</td>\n",
       "      <td>0.823045</td>\n",
       "      <td>0.872783</td>\n",
       "      <td>0.872783</td>\n",
       "    </tr>\n",
       "  </tbody>\n",
       "</table><p>"
      ],
      "text/plain": [
       "<IPython.core.display.HTML object>"
      ]
     },
     "metadata": {},
     "output_type": "display_data"
    },
    {
     "name": "stderr",
     "output_type": "stream",
     "text": [
      "***** Running Evaluation *****\n",
      "  Num examples = 52878\n",
      "  Batch size = 512\n",
      "Saving model checkpoint to ./output/checkpoint-241\n",
      "Configuration saved in ./output/checkpoint-241/config.json\n",
      "Model weights saved in ./output/checkpoint-241/pytorch_model.bin\n",
      "/TGM/Apps/ANACONDA/2021.05/lib/python3.8/site-packages/torch/nn/parallel/_functions.py:68: UserWarning: Was asked to gather along dimension 0, but all input tensors were scalars; will instead unsqueeze and return a vector.\n",
      "  warnings.warn('Was asked to gather along dimension 0, but all '\n",
      "***** Running Evaluation *****\n",
      "  Num examples = 52878\n",
      "  Batch size = 512\n",
      "Saving model checkpoint to ./output/checkpoint-482\n",
      "Configuration saved in ./output/checkpoint-482/config.json\n",
      "Model weights saved in ./output/checkpoint-482/pytorch_model.bin\n",
      "/TGM/Apps/ANACONDA/2021.05/lib/python3.8/site-packages/torch/nn/parallel/_functions.py:68: UserWarning: Was asked to gather along dimension 0, but all input tensors were scalars; will instead unsqueeze and return a vector.\n",
      "  warnings.warn('Was asked to gather along dimension 0, but all '\n",
      "***** Running Evaluation *****\n",
      "  Num examples = 52878\n",
      "  Batch size = 512\n",
      "Saving model checkpoint to ./output/checkpoint-723\n",
      "Configuration saved in ./output/checkpoint-723/config.json\n",
      "Model weights saved in ./output/checkpoint-723/pytorch_model.bin\n",
      "/TGM/Apps/ANACONDA/2021.05/lib/python3.8/site-packages/torch/nn/parallel/_functions.py:68: UserWarning: Was asked to gather along dimension 0, but all input tensors were scalars; will instead unsqueeze and return a vector.\n",
      "  warnings.warn('Was asked to gather along dimension 0, but all '\n",
      "***** Running Evaluation *****\n",
      "  Num examples = 52878\n",
      "  Batch size = 512\n",
      "Saving model checkpoint to ./output/checkpoint-964\n",
      "Configuration saved in ./output/checkpoint-964/config.json\n",
      "Model weights saved in ./output/checkpoint-964/pytorch_model.bin\n",
      "/TGM/Apps/ANACONDA/2021.05/lib/python3.8/site-packages/torch/nn/parallel/_functions.py:68: UserWarning: Was asked to gather along dimension 0, but all input tensors were scalars; will instead unsqueeze and return a vector.\n",
      "  warnings.warn('Was asked to gather along dimension 0, but all '\n",
      "***** Running Evaluation *****\n",
      "  Num examples = 52878\n",
      "  Batch size = 512\n",
      "Saving model checkpoint to ./output/checkpoint-1205\n",
      "Configuration saved in ./output/checkpoint-1205/config.json\n",
      "Model weights saved in ./output/checkpoint-1205/pytorch_model.bin\n",
      "/TGM/Apps/ANACONDA/2021.05/lib/python3.8/site-packages/torch/nn/parallel/_functions.py:68: UserWarning: Was asked to gather along dimension 0, but all input tensors were scalars; will instead unsqueeze and return a vector.\n",
      "  warnings.warn('Was asked to gather along dimension 0, but all '\n",
      "***** Running Evaluation *****\n",
      "  Num examples = 52878\n",
      "  Batch size = 512\n",
      "Saving model checkpoint to ./output/checkpoint-1446\n",
      "Configuration saved in ./output/checkpoint-1446/config.json\n",
      "Model weights saved in ./output/checkpoint-1446/pytorch_model.bin\n",
      "/TGM/Apps/ANACONDA/2021.05/lib/python3.8/site-packages/torch/nn/parallel/_functions.py:68: UserWarning: Was asked to gather along dimension 0, but all input tensors were scalars; will instead unsqueeze and return a vector.\n",
      "  warnings.warn('Was asked to gather along dimension 0, but all '\n",
      "***** Running Evaluation *****\n",
      "  Num examples = 52878\n",
      "  Batch size = 512\n",
      "Saving model checkpoint to ./output/checkpoint-1687\n",
      "Configuration saved in ./output/checkpoint-1687/config.json\n",
      "Model weights saved in ./output/checkpoint-1687/pytorch_model.bin\n",
      "/TGM/Apps/ANACONDA/2021.05/lib/python3.8/site-packages/torch/nn/parallel/_functions.py:68: UserWarning: Was asked to gather along dimension 0, but all input tensors were scalars; will instead unsqueeze and return a vector.\n",
      "  warnings.warn('Was asked to gather along dimension 0, but all '\n",
      "***** Running Evaluation *****\n",
      "  Num examples = 52878\n",
      "  Batch size = 512\n",
      "Saving model checkpoint to ./output/checkpoint-1928\n",
      "Configuration saved in ./output/checkpoint-1928/config.json\n",
      "Model weights saved in ./output/checkpoint-1928/pytorch_model.bin\n",
      "/TGM/Apps/ANACONDA/2021.05/lib/python3.8/site-packages/torch/nn/parallel/_functions.py:68: UserWarning: Was asked to gather along dimension 0, but all input tensors were scalars; will instead unsqueeze and return a vector.\n",
      "  warnings.warn('Was asked to gather along dimension 0, but all '\n",
      "***** Running Evaluation *****\n",
      "  Num examples = 52878\n",
      "  Batch size = 512\n",
      "Saving model checkpoint to ./output/checkpoint-2169\n",
      "Configuration saved in ./output/checkpoint-2169/config.json\n",
      "Model weights saved in ./output/checkpoint-2169/pytorch_model.bin\n",
      "/TGM/Apps/ANACONDA/2021.05/lib/python3.8/site-packages/torch/nn/parallel/_functions.py:68: UserWarning: Was asked to gather along dimension 0, but all input tensors were scalars; will instead unsqueeze and return a vector.\n",
      "  warnings.warn('Was asked to gather along dimension 0, but all '\n",
      "***** Running Evaluation *****\n",
      "  Num examples = 52878\n",
      "  Batch size = 512\n",
      "Saving model checkpoint to ./output/checkpoint-2410\n",
      "Configuration saved in ./output/checkpoint-2410/config.json\n",
      "Model weights saved in ./output/checkpoint-2410/pytorch_model.bin\n",
      "/TGM/Apps/ANACONDA/2021.05/lib/python3.8/site-packages/torch/nn/parallel/_functions.py:68: UserWarning: Was asked to gather along dimension 0, but all input tensors were scalars; will instead unsqueeze and return a vector.\n",
      "  warnings.warn('Was asked to gather along dimension 0, but all '\n",
      "***** Running Evaluation *****\n",
      "  Num examples = 52878\n",
      "  Batch size = 512\n",
      "Saving model checkpoint to ./output/checkpoint-2651\n",
      "Configuration saved in ./output/checkpoint-2651/config.json\n",
      "Model weights saved in ./output/checkpoint-2651/pytorch_model.bin\n",
      "/TGM/Apps/ANACONDA/2021.05/lib/python3.8/site-packages/torch/nn/parallel/_functions.py:68: UserWarning: Was asked to gather along dimension 0, but all input tensors were scalars; will instead unsqueeze and return a vector.\n",
      "  warnings.warn('Was asked to gather along dimension 0, but all '\n",
      "***** Running Evaluation *****\n",
      "  Num examples = 52878\n",
      "  Batch size = 512\n",
      "Saving model checkpoint to ./output/checkpoint-2892\n",
      "Configuration saved in ./output/checkpoint-2892/config.json\n",
      "Model weights saved in ./output/checkpoint-2892/pytorch_model.bin\n",
      "/TGM/Apps/ANACONDA/2021.05/lib/python3.8/site-packages/torch/nn/parallel/_functions.py:68: UserWarning: Was asked to gather along dimension 0, but all input tensors were scalars; will instead unsqueeze and return a vector.\n",
      "  warnings.warn('Was asked to gather along dimension 0, but all '\n",
      "***** Running Evaluation *****\n",
      "  Num examples = 52878\n",
      "  Batch size = 512\n",
      "Saving model checkpoint to ./output/checkpoint-3133\n",
      "Configuration saved in ./output/checkpoint-3133/config.json\n",
      "Model weights saved in ./output/checkpoint-3133/pytorch_model.bin\n",
      "/TGM/Apps/ANACONDA/2021.05/lib/python3.8/site-packages/torch/nn/parallel/_functions.py:68: UserWarning: Was asked to gather along dimension 0, but all input tensors were scalars; will instead unsqueeze and return a vector.\n",
      "  warnings.warn('Was asked to gather along dimension 0, but all '\n",
      "***** Running Evaluation *****\n",
      "  Num examples = 52878\n",
      "  Batch size = 512\n",
      "Saving model checkpoint to ./output/checkpoint-3374\n",
      "Configuration saved in ./output/checkpoint-3374/config.json\n",
      "Model weights saved in ./output/checkpoint-3374/pytorch_model.bin\n",
      "/TGM/Apps/ANACONDA/2021.05/lib/python3.8/site-packages/torch/nn/parallel/_functions.py:68: UserWarning: Was asked to gather along dimension 0, but all input tensors were scalars; will instead unsqueeze and return a vector.\n",
      "  warnings.warn('Was asked to gather along dimension 0, but all '\n",
      "***** Running Evaluation *****\n",
      "  Num examples = 52878\n",
      "  Batch size = 512\n",
      "Saving model checkpoint to ./output/checkpoint-3615\n",
      "Configuration saved in ./output/checkpoint-3615/config.json\n",
      "Model weights saved in ./output/checkpoint-3615/pytorch_model.bin\n",
      "/TGM/Apps/ANACONDA/2021.05/lib/python3.8/site-packages/torch/nn/parallel/_functions.py:68: UserWarning: Was asked to gather along dimension 0, but all input tensors were scalars; will instead unsqueeze and return a vector.\n",
      "  warnings.warn('Was asked to gather along dimension 0, but all '\n",
      "***** Running Evaluation *****\n",
      "  Num examples = 52878\n",
      "  Batch size = 512\n",
      "Saving model checkpoint to ./output/checkpoint-3856\n"
     ]
    },
    {
     "name": "stderr",
     "output_type": "stream",
     "text": [
      "Configuration saved in ./output/checkpoint-3856/config.json\n",
      "Model weights saved in ./output/checkpoint-3856/pytorch_model.bin\n",
      "/TGM/Apps/ANACONDA/2021.05/lib/python3.8/site-packages/torch/nn/parallel/_functions.py:68: UserWarning: Was asked to gather along dimension 0, but all input tensors were scalars; will instead unsqueeze and return a vector.\n",
      "  warnings.warn('Was asked to gather along dimension 0, but all '\n",
      "***** Running Evaluation *****\n",
      "  Num examples = 52878\n",
      "  Batch size = 512\n",
      "Saving model checkpoint to ./output/checkpoint-4097\n",
      "Configuration saved in ./output/checkpoint-4097/config.json\n",
      "Model weights saved in ./output/checkpoint-4097/pytorch_model.bin\n",
      "/TGM/Apps/ANACONDA/2021.05/lib/python3.8/site-packages/torch/nn/parallel/_functions.py:68: UserWarning: Was asked to gather along dimension 0, but all input tensors were scalars; will instead unsqueeze and return a vector.\n",
      "  warnings.warn('Was asked to gather along dimension 0, but all '\n",
      "***** Running Evaluation *****\n",
      "  Num examples = 52878\n",
      "  Batch size = 512\n",
      "Saving model checkpoint to ./output/checkpoint-4338\n",
      "Configuration saved in ./output/checkpoint-4338/config.json\n",
      "Model weights saved in ./output/checkpoint-4338/pytorch_model.bin\n",
      "/TGM/Apps/ANACONDA/2021.05/lib/python3.8/site-packages/torch/nn/parallel/_functions.py:68: UserWarning: Was asked to gather along dimension 0, but all input tensors were scalars; will instead unsqueeze and return a vector.\n",
      "  warnings.warn('Was asked to gather along dimension 0, but all '\n",
      "***** Running Evaluation *****\n",
      "  Num examples = 52878\n",
      "  Batch size = 512\n",
      "Saving model checkpoint to ./output/checkpoint-4579\n",
      "Configuration saved in ./output/checkpoint-4579/config.json\n",
      "Model weights saved in ./output/checkpoint-4579/pytorch_model.bin\n",
      "/TGM/Apps/ANACONDA/2021.05/lib/python3.8/site-packages/torch/nn/parallel/_functions.py:68: UserWarning: Was asked to gather along dimension 0, but all input tensors were scalars; will instead unsqueeze and return a vector.\n",
      "  warnings.warn('Was asked to gather along dimension 0, but all '\n",
      "***** Running Evaluation *****\n",
      "  Num examples = 52878\n",
      "  Batch size = 512\n",
      "Saving model checkpoint to ./output/checkpoint-4820\n",
      "Configuration saved in ./output/checkpoint-4820/config.json\n",
      "Model weights saved in ./output/checkpoint-4820/pytorch_model.bin\n",
      "/TGM/Apps/ANACONDA/2021.05/lib/python3.8/site-packages/torch/nn/parallel/_functions.py:68: UserWarning: Was asked to gather along dimension 0, but all input tensors were scalars; will instead unsqueeze and return a vector.\n",
      "  warnings.warn('Was asked to gather along dimension 0, but all '\n",
      "***** Running Evaluation *****\n",
      "  Num examples = 52878\n",
      "  Batch size = 512\n",
      "Saving model checkpoint to ./output/checkpoint-5061\n",
      "Configuration saved in ./output/checkpoint-5061/config.json\n",
      "Model weights saved in ./output/checkpoint-5061/pytorch_model.bin\n",
      "/TGM/Apps/ANACONDA/2021.05/lib/python3.8/site-packages/torch/nn/parallel/_functions.py:68: UserWarning: Was asked to gather along dimension 0, but all input tensors were scalars; will instead unsqueeze and return a vector.\n",
      "  warnings.warn('Was asked to gather along dimension 0, but all '\n",
      "***** Running Evaluation *****\n",
      "  Num examples = 52878\n",
      "  Batch size = 512\n",
      "Saving model checkpoint to ./output/checkpoint-5302\n",
      "Configuration saved in ./output/checkpoint-5302/config.json\n",
      "Model weights saved in ./output/checkpoint-5302/pytorch_model.bin\n",
      "/TGM/Apps/ANACONDA/2021.05/lib/python3.8/site-packages/torch/nn/parallel/_functions.py:68: UserWarning: Was asked to gather along dimension 0, but all input tensors were scalars; will instead unsqueeze and return a vector.\n",
      "  warnings.warn('Was asked to gather along dimension 0, but all '\n",
      "***** Running Evaluation *****\n",
      "  Num examples = 52878\n",
      "  Batch size = 512\n",
      "Saving model checkpoint to ./output/checkpoint-5543\n",
      "Configuration saved in ./output/checkpoint-5543/config.json\n",
      "Model weights saved in ./output/checkpoint-5543/pytorch_model.bin\n",
      "/TGM/Apps/ANACONDA/2021.05/lib/python3.8/site-packages/torch/nn/parallel/_functions.py:68: UserWarning: Was asked to gather along dimension 0, but all input tensors were scalars; will instead unsqueeze and return a vector.\n",
      "  warnings.warn('Was asked to gather along dimension 0, but all '\n",
      "***** Running Evaluation *****\n",
      "  Num examples = 52878\n",
      "  Batch size = 512\n",
      "Saving model checkpoint to ./output/checkpoint-5784\n",
      "Configuration saved in ./output/checkpoint-5784/config.json\n",
      "Model weights saved in ./output/checkpoint-5784/pytorch_model.bin\n",
      "/TGM/Apps/ANACONDA/2021.05/lib/python3.8/site-packages/torch/nn/parallel/_functions.py:68: UserWarning: Was asked to gather along dimension 0, but all input tensors were scalars; will instead unsqueeze and return a vector.\n",
      "  warnings.warn('Was asked to gather along dimension 0, but all '\n",
      "***** Running Evaluation *****\n",
      "  Num examples = 52878\n",
      "  Batch size = 512\n",
      "Saving model checkpoint to ./output/checkpoint-6025\n",
      "Configuration saved in ./output/checkpoint-6025/config.json\n",
      "Model weights saved in ./output/checkpoint-6025/pytorch_model.bin\n",
      "/TGM/Apps/ANACONDA/2021.05/lib/python3.8/site-packages/torch/nn/parallel/_functions.py:68: UserWarning: Was asked to gather along dimension 0, but all input tensors were scalars; will instead unsqueeze and return a vector.\n",
      "  warnings.warn('Was asked to gather along dimension 0, but all '\n",
      "***** Running Evaluation *****\n",
      "  Num examples = 52878\n",
      "  Batch size = 512\n",
      "Saving model checkpoint to ./output/checkpoint-6266\n",
      "Configuration saved in ./output/checkpoint-6266/config.json\n",
      "Model weights saved in ./output/checkpoint-6266/pytorch_model.bin\n",
      "/TGM/Apps/ANACONDA/2021.05/lib/python3.8/site-packages/torch/nn/parallel/_functions.py:68: UserWarning: Was asked to gather along dimension 0, but all input tensors were scalars; will instead unsqueeze and return a vector.\n",
      "  warnings.warn('Was asked to gather along dimension 0, but all '\n",
      "***** Running Evaluation *****\n",
      "  Num examples = 52878\n",
      "  Batch size = 512\n",
      "Saving model checkpoint to ./output/checkpoint-6507\n",
      "Configuration saved in ./output/checkpoint-6507/config.json\n",
      "Model weights saved in ./output/checkpoint-6507/pytorch_model.bin\n",
      "/TGM/Apps/ANACONDA/2021.05/lib/python3.8/site-packages/torch/nn/parallel/_functions.py:68: UserWarning: Was asked to gather along dimension 0, but all input tensors were scalars; will instead unsqueeze and return a vector.\n",
      "  warnings.warn('Was asked to gather along dimension 0, but all '\n",
      "***** Running Evaluation *****\n",
      "  Num examples = 52878\n",
      "  Batch size = 512\n",
      "Saving model checkpoint to ./output/checkpoint-6748\n",
      "Configuration saved in ./output/checkpoint-6748/config.json\n",
      "Model weights saved in ./output/checkpoint-6748/pytorch_model.bin\n",
      "/TGM/Apps/ANACONDA/2021.05/lib/python3.8/site-packages/torch/nn/parallel/_functions.py:68: UserWarning: Was asked to gather along dimension 0, but all input tensors were scalars; will instead unsqueeze and return a vector.\n",
      "  warnings.warn('Was asked to gather along dimension 0, but all '\n",
      "***** Running Evaluation *****\n",
      "  Num examples = 52878\n",
      "  Batch size = 512\n",
      "Saving model checkpoint to ./output/checkpoint-6989\n",
      "Configuration saved in ./output/checkpoint-6989/config.json\n",
      "Model weights saved in ./output/checkpoint-6989/pytorch_model.bin\n",
      "/TGM/Apps/ANACONDA/2021.05/lib/python3.8/site-packages/torch/nn/parallel/_functions.py:68: UserWarning: Was asked to gather along dimension 0, but all input tensors were scalars; will instead unsqueeze and return a vector.\n",
      "  warnings.warn('Was asked to gather along dimension 0, but all '\n",
      "***** Running Evaluation *****\n",
      "  Num examples = 52878\n",
      "  Batch size = 512\n",
      "Saving model checkpoint to ./output/checkpoint-7230\n",
      "Configuration saved in ./output/checkpoint-7230/config.json\n",
      "Model weights saved in ./output/checkpoint-7230/pytorch_model.bin\n",
      "/TGM/Apps/ANACONDA/2021.05/lib/python3.8/site-packages/torch/nn/parallel/_functions.py:68: UserWarning: Was asked to gather along dimension 0, but all input tensors were scalars; will instead unsqueeze and return a vector.\n",
      "  warnings.warn('Was asked to gather along dimension 0, but all '\n",
      "***** Running Evaluation *****\n",
      "  Num examples = 52878\n",
      "  Batch size = 512\n",
      "Saving model checkpoint to ./output/checkpoint-7471\n",
      "Configuration saved in ./output/checkpoint-7471/config.json\n",
      "Model weights saved in ./output/checkpoint-7471/pytorch_model.bin\n"
     ]
    },
    {
     "name": "stderr",
     "output_type": "stream",
     "text": [
      "/TGM/Apps/ANACONDA/2021.05/lib/python3.8/site-packages/torch/nn/parallel/_functions.py:68: UserWarning: Was asked to gather along dimension 0, but all input tensors were scalars; will instead unsqueeze and return a vector.\n",
      "  warnings.warn('Was asked to gather along dimension 0, but all '\n",
      "***** Running Evaluation *****\n",
      "  Num examples = 52878\n",
      "  Batch size = 512\n",
      "Saving model checkpoint to ./output/checkpoint-7712\n",
      "Configuration saved in ./output/checkpoint-7712/config.json\n",
      "Model weights saved in ./output/checkpoint-7712/pytorch_model.bin\n",
      "/TGM/Apps/ANACONDA/2021.05/lib/python3.8/site-packages/torch/nn/parallel/_functions.py:68: UserWarning: Was asked to gather along dimension 0, but all input tensors were scalars; will instead unsqueeze and return a vector.\n",
      "  warnings.warn('Was asked to gather along dimension 0, but all '\n",
      "***** Running Evaluation *****\n",
      "  Num examples = 52878\n",
      "  Batch size = 512\n",
      "Saving model checkpoint to ./output/checkpoint-7953\n",
      "Configuration saved in ./output/checkpoint-7953/config.json\n",
      "Model weights saved in ./output/checkpoint-7953/pytorch_model.bin\n",
      "/TGM/Apps/ANACONDA/2021.05/lib/python3.8/site-packages/torch/nn/parallel/_functions.py:68: UserWarning: Was asked to gather along dimension 0, but all input tensors were scalars; will instead unsqueeze and return a vector.\n",
      "  warnings.warn('Was asked to gather along dimension 0, but all '\n",
      "***** Running Evaluation *****\n",
      "  Num examples = 52878\n",
      "  Batch size = 512\n",
      "Saving model checkpoint to ./output/checkpoint-8194\n",
      "Configuration saved in ./output/checkpoint-8194/config.json\n",
      "Model weights saved in ./output/checkpoint-8194/pytorch_model.bin\n",
      "/TGM/Apps/ANACONDA/2021.05/lib/python3.8/site-packages/torch/nn/parallel/_functions.py:68: UserWarning: Was asked to gather along dimension 0, but all input tensors were scalars; will instead unsqueeze and return a vector.\n",
      "  warnings.warn('Was asked to gather along dimension 0, but all '\n",
      "***** Running Evaluation *****\n",
      "  Num examples = 52878\n",
      "  Batch size = 512\n",
      "Saving model checkpoint to ./output/checkpoint-8435\n",
      "Configuration saved in ./output/checkpoint-8435/config.json\n",
      "Model weights saved in ./output/checkpoint-8435/pytorch_model.bin\n",
      "/TGM/Apps/ANACONDA/2021.05/lib/python3.8/site-packages/torch/nn/parallel/_functions.py:68: UserWarning: Was asked to gather along dimension 0, but all input tensors were scalars; will instead unsqueeze and return a vector.\n",
      "  warnings.warn('Was asked to gather along dimension 0, but all '\n",
      "***** Running Evaluation *****\n",
      "  Num examples = 52878\n",
      "  Batch size = 512\n",
      "Saving model checkpoint to ./output/checkpoint-8676\n",
      "Configuration saved in ./output/checkpoint-8676/config.json\n",
      "Model weights saved in ./output/checkpoint-8676/pytorch_model.bin\n",
      "/TGM/Apps/ANACONDA/2021.05/lib/python3.8/site-packages/torch/nn/parallel/_functions.py:68: UserWarning: Was asked to gather along dimension 0, but all input tensors were scalars; will instead unsqueeze and return a vector.\n",
      "  warnings.warn('Was asked to gather along dimension 0, but all '\n",
      "***** Running Evaluation *****\n",
      "  Num examples = 52878\n",
      "  Batch size = 512\n",
      "Saving model checkpoint to ./output/checkpoint-8917\n",
      "Configuration saved in ./output/checkpoint-8917/config.json\n",
      "Model weights saved in ./output/checkpoint-8917/pytorch_model.bin\n",
      "/TGM/Apps/ANACONDA/2021.05/lib/python3.8/site-packages/torch/nn/parallel/_functions.py:68: UserWarning: Was asked to gather along dimension 0, but all input tensors were scalars; will instead unsqueeze and return a vector.\n",
      "  warnings.warn('Was asked to gather along dimension 0, but all '\n",
      "***** Running Evaluation *****\n",
      "  Num examples = 52878\n",
      "  Batch size = 512\n",
      "Saving model checkpoint to ./output/checkpoint-9158\n",
      "Configuration saved in ./output/checkpoint-9158/config.json\n",
      "Model weights saved in ./output/checkpoint-9158/pytorch_model.bin\n",
      "/TGM/Apps/ANACONDA/2021.05/lib/python3.8/site-packages/torch/nn/parallel/_functions.py:68: UserWarning: Was asked to gather along dimension 0, but all input tensors were scalars; will instead unsqueeze and return a vector.\n",
      "  warnings.warn('Was asked to gather along dimension 0, but all '\n",
      "***** Running Evaluation *****\n",
      "  Num examples = 52878\n",
      "  Batch size = 512\n",
      "Saving model checkpoint to ./output/checkpoint-9399\n",
      "Configuration saved in ./output/checkpoint-9399/config.json\n",
      "Model weights saved in ./output/checkpoint-9399/pytorch_model.bin\n",
      "/TGM/Apps/ANACONDA/2021.05/lib/python3.8/site-packages/torch/nn/parallel/_functions.py:68: UserWarning: Was asked to gather along dimension 0, but all input tensors were scalars; will instead unsqueeze and return a vector.\n",
      "  warnings.warn('Was asked to gather along dimension 0, but all '\n",
      "***** Running Evaluation *****\n",
      "  Num examples = 52878\n",
      "  Batch size = 512\n",
      "Saving model checkpoint to ./output/checkpoint-9640\n",
      "Configuration saved in ./output/checkpoint-9640/config.json\n",
      "Model weights saved in ./output/checkpoint-9640/pytorch_model.bin\n",
      "/TGM/Apps/ANACONDA/2021.05/lib/python3.8/site-packages/torch/nn/parallel/_functions.py:68: UserWarning: Was asked to gather along dimension 0, but all input tensors were scalars; will instead unsqueeze and return a vector.\n",
      "  warnings.warn('Was asked to gather along dimension 0, but all '\n",
      "***** Running Evaluation *****\n",
      "  Num examples = 52878\n",
      "  Batch size = 512\n",
      "Saving model checkpoint to ./output/checkpoint-9881\n",
      "Configuration saved in ./output/checkpoint-9881/config.json\n",
      "Model weights saved in ./output/checkpoint-9881/pytorch_model.bin\n",
      "/TGM/Apps/ANACONDA/2021.05/lib/python3.8/site-packages/torch/nn/parallel/_functions.py:68: UserWarning: Was asked to gather along dimension 0, but all input tensors were scalars; will instead unsqueeze and return a vector.\n",
      "  warnings.warn('Was asked to gather along dimension 0, but all '\n",
      "***** Running Evaluation *****\n",
      "  Num examples = 52878\n",
      "  Batch size = 512\n",
      "Saving model checkpoint to ./output/checkpoint-10122\n",
      "Configuration saved in ./output/checkpoint-10122/config.json\n",
      "Model weights saved in ./output/checkpoint-10122/pytorch_model.bin\n",
      "/TGM/Apps/ANACONDA/2021.05/lib/python3.8/site-packages/torch/nn/parallel/_functions.py:68: UserWarning: Was asked to gather along dimension 0, but all input tensors were scalars; will instead unsqueeze and return a vector.\n",
      "  warnings.warn('Was asked to gather along dimension 0, but all '\n",
      "***** Running Evaluation *****\n",
      "  Num examples = 52878\n",
      "  Batch size = 512\n",
      "Saving model checkpoint to ./output/checkpoint-10363\n",
      "Configuration saved in ./output/checkpoint-10363/config.json\n",
      "Model weights saved in ./output/checkpoint-10363/pytorch_model.bin\n",
      "/TGM/Apps/ANACONDA/2021.05/lib/python3.8/site-packages/torch/nn/parallel/_functions.py:68: UserWarning: Was asked to gather along dimension 0, but all input tensors were scalars; will instead unsqueeze and return a vector.\n",
      "  warnings.warn('Was asked to gather along dimension 0, but all '\n",
      "***** Running Evaluation *****\n",
      "  Num examples = 52878\n",
      "  Batch size = 512\n",
      "Saving model checkpoint to ./output/checkpoint-10604\n",
      "Configuration saved in ./output/checkpoint-10604/config.json\n",
      "Model weights saved in ./output/checkpoint-10604/pytorch_model.bin\n",
      "/TGM/Apps/ANACONDA/2021.05/lib/python3.8/site-packages/torch/nn/parallel/_functions.py:68: UserWarning: Was asked to gather along dimension 0, but all input tensors were scalars; will instead unsqueeze and return a vector.\n",
      "  warnings.warn('Was asked to gather along dimension 0, but all '\n",
      "***** Running Evaluation *****\n",
      "  Num examples = 52878\n",
      "  Batch size = 512\n",
      "Saving model checkpoint to ./output/checkpoint-10845\n",
      "Configuration saved in ./output/checkpoint-10845/config.json\n",
      "Model weights saved in ./output/checkpoint-10845/pytorch_model.bin\n",
      "/TGM/Apps/ANACONDA/2021.05/lib/python3.8/site-packages/torch/nn/parallel/_functions.py:68: UserWarning: Was asked to gather along dimension 0, but all input tensors were scalars; will instead unsqueeze and return a vector.\n",
      "  warnings.warn('Was asked to gather along dimension 0, but all '\n",
      "***** Running Evaluation *****\n",
      "  Num examples = 52878\n",
      "  Batch size = 512\n",
      "Saving model checkpoint to ./output/checkpoint-11086\n",
      "Configuration saved in ./output/checkpoint-11086/config.json\n",
      "Model weights saved in ./output/checkpoint-11086/pytorch_model.bin\n",
      "/TGM/Apps/ANACONDA/2021.05/lib/python3.8/site-packages/torch/nn/parallel/_functions.py:68: UserWarning: Was asked to gather along dimension 0, but all input tensors were scalars; will instead unsqueeze and return a vector.\n",
      "  warnings.warn('Was asked to gather along dimension 0, but all '\n"
     ]
    },
    {
     "name": "stderr",
     "output_type": "stream",
     "text": [
      "***** Running Evaluation *****\n",
      "  Num examples = 52878\n",
      "  Batch size = 512\n",
      "Saving model checkpoint to ./output/checkpoint-11327\n",
      "Configuration saved in ./output/checkpoint-11327/config.json\n",
      "Model weights saved in ./output/checkpoint-11327/pytorch_model.bin\n",
      "/TGM/Apps/ANACONDA/2021.05/lib/python3.8/site-packages/torch/nn/parallel/_functions.py:68: UserWarning: Was asked to gather along dimension 0, but all input tensors were scalars; will instead unsqueeze and return a vector.\n",
      "  warnings.warn('Was asked to gather along dimension 0, but all '\n",
      "***** Running Evaluation *****\n",
      "  Num examples = 52878\n",
      "  Batch size = 512\n",
      "Saving model checkpoint to ./output/checkpoint-11568\n",
      "Configuration saved in ./output/checkpoint-11568/config.json\n",
      "Model weights saved in ./output/checkpoint-11568/pytorch_model.bin\n",
      "/TGM/Apps/ANACONDA/2021.05/lib/python3.8/site-packages/torch/nn/parallel/_functions.py:68: UserWarning: Was asked to gather along dimension 0, but all input tensors were scalars; will instead unsqueeze and return a vector.\n",
      "  warnings.warn('Was asked to gather along dimension 0, but all '\n",
      "***** Running Evaluation *****\n",
      "  Num examples = 52878\n",
      "  Batch size = 512\n",
      "Saving model checkpoint to ./output/checkpoint-11809\n",
      "Configuration saved in ./output/checkpoint-11809/config.json\n",
      "Model weights saved in ./output/checkpoint-11809/pytorch_model.bin\n",
      "/TGM/Apps/ANACONDA/2021.05/lib/python3.8/site-packages/torch/nn/parallel/_functions.py:68: UserWarning: Was asked to gather along dimension 0, but all input tensors were scalars; will instead unsqueeze and return a vector.\n",
      "  warnings.warn('Was asked to gather along dimension 0, but all '\n",
      "***** Running Evaluation *****\n",
      "  Num examples = 52878\n",
      "  Batch size = 512\n",
      "Saving model checkpoint to ./output/checkpoint-12050\n",
      "Configuration saved in ./output/checkpoint-12050/config.json\n",
      "Model weights saved in ./output/checkpoint-12050/pytorch_model.bin\n",
      "\n",
      "\n",
      "Training completed. Do not forget to share your model on huggingface.co/models =)\n",
      "\n",
      "\n",
      "Loading best model from ./output/checkpoint-723 (score: 0.8805363289080524).\n"
     ]
    },
    {
     "data": {
      "text/plain": [
       "TrainOutput(global_step=12050, training_loss=0.03897960951343117, metrics={'train_runtime': 11428.891, 'train_samples_per_second': 539.777, 'train_steps_per_second': 1.054, 'total_flos': 4.0580797173160704e+17, 'train_loss': 0.03897960951343117, 'epoch': 50.0})"
      ]
     },
     "execution_count": 26,
     "metadata": {},
     "output_type": "execute_result"
    }
   ],
   "source": [
    "from transformers import Trainer, TrainingArguments\n",
    "\n",
    "training_args = TrainingArguments(\n",
    "    output_dir=output_path,          \n",
    "    evaluation_strategy=\"epoch\",\n",
    "    eval_steps=1000,\n",
    "    per_device_train_batch_size=128, \n",
    "    per_device_eval_batch_size=128,\n",
    "    learning_rate=1e-4,\n",
    "    weight_decay=0.01,\n",
    "    adam_beta1=.9,\n",
    "    adam_beta2=.95,\n",
    "    adam_epsilon=1e-8,\n",
    "    max_grad_norm=1.,\n",
    "    optim = 'adamw_hf',\n",
    "    num_train_epochs=50,    \n",
    "    lr_scheduler_type=\"linear\",\n",
    "    warmup_steps=100,\n",
    "    logging_dir='./logs',\n",
    "    logging_strategy=\"epoch\",\n",
    "    logging_first_step=True,\n",
    "    logging_steps=1000,\n",
    "    save_strategy=\"epoch\",\n",
    "    seed=12345,\n",
    "    dataloader_drop_last=False,\n",
    "    dataloader_num_workers=2,\n",
    "    report_to = 'wandb',\n",
    "    run_name=\"TechBERT\",  # name of the W&B run (optional)\n",
    "    load_best_model_at_end =True, # Training이 끝났을 때 \n",
    "    metric_for_best_model ='accuracy' # 모델 비교를 위한 metric, 지정하지 않을 경우 loss\n",
    ")\n",
    "\n",
    "trainer = Trainer(\n",
    "    args=training_args,\n",
    "    data_collator=batchify,\n",
    "    model=model,\n",
    "    train_dataset=train_ds,\n",
    "    eval_dataset=valid_ds,\n",
    "    compute_metrics=compute_metrics\n",
    ")\n",
    "\n",
    "trainer.train()"
   ]
  },
  {
   "cell_type": "code",
   "execution_count": 25,
   "metadata": {},
   "outputs": [
    {
     "name": "stderr",
     "output_type": "stream",
     "text": [
      "/home/changdae/anaconda3/envs/techbert/lib/python3.10/site-packages/transformers/optimization.py:306: FutureWarning: This implementation of AdamW is deprecated and will be removed in a future version. Use the PyTorch implementation torch.optim.AdamW instead, or set `no_deprecation_warning=True` to disable this warning\n",
      "  warnings.warn(\n",
      "***** Running training *****\n",
      "  Num examples = 123352\n",
      "  Num Epochs = 10\n",
      "  Instantaneous batch size per device = 256\n",
      "  Total train batch size (w. parallel, distributed & accumulation) = 2048\n",
      "  Gradient Accumulation steps = 1\n",
      "  Total optimization steps = 610\n",
      "Automatic Weights & Biases logging enabled, to disable set os.environ[\"WANDB_DISABLED\"] = \"true\"\n",
      "\u001b[34m\u001b[1mwandb\u001b[0m: Currently logged in as: \u001b[33mchangdaeoh\u001b[0m. Use \u001b[1m`wandb login --relogin`\u001b[0m to force relogin\n"
     ]
    },
    {
     "data": {
      "text/html": [
       "Tracking run with wandb version 0.13.3"
      ],
      "text/plain": [
       "<IPython.core.display.HTML object>"
      ]
     },
     "metadata": {},
     "output_type": "display_data"
    },
    {
     "data": {
      "text/html": [
       "Run data is saved locally in <code>/disk/changdae/TechBERT/wandb/run-20220912_172624-wqkjk8zt</code>"
      ],
      "text/plain": [
       "<IPython.core.display.HTML object>"
      ]
     },
     "metadata": {},
     "output_type": "display_data"
    },
    {
     "data": {
      "text/html": [
       "Syncing run <strong><a href=\"https://wandb.ai/changdaeoh/huggingface/runs/wqkjk8zt\" target=\"_blank\">TechBERT</a></strong> to <a href=\"https://wandb.ai/changdaeoh/huggingface\" target=\"_blank\">Weights & Biases</a> (<a href=\"https://wandb.me/run\" target=\"_blank\">docs</a>)<br/>"
      ],
      "text/plain": [
       "<IPython.core.display.HTML object>"
      ]
     },
     "metadata": {},
     "output_type": "display_data"
    },
    {
     "name": "stdout",
     "output_type": "stream",
     "text": [
      "huggingface/tokenizers: The current process just got forked, after parallelism has already been used. Disabling parallelism to avoid deadlocks...\n",
      "To disable this warning, you can either:\n",
      "\t- Avoid using `tokenizers` before the fork if possible\n",
      "\t- Explicitly set the environment variable TOKENIZERS_PARALLELISM=(true | false)\n",
      "huggingface/tokenizers: The current process just got forked, after parallelism has already been used. Disabling parallelism to avoid deadlocks...\n",
      "To disable this warning, you can either:\n",
      "\t- Avoid using `tokenizers` before the fork if possible\n",
      "\t- Explicitly set the environment variable TOKENIZERS_PARALLELISM=(true | false)\n"
     ]
    },
    {
     "ename": "KeyboardInterrupt",
     "evalue": "",
     "output_type": "error",
     "traceback": [
      "\u001b[0;31m---------------------------------------------------------------------------\u001b[0m",
      "\u001b[0;31mKeyboardInterrupt\u001b[0m                         Traceback (most recent call last)",
      "Cell \u001b[0;32mIn [25], line 42\u001b[0m\n\u001b[1;32m      3\u001b[0m training_args \u001b[38;5;241m=\u001b[39m TrainingArguments(\n\u001b[1;32m      4\u001b[0m     output_dir\u001b[38;5;241m=\u001b[39moutput_path,          \n\u001b[1;32m      5\u001b[0m     evaluation_strategy\u001b[38;5;241m=\u001b[39m\u001b[38;5;124m\"\u001b[39m\u001b[38;5;124mepoch\u001b[39m\u001b[38;5;124m\"\u001b[39m,\n\u001b[0;32m   (...)\u001b[0m\n\u001b[1;32m     30\u001b[0m     metric_for_best_model \u001b[38;5;241m=\u001b[39m\u001b[38;5;124m'\u001b[39m\u001b[38;5;124maccuracy\u001b[39m\u001b[38;5;124m'\u001b[39m \u001b[38;5;66;03m# 모델 비교를 위한 metric, 지정하지 않을 경우 loss\u001b[39;00m\n\u001b[1;32m     31\u001b[0m )\n\u001b[1;32m     33\u001b[0m trainer \u001b[38;5;241m=\u001b[39m Trainer(\n\u001b[1;32m     34\u001b[0m     args\u001b[38;5;241m=\u001b[39mtraining_args,\n\u001b[1;32m     35\u001b[0m     data_collator\u001b[38;5;241m=\u001b[39mbatchify,\n\u001b[0;32m   (...)\u001b[0m\n\u001b[1;32m     39\u001b[0m     compute_metrics\u001b[38;5;241m=\u001b[39mcompute_metrics\n\u001b[1;32m     40\u001b[0m )\n\u001b[0;32m---> 42\u001b[0m \u001b[43mtrainer\u001b[49m\u001b[38;5;241;43m.\u001b[39;49m\u001b[43mtrain\u001b[49m\u001b[43m(\u001b[49m\u001b[43m)\u001b[49m\n",
      "File \u001b[0;32m~/anaconda3/envs/techbert/lib/python3.10/site-packages/transformers/trainer.py:1498\u001b[0m, in \u001b[0;36mTrainer.train\u001b[0;34m(self, resume_from_checkpoint, trial, ignore_keys_for_eval, **kwargs)\u001b[0m\n\u001b[1;32m   1493\u001b[0m     \u001b[38;5;28mself\u001b[39m\u001b[38;5;241m.\u001b[39mmodel_wrapped \u001b[38;5;241m=\u001b[39m \u001b[38;5;28mself\u001b[39m\u001b[38;5;241m.\u001b[39mmodel\n\u001b[1;32m   1495\u001b[0m inner_training_loop \u001b[38;5;241m=\u001b[39m find_executable_batch_size(\n\u001b[1;32m   1496\u001b[0m     \u001b[38;5;28mself\u001b[39m\u001b[38;5;241m.\u001b[39m_inner_training_loop, \u001b[38;5;28mself\u001b[39m\u001b[38;5;241m.\u001b[39m_train_batch_size, args\u001b[38;5;241m.\u001b[39mauto_find_batch_size\n\u001b[1;32m   1497\u001b[0m )\n\u001b[0;32m-> 1498\u001b[0m \u001b[38;5;28;01mreturn\u001b[39;00m \u001b[43minner_training_loop\u001b[49m\u001b[43m(\u001b[49m\n\u001b[1;32m   1499\u001b[0m \u001b[43m    \u001b[49m\u001b[43margs\u001b[49m\u001b[38;5;241;43m=\u001b[39;49m\u001b[43margs\u001b[49m\u001b[43m,\u001b[49m\n\u001b[1;32m   1500\u001b[0m \u001b[43m    \u001b[49m\u001b[43mresume_from_checkpoint\u001b[49m\u001b[38;5;241;43m=\u001b[39;49m\u001b[43mresume_from_checkpoint\u001b[49m\u001b[43m,\u001b[49m\n\u001b[1;32m   1501\u001b[0m \u001b[43m    \u001b[49m\u001b[43mtrial\u001b[49m\u001b[38;5;241;43m=\u001b[39;49m\u001b[43mtrial\u001b[49m\u001b[43m,\u001b[49m\n\u001b[1;32m   1502\u001b[0m \u001b[43m    \u001b[49m\u001b[43mignore_keys_for_eval\u001b[49m\u001b[38;5;241;43m=\u001b[39;49m\u001b[43mignore_keys_for_eval\u001b[49m\u001b[43m,\u001b[49m\n\u001b[1;32m   1503\u001b[0m \u001b[43m\u001b[49m\u001b[43m)\u001b[49m\n",
      "File \u001b[0;32m~/anaconda3/envs/techbert/lib/python3.10/site-packages/transformers/trainer.py:1740\u001b[0m, in \u001b[0;36mTrainer._inner_training_loop\u001b[0;34m(self, batch_size, args, resume_from_checkpoint, trial, ignore_keys_for_eval)\u001b[0m\n\u001b[1;32m   1738\u001b[0m         tr_loss_step \u001b[38;5;241m=\u001b[39m \u001b[38;5;28mself\u001b[39m\u001b[38;5;241m.\u001b[39mtraining_step(model, inputs)\n\u001b[1;32m   1739\u001b[0m \u001b[38;5;28;01melse\u001b[39;00m:\n\u001b[0;32m-> 1740\u001b[0m     tr_loss_step \u001b[38;5;241m=\u001b[39m \u001b[38;5;28;43mself\u001b[39;49m\u001b[38;5;241;43m.\u001b[39;49m\u001b[43mtraining_step\u001b[49m\u001b[43m(\u001b[49m\u001b[43mmodel\u001b[49m\u001b[43m,\u001b[49m\u001b[43m \u001b[49m\u001b[43minputs\u001b[49m\u001b[43m)\u001b[49m\n\u001b[1;32m   1742\u001b[0m \u001b[38;5;28;01mif\u001b[39;00m (\n\u001b[1;32m   1743\u001b[0m     args\u001b[38;5;241m.\u001b[39mlogging_nan_inf_filter\n\u001b[1;32m   1744\u001b[0m     \u001b[38;5;129;01mand\u001b[39;00m \u001b[38;5;129;01mnot\u001b[39;00m is_torch_tpu_available()\n\u001b[1;32m   1745\u001b[0m     \u001b[38;5;129;01mand\u001b[39;00m (torch\u001b[38;5;241m.\u001b[39misnan(tr_loss_step) \u001b[38;5;129;01mor\u001b[39;00m torch\u001b[38;5;241m.\u001b[39misinf(tr_loss_step))\n\u001b[1;32m   1746\u001b[0m ):\n\u001b[1;32m   1747\u001b[0m     \u001b[38;5;66;03m# if loss is nan or inf simply add the average of previous logged losses\u001b[39;00m\n\u001b[1;32m   1748\u001b[0m     tr_loss \u001b[38;5;241m+\u001b[39m\u001b[38;5;241m=\u001b[39m tr_loss \u001b[38;5;241m/\u001b[39m (\u001b[38;5;241m1\u001b[39m \u001b[38;5;241m+\u001b[39m \u001b[38;5;28mself\u001b[39m\u001b[38;5;241m.\u001b[39mstate\u001b[38;5;241m.\u001b[39mglobal_step \u001b[38;5;241m-\u001b[39m \u001b[38;5;28mself\u001b[39m\u001b[38;5;241m.\u001b[39m_globalstep_last_logged)\n",
      "File \u001b[0;32m~/anaconda3/envs/techbert/lib/python3.10/site-packages/transformers/trainer.py:2470\u001b[0m, in \u001b[0;36mTrainer.training_step\u001b[0;34m(self, model, inputs)\u001b[0m\n\u001b[1;32m   2467\u001b[0m     \u001b[38;5;28;01mreturn\u001b[39;00m loss_mb\u001b[38;5;241m.\u001b[39mreduce_mean()\u001b[38;5;241m.\u001b[39mdetach()\u001b[38;5;241m.\u001b[39mto(\u001b[38;5;28mself\u001b[39m\u001b[38;5;241m.\u001b[39margs\u001b[38;5;241m.\u001b[39mdevice)\n\u001b[1;32m   2469\u001b[0m \u001b[38;5;28;01mwith\u001b[39;00m \u001b[38;5;28mself\u001b[39m\u001b[38;5;241m.\u001b[39mcompute_loss_context_manager():\n\u001b[0;32m-> 2470\u001b[0m     loss \u001b[38;5;241m=\u001b[39m \u001b[38;5;28;43mself\u001b[39;49m\u001b[38;5;241;43m.\u001b[39;49m\u001b[43mcompute_loss\u001b[49m\u001b[43m(\u001b[49m\u001b[43mmodel\u001b[49m\u001b[43m,\u001b[49m\u001b[43m \u001b[49m\u001b[43minputs\u001b[49m\u001b[43m)\u001b[49m\n\u001b[1;32m   2472\u001b[0m \u001b[38;5;28;01mif\u001b[39;00m \u001b[38;5;28mself\u001b[39m\u001b[38;5;241m.\u001b[39margs\u001b[38;5;241m.\u001b[39mn_gpu \u001b[38;5;241m>\u001b[39m \u001b[38;5;241m1\u001b[39m:\n\u001b[1;32m   2473\u001b[0m     loss \u001b[38;5;241m=\u001b[39m loss\u001b[38;5;241m.\u001b[39mmean()  \u001b[38;5;66;03m# mean() to average on multi-gpu parallel training\u001b[39;00m\n",
      "File \u001b[0;32m~/anaconda3/envs/techbert/lib/python3.10/site-packages/transformers/trainer.py:2502\u001b[0m, in \u001b[0;36mTrainer.compute_loss\u001b[0;34m(self, model, inputs, return_outputs)\u001b[0m\n\u001b[1;32m   2500\u001b[0m \u001b[38;5;28;01melse\u001b[39;00m:\n\u001b[1;32m   2501\u001b[0m     labels \u001b[38;5;241m=\u001b[39m \u001b[38;5;28;01mNone\u001b[39;00m\n\u001b[0;32m-> 2502\u001b[0m outputs \u001b[38;5;241m=\u001b[39m \u001b[43mmodel\u001b[49m\u001b[43m(\u001b[49m\u001b[38;5;241;43m*\u001b[39;49m\u001b[38;5;241;43m*\u001b[39;49m\u001b[43minputs\u001b[49m\u001b[43m)\u001b[49m\n\u001b[1;32m   2503\u001b[0m \u001b[38;5;66;03m# Save past state if it exists\u001b[39;00m\n\u001b[1;32m   2504\u001b[0m \u001b[38;5;66;03m# TODO: this needs to be fixed and made cleaner later.\u001b[39;00m\n\u001b[1;32m   2505\u001b[0m \u001b[38;5;28;01mif\u001b[39;00m \u001b[38;5;28mself\u001b[39m\u001b[38;5;241m.\u001b[39margs\u001b[38;5;241m.\u001b[39mpast_index \u001b[38;5;241m>\u001b[39m\u001b[38;5;241m=\u001b[39m \u001b[38;5;241m0\u001b[39m:\n",
      "File \u001b[0;32m~/anaconda3/envs/techbert/lib/python3.10/site-packages/torch/nn/modules/module.py:1130\u001b[0m, in \u001b[0;36mModule._call_impl\u001b[0;34m(self, *input, **kwargs)\u001b[0m\n\u001b[1;32m   1126\u001b[0m \u001b[38;5;66;03m# If we don't have any hooks, we want to skip the rest of the logic in\u001b[39;00m\n\u001b[1;32m   1127\u001b[0m \u001b[38;5;66;03m# this function, and just call forward.\u001b[39;00m\n\u001b[1;32m   1128\u001b[0m \u001b[38;5;28;01mif\u001b[39;00m \u001b[38;5;129;01mnot\u001b[39;00m (\u001b[38;5;28mself\u001b[39m\u001b[38;5;241m.\u001b[39m_backward_hooks \u001b[38;5;129;01mor\u001b[39;00m \u001b[38;5;28mself\u001b[39m\u001b[38;5;241m.\u001b[39m_forward_hooks \u001b[38;5;129;01mor\u001b[39;00m \u001b[38;5;28mself\u001b[39m\u001b[38;5;241m.\u001b[39m_forward_pre_hooks \u001b[38;5;129;01mor\u001b[39;00m _global_backward_hooks\n\u001b[1;32m   1129\u001b[0m         \u001b[38;5;129;01mor\u001b[39;00m _global_forward_hooks \u001b[38;5;129;01mor\u001b[39;00m _global_forward_pre_hooks):\n\u001b[0;32m-> 1130\u001b[0m     \u001b[38;5;28;01mreturn\u001b[39;00m \u001b[43mforward_call\u001b[49m\u001b[43m(\u001b[49m\u001b[38;5;241;43m*\u001b[39;49m\u001b[38;5;28;43minput\u001b[39;49m\u001b[43m,\u001b[49m\u001b[43m \u001b[49m\u001b[38;5;241;43m*\u001b[39;49m\u001b[38;5;241;43m*\u001b[39;49m\u001b[43mkwargs\u001b[49m\u001b[43m)\u001b[49m\n\u001b[1;32m   1131\u001b[0m \u001b[38;5;66;03m# Do not call functions when jit is used\u001b[39;00m\n\u001b[1;32m   1132\u001b[0m full_backward_hooks, non_full_backward_hooks \u001b[38;5;241m=\u001b[39m [], []\n",
      "File \u001b[0;32m~/anaconda3/envs/techbert/lib/python3.10/site-packages/torch/nn/parallel/data_parallel.py:158\u001b[0m, in \u001b[0;36mDataParallel.forward\u001b[0;34m(self, *inputs, **kwargs)\u001b[0m\n\u001b[1;32m    153\u001b[0m     \u001b[38;5;28;01mif\u001b[39;00m t\u001b[38;5;241m.\u001b[39mdevice \u001b[38;5;241m!=\u001b[39m \u001b[38;5;28mself\u001b[39m\u001b[38;5;241m.\u001b[39msrc_device_obj:\n\u001b[1;32m    154\u001b[0m         \u001b[38;5;28;01mraise\u001b[39;00m \u001b[38;5;167;01mRuntimeError\u001b[39;00m(\u001b[38;5;124m\"\u001b[39m\u001b[38;5;124mmodule must have its parameters and buffers \u001b[39m\u001b[38;5;124m\"\u001b[39m\n\u001b[1;32m    155\u001b[0m                            \u001b[38;5;124m\"\u001b[39m\u001b[38;5;124mon device \u001b[39m\u001b[38;5;132;01m{}\u001b[39;00m\u001b[38;5;124m (device_ids[0]) but found one of \u001b[39m\u001b[38;5;124m\"\u001b[39m\n\u001b[1;32m    156\u001b[0m                            \u001b[38;5;124m\"\u001b[39m\u001b[38;5;124mthem on device: \u001b[39m\u001b[38;5;132;01m{}\u001b[39;00m\u001b[38;5;124m\"\u001b[39m\u001b[38;5;241m.\u001b[39mformat(\u001b[38;5;28mself\u001b[39m\u001b[38;5;241m.\u001b[39msrc_device_obj, t\u001b[38;5;241m.\u001b[39mdevice))\n\u001b[0;32m--> 158\u001b[0m inputs, kwargs \u001b[38;5;241m=\u001b[39m \u001b[38;5;28;43mself\u001b[39;49m\u001b[38;5;241;43m.\u001b[39;49m\u001b[43mscatter\u001b[49m\u001b[43m(\u001b[49m\u001b[43minputs\u001b[49m\u001b[43m,\u001b[49m\u001b[43m \u001b[49m\u001b[43mkwargs\u001b[49m\u001b[43m,\u001b[49m\u001b[43m \u001b[49m\u001b[38;5;28;43mself\u001b[39;49m\u001b[38;5;241;43m.\u001b[39;49m\u001b[43mdevice_ids\u001b[49m\u001b[43m)\u001b[49m\n\u001b[1;32m    159\u001b[0m \u001b[38;5;66;03m# for forward function without any inputs, empty list and dict will be created\u001b[39;00m\n\u001b[1;32m    160\u001b[0m \u001b[38;5;66;03m# so the module can be executed on one device which is the first one in device_ids\u001b[39;00m\n\u001b[1;32m    161\u001b[0m \u001b[38;5;28;01mif\u001b[39;00m \u001b[38;5;129;01mnot\u001b[39;00m inputs \u001b[38;5;129;01mand\u001b[39;00m \u001b[38;5;129;01mnot\u001b[39;00m kwargs:\n",
      "File \u001b[0;32m~/anaconda3/envs/techbert/lib/python3.10/site-packages/torch/nn/parallel/data_parallel.py:175\u001b[0m, in \u001b[0;36mDataParallel.scatter\u001b[0;34m(self, inputs, kwargs, device_ids)\u001b[0m\n\u001b[1;32m    174\u001b[0m \u001b[38;5;28;01mdef\u001b[39;00m \u001b[38;5;21mscatter\u001b[39m(\u001b[38;5;28mself\u001b[39m, inputs, kwargs, device_ids):\n\u001b[0;32m--> 175\u001b[0m     \u001b[38;5;28;01mreturn\u001b[39;00m \u001b[43mscatter_kwargs\u001b[49m\u001b[43m(\u001b[49m\u001b[43minputs\u001b[49m\u001b[43m,\u001b[49m\u001b[43m \u001b[49m\u001b[43mkwargs\u001b[49m\u001b[43m,\u001b[49m\u001b[43m \u001b[49m\u001b[43mdevice_ids\u001b[49m\u001b[43m,\u001b[49m\u001b[43m \u001b[49m\u001b[43mdim\u001b[49m\u001b[38;5;241;43m=\u001b[39;49m\u001b[38;5;28;43mself\u001b[39;49m\u001b[38;5;241;43m.\u001b[39;49m\u001b[43mdim\u001b[49m\u001b[43m)\u001b[49m\n",
      "File \u001b[0;32m~/anaconda3/envs/techbert/lib/python3.10/site-packages/torch/nn/parallel/scatter_gather.py:45\u001b[0m, in \u001b[0;36mscatter_kwargs\u001b[0;34m(inputs, kwargs, target_gpus, dim)\u001b[0m\n\u001b[1;32m     43\u001b[0m \u001b[38;5;124mr\u001b[39m\u001b[38;5;124;03m\"\"\"Scatter with support for kwargs dictionary\"\"\"\u001b[39;00m\n\u001b[1;32m     44\u001b[0m inputs \u001b[38;5;241m=\u001b[39m scatter(inputs, target_gpus, dim) \u001b[38;5;28;01mif\u001b[39;00m inputs \u001b[38;5;28;01melse\u001b[39;00m []\n\u001b[0;32m---> 45\u001b[0m kwargs \u001b[38;5;241m=\u001b[39m \u001b[43mscatter\u001b[49m\u001b[43m(\u001b[49m\u001b[43mkwargs\u001b[49m\u001b[43m,\u001b[49m\u001b[43m \u001b[49m\u001b[43mtarget_gpus\u001b[49m\u001b[43m,\u001b[49m\u001b[43m \u001b[49m\u001b[43mdim\u001b[49m\u001b[43m)\u001b[49m \u001b[38;5;28;01mif\u001b[39;00m kwargs \u001b[38;5;28;01melse\u001b[39;00m []\n\u001b[1;32m     46\u001b[0m \u001b[38;5;28;01mif\u001b[39;00m \u001b[38;5;28mlen\u001b[39m(inputs) \u001b[38;5;241m<\u001b[39m \u001b[38;5;28mlen\u001b[39m(kwargs):\n\u001b[1;32m     47\u001b[0m     inputs\u001b[38;5;241m.\u001b[39mextend(() \u001b[38;5;28;01mfor\u001b[39;00m _ \u001b[38;5;129;01min\u001b[39;00m \u001b[38;5;28mrange\u001b[39m(\u001b[38;5;28mlen\u001b[39m(kwargs) \u001b[38;5;241m-\u001b[39m \u001b[38;5;28mlen\u001b[39m(inputs)))\n",
      "File \u001b[0;32m~/anaconda3/envs/techbert/lib/python3.10/site-packages/torch/nn/parallel/scatter_gather.py:36\u001b[0m, in \u001b[0;36mscatter\u001b[0;34m(inputs, target_gpus, dim)\u001b[0m\n\u001b[1;32m     30\u001b[0m \u001b[38;5;66;03m# After scatter_map is called, a scatter_map cell will exist. This cell\u001b[39;00m\n\u001b[1;32m     31\u001b[0m \u001b[38;5;66;03m# has a reference to the actual function scatter_map, which has references\u001b[39;00m\n\u001b[1;32m     32\u001b[0m \u001b[38;5;66;03m# to a closure that has a reference to the scatter_map cell (because the\u001b[39;00m\n\u001b[1;32m     33\u001b[0m \u001b[38;5;66;03m# fn is recursive). To avoid this reference cycle, we set the function to\u001b[39;00m\n\u001b[1;32m     34\u001b[0m \u001b[38;5;66;03m# None, clearing the cell\u001b[39;00m\n\u001b[1;32m     35\u001b[0m \u001b[38;5;28;01mtry\u001b[39;00m:\n\u001b[0;32m---> 36\u001b[0m     res \u001b[38;5;241m=\u001b[39m \u001b[43mscatter_map\u001b[49m\u001b[43m(\u001b[49m\u001b[43minputs\u001b[49m\u001b[43m)\u001b[49m\n\u001b[1;32m     37\u001b[0m \u001b[38;5;28;01mfinally\u001b[39;00m:\n\u001b[1;32m     38\u001b[0m     scatter_map \u001b[38;5;241m=\u001b[39m \u001b[38;5;28;01mNone\u001b[39;00m\n",
      "File \u001b[0;32m~/anaconda3/envs/techbert/lib/python3.10/site-packages/torch/nn/parallel/scatter_gather.py:27\u001b[0m, in \u001b[0;36mscatter.<locals>.scatter_map\u001b[0;34m(obj)\u001b[0m\n\u001b[1;32m     25\u001b[0m     \u001b[38;5;28;01mreturn\u001b[39;00m [\u001b[38;5;28mlist\u001b[39m(i) \u001b[38;5;28;01mfor\u001b[39;00m i \u001b[38;5;129;01min\u001b[39;00m \u001b[38;5;28mzip\u001b[39m(\u001b[38;5;241m*\u001b[39m\u001b[38;5;28mmap\u001b[39m(scatter_map, obj))]\n\u001b[1;32m     26\u001b[0m \u001b[38;5;28;01mif\u001b[39;00m \u001b[38;5;28misinstance\u001b[39m(obj, \u001b[38;5;28mdict\u001b[39m) \u001b[38;5;129;01mand\u001b[39;00m \u001b[38;5;28mlen\u001b[39m(obj) \u001b[38;5;241m>\u001b[39m \u001b[38;5;241m0\u001b[39m:\n\u001b[0;32m---> 27\u001b[0m     \u001b[38;5;28;01mreturn\u001b[39;00m [\u001b[38;5;28mtype\u001b[39m(obj)(i) \u001b[38;5;28;01mfor\u001b[39;00m i \u001b[38;5;129;01min\u001b[39;00m \u001b[38;5;28;43mzip\u001b[39;49m\u001b[43m(\u001b[49m\u001b[38;5;241;43m*\u001b[39;49m\u001b[38;5;28;43mmap\u001b[39;49m\u001b[43m(\u001b[49m\u001b[43mscatter_map\u001b[49m\u001b[43m,\u001b[49m\u001b[43m \u001b[49m\u001b[43mobj\u001b[49m\u001b[38;5;241;43m.\u001b[39;49m\u001b[43mitems\u001b[49m\u001b[43m(\u001b[49m\u001b[43m)\u001b[49m\u001b[43m)\u001b[49m\u001b[43m)\u001b[49m]\n\u001b[1;32m     28\u001b[0m \u001b[38;5;28;01mreturn\u001b[39;00m [obj \u001b[38;5;28;01mfor\u001b[39;00m targets \u001b[38;5;129;01min\u001b[39;00m target_gpus]\n",
      "File \u001b[0;32m~/anaconda3/envs/techbert/lib/python3.10/site-packages/torch/nn/parallel/scatter_gather.py:23\u001b[0m, in \u001b[0;36mscatter.<locals>.scatter_map\u001b[0;34m(obj)\u001b[0m\n\u001b[1;32m     21\u001b[0m     \u001b[38;5;28;01mreturn\u001b[39;00m [\u001b[38;5;28mtype\u001b[39m(obj)(\u001b[38;5;241m*\u001b[39margs) \u001b[38;5;28;01mfor\u001b[39;00m args \u001b[38;5;129;01min\u001b[39;00m \u001b[38;5;28mzip\u001b[39m(\u001b[38;5;241m*\u001b[39m\u001b[38;5;28mmap\u001b[39m(scatter_map, obj))]\n\u001b[1;32m     22\u001b[0m \u001b[38;5;28;01mif\u001b[39;00m \u001b[38;5;28misinstance\u001b[39m(obj, \u001b[38;5;28mtuple\u001b[39m) \u001b[38;5;129;01mand\u001b[39;00m \u001b[38;5;28mlen\u001b[39m(obj) \u001b[38;5;241m>\u001b[39m \u001b[38;5;241m0\u001b[39m:\n\u001b[0;32m---> 23\u001b[0m     \u001b[38;5;28;01mreturn\u001b[39;00m \u001b[38;5;28mlist\u001b[39m(\u001b[38;5;28;43mzip\u001b[39;49m\u001b[43m(\u001b[49m\u001b[38;5;241;43m*\u001b[39;49m\u001b[38;5;28;43mmap\u001b[39;49m\u001b[43m(\u001b[49m\u001b[43mscatter_map\u001b[49m\u001b[43m,\u001b[49m\u001b[43m \u001b[49m\u001b[43mobj\u001b[49m\u001b[43m)\u001b[49m\u001b[43m)\u001b[49m)\n\u001b[1;32m     24\u001b[0m \u001b[38;5;28;01mif\u001b[39;00m \u001b[38;5;28misinstance\u001b[39m(obj, \u001b[38;5;28mlist\u001b[39m) \u001b[38;5;129;01mand\u001b[39;00m \u001b[38;5;28mlen\u001b[39m(obj) \u001b[38;5;241m>\u001b[39m \u001b[38;5;241m0\u001b[39m:\n\u001b[1;32m     25\u001b[0m     \u001b[38;5;28;01mreturn\u001b[39;00m [\u001b[38;5;28mlist\u001b[39m(i) \u001b[38;5;28;01mfor\u001b[39;00m i \u001b[38;5;129;01min\u001b[39;00m \u001b[38;5;28mzip\u001b[39m(\u001b[38;5;241m*\u001b[39m\u001b[38;5;28mmap\u001b[39m(scatter_map, obj))]\n",
      "File \u001b[0;32m~/anaconda3/envs/techbert/lib/python3.10/site-packages/torch/nn/parallel/scatter_gather.py:19\u001b[0m, in \u001b[0;36mscatter.<locals>.scatter_map\u001b[0;34m(obj)\u001b[0m\n\u001b[1;32m     17\u001b[0m \u001b[38;5;28;01mdef\u001b[39;00m \u001b[38;5;21mscatter_map\u001b[39m(obj):\n\u001b[1;32m     18\u001b[0m     \u001b[38;5;28;01mif\u001b[39;00m \u001b[38;5;28misinstance\u001b[39m(obj, torch\u001b[38;5;241m.\u001b[39mTensor):\n\u001b[0;32m---> 19\u001b[0m         \u001b[38;5;28;01mreturn\u001b[39;00m \u001b[43mScatter\u001b[49m\u001b[38;5;241;43m.\u001b[39;49m\u001b[43mapply\u001b[49m\u001b[43m(\u001b[49m\u001b[43mtarget_gpus\u001b[49m\u001b[43m,\u001b[49m\u001b[43m \u001b[49m\u001b[38;5;28;43;01mNone\u001b[39;49;00m\u001b[43m,\u001b[49m\u001b[43m \u001b[49m\u001b[43mdim\u001b[49m\u001b[43m,\u001b[49m\u001b[43m \u001b[49m\u001b[43mobj\u001b[49m\u001b[43m)\u001b[49m\n\u001b[1;32m     20\u001b[0m     \u001b[38;5;28;01mif\u001b[39;00m is_namedtuple(obj):\n\u001b[1;32m     21\u001b[0m         \u001b[38;5;28;01mreturn\u001b[39;00m [\u001b[38;5;28mtype\u001b[39m(obj)(\u001b[38;5;241m*\u001b[39margs) \u001b[38;5;28;01mfor\u001b[39;00m args \u001b[38;5;129;01min\u001b[39;00m \u001b[38;5;28mzip\u001b[39m(\u001b[38;5;241m*\u001b[39m\u001b[38;5;28mmap\u001b[39m(scatter_map, obj))]\n",
      "File \u001b[0;32m~/anaconda3/envs/techbert/lib/python3.10/site-packages/torch/nn/parallel/_functions.py:96\u001b[0m, in \u001b[0;36mScatter.forward\u001b[0;34m(ctx, target_gpus, chunk_sizes, dim, input)\u001b[0m\n\u001b[1;32m     93\u001b[0m \u001b[38;5;28;01mif\u001b[39;00m torch\u001b[38;5;241m.\u001b[39mcuda\u001b[38;5;241m.\u001b[39mis_available() \u001b[38;5;129;01mand\u001b[39;00m ctx\u001b[38;5;241m.\u001b[39minput_device \u001b[38;5;241m==\u001b[39m \u001b[38;5;241m-\u001b[39m\u001b[38;5;241m1\u001b[39m:\n\u001b[1;32m     94\u001b[0m     \u001b[38;5;66;03m# Perform CPU to GPU copies in a background stream\u001b[39;00m\n\u001b[1;32m     95\u001b[0m     streams \u001b[38;5;241m=\u001b[39m [_get_stream(device) \u001b[38;5;28;01mfor\u001b[39;00m device \u001b[38;5;129;01min\u001b[39;00m target_gpus]\n\u001b[0;32m---> 96\u001b[0m outputs \u001b[38;5;241m=\u001b[39m \u001b[43mcomm\u001b[49m\u001b[38;5;241;43m.\u001b[39;49m\u001b[43mscatter\u001b[49m\u001b[43m(\u001b[49m\u001b[38;5;28;43minput\u001b[39;49m\u001b[43m,\u001b[49m\u001b[43m \u001b[49m\u001b[43mtarget_gpus\u001b[49m\u001b[43m,\u001b[49m\u001b[43m \u001b[49m\u001b[43mchunk_sizes\u001b[49m\u001b[43m,\u001b[49m\u001b[43m \u001b[49m\u001b[43mctx\u001b[49m\u001b[38;5;241;43m.\u001b[39;49m\u001b[43mdim\u001b[49m\u001b[43m,\u001b[49m\u001b[43m \u001b[49m\u001b[43mstreams\u001b[49m\u001b[43m)\u001b[49m\n\u001b[1;32m     97\u001b[0m \u001b[38;5;66;03m# Synchronize with the copy stream\u001b[39;00m\n\u001b[1;32m     98\u001b[0m \u001b[38;5;28;01mif\u001b[39;00m streams \u001b[38;5;129;01mis\u001b[39;00m \u001b[38;5;129;01mnot\u001b[39;00m \u001b[38;5;28;01mNone\u001b[39;00m:\n",
      "File \u001b[0;32m~/anaconda3/envs/techbert/lib/python3.10/site-packages/torch/nn/parallel/comm.py:189\u001b[0m, in \u001b[0;36mscatter\u001b[0;34m(tensor, devices, chunk_sizes, dim, streams, out)\u001b[0m\n\u001b[1;32m    187\u001b[0m \u001b[38;5;28;01mif\u001b[39;00m out \u001b[38;5;129;01mis\u001b[39;00m \u001b[38;5;28;01mNone\u001b[39;00m:\n\u001b[1;32m    188\u001b[0m     devices \u001b[38;5;241m=\u001b[39m [_get_device_index(d) \u001b[38;5;28;01mfor\u001b[39;00m d \u001b[38;5;129;01min\u001b[39;00m devices]\n\u001b[0;32m--> 189\u001b[0m     \u001b[38;5;28;01mreturn\u001b[39;00m \u001b[38;5;28mtuple\u001b[39m(\u001b[43mtorch\u001b[49m\u001b[38;5;241;43m.\u001b[39;49m\u001b[43m_C\u001b[49m\u001b[38;5;241;43m.\u001b[39;49m\u001b[43m_scatter\u001b[49m\u001b[43m(\u001b[49m\u001b[43mtensor\u001b[49m\u001b[43m,\u001b[49m\u001b[43m \u001b[49m\u001b[43mdevices\u001b[49m\u001b[43m,\u001b[49m\u001b[43m \u001b[49m\u001b[43mchunk_sizes\u001b[49m\u001b[43m,\u001b[49m\u001b[43m \u001b[49m\u001b[43mdim\u001b[49m\u001b[43m,\u001b[49m\u001b[43m \u001b[49m\u001b[43mstreams\u001b[49m\u001b[43m)\u001b[49m)\n\u001b[1;32m    190\u001b[0m \u001b[38;5;28;01melse\u001b[39;00m:\n\u001b[1;32m    191\u001b[0m     \u001b[38;5;28;01mif\u001b[39;00m devices \u001b[38;5;129;01mis\u001b[39;00m \u001b[38;5;129;01mnot\u001b[39;00m \u001b[38;5;28;01mNone\u001b[39;00m:\n",
      "\u001b[0;31mKeyboardInterrupt\u001b[0m: "
     ]
    }
   ],
   "source": [
    "from transformers import Trainer, TrainingArguments\n",
    "\n",
    "training_args = TrainingArguments(\n",
    "    output_dir=output_path,          \n",
    "    evaluation_strategy=\"epoch\",\n",
    "    eval_steps=1000,\n",
    "    per_device_train_batch_size=512,          #! 128 -> 512\n",
    "    per_device_eval_batch_size=512,           #! 128 -> 512\n",
    "    learning_rate=5e-5,                       #! 1e-4 -> 5e-5\n",
    "    weight_decay=0.001,                       #! 1e-2 -> 1e-3\n",
    "    adam_beta1=.9,\n",
    "    adam_beta2=.95,\n",
    "    adam_epsilon=1e-8,\n",
    "    max_grad_norm=1.,\n",
    "    optim = 'adamw_hf',\n",
    "    num_train_epochs=10,    \n",
    "    lr_scheduler_type=\"linear\",\n",
    "    warmup_steps=40,\n",
    "    logging_dir='./logs',\n",
    "    logging_strategy=\"epoch\",\n",
    "    logging_first_step=True,\n",
    "    logging_steps=1000,\n",
    "    save_strategy=\"epoch\",\n",
    "    seed=12345,\n",
    "    dataloader_drop_last=False,\n",
    "    dataloader_num_workers=2,\n",
    "    report_to = 'wandb',\n",
    "    run_name=\"TechBERT\",  # name of the W&B run (optional)\n",
    "    load_best_model_at_end =True, # Training이 끝났을 때 \n",
    "    metric_for_best_model ='accuracy' # 모델 비교를 위한 metric, 지정하지 않을 경우 loss\n",
    ")\n",
    "\n",
    "trainer = Trainer(\n",
    "    args=training_args,\n",
    "    data_collator=batchify,\n",
    "    model=model,\n",
    "    train_dataset=train_ds,\n",
    "    eval_dataset=valid_ds,\n",
    "    compute_metrics=compute_metrics\n",
    ")\n",
    "\n",
    "trainer.train()"
   ]
  },
  {
   "cell_type": "markdown",
   "metadata": {},
   "source": [
    "## Evaluate"
   ]
  },
  {
   "cell_type": "code",
   "execution_count": 101,
   "metadata": {},
   "outputs": [
    {
     "name": "stderr",
     "output_type": "stream",
     "text": [
      "The following columns in the evaluation set don't have a corresponding argument in `BertForSequenceClassification.forward` and have been ignored: __index_level_0__. If __index_level_0__ are not expected by `BertForSequenceClassification.forward`,  you can safely ignore this message.\n",
      "***** Running Evaluation *****\n",
      "  Num examples = 45260\n",
      "  Batch size = 512\n",
      "/TGM/Apps/ANACONDA/2021.05/lib/python3.8/site-packages/torch/nn/parallel/_functions.py:68: UserWarning: Was asked to gather along dimension 0, but all input tensors were scalars; will instead unsqueeze and return a vector.\n",
      "  warnings.warn('Was asked to gather along dimension 0, but all '\n"
     ]
    },
    {
     "data": {
      "text/plain": [
       "{'eval_loss': 1.0252141952514648,\n",
       " 'eval_accuracy': 0.7577993813521874,\n",
       " 'eval_f1_micro': 0.7577993813521874,\n",
       " 'eval_f1_macro': 0.759722856553059,\n",
       " 'eval_recall': 0.7577993813521874,\n",
       " 'eval_precision': 0.7577993813521874,\n",
       " 'eval_runtime': 34.3698,\n",
       " 'eval_samples_per_second': 1316.856,\n",
       " 'eval_steps_per_second': 2.589,\n",
       " 'epoch': 50.0}"
      ]
     },
     "execution_count": 101,
     "metadata": {},
     "output_type": "execute_result"
    }
   ],
   "source": [
    "trainer.evaluate(test_ds)"
   ]
  },
  {
   "cell_type": "markdown",
   "metadata": {},
   "source": [
    "## predict"
   ]
  },
  {
   "cell_type": "code",
   "execution_count": 102,
   "metadata": {},
   "outputs": [
    {
     "name": "stderr",
     "output_type": "stream",
     "text": [
      "The following columns in the test set don't have a corresponding argument in `BertForSequenceClassification.forward` and have been ignored: __index_level_0__. If __index_level_0__ are not expected by `BertForSequenceClassification.forward`,  you can safely ignore this message.\n",
      "***** Running Prediction *****\n",
      "  Num examples = 45260\n",
      "  Batch size = 512\n",
      "/TGM/Apps/ANACONDA/2021.05/lib/python3.8/site-packages/torch/nn/parallel/_functions.py:68: UserWarning: Was asked to gather along dimension 0, but all input tensors were scalars; will instead unsqueeze and return a vector.\n",
      "  warnings.warn('Was asked to gather along dimension 0, but all '\n"
     ]
    }
   ],
   "source": [
    "out = trainer.predict(test_ds)"
   ]
  },
  {
   "cell_type": "code",
   "execution_count": 103,
   "metadata": {
    "scrolled": true
   },
   "outputs": [
    {
     "name": "stdout",
     "output_type": "stream",
     "text": [
      "---------- confusion matrix(row:true, column:prediction) ----------\n",
      "[[6644  103   24   14    8  170   31    7    7    1    0    0    0]\n",
      " [  64 3401  361  510  159    8   18  249   13    0    0    0    0]\n",
      " [  47  232 3568   28   64    6   12   25    6    0    0    0    0]\n",
      " [  12  219    5 2684    8   12    1    4    2    0    0    0    0]\n",
      " [   7  222   39   13 1765    1   27  130    0    0    0    0    0]\n",
      " [ 147    6    1   25    0 3313    2    2    1    2    0    0    0]\n",
      " [   9   13   23    2   16    0 2369    0    2    1    0    0    0]\n",
      " [   9  158   31   10   67    0    4 2400    1    0    0    0    0]\n",
      " [   6    7    5    4    4    2    4    1  575    0    0    0    0]\n",
      " [   3    2    3    0    0    2    2    0    0 2982   25  172   66]\n",
      " [ 104   22   21   13   12  240   21    2    6  940 2728  478  553]\n",
      " [   0    1    5    0    0    0    0    0    0  253   16  673   43]\n",
      " [ 224   85   68  196   14  279  168    4    8 2663  501  313 1196]]\n",
      "\n",
      "\n",
      " ---------- classification report ----------\n",
      "              precision    recall  f1-score   support\n",
      "\n",
      "       성능/효과       0.91      0.95      0.93      7009\n",
      "       제안 방법       0.76      0.71      0.74      4783\n",
      "      대상 데이터       0.86      0.89      0.88      3988\n",
      "       문제 정의       0.77      0.91      0.83      2947\n",
      "       이론/모형       0.83      0.80      0.82      2204\n",
      "        후속연구       0.82      0.95      0.88      3499\n",
      "       기술 정의       0.89      0.97      0.93      2435\n",
      "       데이터처리       0.85      0.90      0.87      2680\n",
      "       가설 설정       0.93      0.95      0.94       608\n",
      "        시장동향       0.44      0.92      0.59      3257\n",
      "    기술의 파급효과       0.83      0.53      0.65      5140\n",
      "        기술동향       0.41      0.68      0.51       991\n",
      "     기술의 필요성       0.64      0.21      0.32      5719\n",
      "\n",
      "    accuracy                           0.76     45260\n",
      "   macro avg       0.77      0.80      0.76     45260\n",
      "weighted avg       0.78      0.76      0.74     45260\n",
      "\n"
     ]
    }
   ],
   "source": [
    "from sklearn.metrics import confusion_matrix, classification_report, precision_recall_fscore_support\n",
    "y_true = out[1]\n",
    "y_pred = np.argmax(out[0], axis=1)\n",
    "\n",
    "print('-'*10, 'confusion matrix(row:true, column:prediction)', '-'*10)\n",
    "print(confusion_matrix(y_true, y_pred))\n",
    "print('\\n\\n', '-'*10, 'classification report', '-'*10)\n",
    "print(classification_report(y_true, y_pred, target_names=list(label_dict.keys())))"
   ]
  },
  {
   "cell_type": "code",
   "execution_count": 38,
   "metadata": {},
   "outputs": [],
   "source": [
    "label_dict_inv = {v: i for i, v in label_dict.items()}\n",
    "\n",
    "mydict = {'target' :[],\n",
    "            'prediction': [],\n",
    "          'text' :[]}\n",
    "for t in range(13):\n",
    "    for p in range(13):\n",
    "        true, pred = t, p\n",
    "        pred_df = pd.DataFrame({'prediction':y_pred.tolist(), 'target':y_true.tolist()})\n",
    "        if pred_df[(pred_df.prediction==pred)&(pred_df.target==true)].shape[0] != 0:\n",
    "            \n",
    "            for i in test.iloc[list(pred_df[(pred_df.prediction==pred)&(pred_df.target==true)].index)].text:\n",
    "                mydict['prediction'].append(label_dict_inv[p])\n",
    "                mydict['target'].append(label_dict_inv[t])\n",
    "                mydict['text'].append(i)\n",
    "\n",
    "pd.DataFrame(mydict).to_csv('./error_test.csv', encoding='utf-8-sig', index = False)"
   ]
  },
  {
   "cell_type": "code",
   "execution_count": 19,
   "metadata": {},
   "outputs": [],
   "source": [
    "# fig, ax = plt.subplots(1, 2, figsize=(10, 5))\n",
    "# labels = list(range(len(label_dict)))\n",
    "# sizes = pd.Series(dataset['train']['labels']).value_counts().tolist()\n",
    "# ax[0].pie(sizes, labels=labels,autopct='%1.1f%%')\n",
    "# ax[0].set_title('Percentage of target values')\n",
    "\n",
    "# sizes = confusion_matrix(y_true, y_pred).sum(axis=0)\n",
    "# ax[1].pie(sizes, labels=labels,autopct='%1.1f%%')\n",
    "# ax[1].set_title('Percentage of predicted values')\n",
    "\n",
    "# plt.axis('equal')\n",
    "# plt.show()"
   ]
  }
 ],
 "metadata": {
  "kernelspec": {
   "display_name": "Python 3.8.10 64-bit",
   "language": "python",
   "name": "python3"
  },
  "language_info": {
   "codemirror_mode": {
    "name": "ipython",
    "version": 3
   },
   "file_extension": ".py",
   "mimetype": "text/x-python",
   "name": "python",
   "nbconvert_exporter": "python",
   "pygments_lexer": "ipython3",
   "version": "3.8.10"
  },
  "vscode": {
   "interpreter": {
    "hash": "916dbcbb3f70747c44a77c7bcd40155683ae19c65e1c03b4aa3499c5328201f1"
   }
  }
 },
 "nbformat": 4,
 "nbformat_minor": 4
}
